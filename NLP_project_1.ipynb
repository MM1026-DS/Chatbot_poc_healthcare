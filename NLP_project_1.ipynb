{
 "cells": [
  {
   "cell_type": "code",
   "execution_count": 2,
   "metadata": {},
   "outputs": [
    {
     "name": "stderr",
     "output_type": "stream",
     "text": [
      "/usr/local/lib/python3.7/site-packages/nltk/decorators.py:68: DeprecationWarning: `formatargspec` is deprecated since Python 3.5. Use `signature` and the `Signature` object directly\n",
      "  regargs, varargs, varkwargs, defaults, formatvalue=lambda value: \"\"\n",
      "/usr/local/lib/python3.7/site-packages/nltk/lm/counter.py:15: DeprecationWarning: Using or importing the ABCs from 'collections' instead of from 'collections.abc' is deprecated since Python 3.3,and in 3.9 it will stop working\n",
      "  from collections import Sequence, defaultdict\n",
      "/usr/local/lib/python3.7/site-packages/jsonschema/compat.py:6: DeprecationWarning: Using or importing the ABCs from 'collections' instead of from 'collections.abc' is deprecated since Python 3.3,and in 3.9 it will stop working\n",
      "  from collections import MutableMapping, Sequence  # noqa\n"
     ]
    }
   ],
   "source": [
    "import numpy as np\n",
    "import pandas as pd\n",
    "import matplotlib.pyplot as plt\n",
    "import nltk\n",
    "import spacy\n"
   ]
  },
  {
   "cell_type": "code",
   "execution_count": 3,
   "metadata": {},
   "outputs": [],
   "source": [
    "dataset = pd.read_csv(\"K8 Reviews v0.2.csv\")"
   ]
  },
  {
   "cell_type": "code",
   "execution_count": 4,
   "metadata": {},
   "outputs": [
    {
     "data": {
      "text/html": [
       "<div>\n",
       "<style scoped>\n",
       "    .dataframe tbody tr th:only-of-type {\n",
       "        vertical-align: middle;\n",
       "    }\n",
       "\n",
       "    .dataframe tbody tr th {\n",
       "        vertical-align: top;\n",
       "    }\n",
       "\n",
       "    .dataframe thead th {\n",
       "        text-align: right;\n",
       "    }\n",
       "</style>\n",
       "<table border=\"1\" class=\"dataframe\">\n",
       "  <thead>\n",
       "    <tr style=\"text-align: right;\">\n",
       "      <th></th>\n",
       "      <th>sentiment</th>\n",
       "      <th>review</th>\n",
       "    </tr>\n",
       "  </thead>\n",
       "  <tbody>\n",
       "    <tr>\n",
       "      <th>0</th>\n",
       "      <td>1</td>\n",
       "      <td>Good but need updates and improvements</td>\n",
       "    </tr>\n",
       "    <tr>\n",
       "      <th>1</th>\n",
       "      <td>0</td>\n",
       "      <td>Worst mobile i have bought ever, Battery is dr...</td>\n",
       "    </tr>\n",
       "    <tr>\n",
       "      <th>2</th>\n",
       "      <td>1</td>\n",
       "      <td>when I will get my 10% cash back.... its alrea...</td>\n",
       "    </tr>\n",
       "    <tr>\n",
       "      <th>3</th>\n",
       "      <td>1</td>\n",
       "      <td>Good</td>\n",
       "    </tr>\n",
       "    <tr>\n",
       "      <th>4</th>\n",
       "      <td>0</td>\n",
       "      <td>The worst phone everThey have changed the last...</td>\n",
       "    </tr>\n",
       "  </tbody>\n",
       "</table>\n",
       "</div>"
      ],
      "text/plain": [
       "   sentiment                                             review\n",
       "0          1             Good but need updates and improvements\n",
       "1          0  Worst mobile i have bought ever, Battery is dr...\n",
       "2          1  when I will get my 10% cash back.... its alrea...\n",
       "3          1                                               Good\n",
       "4          0  The worst phone everThey have changed the last..."
      ]
     },
     "execution_count": 4,
     "metadata": {},
     "output_type": "execute_result"
    }
   ],
   "source": [
    "dataset.head()"
   ]
  },
  {
   "cell_type": "code",
   "execution_count": 5,
   "metadata": {},
   "outputs": [],
   "source": [
    "# words = dataset['review']"
   ]
  },
  {
   "cell_type": "code",
   "execution_count": 6,
   "metadata": {},
   "outputs": [],
   "source": [
    "dataset['review']=[word.lower() for word in dataset['review'] ]"
   ]
  },
  {
   "cell_type": "raw",
   "metadata": {},
   "source": [
    "dataset.head()"
   ]
  },
  {
   "cell_type": "code",
   "execution_count": 7,
   "metadata": {},
   "outputs": [],
   "source": [
    "Reviews_up = dataset['review']"
   ]
  },
  {
   "cell_type": "code",
   "execution_count": 8,
   "metadata": {},
   "outputs": [
    {
     "data": {
      "text/plain": [
       "pandas.core.series.Series"
      ]
     },
     "execution_count": 8,
     "metadata": {},
     "output_type": "execute_result"
    }
   ],
   "source": [
    "type(Reviews_up)"
   ]
  },
  {
   "cell_type": "code",
   "execution_count": 9,
   "metadata": {},
   "outputs": [
    {
     "data": {
      "text/plain": [
       "0               good but need updates and improvements\n",
       "1    worst mobile i have bought ever, battery is dr...\n",
       "2    when i will get my 10% cash back.... its alrea...\n",
       "3                                                 good\n",
       "4    the worst phone everthey have changed the last...\n",
       "Name: review, dtype: object"
      ]
     },
     "execution_count": 9,
     "metadata": {},
     "output_type": "execute_result"
    }
   ],
   "source": [
    "Reviews_up.head()"
   ]
  },
  {
   "cell_type": "code",
   "execution_count": 10,
   "metadata": {},
   "outputs": [],
   "source": [
    "Reviews_list = [word.lower() for word in dataset['review'] ]"
   ]
  },
  {
   "cell_type": "code",
   "execution_count": 11,
   "metadata": {},
   "outputs": [
    {
     "data": {
      "text/plain": [
       "list"
      ]
     },
     "execution_count": 11,
     "metadata": {},
     "output_type": "execute_result"
    }
   ],
   "source": [
    "type(Reviews_list)"
   ]
  },
  {
   "cell_type": "code",
   "execution_count": 12,
   "metadata": {},
   "outputs": [
    {
     "data": {
      "text/plain": [
       "'good but need updates and improvements'"
      ]
     },
     "execution_count": 12,
     "metadata": {},
     "output_type": "execute_result"
    }
   ],
   "source": [
    "Reviews_list[0]"
   ]
  },
  {
   "cell_type": "code",
   "execution_count": 13,
   "metadata": {},
   "outputs": [],
   "source": [
    "# Fist I tokkenize in sent tokken\n",
    "\n",
    "Sentence_tokkenize = [nltk.sent_tokenize(sentence) for sentence in Reviews_list]"
   ]
  },
  {
   "cell_type": "code",
   "execution_count": 14,
   "metadata": {},
   "outputs": [
    {
     "data": {
      "text/plain": [
       "[\"worst mobile i have bought ever, battery is draining like hell, backup is only 6 to 7 hours with internet uses, even if i put mobile idle its getting discharged.this is biggest lie from amazon & lenove which is not at all expected, they are making full by saying that battery is 4000mah & booster charger is fake, it takes at least 4 to 5 hours to be fully charged.don't know how lenovo will survive by making full of us.please don;t go for this else you will regret like me.\"]"
      ]
     },
     "execution_count": 14,
     "metadata": {},
     "output_type": "execute_result"
    }
   ],
   "source": [
    "Sentence_tokkenize[1]"
   ]
  },
  {
   "cell_type": "code",
   "execution_count": 15,
   "metadata": {},
   "outputs": [],
   "source": [
    "words_tokkenize =[nltk.word_tokenize(words) for words in  Reviews_list]"
   ]
  },
  {
   "cell_type": "code",
   "execution_count": 16,
   "metadata": {},
   "outputs": [
    {
     "data": {
      "text/plain": [
       "['good', 'but', 'need', 'updates', 'and', 'improvements']"
      ]
     },
     "execution_count": 16,
     "metadata": {},
     "output_type": "execute_result"
    }
   ],
   "source": [
    "words_tokkenize[0]"
   ]
  },
  {
   "cell_type": "code",
   "execution_count": 17,
   "metadata": {},
   "outputs": [
    {
     "name": "stderr",
     "output_type": "stream",
     "text": [
      "[nltk_data] Downloading package stopwords to\n",
      "[nltk_data]     /home/labsuser/nltk_data...\n",
      "[nltk_data]   Package stopwords is already up-to-date!\n"
     ]
    }
   ],
   "source": [
    "from nltk.corpus import stopwords \n",
    "nltk.download(\"stopwords\")\n",
    "stopword_all = stopwords.words('english')"
   ]
  },
  {
   "cell_type": "code",
   "execution_count": 18,
   "metadata": {},
   "outputs": [],
   "source": [
    "Tagged_words = [nltk.pos_tag(words_pos) for words_pos in words_tokkenize ]\n",
    "# Tagged_words_chunk = [nltk.ne_chunk(Tagged_words_chunk) for Tagged_words_chunk in Tagged_words] \n"
   ]
  },
  {
   "cell_type": "code",
   "execution_count": 19,
   "metadata": {},
   "outputs": [
    {
     "data": {
      "text/plain": [
       "14675"
      ]
     },
     "execution_count": 19,
     "metadata": {},
     "output_type": "execute_result"
    }
   ],
   "source": [
    "len(Tagged_words)"
   ]
  },
  {
   "cell_type": "code",
   "execution_count": 20,
   "metadata": {},
   "outputs": [],
   "source": [
    "\n",
    "            \n",
    "   # Noun tagging\n",
    "Noun_tag_pos =[]\n",
    "for j in range(len(Tagged_words)):\n",
    "    for noun_tg in Tagged_words[j]:\n",
    "        if noun_tg[1]==\"NN\" or noun_tg[1]==\"NNP\" or noun_tg[1]==\"NNPS\" or noun_tg[1]==\"NNS\":\n",
    "            Noun_tag_pos.append(noun_tg)\n",
    "               \n",
    "           "
   ]
  },
  {
   "cell_type": "code",
   "execution_count": 21,
   "metadata": {},
   "outputs": [
    {
     "data": {
      "text/plain": [
       "('mobile', 'NN')"
      ]
     },
     "execution_count": 21,
     "metadata": {},
     "output_type": "execute_result"
    }
   ],
   "source": [
    "Noun_tag_pos[2]"
   ]
  },
  {
   "cell_type": "code",
   "execution_count": 22,
   "metadata": {},
   "outputs": [],
   "source": [
    "from nltk.stem import WordNetLemmatizer\n",
    "lemmatizer = WordNetLemmatizer()\n",
    "from nltk.tokenize import RegexpTokenizer\n",
    "Rg_tokenizer = RegexpTokenizer(r'\\w+')\n",
    "\n",
    "\n",
    "\n"
   ]
  },
  {
   "cell_type": "code",
   "execution_count": 23,
   "metadata": {},
   "outputs": [],
   "source": [
    "# function creation for lemmatiztio\n",
    "\n",
    "# def stopword_punchremo(sent):\n",
    "#     lem_word =[]\n",
    "#     import nltk\n",
    "#     nltk.download('wordnet')\n",
    "#     from nltk.stem import WordNetLemmatizer \n",
    "#     lemmatizer = WordNetLemmatizer()\n",
    "#     for j in range(len(sent)):\n",
    "#         b = [lemmatizer.lemmatize(word,'v') for word in sent[j] if not word in set(stopword_all)]\n",
    "#         lem_word.append(b) \n",
    "#         print(lem_word)\n",
    "\n",
    "    \n",
    "    \n",
    "    "
   ]
  },
  {
   "cell_type": "code",
   "execution_count": 24,
   "metadata": {},
   "outputs": [],
   "source": [
    "# def stopword_punchremo(sent):\n",
    "#     lem_word =[]\n",
    "#     import nltk\n",
    "#     nltk.download('wordnet')\n",
    "#     from nltk.stem import WordNetLemmatizer \n",
    "#     lemmatizer = WordNetLemmatizer()\n",
    "#     for j in range(len(sent)):\n",
    "#         b = [lemmatizer.lemmatize(word,'v') for word in sent[j] ]\n",
    "#         lem_word.append(b) \n"
   ]
  },
  {
   "cell_type": "code",
   "execution_count": 25,
   "metadata": {},
   "outputs": [],
   "source": [
    "# lem_word =[]\n",
    "# import nltk\n",
    "# nltk.download('wordnet')\n",
    "# from nltk.stem import WordNetLemmatizer \n",
    "# lemmatizer = WordNetLemmatizer()\n",
    "# for j in range(len(words_tokkenize)):\n",
    "#     b = [lemmatizer.lemmatize(word,'v') for word in words_tokkenize[j] if not word in set(stopword_all)]\n",
    "#     lem_word.append(b) \n",
    "#     print(lem_word)"
   ]
  },
  {
   "cell_type": "code",
   "execution_count": 26,
   "metadata": {},
   "outputs": [],
   "source": [
    "# def pun_removal(sto:\n",
    "#     from nltk.tokenize import RegexpTokenizer\n",
    "#     Rg_tokenizer = RegexpTokenizer(r'\\w+')\n",
    "#     new_sent = Rg_tokenizer.tokenize(stopword_punchremo(sent))"
   ]
  },
  {
   "cell_type": "code",
   "execution_count": 27,
   "metadata": {},
   "outputs": [],
   "source": [
    "# def pun_removal(sent):\n",
    "    \n",
    "#     from nltk.tokenize import RegexpTokenizer\n",
    "#     Rg_tokenizer = RegexpTokenizer(r'\\w+')\n",
    "#     new_sent = Rg_tokenizer.tokenize(sent)\n",
    "#     k.append(new_sent)"
   ]
  },
  {
   "cell_type": "code",
   "execution_count": 28,
   "metadata": {},
   "outputs": [],
   "source": [
    "#  from nltk.tokenize import RegexpTokenizer\n",
    "# Rg_tokenizer = RegexpTokenizer(r'\\w+')\n",
    "# for i in range(len(Sentence_tokkenize)):\n",
    "#     new_sent = Rg_tokenizer.tokenize(\"I AM HERO,YOU ARE,NO HERO\")  \n",
    "    \n",
    "\n",
    "    "
   ]
  },
  {
   "cell_type": "code",
   "execution_count": null,
   "metadata": {},
   "outputs": [],
   "source": []
  },
  {
   "cell_type": "code",
   "execution_count": 29,
   "metadata": {},
   "outputs": [],
   "source": [
    "# import string\n",
    "# x = [' '.join(c for c in s if c not in string.punctuation) for s in words_tokkenize]\n",
    "# print(x)\n"
   ]
  },
  {
   "cell_type": "code",
   "execution_count": 30,
   "metadata": {},
   "outputs": [
    {
     "name": "stderr",
     "output_type": "stream",
     "text": [
      "[nltk_data] Downloading package stopwords to\n",
      "[nltk_data]     /home/labsuser/nltk_data...\n",
      "[nltk_data]   Package stopwords is already up-to-date!\n"
     ]
    }
   ],
   "source": [
    "# lemmatize and removing stopwords and cleaning \n",
    "\n",
    "import re\n",
    "import re\n",
    "import nltk\n",
    "nltk.download('stopwords')\n",
    "from nltk.corpus import stopwords\n",
    "\n",
    "corpus = []\n",
    "for i in range(0, 14675):\n",
    "  review = re.sub('[^a-zA-Z]', ' ', dataset['review'][i])\n",
    "  review = review.lower()\n",
    "  review = review.split()\n",
    "  all_stopwords = stopwords.words('english')\n",
    "  review = [lemmatizer.lemmatize(word,'v') for word in review if not word in set(all_stopwords)]\n",
    "  review = ' '.join(review)\n",
    "  corpus.append(review)"
   ]
  },
  {
   "cell_type": "code",
   "execution_count": 31,
   "metadata": {},
   "outputs": [],
   "source": [
    "# Removing all punctuations\n",
    "import string\n",
    "corpus_upd= [''.join(c for c in s if c not in string.punctuation) for s in corpus]\n",
    "# print(corpus_upd)\n"
   ]
  },
  {
   "cell_type": "code",
   "execution_count": 32,
   "metadata": {},
   "outputs": [],
   "source": [
    "word_tokken_1=[nltk.word_tokenize(e) for e in corpus_upd]"
   ]
  },
  {
   "cell_type": "code",
   "execution_count": 33,
   "metadata": {},
   "outputs": [
    {
     "data": {
      "text/plain": [
       "['good', 'need', 'update', 'improvements']"
      ]
     },
     "execution_count": 33,
     "metadata": {},
     "output_type": "execute_result"
    }
   ],
   "source": [
    "word_tokken_1[0]"
   ]
  },
  {
   "cell_type": "code",
   "execution_count": 34,
   "metadata": {},
   "outputs": [],
   "source": [
    "import gensim\n",
    "from gensim.utils import simple_preprocess"
   ]
  },
  {
   "cell_type": "code",
   "execution_count": 35,
   "metadata": {},
   "outputs": [
    {
     "name": "stdout",
     "output_type": "stream",
     "text": [
      "[['good', 'need', 'update', 'improvements'], ['worst', 'mobile', 'buy', 'ever', 'battery', 'drain', 'like', 'hell', 'backup', 'hours', 'internet', 'use', 'even', 'put', 'mobile', 'idle', 'get', 'discharge', 'biggest', 'lie', 'amazon', 'lenove', 'expect', 'make', 'full', 'say', 'battery', 'mah', 'booster', 'charger', 'fake', 'take', 'least', 'hours', 'fully', 'charge', 'know', 'lenovo', 'survive', 'make', 'full', 'us', 'please', 'go', 'else', 'regret', 'like']]\n"
     ]
    }
   ],
   "source": [
    "processed_docs = []\n",
    "\n",
    "for doc in word_tokken_1:\n",
    "    processed_docs.append((doc))\n",
    "\n",
    "print(processed_docs[:2])"
   ]
  },
  {
   "cell_type": "code",
   "execution_count": 36,
   "metadata": {},
   "outputs": [],
   "source": [
    "dictionary = gensim.corpora.Dictionary(processed_docs)"
   ]
  },
  {
   "cell_type": "code",
   "execution_count": 37,
   "metadata": {},
   "outputs": [],
   "source": [
    "dictionary.filter_extremes(no_below=15, no_above=0.1, keep_n= 100000)"
   ]
  },
  {
   "cell_type": "code",
   "execution_count": 38,
   "metadata": {},
   "outputs": [],
   "source": [
    "bow_corpus = [dictionary.doc2bow(doc) for doc in processed_docs]\n"
   ]
  },
  {
   "cell_type": "code",
   "execution_count": 39,
   "metadata": {},
   "outputs": [
    {
     "data": {
      "text/plain": [
       "[(43, 1), (106, 1), (107, 1)]"
      ]
     },
     "execution_count": 39,
     "metadata": {},
     "output_type": "execute_result"
    }
   ],
   "source": [
    "bow_corpus[21]"
   ]
  },
  {
   "cell_type": "code",
   "execution_count": 40,
   "metadata": {},
   "outputs": [
    {
     "name": "stdout",
     "output_type": "stream",
     "text": [
      "Word 2 (\"amazon\") appears 1 time.\n",
      "Word 3 (\"backup\") appears 1 time.\n",
      "Word 4 (\"biggest\") appears 1 time.\n",
      "Word 5 (\"buy\") appears 1 time.\n",
      "Word 6 (\"charge\") appears 1 time.\n",
      "Word 7 (\"charger\") appears 1 time.\n",
      "Word 8 (\"discharge\") appears 1 time.\n",
      "Word 9 (\"drain\") appears 1 time.\n",
      "Word 10 (\"else\") appears 1 time.\n",
      "Word 11 (\"even\") appears 1 time.\n",
      "Word 12 (\"ever\") appears 1 time.\n",
      "Word 13 (\"expect\") appears 1 time.\n",
      "Word 14 (\"fake\") appears 1 time.\n",
      "Word 15 (\"full\") appears 2 time.\n",
      "Word 16 (\"fully\") appears 1 time.\n",
      "Word 17 (\"get\") appears 1 time.\n",
      "Word 18 (\"go\") appears 1 time.\n",
      "Word 19 (\"hell\") appears 1 time.\n",
      "Word 20 (\"hours\") appears 2 time.\n",
      "Word 21 (\"idle\") appears 1 time.\n",
      "Word 22 (\"internet\") appears 1 time.\n",
      "Word 23 (\"know\") appears 1 time.\n",
      "Word 24 (\"least\") appears 1 time.\n",
      "Word 25 (\"like\") appears 2 time.\n",
      "Word 26 (\"mah\") appears 1 time.\n",
      "Word 27 (\"make\") appears 2 time.\n",
      "Word 28 (\"please\") appears 1 time.\n",
      "Word 29 (\"put\") appears 1 time.\n",
      "Word 30 (\"regret\") appears 1 time.\n",
      "Word 31 (\"say\") appears 1 time.\n",
      "Word 32 (\"take\") appears 1 time.\n",
      "Word 33 (\"us\") appears 1 time.\n",
      "Word 34 (\"use\") appears 1 time.\n",
      "Word 35 (\"worst\") appears 1 time.\n"
     ]
    }
   ],
   "source": [
    "\n",
    "document_num = 1\n",
    "bow_doc_x = bow_corpus[document_num]\n",
    "\n",
    "for i in range(len(bow_doc_x)):\n",
    "    print(\"Word {} (\\\"{}\\\") appears {} time.\".format(bow_doc_x[i][0], \n",
    "                                                     dictionary[bow_doc_x[i][0]], \n",
    "                                                     bow_doc_x[i][1]))"
   ]
  },
  {
   "cell_type": "code",
   "execution_count": 41,
   "metadata": {},
   "outputs": [],
   "source": [
    "lda_model =  gensim.models.LdaMulticore(bow_corpus, \n",
    "                                   num_topics = 10, \n",
    "                                   id2word = dictionary,                                    \n",
    "                                   passes = 10,\n",
    "                                   workers = 2)"
   ]
  },
  {
   "cell_type": "code",
   "execution_count": 42,
   "metadata": {},
   "outputs": [
    {
     "name": "stdout",
     "output_type": "stream",
     "text": [
      "Topic: 0 \n",
      "Words: 0.069*\"charge\" + 0.040*\"drain\" + 0.039*\"use\" + 0.035*\"get\" + 0.035*\"fast\" + 0.030*\"issue\" + 0.026*\"even\" + 0.024*\"update\" + 0.020*\"take\" + 0.019*\"day\"\n",
      "\n",
      "\n",
      "Topic: 1 \n",
      "Words: 0.117*\"price\" + 0.066*\"awesome\" + 0.061*\"one\" + 0.049*\"charger\" + 0.049*\"range\" + 0.042*\"best\" + 0.019*\"turbo\" + 0.019*\"feature\" + 0.018*\"go\" + 0.015*\"expect\"\n",
      "\n",
      "\n",
      "Topic: 2 \n",
      "Words: 0.083*\"problem\" + 0.052*\"buy\" + 0.044*\"amazon\" + 0.033*\"service\" + 0.029*\"return\" + 0.020*\"issue\" + 0.019*\"please\" + 0.016*\"worst\" + 0.016*\"bad\" + 0.014*\"hang\"\n",
      "\n",
      "\n",
      "Topic: 3 \n",
      "Words: 0.073*\"worst\" + 0.055*\"buy\" + 0.049*\"money\" + 0.042*\"waste\" + 0.038*\"ok\" + 0.027*\"ever\" + 0.023*\"worth\" + 0.022*\"bad\" + 0.019*\"love\" + 0.018*\"quality\"\n",
      "\n",
      "\n",
      "Topic: 4 \n",
      "Words: 0.035*\"get\" + 0.022*\"charge\" + 0.022*\"issue\" + 0.021*\"g\" + 0.019*\"network\" + 0.019*\"sim\" + 0.017*\"use\" + 0.017*\"time\" + 0.017*\"call\" + 0.012*\"glass\"\n",
      "\n",
      "\n",
      "Topic: 5 \n",
      "Words: 0.035*\"call\" + 0.029*\"screen\" + 0.023*\"feature\" + 0.018*\"miss\" + 0.017*\"cast\" + 0.016*\"option\" + 0.016*\"app\" + 0.016*\"record\" + 0.014*\"available\" + 0.014*\"like\"\n",
      "\n",
      "\n",
      "Topic: 6 \n",
      "Words: 0.180*\"k\" + 0.149*\"note\" + 0.030*\"better\" + 0.025*\"hai\" + 0.019*\"h\" + 0.019*\"redmi\" + 0.016*\"much\" + 0.014*\"back\" + 0.012*\"compare\" + 0.009*\"like\"\n",
      "\n",
      "\n",
      "Topic: 7 \n",
      "Words: 0.108*\"quality\" + 0.070*\"poor\" + 0.036*\"sound\" + 0.032*\"super\" + 0.031*\"performance\" + 0.029*\"superb\" + 0.029*\"gb\" + 0.026*\"ram\" + 0.019*\"really\" + 0.018*\"thank\"\n",
      "\n",
      "\n",
      "Topic: 8 \n",
      "Words: 0.167*\"nice\" + 0.066*\"best\" + 0.051*\"excellent\" + 0.038*\"great\" + 0.038*\"bad\" + 0.034*\"backup\" + 0.027*\"feature\" + 0.024*\"performance\" + 0.021*\"amaze\" + 0.019*\"satisfy\"\n",
      "\n",
      "\n",
      "Topic: 9 \n",
      "Words: 0.017*\"dual\" + 0.017*\"mode\" + 0.016*\"game\" + 0.015*\"use\" + 0.013*\"depth\" + 0.013*\"front\" + 0.012*\"android\" + 0.012*\"value\" + 0.011*\"great\" + 0.011*\"processor\"\n",
      "\n",
      "\n"
     ]
    }
   ],
   "source": [
    "for idx, topic in lda_model.print_topics(-1):\n",
    "    print(\"Topic: {} \\nWords: {}\".format(idx, topic ))\n",
    "    print(\"\\n\")"
   ]
  },
  {
   "cell_type": "code",
   "execution_count": 43,
   "metadata": {},
   "outputs": [
    {
     "name": "stdout",
     "output_type": "stream",
     "text": [
      "0 need\n",
      "1 update\n",
      "2 amazon\n",
      "3 backup\n",
      "4 biggest\n",
      "5 buy\n",
      "6 charge\n",
      "7 charger\n",
      "8 discharge\n",
      "9 drain\n",
      "10 else\n",
      "11 even\n",
      "12 ever\n",
      "13 expect\n"
     ]
    }
   ],
   "source": [
    "count = 0\n",
    "for k, v in dictionary.iteritems():\n",
    "    print(k, v)\n",
    "    count += 1\n",
    "    if count > 13:\n",
    "        break"
   ]
  },
  {
   "cell_type": "code",
   "execution_count": 44,
   "metadata": {},
   "outputs": [
    {
     "name": "stdout",
     "output_type": "stream",
     "text": [
      "\n",
      "Coherence Score:  0.5689099500197465\n"
     ]
    }
   ],
   "source": [
    "# Compute Coherence Score using c_v\n",
    "from gensim.models.coherencemodel import CoherenceModel\n",
    "coherence_model_sc = CoherenceModel(model=lda_model, texts=word_tokken_1, dictionary=dictionary, coherence='c_v')\n",
    "coherence_lda = coherence_model_sc.get_coherence()\n",
    "print('\\nCoherence Score: ', coherence_lda)"
   ]
  },
  {
   "cell_type": "code",
   "execution_count": 63,
   "metadata": {},
   "outputs": [],
   "source": [
    "\n",
    "import logging\n",
    "import pyLDAvis.gensim\n",
    "from gensim.models.coherencemodel import CoherenceModel\n",
    "from gensim.models.ldamodel import LdaModel\n",
    "from gensim.models.hdpmodel import HdpModel\n",
    "from gensim.models.wrappers import LdaVowpalWabbit, LdaMallet\n",
    "from gensim.corpora.dictionary import Dictionary\n"
   ]
  },
  {
   "cell_type": "code",
   "execution_count": 64,
   "metadata": {},
   "outputs": [],
   "source": [
    "LdaModel_ne = LdaModel(corpus=bow_corpus, id2word=dictionary, iterations=50, num_topics=12)"
   ]
  },
  {
   "cell_type": "code",
   "execution_count": 55,
   "metadata": {},
   "outputs": [],
   "source": [
    "pyLDAvis.enable_notebook()"
   ]
  },
  {
   "cell_type": "code",
   "execution_count": 56,
   "metadata": {},
   "outputs": [
    {
     "data": {
      "text/html": [
       "\n",
       "<link rel=\"stylesheet\" type=\"text/css\" href=\"https://cdn.rawgit.com/bmabey/pyLDAvis/files/ldavis.v1.0.0.css\">\n",
       "\n",
       "\n",
       "<div id=\"ldavis_el921399754309291042386956065\"></div>\n",
       "<script type=\"text/javascript\">\n",
       "\n",
       "var ldavis_el921399754309291042386956065_data = {\"mdsDat\": {\"x\": [-0.1424123113987869, -0.034025341240537896, 0.11987080058051461, -0.18158869025011795, 0.07231128586324287, -0.02210569142737028, -0.11304933079340938, 0.0994013591929208, -0.13262654492751333, 0.13831133913081872, 0.02545909943615934, 0.1704540258340798], \"y\": [0.043295812068373955, -0.09792401456887412, -0.0043870050539013125, 0.10214119271058175, 0.02133327974800671, -0.036864953835306975, -0.11700063924772097, -0.2105304554576978, -0.020018044504953876, 0.08903663620620259, 0.18676867838246874, 0.044149513552819514], \"topics\": [1, 2, 3, 4, 5, 6, 7, 8, 9, 10, 11, 12], \"cluster\": [1, 1, 1, 1, 1, 1, 1, 1, 1, 1, 1, 1], \"Freq\": [15.337894439697266, 11.184266090393066, 10.251091957092285, 9.23206615447998, 8.352420806884766, 8.120548248291016, 7.950552463531494, 7.524906158447266, 6.047785758972168, 5.418051242828369, 5.384968280792236, 5.195450305938721]}, \"tinfo\": {\"Term\": [\"nice\", \"bad\", \"awesome\", \"best\", \"k\", \"note\", \"worst\", \"quality\", \"poor\", \"charge\", \"problem\", \"excellent\", \"buy\", \"call\", \"service\", \"great\", \"price\", \"fast\", \"waste\", \"charger\", \"update\", \"ok\", \"superb\", \"sim\", \"money\", \"super\", \"performance\", \"hai\", \"feature\", \"amaze\", \"lenova\", \"minor\", \"extremely\", \"bed\", \"alarm\", \"tough\", \"job\", \"continuously\", \"plug\", \"phon\", \"beautiful\", \"morning\", \"dead\", \"invoice\", \"pick\", \"degree\", \"wireless\", \"reduce\", \"technician\", \"suddenly\", \"temperature\", \"ready\", \"ago\", \"information\", \"policy\", \"functionality\", \"reset\", \"flicker\", \"notice\", \"past\", \"year\", \"start\", \"switch\", \"mins\", \"return\", \"hold\", \"automatically\", \"stop\", \"within\", \"minutes\", \"issue\", \"replacement\", \"days\", \"become\", \"replace\", \"get\", \"use\", \"month\", \"amazon\", \"hang\", \"play\", \"want\", \"buy\", \"even\", \"device\", \"lot\", \"drain\", \"months\", \"charge\", \"also\", \"problem\", \"time\", \"go\", \"one\", \"k\", \"hours\", \"take\", \"purchase\", \"note\", \"zoom\", \"appear\", \"china\", \"negative\", \"fluctuate\", \"standard\", \"cause\", \"bakwas\", \"ringtone\", \"dark\", \"duplicate\", \"comment\", \"interest\", \"songs\", \"aap\", \"iam\", \"slight\", \"september\", \"disappointment\", \"vibe\", \"delay\", \"unlock\", \"home\", \"car\", \"security\", \"patch\", \"facebook\", \"upgrade\", \"lens\", \"lenevo\", \"motorola\", \"note\", \"k\", \"settings\", \"set\", \"honor\", \"samsung\", \"killer\", \"redmi\", \"moto\", \"better\", \"music\", \"compare\", \"etc\", \"plus\", \"difference\", \"gb\", \"like\", \"way\", \"apps\", \"android\", \"key\", \"button\", \"second\", \"x\", \"buy\", \"use\", \"feature\", \"much\", \"company\", \"network\", \"sound\", \"update\", \"even\", \"ram\", \"also\", \"issue\", \"get\", \"many\", \"go\", \"time\", \"paisa\", \"base\", \"sharp\", \"lovers\", \"fabulous\", \"read\", \"west\", \"nice\", \"decide\", \"handy\", \"coz\", \"india\", \"space\", \"multi\", \"operation\", \"value\", \"concern\", \"metal\", \"bulky\", \"body\", \"pros\", \"warm\", \"minute\", \"powerful\", \"little\", \"bite\", \"users\", \"moderate\", \"wise\", \"great\", \"apart\", \"con\", \"look\", \"design\", \"heavy\", \"decent\", \"smooth\", \"usage\", \"game\", \"money\", \"front\", \"cam\", \"overall\", \"performance\", \"backup\", \"lag\", \"quality\", \"use\", \"charge\", \"price\", \"last\", \"get\", \"one\", \"feature\", \"dual\", \"display\", \"mode\", \"also\", \"sound\", \"time\", \"back\", \"range\", \"comparison\", \"didnt\", \"awsm\", \"oct\", \"bcoz\", \"hv\", \"beat\", \"advance\", \"inform\", \"frustrate\", \"reply\", \"speak\", \"venom\", \"cash\", \"additional\", \"supply\", \"center\", \"smartphones\", \"accept\", \"fact\", \"dnt\", \"fell\", \"report\", \"match\", \"oreo\", \"faulty\", \"centre\", \"original\", \"complain\", \"warranty\", \"service\", \"believe\", \"soon\", \"exchange\", \"customer\", \"scratch\", \"update\", \"plz\", \"new\", \"care\", \"give\", \"amazon\", \"please\", \"system\", \"every\", \"rs\", \"get\", \"buy\", \"purchase\", \"dont\", \"back\", \"still\", \"worst\", \"software\", \"problem\", \"days\", \"waste\", \"time\", \"charge\", \"replace\", \"also\", \"take\", \"issue\", \"even\", \"day\", \"pic\", \"vr\", \"pro\", \"alot\", \"badly\", \"felt\", \"whether\", \"burn\", \"thats\", \"discount\", \"wrost\", \"best\", \"reasonable\", \"result\", \"expectation\", \"clearly\", \"mediatek\", \"segment\", \"produce\", \"nd\", \"rom\", \"choice\", \"snapdragon\", \"medium\", \"deca\", \"sale\", \"core\", \"choose\", \"future\", \"scanner\", \"background\", \"smartphone\", \"processor\", \"delivery\", \"place\", \"price\", \"faster\", \"fast\", \"specifications\", \"high\", \"depth\", \"range\", \"mode\", \"drain\", \"budget\", \"thank\", \"performance\", \"mah\", \"ever\", \"use\", \"buy\", \"overall\", \"quality\", \"amazon\", \"issue\", \"one\", \"great\", \"also\", \"game\", \"poor\", \"better\", \"much\", \"like\", \"h\", \"nhi\", \"ho\", \"ko\", \"bhi\", \"nougat\", \"ye\", \"hai\", \"raha\", \"hota\", \"atoms\", \"percent\", \"rd\", \"tha\", \"bye\", \"category\", \"mera\", \"bahut\", \"lover\", \"secondary\", \"se\", \"chromecast\", \"higher\", \"reach\", \"nahi\", \"kuch\", \"iphone\", \"output\", \"bettery\", \"impress\", \"friendly\", \"ka\", \"remain\", \"ki\", \"koi\", \"par\", \"charge\", \"dolby\", \"hours\", \"take\", \"turbo\", \"full\", \"tv\", \"stock\", \"android\", \"low\", \"atmos\", \"fast\", \"hrs\", \"charger\", \"drain\", \"cast\", \"discharge\", \"sound\", \"time\", \"image\", \"quality\", \"feature\", \"like\", \"much\", \"k\", \"screen\", \"issue\", \"get\", \"camara\", \"accessories\", \"tray\", \"pin\", \"battry\", \"caller\", \"loss\", \"volte\", \"confirm\", \"world\", \"lte\", \"list\", \"reachable\", \"email\", \"shut\", \"insert\", \"menu\", \"bar\", \"jio\", \"status\", \"blast\", \"moreover\", \"coverage\", \"yesterday\", \"avg\", \"catch\", \"pc\", \"batter\", \"weak\", \"bill\", \"incoming\", \"sim\", \"number\", \"signal\", \"message\", \"voice\", \"call\", \"g\", \"strength\", \"support\", \"fantastic\", \"unable\", \"show\", \"network\", \"team\", \"record\", \"connect\", \"able\", \"card\", \"contact\", \"miss\", \"notification\", \"option\", \"use\", \"many\", \"make\", \"u\", \"even\", \"get\", \"time\", \"screen\", \"properly\", \"like\", \"issue\", \"feature\", \"also\", \"facility\", \"select\", \"party\", \"recorder\", \"white\", \"separate\", \"nfc\", \"difficult\", \"head\", \"chinese\", \"can\", \"not\", \"dissatisfy\", \"rate\", \"default\", \"setup\", \"split\", \"object\", \"soft\", \"player\", \"package\", \"third\", \"occur\", \"important\", \"duel\", \"gallery\", \"lock\", \"dedicate\", \"ok\", \"memory\", \"expect\", \"flash\", \"auto\", \"light\", \"mp\", \"available\", \"key\", \"sensor\", \"front\", \"record\", \"photos\", \"app\", \"dual\", \"feature\", \"one\", \"like\", \"miss\", \"screen\", \"fine\", \"back\", \"call\", \"rear\", \"also\", \"speaker\", \"card\", \"quality\", \"manufacture\", \"usb\", \"unhappy\", \"graphics\", \"create\", \"aur\", \"cable\", \"maybe\", \"transfer\", \"sense\", \"nyc\", \"w\", \"piece\", \"ph\", \"affordable\", \"defect\", \"motion\", \"percentage\", \"small\", \"fix\", \"suppose\", \"jack\", \"sometime\", \"navigation\", \"purpose\", \"slowly\", \"initially\", \"gr\", \"connection\", \"might\", \"however\", \"receive\", \"charger\", \"hardware\", \"order\", \"star\", \"proper\", \"turbo\", \"slow\", \"cell\", \"network\", \"products\", \"defective\", \"update\", \"problem\", \"g\", \"software\", \"come\", \"box\", \"charge\", \"issue\", \"handset\", \"get\", \"one\", \"first\", \"day\", \"need\", \"time\", \"video\", \"properly\", \"use\", \"also\", \"present\", \"protection\", \"gorilla\", \"fall\", \"nt\", \"glass\", \"super\", \"upto\", \"weight\", \"mh\", \"sufficient\", \"curve\", \"v\", \"crack\", \"edge\", \"break\", \"mic\", \"useful\", \"term\", \"whole\", \"waste\", \"top\", \"proof\", \"multitasking\", \"others\", \"must\", \"blur\", \"mark\", \"poor\", \"worthy\", \"quality\", \"speaker\", \"sound\", \"well\", \"right\", \"side\", \"condition\", \"screen\", \"money\", \"display\", \"touch\", \"buy\", \"time\", \"performance\", \"also\", \"better\", \"low\", \"go\", \"backup\", \"issue\", \"longer\", \"special\", \"arrive\", \"bekar\", \"aspects\", \"clearity\", \"turbocharger\", \"immediately\", \"damn\", \"hit\", \"worthless\", \"wastage\", \"line\", \"bad\", \"approx\", \"capacity\", \"blink\", \"interface\", \"seller\", \"spend\", \"sad\", \"love\", \"worth\", \"nokia\", \"worst\", \"raise\", \"operate\", \"brightness\", \"application\", \"description\", \"ever\", \"experience\", \"life\", \"buy\", \"happy\", \"money\", \"function\", \"n\", \"hang\", \"pls\", \"screen\", \"average\", \"backup\", \"poor\", \"problem\", \"quality\", \"properly\", \"dont\", \"see\", \"cast\", \"issue\", \"never\", \"use\", \"months\", \"state\", \"stylish\", \"fone\", \"wow\", \"wonderful\", \"outstanding\", \"motherboard\", \"blow\", \"excellent\", \"headset\", \"superb\", \"awesome\", \"mind\", \"amaze\", \"contain\", \"gud\", \"gift\", \"inside\", \"easy\", \"smoothly\", \"simply\", \"allow\", \"cool\", \"iron\", \"except\", \"lovely\", \"bluetooth\", \"word\", \"photo\", \"horrible\", \"clarity\", \"everything\", \"problem\", \"handset\", \"box\", \"really\", \"performance\", \"ram\", \"feature\", \"gb\", \"much\", \"price\", \"life\", \"love\", \"like\", \"backup\", \"back\", \"device\", \"get\"], \"Freq\": [1420.0, 1086.0, 746.0, 903.0, 1802.0, 1436.0, 943.0, 1415.0, 966.0, 1839.0, 1347.0, 448.0, 1784.0, 838.0, 552.0, 649.0, 944.0, 816.0, 416.0, 483.0, 771.0, 462.0, 277.0, 380.0, 652.0, 239.0, 897.0, 246.0, 962.0, 232.0, 66.34498596191406, 33.10163497924805, 32.11302947998047, 56.11763381958008, 30.376407623291016, 24.77692222595215, 23.009538650512695, 32.94283676147461, 27.892986297607422, 23.113374710083008, 21.92443084716797, 31.00348472595215, 42.06768798828125, 34.557037353515625, 41.18904113769531, 15.563883781433105, 16.417722702026367, 29.188051223754883, 31.83324432373047, 55.07356262207031, 18.249420166015625, 14.752964973449707, 18.352609634399414, 27.45975685119629, 93.74205017089844, 24.910961151123047, 21.755773544311523, 12.274674415588379, 27.672462463378906, 23.493906021118164, 45.46969985961914, 196.8492889404297, 168.26939392089844, 77.19666290283203, 360.0807800292969, 62.95210266113281, 108.62093353271484, 105.57249450683594, 175.7188720703125, 67.87399291992188, 753.6759033203125, 142.91482543945312, 272.8185119628906, 65.17728424072266, 155.34811401367188, 609.6997680664062, 564.9722900390625, 114.85891723632812, 320.2524719238281, 209.1928253173828, 134.67245483398438, 142.10435485839844, 464.43475341796875, 278.578125, 179.53028869628906, 142.9292755126953, 245.02085876464844, 145.74278259277344, 386.8007507324219, 286.3623046875, 277.6534423828125, 240.57080078125, 170.04693603515625, 195.4731903076172, 193.70040893554688, 118.06664276123047, 124.82756805419922, 117.00479125976562, 119.53971099853516, 66.47683715820312, 41.641719818115234, 33.967872619628906, 28.921466827392578, 26.549041748046875, 28.0551815032959, 23.258459091186523, 25.788217544555664, 37.3747444152832, 20.790531158447266, 22.932218551635742, 17.9110164642334, 16.924903869628906, 16.764568328857422, 19.857391357421875, 24.732271194458008, 26.341827392578125, 17.73287010192871, 24.499879837036133, 45.94789505004883, 14.785320281982422, 37.88314437866211, 29.920690536499023, 11.501124382019043, 14.493721961975098, 16.447338104248047, 10.820623397827148, 74.33020782470703, 12.41010856628418, 46.141517639160156, 48.11993408203125, 1127.6868896484375, 1316.7418212890625, 28.38722801208496, 183.6434326171875, 36.91939163208008, 56.49285888671875, 97.6523208618164, 105.85577392578125, 64.0246810913086, 294.7412414550781, 143.3619842529297, 150.3659210205078, 87.46603393554688, 77.36658477783203, 31.46396827697754, 117.96818542480469, 184.1011962890625, 44.57779312133789, 89.0468978881836, 98.39707946777344, 72.0531234741211, 60.91270065307617, 51.13814163208008, 53.272369384765625, 168.43861389160156, 153.38385009765625, 122.5241928100586, 100.28661346435547, 56.56367492675781, 83.646484375, 77.63011932373047, 83.03038787841797, 81.55577850341797, 64.48223114013672, 85.53096008300781, 88.7060546875, 78.96698760986328, 67.29106140136719, 68.97949981689453, 71.58265686035156, 32.37968063354492, 26.657817840576172, 26.194040298461914, 21.934518814086914, 22.337879180908203, 48.90114974975586, 19.80080223083496, 1346.40087890625, 16.541301727294922, 27.980857849121094, 15.0538969039917, 14.415492057800293, 36.946380615234375, 24.99564552307129, 17.432159423828125, 202.4606475830078, 43.402565002441406, 7.576508522033691, 14.295945167541504, 44.4248046875, 65.36709594726562, 58.95998764038086, 12.243986129760742, 28.476457595825195, 152.6027374267578, 172.71563720703125, 40.258113861083984, 12.6737642288208, 50.865360260009766, 497.99114990234375, 24.458213806152344, 83.18965911865234, 258.2111511230469, 58.09292984008789, 114.95716094970703, 65.9228286743164, 77.3998794555664, 141.0092010498047, 143.21487426757812, 212.88821411132812, 143.30320739746094, 49.34889602661133, 115.83667755126953, 215.1173858642578, 148.91668701171875, 76.78718566894531, 197.176025390625, 190.31105041503906, 202.06613159179688, 143.5496063232422, 94.24341583251953, 171.96157836914062, 139.5205078125, 133.70855712890625, 97.12422943115234, 92.51758575439453, 89.81816864013672, 109.24571228027344, 92.18395233154297, 103.33331298828125, 86.83956909179688, 83.5079574584961, 30.76528549194336, 29.84054946899414, 28.607473373413086, 33.41158676147461, 21.216190338134766, 20.367834091186523, 19.17464256286621, 18.74272346496582, 19.335840225219727, 38.45322036743164, 37.530181884765625, 24.25446319580078, 24.103008270263672, 30.805343627929688, 10.544388771057129, 20.29696273803711, 136.55433654785156, 9.805998802185059, 32.703643798828125, 6.665580749511719, 20.791027069091797, 24.77336311340332, 10.018638610839844, 13.992977142333984, 134.7002410888672, 39.691219329833984, 75.86853790283203, 28.369638442993164, 50.16893005371094, 63.53668975830078, 439.26751708984375, 42.86476516723633, 69.12591552734375, 51.701904296875, 143.45364379882812, 45.612850189208984, 388.3695373535156, 86.5517349243164, 161.8964080810547, 77.36116027832031, 225.5791473388672, 367.4736633300781, 175.75442504882812, 100.51140594482422, 88.0155029296875, 51.48601150512695, 336.84503173828125, 307.2557067871094, 119.04786682128906, 82.45085144042969, 153.8026580810547, 78.85888671875, 153.4109649658203, 98.27100372314453, 170.6392364501953, 109.91875457763672, 97.8543930053711, 119.83001708984375, 135.60238647460938, 77.77373504638672, 111.55258178710938, 97.61848449707031, 108.40316772460938, 94.0619888305664, 79.2828369140625, 45.39793014526367, 33.49635314941406, 33.21204376220703, 21.5869140625, 17.548419952392578, 17.611703872680664, 16.15030860900879, 16.748300552368164, 13.18897533416748, 14.79436206817627, 25.32422637939453, 826.3607788085938, 19.617355346679688, 50.910247802734375, 39.88261032104492, 15.788861274719238, 36.747379302978516, 37.301353454589844, 18.91605567932129, 88.13155364990234, 29.907564163208008, 32.00133514404297, 17.959806442260742, 22.107975006103516, 64.02266693115234, 55.87997055053711, 91.10594940185547, 28.671754837036133, 40.65458297729492, 12.76295280456543, 17.73921775817871, 96.56784057617188, 214.09115600585938, 167.79107666015625, 40.33478927612305, 457.8536071777344, 54.827213287353516, 390.2679748535156, 64.51465606689453, 84.7245101928711, 140.630859375, 168.2227783203125, 175.26629638671875, 259.74749755859375, 95.43497467041016, 98.22489166259766, 215.01588439941406, 88.54731750488281, 90.28323364257812, 174.99693298339844, 162.10467529296875, 82.24897766113281, 123.93242645263672, 107.81832122802734, 116.58494567871094, 96.17510223388672, 85.43714904785156, 91.71025085449219, 73.68860626220703, 83.77350616455078, 79.62007904052734, 76.4923095703125, 77.16915130615234, 209.257568359375, 83.43975067138672, 113.41192626953125, 46.801124572753906, 67.27360534667969, 39.39419937133789, 45.20751190185547, 240.4550323486328, 34.6465950012207, 39.607460021972656, 27.972015380859375, 38.43269348144531, 37.39011764526367, 33.637351989746094, 20.667787551879883, 20.404455184936523, 19.70496368408203, 33.40511703491211, 17.2786865234375, 18.453229904174805, 39.69172668457031, 13.072142601013184, 20.281057357788086, 25.23162841796875, 63.45647430419922, 17.997177124023438, 12.33491039276123, 24.375499725341797, 16.309734344482422, 11.511093139648438, 41.20210647583008, 32.16598129272461, 38.889923095703125, 34.36562728881836, 29.29924964904785, 31.18951416015625, 752.4428100585938, 160.60061645507812, 199.0209503173828, 298.3177185058594, 187.30548095703125, 170.3948516845703, 50.09296798706055, 95.75947570800781, 130.6810760498047, 147.11465454101562, 67.03709411621094, 165.3914031982422, 82.30094146728516, 118.05352020263672, 143.95504760742188, 78.8890609741211, 48.01707077026367, 92.279541015625, 105.81591796875, 57.94492721557617, 110.48802947998047, 98.19621276855469, 85.08480834960938, 75.33499908447266, 76.1041259765625, 68.34537506103516, 69.34070587158203, 67.10205078125, 29.994962692260742, 35.76630401611328, 26.832368850708008, 22.74355125427246, 21.08932876586914, 22.787233352661133, 20.388545989990234, 195.87208557128906, 20.0004825592041, 17.578874588012695, 71.53852081298828, 38.14929962158203, 14.67288875579834, 25.073205947875977, 15.86376667022705, 31.826793670654297, 11.70899486541748, 43.70164489746094, 179.2930145263672, 15.278971672058105, 10.87515926361084, 16.593198776245117, 20.65589714050293, 34.04270935058594, 9.608384132385254, 12.668401718139648, 20.03803062438965, 28.715051651000977, 43.95932388305664, 51.39006805419922, 41.32370376586914, 301.5433044433594, 71.5936508178711, 156.3929443359375, 90.16378021240234, 79.3308334350586, 491.5815124511719, 230.5668182373047, 41.54417419433594, 236.98941040039062, 49.78724670410156, 59.0816764831543, 146.6400909423828, 209.1116943359375, 47.1458625793457, 100.31845092773438, 103.11903381347656, 66.53052520751953, 82.90135955810547, 84.93590545654297, 100.57647705078125, 61.51993179321289, 94.96316528320312, 200.4032440185547, 92.67970275878906, 82.75012969970703, 85.65631103515625, 113.27591705322266, 137.21673583984375, 106.57697296142578, 96.1667709350586, 80.69503784179688, 88.18170166015625, 86.96349334716797, 76.2644271850586, 75.82376098632812, 55.08643341064453, 31.449399948120117, 48.049163818359375, 68.3408203125, 17.164199829101562, 37.913639068603516, 13.912957191467285, 44.80789566040039, 43.57981491088867, 9.51950454711914, 71.28910827636719, 71.21998596191406, 27.78655242919922, 54.427772521972656, 37.8991584777832, 17.62322235107422, 22.832447052001953, 8.908443450927734, 27.39167022705078, 51.15220642089844, 48.54570388793945, 59.44002914428711, 19.310102462768555, 23.748361587524414, 12.393718719482422, 98.70236206054688, 56.244873046875, 61.134056091308594, 333.7344055175781, 95.899169921875, 169.0438690185547, 112.86665344238281, 50.83211898803711, 163.0634307861328, 111.73931884765625, 129.85655212402344, 101.79678344726562, 92.8879165649414, 168.94058227539062, 107.00616455078125, 66.77127838134766, 125.78521728515625, 176.986083984375, 244.5670928955078, 242.97100830078125, 216.9457244873047, 105.44384765625, 176.61180114746094, 93.35175323486328, 164.3023681640625, 168.58502197265625, 89.01631164550781, 128.09060668945312, 83.14482879638672, 70.48345947265625, 76.8282241821289, 39.01598358154297, 78.73922729492188, 25.808246612548828, 30.081804275512695, 25.369243621826172, 20.013803482055664, 60.267845153808594, 13.987225532531738, 15.970520973205566, 17.399845123291016, 15.673421859741211, 21.712087631225586, 118.19976806640625, 20.557567596435547, 22.360342025756836, 56.30930709838867, 16.446426391601562, 19.898286819458008, 50.444549560546875, 68.34549713134766, 25.829444885253906, 28.176860809326172, 30.47835922241211, 13.669957160949707, 14.752571105957031, 16.364606857299805, 8.512840270996094, 21.922765731811523, 52.85209655761719, 18.70989227294922, 33.26433563232422, 193.6142578125, 252.2495574951172, 42.76197052001953, 46.34292984008789, 88.13277435302734, 43.8592414855957, 140.9669952392578, 87.0732192993164, 38.238704681396484, 144.88487243652344, 48.59315490722656, 44.57748031616211, 148.49740600585938, 202.1421356201172, 89.38729858398438, 87.12889099121094, 75.80489349365234, 54.70033645629883, 153.76776123046875, 143.21365356445312, 63.9102897644043, 140.34890747070312, 112.10850524902344, 67.70589447021484, 74.3773193359375, 67.08234405517578, 77.50153350830078, 51.153404235839844, 53.57475280761719, 58.83721160888672, 54.1057243347168, 30.46563720703125, 27.607330322265625, 108.82640075683594, 47.76184844970703, 23.366952896118164, 184.05018615722656, 216.06698608398438, 91.37419891357422, 49.92146682739258, 17.162200927734375, 9.113415718078613, 21.067501068115234, 55.51475524902344, 25.518775939941406, 36.50300598144531, 110.83529663085938, 7.913954257965088, 12.536665916442871, 26.5013484954834, 26.073299407958984, 252.30433654785156, 49.21353530883789, 6.219673156738281, 5.01788330078125, 23.398584365844727, 46.018856048583984, 29.952129364013672, 112.5979995727539, 488.294189453125, 26.302846908569336, 594.5228881835938, 116.59813690185547, 165.8831024169922, 92.5878677368164, 39.268585205078125, 50.46090316772461, 46.63127517700195, 162.42808532714844, 135.7806396484375, 102.2100830078125, 69.57171630859375, 134.67478942871094, 103.1827392578125, 89.216796875, 84.53571319580078, 63.21156692504883, 55.36260986328125, 57.156532287597656, 55.037879943847656, 51.03774642944336, 41.49984359741211, 34.52645492553711, 31.18109893798828, 26.82145118713379, 22.349044799804688, 21.174514770507812, 16.784515380859375, 30.47112464904785, 11.179265022277832, 32.69150924682617, 8.776853561401367, 4.285184860229492, 31.49818992614746, 826.5675048828125, 12.7489013671875, 33.18899917602539, 9.594472885131836, 38.63100051879883, 29.478443145751953, 42.89780044555664, 18.971477508544922, 169.55047607421875, 187.59129333496094, 8.851486206054688, 516.5464477539062, 20.299516677856445, 18.10613441467285, 37.624176025390625, 38.468955993652344, 12.853099822998047, 142.3254852294922, 123.77865600585938, 125.09744262695312, 367.38873291015625, 60.086551666259766, 138.2876739501953, 52.3791618347168, 57.14729309082031, 99.13252258300781, 40.54226303100586, 115.39022064208984, 66.50593566894531, 88.01174926757812, 97.97122192382812, 107.05754089355469, 102.0803451538086, 64.57540130615234, 52.59005355834961, 44.61146926879883, 46.973934173583984, 62.30257797241211, 44.053367614746094, 47.585968017578125, 41.09776306152344, 22.553422927856445, 20.013805389404297, 31.223684310913086, 16.90000343322754, 36.70439910888672, 11.805181503295898, 10.15755844116211, 35.166656494140625, 396.9101257324219, 59.12223434448242, 239.24908447265625, 643.6893920898438, 37.13812255859375, 193.36935424804688, 29.268779754638672, 81.53577423095703, 17.281557083129883, 16.44974136352539, 54.42620086669922, 18.16046905517578, 47.03618621826172, 8.545371055603027, 73.56002807617188, 15.768628120422363, 65.30430603027344, 10.50882625579834, 82.64518737792969, 18.1063175201416, 59.21371841430664, 15.233577728271484, 86.08856201171875, 119.28348541259766, 379.26953125, 87.35186767578125, 59.67005920410156, 107.05552673339844, 162.94061279296875, 75.4880142211914, 162.20169067382812, 78.44224548339844, 109.1985855102539, 123.28363037109375, 65.0255355834961, 59.18254089355469, 74.10596466064453, 62.062835693359375, 65.2520751953125, 54.12452697753906, 65.42514038085938], \"Total\": [1420.0, 1086.0, 746.0, 903.0, 1802.0, 1436.0, 943.0, 1415.0, 966.0, 1839.0, 1347.0, 448.0, 1784.0, 838.0, 552.0, 649.0, 944.0, 816.0, 416.0, 483.0, 771.0, 462.0, 277.0, 380.0, 652.0, 239.0, 897.0, 246.0, 962.0, 232.0, 68.22600555419922, 34.045589447021484, 33.05192565917969, 57.793800354003906, 31.307722091674805, 25.778858184814453, 23.94085693359375, 34.29631805419922, 29.042282104492188, 24.097623825073242, 22.942901611328125, 32.473758697509766, 44.18104553222656, 36.427581787109375, 43.530296325683594, 16.50438117980957, 17.41053581237793, 31.082183837890625, 34.109771728515625, 59.624786376953125, 19.830968856811523, 16.11247444152832, 20.224201202392578, 30.478994369506836, 105.99847412109375, 28.309328079223633, 24.81740379333496, 14.156159400939941, 32.106300354003906, 27.323087692260742, 54.90510177612305, 257.93109130859375, 219.4041748046875, 97.45265197753906, 558.9775390625, 82.90685272216797, 157.38845825195312, 153.5414276123047, 281.10992431640625, 91.8710708618164, 1584.85205078125, 220.78384399414062, 525.2265625, 87.9787826538086, 286.0395812988281, 1734.2803955078125, 1598.184814453125, 214.86033630371094, 952.294677734375, 524.2984619140625, 274.5286865234375, 298.5242004394531, 1784.589111328125, 827.6143798828125, 435.00286865234375, 317.2846374511719, 767.1664428710938, 332.9820251464844, 1839.5914306640625, 1124.2772216796875, 1347.9951171875, 1024.2540283203125, 538.8357543945312, 1005.8157958984375, 1802.619873046875, 404.3002624511719, 727.5408325195312, 410.554931640625, 1436.3402099609375, 67.54296875, 42.56957244873047, 34.937747955322266, 29.873950958251953, 27.47688102722168, 29.09428596496582, 24.186290740966797, 26.842382431030273, 38.94286346435547, 21.722965240478516, 24.01424789428711, 18.87472152709961, 17.861909866333008, 17.802562713623047, 21.181303024291992, 26.424732208251953, 28.29924964904785, 19.094348907470703, 26.401264190673828, 50.150753021240234, 16.174718856811523, 41.547462463378906, 32.87648391723633, 12.790647506713867, 16.301437377929688, 18.520029067993164, 12.272598266601562, 84.54872131347656, 14.179337501525879, 52.964969635009766, 55.442604064941406, 1436.3402099609375, 1802.619873046875, 32.92082214355469, 238.3535614013672, 43.74387741088867, 73.42784881591797, 150.41781616210938, 168.9689483642578, 92.2281723022461, 685.4140014648438, 274.30181884765625, 303.4552001953125, 155.52650451660156, 133.5014190673828, 38.61617660522461, 349.9244384765625, 947.05322265625, 73.93897247314453, 272.37091064453125, 345.328857421875, 187.58587646484375, 142.53944396972656, 104.68804931640625, 114.83828735351562, 1784.589111328125, 1598.184814453125, 962.4195556640625, 705.82568359375, 140.58135986328125, 602.5250244140625, 514.3803100585938, 771.4816284179688, 827.6143798828125, 266.64544677734375, 1124.2772216796875, 1584.85205078125, 1734.2803955078125, 362.809814453125, 538.8357543945312, 1024.2540283203125, 33.3160285949707, 27.5997257232666, 27.130393981933594, 22.87085723876953, 23.445314407348633, 51.32907485961914, 20.802841186523438, 1420.94775390625, 17.477664947509766, 29.6746826171875, 15.990252494812012, 15.351863861083984, 39.350528717041016, 26.850765228271484, 19.030330657958984, 224.54066467285156, 48.412574768066406, 8.530820846557617, 16.1433048248291, 51.32039260864258, 75.55913543701172, 68.93284606933594, 14.937283515930176, 35.470436096191406, 190.21336364746094, 217.48287963867188, 51.26797866821289, 16.25162696838379, 66.28764343261719, 649.9774169921875, 32.49172592163086, 122.1887435913086, 421.668212890625, 84.48565673828125, 192.25453186035156, 101.08335876464844, 131.02723693847656, 298.69671630859375, 363.8664855957031, 652.1254272460938, 401.2147521972656, 82.74339294433594, 330.363037109375, 897.1234741210938, 569.5389404296875, 206.4062957763672, 1415.741943359375, 1598.184814453125, 1839.5914306640625, 944.4365234375, 362.1184997558594, 1734.2803955078125, 1005.8157958984375, 962.4195556640625, 507.8262634277344, 435.3517761230469, 428.149658203125, 1124.2772216796875, 514.3803100585938, 1024.2540283203125, 733.232666015625, 391.81329345703125, 31.6951847076416, 30.770456314086914, 29.537342071533203, 34.54124450683594, 22.14611053466797, 21.29773712158203, 20.104583740234375, 19.67263412475586, 20.378108978271484, 40.59770584106445, 39.82650375366211, 26.388336181640625, 26.32257843017578, 33.64872741699219, 11.52597427368164, 22.206758499145508, 151.5095672607422, 11.037576675415039, 36.83214569091797, 7.625427722930908, 23.917879104614258, 28.650550842285156, 11.76417350769043, 16.46677589416504, 160.21775817871094, 47.25953674316406, 90.95909881591797, 34.09294128417969, 60.397579193115234, 77.66056823730469, 552.7007446289062, 52.862300872802734, 87.96919250488281, 67.6336441040039, 209.01785278320312, 60.02609634399414, 771.4816284179688, 128.87376403808594, 276.1816101074219, 117.55525970458984, 500.4142761230469, 952.294677734375, 411.8072204589844, 190.72642517089844, 176.94107055664062, 83.6616439819336, 1734.2803955078125, 1784.589111328125, 410.554931640625, 208.40792846679688, 733.232666015625, 202.4630584716797, 943.8588256835938, 366.05560302734375, 1347.9951171875, 525.2265625, 416.6435546875, 1024.2540283203125, 1839.5914306640625, 286.0395812988281, 1124.2772216796875, 727.5408325195312, 1584.85205078125, 827.6143798828125, 514.1181030273438, 46.3357048034668, 34.43411636352539, 34.14981460571289, 22.53005599975586, 18.486169815063477, 18.589527130126953, 17.08808135986328, 17.740236282348633, 14.126736640930176, 15.994264602661133, 27.504146575927734, 903.822265625, 22.347938537597656, 59.62678527832031, 46.91736602783203, 18.643709182739258, 43.54588317871094, 44.50385665893555, 23.200796127319336, 111.39651489257812, 37.85886764526367, 40.697021484375, 22.97203254699707, 28.52445411682129, 83.75432586669922, 75.06192016601562, 122.65789794921875, 38.608726501464844, 54.81753921508789, 17.224899291992188, 23.982324600219727, 133.2686309814453, 328.1502380371094, 266.73382568359375, 55.864418029785156, 944.4365234375, 80.2297592163086, 816.8410034179688, 98.33319091796875, 142.06118774414062, 271.771728515625, 391.81329345703125, 428.149658203125, 767.1664428710938, 192.1179656982422, 206.67848205566406, 897.1234741210938, 258.7393798828125, 312.01611328125, 1598.184814453125, 1784.589111328125, 330.363037109375, 1415.741943359375, 952.294677734375, 1584.85205078125, 1005.8157958984375, 649.9774169921875, 1124.2772216796875, 363.8664855957031, 966.4075927734375, 685.4140014648438, 705.82568359375, 947.05322265625, 211.33554077148438, 84.54056549072266, 115.04257202148438, 47.822601318359375, 68.74380493164062, 40.331783294677734, 46.28797912597656, 246.65438842773438, 35.65378189086914, 40.923458099365234, 28.90961456298828, 39.7224006652832, 38.77414321899414, 35.11540222167969, 21.605371475219727, 21.34202766418457, 20.64253044128418, 35.023902893066406, 18.30467414855957, 19.686199188232422, 42.357643127441406, 14.0097074508667, 21.87476348876953, 27.2570743560791, 68.83245849609375, 19.54648208618164, 13.48084831237793, 26.715129852294922, 17.9438419342041, 12.673195838928223, 46.793006896972656, 36.46022033691406, 44.50639343261719, 39.49931716918945, 33.9573860168457, 37.38315963745117, 1839.5914306640625, 280.0430908203125, 404.3002624511719, 727.5408325195312, 397.01434326171875, 379.2538757324219, 71.44727325439453, 187.63758850097656, 345.328857421875, 432.07733154296875, 126.32418823242188, 816.8410034179688, 216.6038360595703, 483.8508605957031, 767.1664428710938, 243.0620880126953, 77.92314910888672, 514.3803100585938, 1024.2540283203125, 145.69784545898438, 1415.741943359375, 962.4195556640625, 947.05322265625, 705.82568359375, 1802.619873046875, 820.6918334960938, 1584.85205078125, 1734.2803955078125, 30.945539474487305, 36.913055419921875, 27.768043518066406, 23.738840103149414, 22.02501106262207, 23.822628021240234, 21.324203491210938, 205.0167694091797, 21.09933090209961, 18.589557647705078, 75.71647644042969, 40.444950103759766, 15.615917205810547, 26.735881805419922, 16.966463088989258, 34.137901306152344, 12.644649505615234, 47.3223876953125, 195.44090270996094, 16.685558319091797, 11.90933895111084, 18.3763427734375, 22.899032592773438, 37.98423767089844, 10.731547355651855, 14.258553504943848, 22.59349822998047, 32.81205368041992, 50.345550537109375, 59.26960372924805, 47.77546691894531, 380.7701416015625, 87.11140441894531, 214.4652099609375, 119.2817611694336, 104.7938461303711, 838.7213134765625, 374.3284912109375, 51.66422653198242, 394.9821472167969, 70.34967041015625, 88.6047592163086, 312.4494934082031, 602.5250244140625, 69.81825256347656, 221.18478393554688, 238.2957763671875, 122.26912689208984, 181.0828399658203, 189.76121520996094, 275.4293518066406, 115.55567932128906, 281.93035888671875, 1598.184814453125, 362.809814453125, 303.2861633300781, 339.289794921875, 827.6143798828125, 1734.2803955078125, 1024.2540283203125, 820.6918334960938, 394.6125183105469, 947.05322265625, 1584.85205078125, 962.4195556640625, 1124.2772216796875, 56.282447814941406, 32.37670135498047, 49.870460510253906, 70.9760971069336, 18.103849411010742, 40.121307373046875, 14.855310440063477, 49.150455474853516, 48.1102180480957, 10.514777183532715, 78.91846466064453, 78.91364288330078, 30.81128692626953, 60.89678192138672, 42.40576934814453, 19.724605560302734, 26.098430633544922, 10.20504093170166, 31.565753936767578, 60.85776138305664, 58.235652923583984, 71.7489013671875, 23.705034255981445, 29.953195571899414, 15.723331451416016, 125.9723892211914, 75.61604309082031, 83.47991180419922, 462.302978515625, 137.05087280273438, 271.4714050292969, 187.03182983398438, 75.48441314697266, 304.91510009765625, 201.3172607421875, 248.0068817138672, 187.58587646484375, 173.1459197998047, 401.2147521972656, 221.18478393554688, 112.99089813232422, 292.4857177734375, 507.8262634277344, 962.4195556640625, 1005.8157958984375, 947.05322265625, 275.4293518066406, 820.6918334960938, 223.03211975097656, 733.232666015625, 838.7213134765625, 259.08056640625, 1124.2772216796875, 304.37744140625, 181.0828399658203, 1415.741943359375, 40.08319091796875, 81.3930435180664, 26.742834091186523, 31.193201065063477, 26.381122589111328, 20.94835662841797, 63.82344436645508, 15.145944595336914, 17.353904724121094, 19.120512008666992, 17.287397384643555, 24.088850021362305, 133.73178100585938, 23.2646541595459, 25.393957138061523, 65.22566223144531, 21.013681411743164, 25.72589874267578, 66.83746337890625, 91.26253509521484, 34.779754638671875, 38.22468185424805, 41.390316009521484, 18.607297897338867, 20.388870239257812, 23.022445678710938, 12.264082908630371, 32.91654968261719, 80.00965118408203, 29.1063175201416, 52.30014419555664, 345.3372497558594, 483.8508605957031, 71.72306060791016, 80.17919921875, 186.6477508544922, 78.92192077636719, 397.01434326171875, 243.13514709472656, 70.78669738769531, 602.5250244140625, 106.52222442626953, 92.4488525390625, 771.4816284179688, 1347.9951171875, 374.3284912109375, 366.05560302734375, 288.5869140625, 156.87979125976562, 1839.5914306640625, 1584.85205078125, 240.8011474609375, 1734.2803955078125, 1005.8157958984375, 301.1794128417969, 514.1181030273438, 359.9181823730469, 1024.2540283203125, 210.7959442138672, 394.6125183105469, 1598.184814453125, 1124.2772216796875, 31.39889907836914, 28.540563583374023, 115.9513168334961, 51.1072998046875, 25.12566566467285, 198.28271484375, 239.0163116455078, 101.74526977539062, 56.707008361816406, 19.949451446533203, 10.790382385253906, 26.42961883544922, 69.84708404541016, 33.094635009765625, 47.631343841552734, 145.6167449951172, 11.280961990356445, 18.18885040283203, 38.610782623291016, 42.38406753540039, 416.6435546875, 81.59027099609375, 10.459134101867676, 8.651278495788574, 41.44807052612305, 85.00943756103516, 55.410179138183594, 222.2779998779297, 966.4075927734375, 52.2244987487793, 1415.741943359375, 304.37744140625, 514.3803100585938, 256.3916931152344, 87.09011840820312, 129.1525421142578, 117.42302703857422, 820.6918334960938, 652.1254272460938, 435.3517761230469, 236.07179260253906, 1784.589111328125, 1024.2540283203125, 897.1234741210938, 1124.2772216796875, 685.4140014648438, 432.07733154296875, 538.8357543945312, 569.5389404296875, 1584.85205078125, 42.43274688720703, 35.459346771240234, 32.1140251159668, 27.828990936279297, 23.28196144104004, 22.107402801513672, 17.98273277282715, 32.661563873291016, 12.74393367767334, 38.26045608520508, 10.421148300170898, 5.310853004455566, 39.726375579833984, 1086.8536376953125, 17.134950637817383, 45.6220588684082, 13.923035621643066, 56.440460205078125, 44.336997985839844, 66.40836334228516, 30.25457191467285, 278.7306213378906, 333.4195251464844, 15.85902214050293, 943.8588256835938, 37.17535400390625, 34.359230041503906, 72.03562927246094, 76.21053314208984, 26.413114547729492, 312.01611328125, 277.50396728515625, 343.9780578613281, 1784.589111328125, 168.25950622558594, 652.1254272460938, 154.4808349609375, 184.7913360595703, 524.2984619140625, 116.00751495361328, 820.6918334960938, 311.9654541015625, 569.5389404296875, 966.4075927734375, 1347.9951171875, 1415.741943359375, 394.6125183105469, 208.40792846679688, 185.72329711914062, 243.0620880126953, 1584.85205078125, 245.341796875, 1598.184814453125, 332.9820251464844, 23.49740982055664, 21.044153213500977, 33.11186981201172, 18.072614669799805, 39.7016716003418, 12.880424499511719, 11.162565231323242, 39.64543151855469, 448.8169860839844, 68.0318832397461, 277.0224609375, 746.5056762695312, 43.59685516357422, 232.34873962402344, 35.38774871826172, 99.80191040039062, 21.637353897094727, 20.795917510986328, 69.05769348144531, 25.620643615722656, 68.3576889038086, 12.706335067749023, 110.88429260253906, 23.83139419555664, 101.61543273925781, 18.687454223632812, 150.14279174804688, 33.35564422607422, 110.16259765625, 29.00490379333496, 167.11172485351562, 254.19992065429688, 1347.9951171875, 240.8011474609375, 156.87979125976562, 400.68414306640625, 897.1234741210938, 266.64544677734375, 962.4195556640625, 349.9244384765625, 705.82568359375, 944.4365234375, 343.9780578613281, 278.7306213378906, 947.05322265625, 569.5389404296875, 733.232666015625, 435.00286865234375, 1734.2803955078125], \"Category\": [\"Default\", \"Default\", \"Default\", \"Default\", \"Default\", \"Default\", \"Default\", \"Default\", \"Default\", \"Default\", \"Default\", \"Default\", \"Default\", \"Default\", \"Default\", \"Default\", \"Default\", \"Default\", \"Default\", \"Default\", \"Default\", \"Default\", \"Default\", \"Default\", \"Default\", \"Default\", \"Default\", \"Default\", \"Default\", \"Default\", \"Topic1\", \"Topic1\", \"Topic1\", \"Topic1\", \"Topic1\", \"Topic1\", \"Topic1\", \"Topic1\", \"Topic1\", \"Topic1\", \"Topic1\", \"Topic1\", \"Topic1\", \"Topic1\", \"Topic1\", \"Topic1\", \"Topic1\", \"Topic1\", \"Topic1\", \"Topic1\", \"Topic1\", \"Topic1\", \"Topic1\", \"Topic1\", \"Topic1\", \"Topic1\", \"Topic1\", \"Topic1\", \"Topic1\", \"Topic1\", \"Topic1\", \"Topic1\", \"Topic1\", \"Topic1\", \"Topic1\", \"Topic1\", \"Topic1\", \"Topic1\", \"Topic1\", \"Topic1\", \"Topic1\", \"Topic1\", \"Topic1\", \"Topic1\", \"Topic1\", \"Topic1\", \"Topic1\", \"Topic1\", \"Topic1\", \"Topic1\", \"Topic1\", \"Topic1\", \"Topic1\", \"Topic1\", \"Topic1\", \"Topic1\", \"Topic1\", \"Topic1\", \"Topic1\", \"Topic1\", \"Topic1\", \"Topic1\", \"Topic1\", \"Topic1\", \"Topic1\", \"Topic1\", \"Topic1\", \"Topic1\", \"Topic1\", \"Topic2\", \"Topic2\", \"Topic2\", \"Topic2\", \"Topic2\", \"Topic2\", \"Topic2\", \"Topic2\", \"Topic2\", \"Topic2\", \"Topic2\", \"Topic2\", \"Topic2\", \"Topic2\", \"Topic2\", \"Topic2\", \"Topic2\", \"Topic2\", \"Topic2\", \"Topic2\", \"Topic2\", \"Topic2\", \"Topic2\", \"Topic2\", \"Topic2\", \"Topic2\", \"Topic2\", \"Topic2\", \"Topic2\", \"Topic2\", \"Topic2\", \"Topic2\", \"Topic2\", \"Topic2\", \"Topic2\", \"Topic2\", \"Topic2\", \"Topic2\", \"Topic2\", \"Topic2\", \"Topic2\", \"Topic2\", \"Topic2\", \"Topic2\", \"Topic2\", \"Topic2\", \"Topic2\", \"Topic2\", \"Topic2\", \"Topic2\", \"Topic2\", \"Topic2\", \"Topic2\", \"Topic2\", \"Topic2\", \"Topic2\", \"Topic2\", \"Topic2\", \"Topic2\", \"Topic2\", \"Topic2\", \"Topic2\", \"Topic2\", \"Topic2\", \"Topic2\", \"Topic2\", \"Topic2\", \"Topic2\", \"Topic2\", \"Topic2\", \"Topic2\", \"Topic3\", \"Topic3\", \"Topic3\", \"Topic3\", \"Topic3\", \"Topic3\", \"Topic3\", \"Topic3\", \"Topic3\", \"Topic3\", \"Topic3\", \"Topic3\", \"Topic3\", \"Topic3\", \"Topic3\", \"Topic3\", \"Topic3\", \"Topic3\", \"Topic3\", \"Topic3\", \"Topic3\", \"Topic3\", \"Topic3\", \"Topic3\", \"Topic3\", \"Topic3\", \"Topic3\", \"Topic3\", \"Topic3\", \"Topic3\", \"Topic3\", \"Topic3\", \"Topic3\", \"Topic3\", \"Topic3\", \"Topic3\", \"Topic3\", \"Topic3\", \"Topic3\", \"Topic3\", \"Topic3\", \"Topic3\", \"Topic3\", \"Topic3\", \"Topic3\", \"Topic3\", \"Topic3\", \"Topic3\", \"Topic3\", \"Topic3\", \"Topic3\", \"Topic3\", \"Topic3\", \"Topic3\", \"Topic3\", \"Topic3\", \"Topic3\", \"Topic3\", \"Topic3\", \"Topic3\", \"Topic3\", \"Topic3\", \"Topic4\", \"Topic4\", \"Topic4\", \"Topic4\", \"Topic4\", \"Topic4\", \"Topic4\", \"Topic4\", \"Topic4\", \"Topic4\", \"Topic4\", \"Topic4\", \"Topic4\", \"Topic4\", \"Topic4\", \"Topic4\", \"Topic4\", \"Topic4\", \"Topic4\", \"Topic4\", \"Topic4\", \"Topic4\", \"Topic4\", \"Topic4\", \"Topic4\", \"Topic4\", \"Topic4\", \"Topic4\", \"Topic4\", \"Topic4\", \"Topic4\", \"Topic4\", \"Topic4\", \"Topic4\", \"Topic4\", \"Topic4\", \"Topic4\", \"Topic4\", \"Topic4\", \"Topic4\", \"Topic4\", \"Topic4\", \"Topic4\", \"Topic4\", \"Topic4\", \"Topic4\", \"Topic4\", \"Topic4\", \"Topic4\", \"Topic4\", \"Topic4\", \"Topic4\", \"Topic4\", \"Topic4\", \"Topic4\", \"Topic4\", \"Topic4\", \"Topic4\", \"Topic4\", \"Topic4\", \"Topic4\", \"Topic4\", \"Topic4\", \"Topic4\", \"Topic4\", \"Topic5\", \"Topic5\", \"Topic5\", \"Topic5\", \"Topic5\", \"Topic5\", \"Topic5\", \"Topic5\", \"Topic5\", \"Topic5\", \"Topic5\", \"Topic5\", \"Topic5\", \"Topic5\", \"Topic5\", \"Topic5\", \"Topic5\", \"Topic5\", \"Topic5\", \"Topic5\", \"Topic5\", \"Topic5\", \"Topic5\", \"Topic5\", \"Topic5\", \"Topic5\", \"Topic5\", \"Topic5\", \"Topic5\", \"Topic5\", \"Topic5\", \"Topic5\", \"Topic5\", \"Topic5\", \"Topic5\", \"Topic5\", \"Topic5\", \"Topic5\", \"Topic5\", \"Topic5\", \"Topic5\", \"Topic5\", \"Topic5\", \"Topic5\", \"Topic5\", \"Topic5\", \"Topic5\", \"Topic5\", \"Topic5\", \"Topic5\", \"Topic5\", \"Topic5\", \"Topic5\", \"Topic5\", \"Topic5\", \"Topic5\", \"Topic5\", \"Topic5\", \"Topic5\", \"Topic5\", \"Topic5\", \"Topic5\", \"Topic5\", \"Topic6\", \"Topic6\", \"Topic6\", \"Topic6\", \"Topic6\", \"Topic6\", \"Topic6\", \"Topic6\", \"Topic6\", \"Topic6\", \"Topic6\", \"Topic6\", \"Topic6\", \"Topic6\", \"Topic6\", \"Topic6\", \"Topic6\", \"Topic6\", \"Topic6\", \"Topic6\", \"Topic6\", \"Topic6\", \"Topic6\", \"Topic6\", \"Topic6\", \"Topic6\", \"Topic6\", \"Topic6\", \"Topic6\", \"Topic6\", \"Topic6\", \"Topic6\", \"Topic6\", \"Topic6\", \"Topic6\", \"Topic6\", \"Topic6\", \"Topic6\", \"Topic6\", \"Topic6\", \"Topic6\", \"Topic6\", \"Topic6\", \"Topic6\", \"Topic6\", \"Topic6\", \"Topic6\", \"Topic6\", \"Topic6\", \"Topic6\", \"Topic6\", \"Topic6\", \"Topic6\", \"Topic6\", \"Topic6\", \"Topic6\", \"Topic6\", \"Topic6\", \"Topic6\", \"Topic6\", \"Topic6\", \"Topic6\", \"Topic6\", \"Topic6\", \"Topic7\", \"Topic7\", \"Topic7\", \"Topic7\", \"Topic7\", \"Topic7\", \"Topic7\", \"Topic7\", \"Topic7\", \"Topic7\", \"Topic7\", \"Topic7\", \"Topic7\", \"Topic7\", \"Topic7\", \"Topic7\", \"Topic7\", \"Topic7\", \"Topic7\", \"Topic7\", \"Topic7\", \"Topic7\", \"Topic7\", \"Topic7\", \"Topic7\", \"Topic7\", \"Topic7\", \"Topic7\", \"Topic7\", \"Topic7\", \"Topic7\", \"Topic7\", \"Topic7\", \"Topic7\", \"Topic7\", \"Topic7\", \"Topic7\", \"Topic7\", \"Topic7\", \"Topic7\", \"Topic7\", \"Topic7\", \"Topic7\", \"Topic7\", \"Topic7\", \"Topic7\", \"Topic7\", \"Topic7\", \"Topic7\", \"Topic7\", \"Topic7\", \"Topic7\", \"Topic7\", \"Topic7\", \"Topic7\", \"Topic7\", \"Topic7\", \"Topic7\", \"Topic7\", \"Topic7\", \"Topic7\", \"Topic7\", \"Topic7\", \"Topic7\", \"Topic7\", \"Topic7\", \"Topic8\", \"Topic8\", \"Topic8\", \"Topic8\", \"Topic8\", \"Topic8\", \"Topic8\", \"Topic8\", \"Topic8\", \"Topic8\", \"Topic8\", \"Topic8\", \"Topic8\", \"Topic8\", \"Topic8\", \"Topic8\", \"Topic8\", \"Topic8\", \"Topic8\", \"Topic8\", \"Topic8\", \"Topic8\", \"Topic8\", \"Topic8\", \"Topic8\", \"Topic8\", \"Topic8\", \"Topic8\", \"Topic8\", \"Topic8\", \"Topic8\", \"Topic8\", \"Topic8\", \"Topic8\", \"Topic8\", \"Topic8\", \"Topic8\", \"Topic8\", \"Topic8\", \"Topic8\", \"Topic8\", \"Topic8\", \"Topic8\", \"Topic8\", \"Topic8\", \"Topic8\", \"Topic8\", \"Topic8\", \"Topic8\", \"Topic8\", \"Topic8\", \"Topic8\", \"Topic8\", \"Topic8\", \"Topic8\", \"Topic8\", \"Topic9\", \"Topic9\", \"Topic9\", \"Topic9\", \"Topic9\", \"Topic9\", \"Topic9\", \"Topic9\", \"Topic9\", \"Topic9\", \"Topic9\", \"Topic9\", \"Topic9\", \"Topic9\", \"Topic9\", \"Topic9\", \"Topic9\", \"Topic9\", \"Topic9\", \"Topic9\", \"Topic9\", \"Topic9\", \"Topic9\", \"Topic9\", \"Topic9\", \"Topic9\", \"Topic9\", \"Topic9\", \"Topic9\", \"Topic9\", \"Topic9\", \"Topic9\", \"Topic9\", \"Topic9\", \"Topic9\", \"Topic9\", \"Topic9\", \"Topic9\", \"Topic9\", \"Topic9\", \"Topic9\", \"Topic9\", \"Topic9\", \"Topic9\", \"Topic9\", \"Topic9\", \"Topic9\", \"Topic9\", \"Topic9\", \"Topic9\", \"Topic9\", \"Topic9\", \"Topic9\", \"Topic9\", \"Topic9\", \"Topic9\", \"Topic9\", \"Topic9\", \"Topic9\", \"Topic9\", \"Topic9\", \"Topic9\", \"Topic10\", \"Topic10\", \"Topic10\", \"Topic10\", \"Topic10\", \"Topic10\", \"Topic10\", \"Topic10\", \"Topic10\", \"Topic10\", \"Topic10\", \"Topic10\", \"Topic10\", \"Topic10\", \"Topic10\", \"Topic10\", \"Topic10\", \"Topic10\", \"Topic10\", \"Topic10\", \"Topic10\", \"Topic10\", \"Topic10\", \"Topic10\", \"Topic10\", \"Topic10\", \"Topic10\", \"Topic10\", \"Topic10\", \"Topic10\", \"Topic10\", \"Topic10\", \"Topic10\", \"Topic10\", \"Topic10\", \"Topic10\", \"Topic10\", \"Topic10\", \"Topic10\", \"Topic10\", \"Topic10\", \"Topic10\", \"Topic10\", \"Topic10\", \"Topic10\", \"Topic10\", \"Topic10\", \"Topic10\", \"Topic10\", \"Topic10\", \"Topic11\", \"Topic11\", \"Topic11\", \"Topic11\", \"Topic11\", \"Topic11\", \"Topic11\", \"Topic11\", \"Topic11\", \"Topic11\", \"Topic11\", \"Topic11\", \"Topic11\", \"Topic11\", \"Topic11\", \"Topic11\", \"Topic11\", \"Topic11\", \"Topic11\", \"Topic11\", \"Topic11\", \"Topic11\", \"Topic11\", \"Topic11\", \"Topic11\", \"Topic11\", \"Topic11\", \"Topic11\", \"Topic11\", \"Topic11\", \"Topic11\", \"Topic11\", \"Topic11\", \"Topic11\", \"Topic11\", \"Topic11\", \"Topic11\", \"Topic11\", \"Topic11\", \"Topic11\", \"Topic11\", \"Topic11\", \"Topic11\", \"Topic11\", \"Topic11\", \"Topic11\", \"Topic11\", \"Topic11\", \"Topic11\", \"Topic11\", \"Topic11\", \"Topic11\", \"Topic11\", \"Topic11\", \"Topic12\", \"Topic12\", \"Topic12\", \"Topic12\", \"Topic12\", \"Topic12\", \"Topic12\", \"Topic12\", \"Topic12\", \"Topic12\", \"Topic12\", \"Topic12\", \"Topic12\", \"Topic12\", \"Topic12\", \"Topic12\", \"Topic12\", \"Topic12\", \"Topic12\", \"Topic12\", \"Topic12\", \"Topic12\", \"Topic12\", \"Topic12\", \"Topic12\", \"Topic12\", \"Topic12\", \"Topic12\", \"Topic12\", \"Topic12\", \"Topic12\", \"Topic12\", \"Topic12\", \"Topic12\", \"Topic12\", \"Topic12\", \"Topic12\", \"Topic12\", \"Topic12\", \"Topic12\", \"Topic12\", \"Topic12\", \"Topic12\", \"Topic12\", \"Topic12\", \"Topic12\", \"Topic12\", \"Topic12\", \"Topic12\"], \"logprob\": [30.0, 29.0, 28.0, 27.0, 26.0, 25.0, 24.0, 23.0, 22.0, 21.0, 20.0, 19.0, 18.0, 17.0, 16.0, 15.0, 14.0, 13.0, 12.0, 11.0, 10.0, 9.0, 8.0, 7.0, 6.0, 5.0, 4.0, 3.0, 2.0, 1.0, -5.674300193786621, -6.36959981918335, -6.399899959564209, -5.841700077056885, -6.45550012588501, -6.659200191497803, -6.7332000732421875, -6.3744001388549805, -6.540800094604492, -6.728700160980225, -6.781599998474121, -6.435100078582764, -6.129899978637695, -6.326499938964844, -6.151000022888184, -7.124199867248535, -7.070799827575684, -6.4953999519348145, -6.408599853515625, -5.860499858856201, -6.965000152587891, -7.177700042724609, -6.959400177001953, -6.556399822235107, -5.32859992980957, -6.653800010681152, -6.789299964904785, -7.361599922180176, -6.548699855804443, -6.712399959564209, -6.05210018157959, -4.586699962615967, -4.743599891662598, -5.522799968719482, -3.982800006866455, -5.726799964904785, -5.181300163269043, -5.209799766540527, -4.700300216674805, -5.651500225067139, -3.2441999912261963, -4.906899929046631, -4.260300159454346, -5.691999912261963, -4.823500156402588, -3.456199884414673, -3.532399892807007, -5.125400066375732, -4.099999904632568, -4.525899887084961, -4.966300010681152, -4.912600040435791, -3.728300094604492, -4.239500045776367, -4.678800106048584, -4.906799793243408, -4.367800235748291, -4.88730001449585, -3.9112000465393066, -4.211900234222412, -4.242800235748291, -4.386099815368652, -4.733099937438965, -4.593699932098389, -4.602799892425537, -5.097899913787842, -5.042200088500977, -5.106900215148926, -5.0854997634887695, -5.356500148773193, -5.82420015335083, -6.027900218963623, -6.188799858093262, -6.2743000984191895, -6.219200134277344, -6.406700134277344, -6.303400039672852, -5.932300090789795, -6.518799781799316, -6.42080020904541, -6.667900085449219, -6.7245001792907715, -6.734099864959717, -6.564799785614014, -6.345200061798096, -6.282199859619141, -6.6778998374938965, -6.354700088500977, -5.725800037384033, -6.8597002029418945, -5.918799877166748, -6.154799938201904, -7.110899925231934, -6.8796000480651855, -6.753200054168701, -7.171899795532227, -5.244800090789795, -7.034800052642822, -5.72160005569458, -5.679599761962891, -2.525399923324585, -2.3703999519348145, -6.207399845123291, -4.3403000831604, -5.9446001052856445, -5.519199848175049, -4.97189998626709, -4.891300201416016, -5.394100189208984, -3.8671998977661133, -4.5879998207092285, -4.540299892425537, -5.082099914550781, -5.204800128936768, -6.104499816894531, -4.782899856567383, -4.337800025939941, -5.756100177764893, -5.064199924468994, -4.964300155639648, -5.275899887084961, -5.443900108337402, -5.618800163269043, -5.577899932861328, -4.426799774169922, -4.520400047302246, -4.744999885559082, -4.945300102233887, -5.51800012588501, -5.126699924468994, -5.201399803161621, -5.134099960327148, -5.1519999504089355, -5.386899948120117, -5.104499816894531, -5.067999839782715, -5.184299945831299, -5.344299793243408, -5.319499969482422, -5.28249979019165, -5.988699913024902, -6.18310022354126, -6.200699806213379, -6.378200054168701, -6.359899997711182, -5.576399803161621, -6.480500221252441, -2.260999917984009, -6.660399913787842, -6.134699821472168, -6.7546000480651855, -6.797900199890137, -5.8566999435424805, -6.247499942779541, -6.607900142669678, -4.155700206756592, -5.695700168609619, -7.441199779510498, -6.80620002746582, -5.672399997711182, -5.286200046539307, -5.389400005340576, -6.96120023727417, -6.117099761962891, -4.438399791717529, -4.314599990844727, -5.770899772644043, -6.926700115203857, -5.5370001792907715, -3.2555999755859375, -6.269199848175049, -5.045100212097168, -3.912400007247925, -5.404200077056885, -4.721700191497803, -5.277699947357178, -5.117199897766113, -4.517399787902832, -4.5019001960754395, -4.105400085449219, -4.501200199127197, -5.567299842834473, -4.714000225067139, -4.09499979019165, -4.462800025939941, -5.125199794769287, -4.18209981918335, -4.217599868774414, -4.157599925994873, -4.499499797821045, -4.920300006866455, -4.318900108337402, -4.5279998779296875, -4.570499897003174, -4.890200138092041, -4.938799858093262, -4.968400001525879, -4.772600173950195, -4.942399978637695, -4.8282999992370605, -5.002099990844727, -5.041299819946289, -5.935100078582764, -5.96560001373291, -6.007800102233887, -5.85260009765625, -6.306700229644775, -6.347599983215332, -6.407899856567383, -6.430699825286865, -6.399600028991699, -5.712100028991699, -5.736400127410889, -6.172900199890137, -6.179200172424316, -5.933800220489502, -7.005899906158447, -6.35099983215332, -4.444799900054932, -7.078499794006348, -5.874000072479248, -7.464600086212158, -6.327000141143799, -6.151700019836426, -7.05709981918335, -6.7230000495910645, -4.458499908447266, -5.6803998947143555, -5.03249979019165, -6.016200065612793, -5.446100234985352, -5.20989990234375, -3.276400089263916, -5.603499889373779, -5.1255998611450195, -5.415999889373779, -4.395500183105469, -5.541299819946289, -3.399600028991699, -4.9008002281188965, -4.274600028991699, -5.013000011444092, -3.9428000450134277, -3.454900026321411, -4.192399978637695, -4.751200199127197, -4.883999824523926, -5.420199871063232, -3.5418999195098877, -3.6338000297546387, -4.581999778747559, -4.9492998123168945, -4.325799942016602, -4.993899822235107, -4.328400135040283, -4.773799896240234, -4.2220001220703125, -4.661799907684326, -4.7779998779296875, -4.575399875640869, -4.4517998695373535, -5.007699966430664, -4.646999835968018, -4.780399799346924, -4.6757001876831055, -4.817599773406982, -4.988500118255615, -5.445899963378906, -5.749899864196777, -5.758500099182129, -6.189300060272217, -6.396399974822998, -6.3927998542785645, -6.479400157928467, -6.4430999755859375, -6.682000160217285, -6.5671000480651855, -6.029600143432617, -2.544300079345703, -6.284999847412109, -5.331299781799316, -5.575399875640869, -6.502099990844727, -5.657299995422363, -5.642300128936768, -6.321400165557861, -4.78249979019165, -5.86329984664917, -5.795599937438965, -6.373199939727783, -6.16540002822876, -5.102099895477295, -5.2382001876831055, -4.7494001388549805, -5.9054999351501465, -5.556300163269043, -6.714799880981445, -6.3856000900268555, -4.691100120544434, -3.8949999809265137, -4.138700008392334, -5.564199924468994, -3.1347999572753906, -5.257199764251709, -3.2945001125335693, -5.0945000648498535, -4.822000026702881, -4.315199851989746, -4.136099815368652, -4.095099925994873, -3.70169997215271, -4.702899932861328, -4.674099922180176, -3.890700101852417, -4.7778000831604, -4.758399963378906, -4.09660005569458, -4.173099994659424, -4.851600170135498, -4.4415998458862305, -4.580900192260742, -4.502799987792969, -4.695199966430664, -4.813600063323975, -4.742700099945068, -4.96150016784668, -4.8333001136779785, -4.884099960327148, -4.924200057983398, -4.91540002822876, -3.889699935913086, -4.809100151062012, -4.502200126647949, -5.38730001449585, -5.024499893188477, -5.559599876403809, -5.421999931335449, -3.750699996948242, -5.688000202178955, -5.554200172424316, -5.9019999504089355, -5.5843000411987305, -5.611800193786621, -5.717599868774414, -6.204599857330322, -6.21750020980835, -6.252399921417236, -5.7245001792907715, -6.383800029754639, -6.317999839782715, -5.55210018157959, -6.662700176239014, -6.223499774932861, -6.005099773406982, -5.082900047302246, -6.3429999351501465, -6.720799922943115, -6.039599895477295, -6.441500186920166, -6.789899826049805, -5.514699935913086, -5.76230001449585, -5.572500228881836, -5.696199893951416, -5.8557000160217285, -5.793099880218506, -2.6098999977111816, -4.154300212860107, -3.9398000240325928, -3.535099983215332, -4.000500202178955, -4.095099925994873, -5.319300174713135, -4.67140007019043, -4.360499858856201, -4.242000102996826, -5.0279998779296875, -4.124899864196777, -4.822800159454346, -4.462100028991699, -4.263700008392334, -4.865200042724609, -5.361700057983398, -4.708399772644043, -4.571499824523926, -5.173699855804443, -4.528299808502197, -4.646299839019775, -4.789599895477295, -4.911300182342529, -4.901100158691406, -5.008699893951416, -4.994200229644775, -5.0269999504089355, -5.810999870300293, -5.6350998878479, -5.922500133514404, -6.087800025939941, -6.163300037384033, -6.085899829864502, -6.1971001625061035, -3.9346001148223877, -6.216300010681152, -6.345399856567383, -4.941800117492676, -5.5706000328063965, -6.526100158691406, -5.990300178527832, -6.447999954223633, -5.751800060272217, -6.751699924468994, -5.434700012207031, -4.0229997634887695, -6.485599994659424, -6.8256001472473145, -6.40310001373291, -6.184100151062012, -5.684500217437744, -6.949399948120117, -6.672999858856201, -6.214399814605713, -5.854599952697754, -5.428800106048584, -5.272600173950195, -5.490600109100342, -3.503200054168701, -4.941100120544434, -4.1596999168396, -4.710400104522705, -4.838399887084961, -3.014400005340576, -3.7715001106262207, -5.485300064086914, -3.7441000938415527, -5.304299831390381, -5.1331000328063965, -4.224100112915039, -3.8691999912261963, -5.358799934387207, -4.603700160980225, -4.576200008392334, -5.014400005340576, -4.794400215148926, -4.770199775695801, -4.601200103759766, -5.092700004577637, -4.658599853515625, -3.9117000102996826, -4.6828999519348145, -4.796199798583984, -4.76170015335083, -4.4822001457214355, -4.290500164031982, -4.5432000160217285, -4.645999908447266, -4.821400165557861, -4.732699871063232, -4.746600151062012, -4.877900123596191, -4.883699893951416, -5.148099899291992, -5.708700180053711, -5.284800052642822, -4.932499885559082, -6.314199924468994, -5.521699905395508, -6.524199962615967, -5.354700088500977, -5.382500171661377, -6.90369987487793, -4.8902997970581055, -4.891300201416016, -5.832499980926514, -5.160200119018555, -5.52209997177124, -6.287799835205078, -6.028900146484375, -6.96999979019165, -5.846799850463867, -5.2221999168396, -5.274499893188477, -5.0721001625061035, -6.196400165557861, -5.989500045776367, -6.639900207519531, -4.564899921417236, -5.127299785614014, -5.044000148773193, -3.3466999530792236, -4.593699932098389, -4.026899814605713, -4.430799961090088, -5.228499889373779, -4.062900066375732, -4.440899848937988, -4.290599822998047, -4.53410005569458, -4.625699996948242, -4.027500152587891, -4.4842000007629395, -4.9558000564575195, -4.322500228881836, -3.9809999465942383, -3.657599925994873, -3.664099931716919, -3.777400016784668, -4.498899936676025, -3.983099937438965, -4.620699882507324, -4.055300235748291, -4.029600143432617, -4.6682000160217285, -4.304299831390381, -4.736499786376953, -4.901700019836426, -4.815499782562256, -5.274499893188477, -4.572400093078613, -5.68779993057251, -5.534599781036377, -5.704999923706055, -5.9421000480651855, -4.839700222015381, -6.3003997802734375, -6.167799949645996, -6.082099914550781, -6.186600208282471, -5.8607001304626465, -4.166100025177002, -5.915299892425537, -5.831200122833252, -4.907700061798096, -6.138400077819824, -5.94789981842041, -5.017600059509277, -4.713900089263916, -5.686999797821045, -5.599999904632568, -5.521500110626221, -6.323299884796143, -6.247099876403809, -6.143400192260742, -6.796899795532227, -5.85099983215332, -4.9710001945495605, -6.009500026702881, -5.434000015258789, -3.6726999282836914, -3.408099889755249, -5.1828999519348145, -5.102499961853027, -4.459700107574463, -5.15749979019165, -3.990000009536743, -4.471799850463867, -5.2947001457214355, -3.962599992752075, -5.054999828338623, -5.141300201416016, -3.937999963760376, -3.629499912261963, -4.445499897003174, -4.471099853515625, -4.610400199890137, -4.936600208282471, -3.90310001373291, -3.9742000102996826, -4.781000137329102, -3.9944000244140625, -4.219099998474121, -4.723299980163574, -4.62939977645874, -4.732600212097168, -4.588200092315674, -5.003699779510498, -4.957399845123291, -4.863699913024902, -4.9475998878479, -5.4120001792907715, -5.510499954223633, -4.138800144195557, -4.962299823760986, -5.677199840545654, -3.6133999824523926, -3.453000068664551, -4.313600063323975, -4.918099880218506, -5.985899925231934, -6.618800163269043, -5.780799865722656, -4.8119001388549805, -5.589099884033203, -5.231200218200684, -4.120500087738037, -6.759900093078613, -6.299900054931641, -5.551400184631348, -5.567699909210205, -3.2978999614715576, -4.932400226593018, -7.000800132751465, -7.21560001373291, -5.675899982452393, -4.999499797821045, -5.428999900817871, -4.104700088500977, -2.6375999450683594, -5.558899879455566, -2.4407999515533447, -4.069799900054932, -3.7172999382019043, -4.3003997802734375, -5.158100128173828, -4.907400131225586, -4.986299991607666, -3.738300085067749, -3.9175000190734863, -4.201499938964844, -4.58620023727417, -3.9256999492645264, -4.1921000480651855, -4.337500095367432, -4.39139986038208, -4.68209981918335, -4.814700126647949, -4.782800197601318, -4.820499897003174, -4.895999908447266, -5.096700191497803, -5.280700206756592, -5.382599830627441, -5.533199787139893, -5.715700149536133, -5.769599914550781, -6.001999855041504, -5.405700206756592, -6.408400058746338, -5.335299968719482, -6.650300025939941, -7.367300033569336, -5.372499942779541, -2.1052000522613525, -6.2769999504089355, -5.320199966430664, -6.561299800872803, -5.168399810791016, -5.438799858093262, -5.063600063323975, -5.879499912261963, -3.689300060272217, -3.588200092315674, -6.641900062561035, -2.5752999782562256, -5.811800003051758, -5.926199913024902, -5.194799900054932, -5.172599792480469, -6.268899917602539, -3.864300012588501, -4.003900051116943, -3.993299961090088, -2.9159998893737793, -4.7266998291015625, -3.8931000232696533, -4.863900184631348, -4.776800155639648, -4.22599983215332, -5.120100021362305, -4.074100017547607, -4.625100135803223, -4.34499979019165, -4.237800121307373, -4.149099826812744, -4.196700096130371, -4.654600143432617, -4.859899997711182, -5.024400234222412, -4.972799777984619, -4.690400123596191, -5.0370001792907715, -4.95989990234375, -5.106500148773193, -5.6707000732421875, -5.790200233459473, -5.345399856567383, -5.9593000411987305, -5.183700084686279, -6.3180999755859375, -6.468400001525879, -5.226500034332275, -2.8029000759124756, -4.706999778747559, -3.3090999126434326, -2.3194000720977783, -5.171999931335449, -3.5220000743865967, -5.410099983215332, -4.3856000900268555, -5.936999797821045, -5.986299991607666, -4.78980016708374, -5.887400150299072, -4.935699939727783, -6.641200065612793, -4.488500118255615, -6.028600215911865, -4.607600212097168, -6.4344000816345215, -4.372099876403809, -5.890399932861328, -4.70550012588501, -6.0630998611450195, -4.331200122833252, -4.005099773406982, -2.848400115966797, -4.316699981689453, -4.697800159454346, -4.11329984664917, -3.69320011138916, -4.462600231170654, -3.6977999210357666, -4.424200057983398, -4.093400001525879, -3.972100019454956, -4.611800193786621, -4.705999851226807, -4.481100082397461, -4.6585001945495605, -4.608399868011475, -4.795300006866455, -4.6057000160217285], \"loglift\": [30.0, 29.0, 28.0, 27.0, 26.0, 25.0, 24.0, 23.0, 22.0, 21.0, 20.0, 19.0, 18.0, 17.0, 16.0, 15.0, 14.0, 13.0, 12.0, 11.0, 10.0, 9.0, 8.0, 7.0, 6.0, 5.0, 4.0, 3.0, 2.0, 1.0, 1.8468999862670898, 1.8466999530792236, 1.8459999561309814, 1.8453999757766724, 1.844599962234497, 1.8351999521255493, 1.8351999521255493, 1.8345999717712402, 1.8344999551773071, 1.8330999612808228, 1.8293999433517456, 1.8285000324249268, 1.8257999420166016, 1.822100043296814, 1.819599986076355, 1.8162000179290771, 1.816100001335144, 1.812000036239624, 1.805799961090088, 1.7954000234603882, 1.791700005531311, 1.7867000102996826, 1.7776999473571777, 1.7704999446868896, 1.7519999742507935, 1.746999979019165, 1.7431999444961548, 1.732200026512146, 1.726199984550476, 1.7238999605178833, 1.6863000392913818, 1.604599952697754, 1.6095000505447388, 1.641800045967102, 1.4350999593734741, 1.5994999408721924, 1.503999948501587, 1.5003000497817993, 1.4049999713897705, 1.572100043296814, 1.131600022315979, 1.4399000406265259, 1.2197999954223633, 1.5749000310897827, 1.2644000053405762, 0.8295000195503235, 0.8349999785423279, 1.2486000061035156, 0.785099983215332, 0.9559999704360962, 1.162600040435791, 1.132599949836731, 0.5286999940872192, 0.7860000133514404, 0.989799976348877, 1.0773999691009521, 0.7335000038146973, 1.0485999584197998, 0.3154999911785126, 0.5072000026702881, 0.2948000133037567, 0.4260999858379364, 0.7214999794960022, 0.23669999837875366, -0.35580000281333923, 0.6438999772071838, 0.11209999769926071, 0.6194999814033508, -0.6114000082015991, 2.174799919128418, 2.168600082397461, 2.1624999046325684, 2.1582999229431152, 2.1563000679016113, 2.1542999744415283, 2.1514999866485596, 2.150599956512451, 2.149600028991699, 2.1468000411987305, 2.1445999145507812, 2.1382999420166016, 2.1368000507354736, 2.1305999755859375, 2.1261000633239746, 2.124500036239624, 2.11899995803833, 2.1166999340057373, 2.1159000396728516, 2.103100061416626, 2.100800037384033, 2.098299980163574, 2.0964999198913574, 2.084399938583374, 2.0731000900268555, 2.072000026702881, 2.06469988822937, 2.0618999004364014, 2.0573999881744385, 2.0527000427246094, 2.0490000247955322, 1.948699951171875, 1.8766000270843506, 2.0425000190734863, 1.929900050163269, 2.0209999084472656, 1.9285000562667847, 1.7587000131607056, 1.7230000495910645, 1.825700044631958, 1.3466999530792236, 1.5418000221252441, 1.4884999990463257, 1.6151000261306763, 1.6450999975204468, 1.98580002784729, 1.1033999919891357, 0.5527999997138977, 1.6847000122070312, 1.072700023651123, 0.9351999759674072, 1.2338000535964966, 1.340499997138977, 1.4742000102996826, 1.4226000308990479, -0.1696999967098236, -0.15299999713897705, 0.12950000166893005, 0.23929999768733978, 1.2802000045776367, 0.21610000729560852, 0.299699991941452, -0.03840000182390213, -0.1265999972820282, 0.7710999846458435, -0.3853999972343445, -0.692300021648407, -0.8986999988555908, 0.5058000087738037, 0.13510000705718994, -0.4702000021934509, 2.249300003051758, 2.2430999279022217, 2.2427000999450684, 2.2360000610351562, 2.2293999195098877, 2.229300022125244, 2.2283999919891357, 2.223900079727173, 2.2227001190185547, 2.2190001010894775, 2.217400074005127, 2.214900016784668, 2.2146999835968018, 2.206199884414673, 2.1900999546051025, 2.174299955368042, 2.1684999465942383, 2.1591999530792236, 2.1563000679016113, 2.133500099182129, 2.1328999996185303, 2.121500015258789, 2.0789999961853027, 2.058199882507324, 2.057499885559082, 2.047300100326538, 2.0360000133514404, 2.029099941253662, 2.013000011444092, 2.011399984359741, 1.9938000440597534, 1.8933000564575195, 1.7872999906539917, 1.9032000303268433, 1.7634999752044678, 1.8502999544143677, 1.7513999938964844, 1.5271999835968018, 1.3452999591827393, 1.1583000421524048, 1.2482999563217163, 1.7610000371932983, 1.2297999858856201, 0.8497999906539917, 0.9362999796867371, 1.2890000343322754, 0.30649998784065247, 0.14980000257492065, 0.06909999996423721, 0.3939000070095062, 0.9316999912261963, -0.0333000011742115, 0.30239999294281006, 0.30399999022483826, 0.6236000061035156, 0.7289999723434448, 0.7160999774932861, -0.05350000038743019, 0.5586000084877014, -0.01600000075995922, 0.1444000005722046, 0.7318999767303467, 2.3526999950408936, 2.351799964904785, 2.3505001068115234, 2.3492000102996826, 2.339600086212158, 2.3378000259399414, 2.335099935531616, 2.3341000080108643, 2.3299999237060547, 2.328200101852417, 2.3231000900268555, 2.2981998920440674, 2.2943999767303467, 2.2941999435424805, 2.2934999465942383, 2.29259991645813, 2.278599977493286, 2.26419997215271, 2.2636001110076904, 2.247999906539917, 2.2423999309539795, 2.2370998859405518, 2.22189998626709, 2.2197000980377197, 2.2090001106262207, 2.2079999446868896, 2.2011001110076904, 2.198699951171875, 2.196899890899658, 2.18179988861084, 2.1528000831604004, 2.172800064086914, 2.141400098800659, 2.1138999462127686, 2.0060999393463135, 2.1078999042510986, 1.6960999965667725, 1.9844000339508057, 1.8483999967575073, 1.9641000032424927, 1.5857000350952148, 1.430299997329712, 1.531000018119812, 1.7418999671936035, 1.6842000484466553, 1.8969999551773071, 0.7437999844551086, 0.623199999332428, 1.1445000171661377, 1.455199956893921, 0.8206999897956848, 1.4395999908447266, 0.5655999779701233, 1.0673999786376953, 0.3156999945640564, 0.8184000253677368, 0.9337000250816345, 0.23680000007152557, -0.22509999573230743, 1.080199956893921, 0.07209999859333038, 0.37389999628067017, -0.29989999532699585, 0.2079000025987625, 0.5131000280380249, 2.4621999263763428, 2.4549999237060547, 2.4547998905181885, 2.4398999214172363, 2.4305999279022217, 2.4286000728607178, 2.4261999130249023, 2.425100088119507, 2.4138998985290527, 2.404599905014038, 2.4000000953674316, 2.3929998874664307, 2.352299928665161, 2.3245999813079834, 2.320199966430664, 2.3164000511169434, 2.3129000663757324, 2.3060998916625977, 2.27839994430542, 2.2483999729156494, 2.2469000816345215, 2.2421998977661133, 2.2365000247955322, 2.227799892425537, 2.2139999866485596, 2.1875, 2.1851999759674072, 2.1851000785827637, 2.1837000846862793, 2.182800054550171, 2.1810998916625977, 2.1605000495910645, 2.055500030517578, 2.0190999507904053, 2.156899929046631, 1.7585999965667725, 2.101900100708008, 1.74399995803833, 2.0611000061035156, 1.9658000469207764, 1.823799967765808, 1.6370999813079834, 1.5894999504089355, 1.3996000289916992, 1.7829999923706055, 1.738700032234192, 1.0541000366210938, 1.4103000164031982, 1.2424999475479126, 0.27079999446868896, 0.08389999717473984, 1.0922000408172607, 0.04690000042319298, 0.3041999936103821, -0.12700000405311584, 0.13519999384880066, 0.45350000262260437, -0.023600000888109207, 0.885699987411499, 0.03709999844431877, 0.32989999651908875, 0.2603999972343445, -0.024700000882148743, 2.5009000301361084, 2.4976999759674072, 2.496500015258789, 2.4892001152038574, 2.4892001152038574, 2.487299919128418, 2.4872000217437744, 2.485300064086914, 2.482100009918213, 2.478100061416626, 2.477799892425537, 2.477799892425537, 2.474400043487549, 2.4677999019622803, 2.466399908065796, 2.4658000469207764, 2.4642999172210693, 2.4635000228881836, 2.4530999660491943, 2.4460999965667725, 2.4458000659942627, 2.441499948501587, 2.4351000785827637, 2.4335999488830566, 2.429500102996826, 2.4282000064849854, 2.4219000339508057, 2.419100046157837, 2.415299892425537, 2.414599895477295, 2.383500099182129, 2.385499954223633, 2.3759000301361084, 2.371500015258789, 2.3631999492645264, 2.3296000957489014, 1.6167999505996704, 1.954699993133545, 1.8020000457763672, 1.6193000078201294, 1.7595000267028809, 1.7107000350952148, 2.1556999683380127, 1.8380999565124512, 1.5390000343322754, 1.43340003490448, 1.8772000074386597, 0.9136000275611877, 1.5430999994277954, 1.100100040435791, 0.8375999927520752, 1.3854999542236328, 2.026599884033203, 0.7925999760627747, 0.24079999327659607, 1.5887000560760498, -0.03970000147819519, 0.22830000519752502, 0.10109999775886536, 0.2732999920845032, -0.6541000008583069, 0.025200000032782555, -0.618399977684021, -0.7414000034332275, 2.500699996948242, 2.5004000663757324, 2.4976999759674072, 2.4890999794006348, 2.4885001182556152, 2.487499952316284, 2.4870998859405518, 2.486299991607666, 2.4783999919891357, 2.4760000705718994, 2.4751999378204346, 2.4735000133514404, 2.469599962234497, 2.4677000045776367, 2.4646999835968018, 2.4618000984191895, 2.4551000595092773, 2.4523000717163086, 2.44569993019104, 2.4439001083374023, 2.4410998821258545, 2.4298999309539795, 2.428800106048584, 2.4223999977111816, 2.4214000701904297, 2.4137001037597656, 2.411900043487549, 2.3986001014709473, 2.3963000774383545, 2.3893001079559326, 2.386899948120117, 2.2985999584198, 2.335700035095215, 2.216200113296509, 2.2520999908447266, 2.2535998821258545, 1.9976999759674072, 2.047300100326538, 2.3138999938964844, 2.0211000442504883, 2.186199903488159, 2.126699924468994, 1.7755000591278076, 1.4737000465393066, 2.1393001079559326, 1.7412999868392944, 1.6943000555038452, 1.9234000444412231, 1.750599980354309, 1.7280999422073364, 1.5245000123977661, 1.9014999866485596, 1.4437999725341797, 0.45559999346733093, 1.167199969291687, 1.2331000566482544, 1.155400037765503, 0.5432000160217285, -0.004900000058114529, 0.26910001039505005, 0.3878999948501587, 0.9447000026702881, 0.15800000727176666, -0.3707999885082245, -0.0032999999821186066, -0.16459999978542328, 2.565500020980835, 2.5578999519348145, 2.5497000217437744, 2.549099922180176, 2.5336999893188477, 2.530400037765503, 2.521399974822998, 2.4944000244140625, 2.488100051879883, 2.487499952316284, 2.485300064086914, 2.4844000339508057, 2.483599901199341, 2.474600076675415, 2.474600076675415, 2.474299907684326, 2.4532999992370605, 2.4511001110076904, 2.4451000690460205, 2.4131999015808105, 2.4049999713897705, 2.398699998855591, 2.3819000720977783, 2.35479998588562, 2.3489999771118164, 2.3429999351501465, 2.2909998893737793, 2.275399923324585, 2.2611000537872314, 2.2298998832702637, 2.113300085067749, 2.081899881362915, 2.1916000843048096, 1.9610999822616577, 1.9982000589370728, 1.9399000406265259, 1.9757000207901, 1.9642000198364258, 1.722000002861023, 1.86080002784729, 2.0608999729156494, 1.7431000471115112, 1.5328999757766724, 1.2170000076293945, 1.1663000583648682, 1.1131999492645264, 1.6267999410629272, 1.0507999658584595, 1.715999960899353, 1.0911999940872192, 0.9825000166893005, 1.5185999870300293, 0.4147999882698059, 1.2892999649047852, 1.643399953842163, -0.32690000534057617, 2.7785000801086426, 2.7723000049591064, 2.76990008354187, 2.769200086593628, 2.766400098800659, 2.7597999572753906, 2.748199939727783, 2.7258999347686768, 2.722399950027466, 2.711199998855591, 2.7074999809265137, 2.7016000747680664, 2.681999921798706, 2.68179988861084, 2.678299903869629, 2.6584999561309814, 2.5604000091552734, 2.5485999584198, 2.5241000652313232, 2.5162999629974365, 2.507999897003174, 2.500499963760376, 2.4993999004364014, 2.4971001148223877, 2.4818999767303467, 2.464099884033203, 2.4403998851776123, 2.3989999294281006, 2.3907999992370605, 2.363600015640259, 2.3529999256134033, 2.226799964904785, 2.154099941253662, 2.288300037384033, 2.2572999000549316, 2.0550999641418457, 2.2179999351501465, 1.7699999809265137, 1.7785999774932861, 2.18969988822937, 1.3803000450134277, 2.0206000804901123, 2.0761001110076904, 1.1576999425888062, 0.9081000089645386, 1.3732999563217163, 1.3701000213623047, 1.4686000347137451, 1.7518999576568604, 0.32359999418258667, 0.4016000032424927, 1.4789999723434448, 0.2912999987602234, 0.6114000082015991, 1.3128999471664429, 0.8722000122070312, 1.125499963760376, 0.2240999937057495, 1.3894000053405762, 0.8087000250816345, -0.49639999866485596, -0.22849999368190765, 2.8852999210357666, 2.882200002670288, 2.8519999980926514, 2.8477001190185547, 2.842900037765503, 2.84089994430542, 2.814500093460083, 2.8078999519348145, 2.7880001068115234, 2.764899969100952, 2.746500015258789, 2.688699960708618, 2.685800075531006, 2.6554999351501465, 2.6493000984191895, 2.6424999237060547, 2.5608999729156494, 2.543299913406372, 2.539099931716919, 2.4296000003814697, 2.413800001144409, 2.409899950027466, 2.395699977874756, 2.370699882507324, 2.3436999320983887, 2.3017001152038574, 2.300299882888794, 2.235300064086914, 2.232800006866455, 2.229599952697754, 2.047800064086914, 1.955899953842163, 1.7838000059127808, 1.8969000577926636, 2.1189000606536865, 1.975600004196167, 1.9918999671936035, 1.2955000400543213, 1.3461999893188477, 1.4663000106811523, 1.6936999559402466, 0.3314000070095062, 0.620199978351593, 0.6072999835014343, 0.3276999890804291, 0.5318999886512756, 0.8607000112533569, 0.6718000173568726, 0.5785999894142151, -0.5202000141143799, 2.8993000984191895, 2.89490008354187, 2.8921000957489014, 2.884700059890747, 2.88070011138916, 2.8784000873565674, 2.85260009765625, 2.852099895477295, 2.790600061416626, 2.7643001079559326, 2.749799966812134, 2.7070000171661377, 2.689500093460083, 2.6477999687194824, 2.6259000301361084, 2.6033999919891357, 2.5492000579833984, 2.5423998832702637, 2.513400077819824, 2.484600067138672, 2.4547998905181885, 2.424499988555908, 2.346400022506714, 2.338399887084961, 2.318700075149536, 2.316499948501587, 2.280900001525879, 2.2720000743865967, 2.2379000186920166, 2.2012999057769775, 2.1366000175476074, 2.1142001152038574, 1.910099983215332, 1.340999960899353, 1.891800045967102, 1.3707000017166138, 1.840000033378601, 1.7480000257492065, 1.25600004196167, 1.8702000379562378, 0.9596999883651733, 1.3760000467300415, 1.0542000532150269, 0.6326000094413757, 0.3885999917984009, 0.29190000891685486, 1.1115000247955322, 1.544600009918213, 1.495300054550171, 1.2777999639511108, -0.31470000743865967, 1.204300045967102, -0.5924999713897705, 0.8294000029563904, 2.9163999557495117, 2.9072000980377197, 2.898699998855591, 2.8903000354766846, 2.8789000511169434, 2.8701999187469482, 2.86299991607666, 2.8375000953674316, 2.8345000743865967, 2.816999912261963, 2.810800075531006, 2.8092000484466553, 2.796999931335449, 2.773699998855591, 2.7674999237060547, 2.755199909210205, 2.732599973678589, 2.722899913787842, 2.7193000316619873, 2.6131999492645264, 2.5836000442504883, 2.560699939727783, 2.546999931335449, 2.5443999767303467, 2.515199899673462, 2.381700038909912, 2.3603999614715576, 2.346400022506714, 2.3366000652313232, 2.3134000301361084, 2.294100046157837, 2.2007999420166016, 1.6892999410629272, 1.9434000253677368, 1.9907000064849854, 1.6375999450683594, 1.2516000270843506, 1.6953999996185303, 1.176800012588501, 1.4620000123977661, 1.0911999940872192, 0.9212999939918518, 1.291599988937378, 1.4077999591827393, 0.40950000286102295, 0.7407000064849854, 0.5382000207901001, 0.8733000159263611, -0.32010000944137573]}, \"token.table\": {\"Topic\": [2, 1, 2, 4, 5, 7, 8, 10, 1, 4, 9, 11, 7, 4, 4, 5, 8, 9, 12, 1, 4, 1, 6, 11, 12, 5, 1, 2, 3, 4, 5, 6, 7, 8, 9, 10, 11, 12, 3, 4, 5, 6, 9, 11, 12, 1, 2, 3, 4, 5, 6, 7, 8, 9, 10, 11, 12, 1, 2, 3, 4, 5, 6, 7, 8, 9, 10, 11, 1, 3, 4, 5, 9, 1, 2, 3, 4, 5, 6, 7, 8, 9, 10, 11, 12, 2, 1, 7, 9, 11, 12, 2, 9, 11, 1, 2, 3, 4, 5, 6, 7, 8, 9, 11, 12, 11, 11, 2, 3, 4, 6, 8, 12, 6, 9, 2, 8, 11, 1, 5, 6, 7, 9, 1, 2, 3, 4, 5, 6, 7, 8, 9, 10, 11, 12, 1, 2, 3, 5, 6, 7, 8, 9, 10, 11, 12, 7, 1, 3, 4, 5, 6, 7, 8, 9, 10, 12, 4, 1, 2, 3, 4, 5, 6, 7, 8, 9, 10, 11, 12, 3, 5, 6, 7, 10, 1, 2, 3, 4, 5, 6, 7, 8, 9, 10, 11, 12, 1, 2, 3, 4, 5, 6, 7, 8, 9, 10, 11, 12, 5, 6, 11, 2, 2, 7, 3, 7, 8, 7, 4, 4, 1, 1, 2, 3, 5, 6, 7, 9, 1, 3, 11, 3, 4, 6, 7, 10, 12, 1, 2, 3, 4, 5, 6, 7, 8, 9, 10, 11, 12, 1, 2, 3, 4, 5, 6, 7, 8, 9, 10, 11, 12, 2, 6, 6, 6, 7, 9, 10, 2, 3, 5, 6, 7, 8, 9, 7, 9, 11, 7, 12, 1, 3, 6, 7, 12, 2, 3, 5, 6, 7, 9, 10, 3, 4, 7, 1, 2, 3, 4, 6, 7, 8, 9, 10, 12, 1, 2, 5, 6, 7, 8, 10, 12, 1, 2, 3, 4, 11, 1, 2, 3, 5, 7, 8, 9, 10, 11, 12, 3, 9, 5, 1, 2, 3, 8, 9, 11, 1, 2, 3, 4, 5, 6, 7, 9, 10, 11, 12, 6, 4, 7, 9, 1, 2, 3, 4, 5, 6, 7, 8, 9, 10, 11, 12, 7, 2, 3, 5, 6, 10, 7, 2, 3, 8, 11, 1, 3, 4, 11, 2, 2, 4, 6, 7, 8, 9, 1, 4, 6, 7, 4, 7, 1, 2, 3, 4, 6, 7, 8, 9, 10, 11, 7, 6, 2, 3, 5, 9, 11, 1, 2, 4, 6, 9, 1, 4, 9, 1, 2, 3, 4, 5, 6, 7, 8, 9, 10, 11, 12, 1, 2, 3, 4, 5, 6, 7, 8, 9, 11, 2, 8, 4, 5, 7, 1, 5, 6, 7, 9, 6, 1, 2, 4, 5, 6, 7, 10, 12, 11, 5, 8, 1, 2, 3, 4, 5, 6, 7, 8, 9, 10, 12, 2, 1, 2, 3, 4, 5, 6, 7, 8, 12, 1, 2, 3, 4, 5, 6, 7, 8, 9, 10, 11, 12, 4, 4, 6, 11, 1, 2, 3, 4, 6, 7, 8, 9, 11, 3, 7, 1, 2, 3, 5, 6, 7, 10, 7, 1, 2, 3, 4, 6, 7, 9, 10, 12, 1, 2, 4, 6, 9, 1, 2, 4, 6, 7, 8, 10, 11, 8, 12, 1, 3, 5, 6, 12, 2, 4, 5, 6, 10, 5, 7, 3, 1, 4, 10, 9, 1, 4, 10, 11, 1, 2, 4, 6, 7, 9, 11, 5, 11, 2, 1, 2, 3, 4, 5, 6, 7, 8, 9, 10, 11, 12, 1, 2, 3, 4, 5, 6, 7, 8, 9, 10, 11, 12, 1, 3, 4, 5, 6, 1, 2, 3, 4, 5, 7, 3, 2, 3, 7, 8, 1, 2, 8, 1, 2, 4, 5, 9, 4, 5, 7, 9, 10, 12, 1, 2, 2, 3, 4, 5, 6, 8, 9, 10, 11, 12, 2, 3, 4, 5, 6, 7, 8, 9, 10, 11, 12, 4, 7, 8, 9, 11, 1, 2, 3, 4, 5, 6, 8, 9, 11, 1, 2, 3, 4, 5, 6, 7, 9, 10, 11, 12, 4, 2, 6, 3, 8, 9, 2, 6, 3, 4, 6, 7, 8, 9, 11, 5, 1, 2, 3, 4, 5, 6, 7, 8, 9, 10, 11, 12, 8, 9, 10, 3, 4, 1, 2, 3, 4, 5, 6, 8, 9, 10, 1, 2, 3, 4, 5, 6, 7, 10, 11, 12, 1, 2, 3, 4, 5, 6, 7, 8, 9, 10, 11, 12, 1, 2, 3, 4, 5, 6, 7, 8, 9, 10, 11, 12, 8, 10, 2, 11, 12, 1, 4, 6, 10, 6, 7, 2, 3, 5, 6, 7, 8, 9, 11, 12, 1, 2, 3, 4, 5, 6, 7, 8, 9, 10, 11, 12, 1, 2, 3, 4, 5, 6, 7, 8, 9, 11, 1, 2, 3, 4, 6, 7, 10, 12, 1, 2, 3, 4, 6, 7, 8, 10, 11, 12, 2, 3, 4, 5, 6, 7, 8, 10, 11, 12, 1, 3, 4, 6, 7, 10, 11, 12, 3, 4, 5, 7, 8, 11, 12, 2, 3, 4, 5, 6, 7, 8, 9, 10, 11, 12, 5, 7, 11, 1, 2, 3, 4, 5, 6, 7, 8, 9, 10, 11, 12, 1, 3, 2, 8, 4, 4, 10, 3, 4, 5, 6, 7, 1, 2, 3, 4, 5, 6, 7, 8, 9, 10, 11, 3, 4, 5, 6, 9, 1, 4, 11, 1, 2, 3, 4, 5, 6, 7, 8, 9, 10, 11, 12, 4, 6, 5, 1, 3, 4, 5, 6, 7, 8, 9, 10, 11, 12, 1, 2, 3, 4, 5, 6, 7, 8, 9, 10, 11, 1, 2, 4, 5, 6, 7, 9, 11, 2, 3, 5, 6, 8, 12, 1, 3, 2, 5, 12, 3, 5, 6, 1, 2, 3, 5, 6, 7, 8, 9, 10, 11, 12, 3, 4, 1, 2, 3, 4, 5, 6, 7, 8, 9, 10, 11, 12, 1, 2, 3, 4, 5, 6, 7, 8, 10, 11, 1, 2, 6, 1, 4, 5, 9, 10, 1, 2, 3, 4, 5, 6, 7, 8, 9, 11, 12, 1, 2, 4, 6, 7, 8, 9, 10, 11, 1, 2, 3, 5, 6, 7, 8, 9, 10, 11, 1, 2, 3, 4, 5, 6, 7, 8, 10, 11, 12, 1, 2, 3, 4, 5, 6, 7, 8, 9, 10, 11, 12, 2, 12, 1, 2, 3, 4, 5, 6, 7, 8, 9, 10, 12, 1, 2, 3, 4, 5, 6, 10, 11, 1, 2, 3, 4, 5, 6, 7, 8, 9, 10, 11, 12, 2, 3, 4, 5, 6, 10, 5, 9, 9, 1, 2, 3, 4, 5, 6, 8, 9, 11, 12, 1, 3, 4, 5, 9, 12, 5, 6, 2, 6, 11, 1, 2, 4, 6, 7, 8, 9, 11, 12, 3, 11, 1, 2, 3, 4, 5, 6, 7, 8, 9, 10, 11, 12, 1, 2, 3, 4, 5, 6, 7, 8, 9, 11, 12, 2, 3, 4, 6, 7, 9, 11, 12, 4, 8, 9, 1, 2, 6, 7, 12, 1, 2, 3, 4, 5, 6, 8, 9, 11, 1, 2, 4, 5, 6, 7, 8, 9, 10, 11, 12, 2, 6, 4, 6, 11, 2, 6, 1, 3, 5, 10, 2, 3, 12, 1, 2, 4, 5, 6, 9, 10, 6, 9, 12, 6, 1, 2, 3, 4, 5, 6, 7, 8, 9, 11, 3, 6, 8, 9, 12, 1, 2, 3, 4, 6, 7, 8, 9, 10, 11, 4, 2, 10, 1, 2, 3, 5, 6, 9, 10, 6, 11, 4, 6, 8, 6, 1, 2, 4, 7, 9, 11, 3, 4, 1, 6, 11, 1, 9, 12, 7, 12, 9, 12, 2, 2, 6, 7, 8, 11, 1, 7, 6, 2, 12, 1, 2, 3, 4, 5, 6, 7, 8, 9, 10, 11, 12, 4, 6, 7, 9, 11, 12, 1, 3, 5, 6, 7, 9, 11, 12, 1, 1, 2, 3, 4, 5, 6, 7, 8, 9, 10, 11, 12, 2, 6, 2, 3, 4, 7, 8, 9, 11, 2, 6, 1, 2, 3, 4, 5, 6, 7, 8, 9, 10, 6, 2, 6, 11, 6, 9, 1, 2, 3, 4, 5, 6, 7, 9, 10, 11, 1, 2, 3, 4, 5, 6, 7, 8, 9, 10, 11, 12, 2, 3, 5, 1, 3, 2, 6, 1, 2, 3, 4, 6, 7, 9, 10, 11, 12, 1, 2, 3, 4, 5, 6, 7, 8, 11, 1, 2, 3, 4, 5, 6, 7, 8, 9, 10, 11, 12, 4, 5, 11, 7, 11, 2, 3, 4, 5, 6, 8, 10, 11, 12, 2, 8, 9, 11, 1, 2, 3, 4, 5, 6, 7, 8, 9, 10, 11, 12, 7, 1, 2, 3, 4, 6, 7, 8, 9, 10, 11, 12, 1, 2, 3, 4, 5, 6, 7, 9, 10, 11, 12, 2, 12, 6, 3, 1, 2, 3, 4, 5, 6, 7, 8, 9, 10, 11, 12, 2, 5, 7, 1, 2, 3, 4, 5, 6, 7, 8, 9, 10, 11, 12, 1, 2, 3, 4, 5, 6, 7, 8, 9, 11, 12, 9, 1, 2, 3, 4, 6, 7, 8, 9, 10, 11, 12, 1, 2, 3, 4, 5, 7, 8, 9, 10, 11, 2, 4, 9, 1, 4, 5, 10, 5, 8, 1, 2, 3, 6, 8, 9, 11, 12, 7, 6, 2, 3, 5, 7, 11, 3, 9, 10, 1, 4, 10, 1, 5, 7, 9, 4, 10, 12, 1, 1, 3, 5, 6, 7, 9, 3, 10, 1, 2, 3, 5, 7, 8, 9, 2, 3, 4, 5, 6, 7, 8, 9, 10, 11, 12, 1, 2, 3, 4, 5, 6, 7, 8, 9, 10, 11, 12, 3, 7, 1, 2, 3, 4, 5, 6, 7, 8, 9, 10, 11, 12, 1, 2, 3, 4, 5, 6, 7, 8, 9, 11, 12, 1, 2, 3, 4, 5, 6, 7, 8, 9, 10, 11, 12, 6, 7, 1, 12, 5, 9, 1, 2, 3, 5, 6, 7, 8, 9, 1, 2, 6, 8, 11, 1, 2, 4, 5, 6, 7, 8, 9, 10, 11, 1, 2, 3, 4, 5, 6, 7, 8, 9, 10, 11, 12, 2, 3, 6, 8, 10, 1, 2, 3, 4, 5, 6, 7, 8, 9, 10, 11, 12, 3, 4, 5, 7, 8, 10, 2, 3, 4, 7, 9, 10, 11, 12, 2, 6, 9, 3, 5, 9, 5, 6, 7, 9, 1, 2, 3, 4, 5, 6, 7, 8, 9, 10, 11, 12, 2, 1, 2, 3, 4, 5, 6, 7, 8, 9, 10, 11, 12, 1, 2, 3, 4, 5, 6, 7, 8, 9, 10, 11, 12, 1, 2, 3, 4, 5, 6, 7, 9, 11, 8, 6, 1, 2, 3, 4, 5, 6, 7, 8, 9, 10, 11, 12, 6, 11, 2, 3, 8, 11, 1, 2, 3, 4, 5, 6, 7, 8, 9, 10, 11, 12, 1, 3, 2, 4, 5, 6, 7, 8, 11, 6, 10, 4, 7, 3, 9, 8, 6, 8, 4, 1, 2, 3, 4, 5, 6, 7, 8, 10, 12, 1, 2, 3, 4, 5, 6, 7, 8, 9, 10, 11, 12, 2, 7, 11, 12, 3, 7, 1, 2, 3, 4, 5, 6, 7, 8, 9, 10, 11, 12, 1, 2, 5, 6, 7, 9, 12, 2, 3, 4, 6, 9, 12, 3, 4, 9, 3, 5, 10, 11, 2, 6, 12, 1, 2, 3, 4, 5, 6, 7, 8, 9, 10, 11, 12, 3, 4, 8, 10, 3, 2, 4, 6, 12, 8, 9, 1, 2, 1, 2, 2, 7, 6, 2, 9, 1, 2, 3, 4, 5, 6, 7, 8, 9, 10, 11, 12, 9, 10, 1, 2, 12, 1, 2, 3, 6, 7, 8, 5, 1, 4, 2, 3, 4, 7, 9, 7, 1, 2, 4, 5, 1, 2, 3, 5, 6, 8, 9, 10, 12, 2, 8, 9, 10, 1, 2, 3, 4, 5, 6, 7, 8, 9, 10, 11, 12, 1, 2, 4, 5, 6, 7, 9, 10, 11, 12, 1, 1, 2, 3, 6, 7, 8, 9, 1, 2, 4, 5, 6, 10, 1, 2, 4, 7, 1, 2, 3, 4, 5, 6, 7, 8, 9, 10, 11, 12, 3, 6, 10, 1, 2, 3, 4, 5, 6, 7, 8, 9, 10, 11, 12, 5, 1, 2, 3, 4, 5, 6, 7, 8, 9, 10, 11, 12, 1, 2, 3, 4, 5, 6, 7, 9, 10, 11, 12, 1, 5, 10, 1, 4, 5, 6, 7, 9, 10, 11, 12, 2, 4, 10, 1, 2, 3, 4, 7, 9, 10, 1, 2, 3, 4, 5, 6, 7, 8, 9, 10, 11, 12, 3, 6, 7, 8, 10, 11, 10, 1, 2, 3, 4, 5, 6, 7, 9, 10, 11, 12, 1, 2, 9, 1, 2, 3, 4, 5, 6, 7, 8, 9, 10, 11, 12, 6, 2, 5, 6, 7, 11, 1, 2, 3, 5, 6, 8, 9, 10, 12, 1, 2, 3, 4, 5, 6, 7, 8, 9, 10, 11, 12, 1, 8, 9, 6, 6, 12, 7, 3, 6, 1, 1, 2, 3, 4, 5, 6, 7, 8, 9, 10, 11, 12, 1, 2, 3, 6, 7, 8, 9, 10, 11, 4, 5, 10, 1, 2, 3, 4, 5, 6, 7, 8, 9, 10, 11, 12, 6, 7, 8, 9, 10, 1, 7, 8, 10, 1, 2, 3, 4, 5, 6, 7, 8, 9, 10, 12, 1, 6, 3, 6, 1, 2, 4, 6, 7, 9, 10, 12, 1, 4, 5, 6, 7, 8, 9, 10, 12, 4, 7, 1, 4, 1, 3, 6, 2, 5, 1, 2, 3, 4, 5, 6, 7, 8, 9, 10, 11, 12, 1, 2, 4, 10, 12, 2, 3, 5, 6, 2, 3, 4, 5, 7, 11, 12, 1, 9, 11, 1, 5, 7, 9, 1, 2, 6, 7, 8, 10, 11, 1, 5, 1, 3, 4, 6, 10, 11, 1, 2, 3, 4, 5, 6, 7, 8, 9, 10, 11, 12, 2, 6, 1, 2, 4, 5, 6, 7, 8, 9, 10, 6, 2, 9, 1, 2, 3, 4, 5, 6, 7, 8, 9, 11, 12, 1, 3, 5, 9, 8, 4, 8, 11, 9, 2, 5, 8, 9, 10, 8, 12, 2, 1, 2, 4, 5, 6, 7, 8, 9, 10, 11, 12, 1, 2, 3, 4, 5, 7, 8, 9, 10, 1, 2, 6, 7, 2, 8, 3, 1, 2, 4, 6, 7, 9, 10, 11, 12, 7, 1, 2, 3, 4, 6, 7, 8, 10, 11, 12, 1, 2, 3, 4, 5, 6, 7, 9, 11, 12, 1, 2, 3, 4, 5, 6, 7, 8, 9, 11, 3, 4, 5, 12, 2, 7, 1, 2, 3, 4, 5, 6, 7, 9, 10, 11, 6, 9, 12, 1, 4, 7, 9, 10, 11, 2, 3, 4, 5, 6, 8, 10, 12, 4, 1, 2, 3, 5, 6, 9, 10, 11, 12, 1, 5, 8, 9, 12, 5, 7, 10, 1, 5, 8, 9, 1, 2, 3, 4, 5, 6, 7, 8, 9, 10, 11, 12, 3, 5, 9, 2, 3, 4, 6, 7, 11, 1, 2, 3, 4, 5, 6, 7, 8, 9, 10, 11, 12, 3, 5, 10, 4, 5, 1, 2, 3, 4, 6, 7, 8, 9, 10, 12, 11, 1, 3, 5, 6, 7, 8, 10, 12, 1, 2, 4, 6, 7, 8, 11, 3, 8, 2, 1, 3, 4, 5, 6, 7, 9, 12, 1, 2, 3, 4, 6, 7, 8, 9, 12, 7, 1, 2, 3, 4, 5, 6, 7, 9, 10, 11, 12, 1, 2, 3, 4, 5, 6, 7, 8, 10, 11, 1, 2, 3, 4, 5, 6, 8, 9, 11, 1, 7, 9, 12, 12, 1, 2, 4, 6, 10, 11, 1, 2, 3, 6, 7, 9, 10, 12, 2, 3, 4, 5, 6, 10, 11, 12, 4, 11, 1, 2, 3, 4, 5, 6, 7, 8, 9, 10, 11, 12, 2, 4, 9, 1, 2, 3, 5, 6, 7, 9, 12, 2, 3, 4, 5, 6, 9, 10, 11, 1, 2, 3, 4, 5, 6, 7, 8, 9, 10, 11, 12, 2, 7, 11, 1, 4, 1, 5, 4, 5, 7, 10, 6, 7, 1, 2, 3, 4, 5, 6, 9, 10, 11, 5, 1, 2, 8, 1, 2, 3, 4, 5, 6, 7, 8, 9, 10, 11, 12, 2, 6, 7, 9, 10, 1, 2, 3, 4, 5, 6, 7, 8, 9, 10, 11, 1, 9, 7, 1, 2, 3, 4, 5, 6, 7, 8, 9, 10, 11, 12, 11, 6, 7, 8, 12, 1, 2, 3, 4, 5, 6, 7, 9, 10, 1, 2, 6, 7, 8, 9, 10, 9, 2, 3, 1, 2, 3, 4, 5, 6, 7, 8, 9, 10, 11, 12, 1, 2, 4, 5, 2, 5, 7, 10, 1, 2, 3, 4, 5, 6, 7, 8, 9, 10, 3, 7, 9, 1, 2, 3, 4, 5, 6, 7, 8, 9, 10, 11, 12, 3, 10, 2, 3, 5, 6, 9, 2, 6, 9, 10, 2, 3, 4, 7, 8, 10, 11, 12, 1, 4, 2, 6, 8, 10, 1, 2, 3, 4, 5, 6, 7, 8, 9, 1, 5, 7, 8, 9, 10, 2, 5, 6, 7, 5, 4, 9, 1, 2, 3, 4, 5, 6, 7, 8, 9, 10, 11, 12, 1, 2, 3, 7, 9, 1, 4, 10, 12, 11, 1, 2, 3, 4, 5, 6, 7, 8, 9, 10, 11, 1, 2, 3, 4, 6, 7, 12, 2, 7, 1, 7, 10, 1, 2, 3, 4, 5, 6, 7, 9, 10, 11, 3, 5, 8, 3, 4, 10, 1, 2, 3, 8, 10, 1, 2, 3, 4, 5, 6, 7, 9, 10, 11, 12, 4, 12, 2, 4, 9, 11, 12, 7, 1, 2, 3, 4, 5, 6, 7, 8, 9, 10, 11, 12, 1, 2, 3, 4, 5, 6, 7, 9, 10, 11, 7, 11, 8, 10, 11, 12, 4, 5, 1, 2, 3, 4, 5, 6, 9, 10, 6, 1, 3, 5, 6, 7, 10, 4, 7, 2], \"Freq\": [0.9442289471626282, 0.21264566481113434, 0.04907207563519478, 0.08996547758579254, 0.008178679272532463, 0.5479715466499329, 0.08178679645061493, 0.008178679272532463, 0.05430039390921593, 0.8959565162658691, 0.027150196954607964, 0.027150196954607964, 0.9752647280693054, 0.954366147518158, 0.965808629989624, 0.03937944769859314, 0.03937944769859314, 0.8663478493690491, 0.03937944769859314, 0.8900228142738342, 0.04944571107625961, 0.9582300186157227, 0.23610270023345947, 0.07870090007781982, 0.7083081007003784, 0.9764733910560608, 0.25438565015792847, 0.07649359107017517, 0.09695117920637131, 0.099619559943676, 0.08183035254478455, 0.030241651460528374, 0.06759898364543915, 0.1138509213924408, 0.04803085699677467, 0.07560412585735321, 0.010673523880541325, 0.04625193774700165, 0.09038138389587402, 0.04734262824058533, 0.004303875379264355, 0.004303875379264355, 0.00860775075852871, 0.004303875379264355, 0.8306479454040527, 0.3360304534435272, 0.02310209348797798, 0.01785161718726158, 0.3853849172592163, 0.11341027170419693, 0.005250475835055113, 0.03780342638492584, 0.014701331965625286, 0.010500951670110226, 0.01680152118206024, 0.029402663931250572, 0.00840076059103012, 0.026062114164233208, 0.28378745913505554, 0.1245189905166626, 0.11872740834951401, 0.002895790385082364, 0.3793485462665558, 0.023166323080658913, 0.008687371388077736, 0.008687371388077736, 0.005791580770164728, 0.020270533859729767, 0.15388533473014832, 0.7386496067047119, 0.030777066946029663, 0.030777066946029663, 0.030777066946029663, 0.22223307192325592, 0.1504347026348114, 0.003418970387428999, 0.044446613639593124, 0.017094852402806282, 0.030770733952522278, 0.07179837673902512, 0.4307902753353119, 0.006837940774857998, 0.003418970387428999, 0.01025691069662571, 0.006837940774857998, 0.9866201877593994, 0.3411601781845093, 0.07872927188873291, 0.013121546246111393, 0.4986187517642975, 0.039364635944366455, 0.05836024880409241, 0.11672049760818481, 0.7586832642555237, 0.2606739401817322, 0.32676029205322266, 0.06608635187149048, 0.003671464044600725, 0.00734292808920145, 0.00734292808920145, 0.05140049755573273, 0.15787295997142792, 0.09912952780723572, 0.011014391668140888, 0.003671464044600725, 0.9653103351593018, 0.9449375867843628, 0.21373578906059265, 0.07916140556335449, 0.007916140370070934, 0.5303813815116882, 0.1662389487028122, 0.007916140370070934, 0.9685359001159668, 0.9547288417816162, 0.17222099006175995, 0.6756361722946167, 0.13247768580913544, 0.6925539374351501, 0.006353706121444702, 0.02541482448577881, 0.13978153467178345, 0.13342782855033875, 0.07257863134145737, 0.06451433897018433, 0.01612858474254608, 0.07257863134145737, 0.00403214618563652, 0.01612858474254608, 0.14918941259384155, 0.5241789817810059, 0.020160730928182602, 0.036289315670728683, 0.00403214618563652, 0.01612858474254608, 0.041671279817819595, 0.009616449475288391, 0.2115618884563446, 0.10898642987012863, 0.08334255963563919, 0.025643864646553993, 0.19873996078968048, 0.032054830342531204, 0.032054830342531204, 0.21476736664772034, 0.038465797901153564, 0.9318320751190186, 0.004018723499029875, 0.08037447184324265, 0.0013395745772868395, 0.0013395745772868395, 0.005358298309147358, 0.0013395745772868395, 0.00803744699805975, 0.010716596618294716, 0.026791490614414215, 0.8626859784126282, 0.981808066368103, 0.08728470653295517, 0.043642353266477585, 0.11865264922380447, 0.21002882719039917, 0.05046147108078003, 0.03273176774382591, 0.031367942690849304, 0.22366707026958466, 0.0231850016862154, 0.04500617831945419, 0.04500617831945419, 0.08864853531122208, 0.08339475095272064, 0.750552773475647, 0.04169737547636032, 0.12509213387966156, 0.04169737547636032, 0.02106967382133007, 0.019313868135213852, 0.261615127325058, 0.005267418455332518, 0.08252289146184921, 0.09305772930383682, 0.04038354381918907, 0.1000809520483017, 0.017558062449097633, 0.09656934440135956, 0.15451094508171082, 0.10885998606681824, 0.03864365816116333, 0.05612531304359436, 0.0036803483963012695, 0.014721393585205078, 0.033123135566711426, 0.016561567783355713, 0.009200870990753174, 0.004600435495376587, 0.02760261297225952, 0.02760261297225952, 0.7609120011329651, 0.008280783891677856, 0.9737008810043335, 0.9422136545181274, 0.02855192869901657, 0.9686174392700195, 0.042263295501470566, 0.9297924637794495, 0.9782705903053284, 0.8838215470314026, 0.09142981469631195, 0.9534614682197571, 0.9482477903366089, 0.9450581073760986, 0.9589022397994995, 0.7388144731521606, 0.0795646384358406, 0.022732753306627274, 0.011366376653313637, 0.011366376653313637, 0.04546550661325455, 0.06819826364517212, 0.9689620733261108, 0.017302893102169037, 0.9702112674713135, 0.01891707256436348, 0.8134341239929199, 0.01891707256436348, 0.05675121769309044, 0.03783414512872696, 0.05675121769309044, 0.001106412266381085, 0.003319236682727933, 0.03872442618012428, 0.00221282453276217, 0.9138965010643005, 0.01659618318080902, 0.003319236682727933, 0.009957710281014442, 0.00221282453276217, 0.00221282453276217, 0.001106412266381085, 0.003319236682727933, 0.056899916380643845, 0.43039682507514954, 0.0846203863620758, 0.016048694029450417, 0.11671777814626694, 0.04376916587352753, 0.00875383336097002, 0.036474306136369705, 0.0423101931810379, 0.09191524982452393, 0.005835888907313347, 0.06565374881029129, 0.05572942644357681, 0.891670823097229, 0.9746332764625549, 0.10123232752084732, 0.8604747653007507, 0.01687205396592617, 0.01687205396592617, 0.0413825660943985, 0.7954649329185486, 0.1103535145521164, 0.018392251804471016, 0.004598062951117754, 0.01379418931901455, 0.009196125902235508, 0.9236449003219604, 0.21547025442123413, 0.7182341814041138, 0.10089434683322906, 0.8828255534172058, 0.3729782700538635, 0.006660326384007931, 0.019980980083346367, 0.039961960166692734, 0.552807092666626, 0.25266116857528687, 0.01804722473025322, 0.05414167791604996, 0.01804722473025322, 0.05414167791604996, 0.05414167791604996, 0.5414167642593384, 0.857358992099762, 0.07794172316789627, 0.038970861583948135, 0.12111184000968933, 0.006374307442456484, 0.006374307442456484, 0.07649169117212296, 0.006374307442456484, 0.025497229769825935, 0.012748614884912968, 0.3505868911743164, 0.012748614884912968, 0.3824584484100342, 0.1030101329088211, 0.048071395605802536, 0.006867342162877321, 0.006867342162877321, 0.061806079000234604, 0.006867342162877321, 0.762274980545044, 0.006867342162877321, 0.16658423840999603, 0.1527022123336792, 0.12493817508220673, 0.027764039114117622, 0.5275167226791382, 0.005205135326832533, 0.010410270653665066, 0.1509489268064499, 0.49448785185813904, 0.005205135326832533, 0.10930784046649933, 0.010410270653665066, 0.04164108261466026, 0.005205135326832533, 0.17176946997642517, 0.8672325611114502, 0.06194518506526947, 0.9582735896110535, 0.06314041465520859, 0.42795172333717346, 0.0350780114531517, 0.3998893201351166, 0.06314041465520859, 0.007015601731836796, 0.26000383496284485, 0.09413931518793106, 0.03530224412679672, 0.17202839255332947, 0.0907771959900856, 0.03194012492895126, 0.018491651862859726, 0.008405296131968498, 0.07564766705036163, 0.20564958453178406, 0.007284590043127537, 0.9719805121421814, 0.015668224543333054, 0.015668224543333054, 0.9400933980941772, 0.08346038311719894, 0.013115203008055687, 0.005961455870419741, 0.04053789749741554, 0.007153746671974659, 0.01788436807692051, 0.5866072177886963, 0.20149719715118408, 0.02026894874870777, 0.005961455870419741, 0.01669207587838173, 0.0023845823016017675, 0.9654686450958252, 0.16919779777526855, 0.5921922922134399, 0.08459889888763428, 0.08459889888763428, 0.048342227935791016, 0.9694450497627258, 0.025342611595988274, 0.012671305797994137, 0.8996627330780029, 0.038013916462659836, 0.043838441371917725, 0.1753537654876709, 0.021919220685958862, 0.7233343124389648, 0.9381855130195618, 0.09940201789140701, 0.005522334482520819, 0.01656700298190117, 0.45835375785827637, 0.38656342029571533, 0.022089337930083275, 0.30623894929885864, 0.6550111174583435, 0.017013275995850563, 0.008506637997925282, 0.9212830066680908, 0.05943761020898819, 0.012342525646090508, 0.16045282781124115, 0.0041141752153635025, 0.008228350430727005, 0.32501983642578125, 0.18513788282871246, 0.09051185101270676, 0.008228350430727005, 0.012342525646090508, 0.19336622953414917, 0.9117334485054016, 0.9371180534362793, 0.9509519338607788, 0.11301558464765549, 0.056507792323827744, 0.5368240475654602, 0.2825389504432678, 0.0528019443154335, 0.006600243039429188, 0.9042333364486694, 0.006600243039429188, 0.02640097215771675, 0.13192743062973022, 0.8355403542518616, 0.021987903863191605, 0.21037280559539795, 0.00652318773791194, 0.10980699211359024, 0.07392945885658264, 0.022831156849861145, 0.408786416053772, 0.02554915100336075, 0.01685156859457493, 0.08371423929929733, 0.01848236471414566, 0.01902596466243267, 0.004348791670054197, 0.008267010562121868, 0.0062002576887607574, 0.004133505281060934, 0.12813866138458252, 0.004133505281060934, 0.24387679994106293, 0.008267010562121868, 0.004133505281060934, 0.5208216309547424, 0.07026958465576172, 0.9731594324111938, 0.9510424733161926, 0.07371547073125839, 0.7862983345985413, 0.09828729182481766, 0.025900879874825478, 0.7511255145072937, 0.025900879874825478, 0.025900879874825478, 0.15540528297424316, 0.9279280304908752, 0.011968040838837624, 0.01795206218957901, 0.011968040838837624, 0.047872163355350494, 0.3111690580844879, 0.029920103028416634, 0.047872163355350494, 0.5146257877349854, 0.9499080777168274, 0.858198344707489, 0.05363739654421806, 0.16286255419254303, 0.0658380538225174, 0.07969869673252106, 0.06930321455001831, 0.08662901818752289, 0.07969869673252106, 0.0658380538225174, 0.09355933219194412, 0.2633522152900696, 0.006930320989340544, 0.027721283957362175, 0.9536564350128174, 0.15649300813674927, 0.4054591655731201, 0.007113318424671888, 0.2347395122051239, 0.09247314184904099, 0.042679913341999054, 0.007113318424671888, 0.05690654739737511, 0.007113318424671888, 0.01647689752280712, 0.49430689215660095, 0.0461353100836277, 0.01647689752280712, 0.08897524327039719, 0.10215675830841064, 0.03624917194247246, 0.16476896405220032, 0.006590758915990591, 0.01647689752280712, 0.0032953794579952955, 0.006590758915990591, 0.9780665636062622, 0.8278477787971497, 0.0993417277932167, 0.04967086389660835, 0.04092029854655266, 0.016368119046092033, 0.6792770028114319, 0.008184059523046017, 0.024552179500460625, 0.06547247618436813, 0.09002465754747391, 0.06547247618436813, 0.008184059523046017, 0.888198971748352, 0.08262316137552261, 0.27251896262168884, 0.05961351841688156, 0.06812974065542221, 0.04258108511567116, 0.10219460725784302, 0.05109730362892151, 0.4002622067928314, 0.9478973746299744, 0.18884094059467316, 0.17205508053302765, 0.004196465481072664, 0.008392930962145329, 0.07553637772798538, 0.4322359561920166, 0.03776818886399269, 0.004196465481072664, 0.07973284274339676, 0.08748944848775864, 0.1999758780002594, 0.03749547526240349, 0.012498492375016212, 0.6624200940132141, 0.24240991473197937, 0.13701429963111877, 0.00526978075504303, 0.01580934226512909, 0.4479313790798187, 0.06323736906051636, 0.00526978075504303, 0.07377693057060242, 0.14129184186458588, 0.8194926381111145, 0.9622024297714233, 0.18036819994449615, 0.04509204998612404, 0.10822091996669769, 0.6673623323440552, 0.008152756839990616, 0.01630551367998123, 0.7419008612632751, 0.22012443840503693, 0.008152756839990616, 0.04366996884346008, 0.9170693159103394, 0.9380714893341064, 0.09064913541078568, 0.12086550891399384, 0.7856258153915405, 0.9476473331451416, 0.03783633932471275, 0.11350901424884796, 0.7945631146430969, 0.03783633932471275, 0.24399828910827637, 0.019137121737003326, 0.6841520667076111, 0.009568560868501663, 0.019137121737003326, 0.009568560868501663, 0.004784280434250832, 0.07846871018409729, 0.8631557822227478, 0.966718852519989, 0.20228815078735352, 0.009725391864776611, 0.12837517261505127, 0.15366119146347046, 0.12059485912322998, 0.021395862102508545, 0.1050342321395874, 0.0525171160697937, 0.14393579959869385, 0.009725391864776611, 0.0019450783729553223, 0.05057203769683838, 0.5197756886482239, 0.03236698359251022, 0.08758125454187393, 0.2094334363937378, 0.017135461792349815, 0.013327581807971, 0.0780615508556366, 0.009519700892269611, 0.015231521800160408, 0.005711820907890797, 0.007615760900080204, 0.003807880450040102, 0.9506338834762573, 0.022634141147136688, 0.022634141147136688, 0.7641396522521973, 0.21491427719593048, 0.05935695022344589, 0.1681780219078064, 0.6529264450073242, 0.03957130014896393, 0.05935695022344589, 0.009892825037240982, 0.9726699590682983, 0.17968395352363586, 0.05989464744925499, 0.011978929862380028, 0.730714738368988, 0.023581696674227715, 0.04716339334845543, 0.8961044549942017, 0.03066277876496315, 0.03066277876496315, 0.045994166284799576, 0.015331389382481575, 0.8585577607154846, 0.4326716661453247, 0.010816792026162148, 0.04326716810464859, 0.4867556393146515, 0.010816792026162148, 0.010816792026162148, 0.9694395661354065, 0.9273731708526611, 0.003749055787920952, 0.11622072756290436, 0.003749055787920952, 0.6298413872718811, 0.003749055787920952, 0.07498111575841904, 0.15371128916740417, 0.003749055787920952, 0.003749055787920952, 0.007498111575841904, 0.0036795586347579956, 0.13246411085128784, 0.014718234539031982, 0.5188177824020386, 0.10670720040798187, 0.018397793173789978, 0.1655801385641098, 0.0036795586347579956, 0.03311602771282196, 0.0036795586347579956, 0.0036795586347579956, 0.03785998001694679, 0.07571996003389359, 0.18929989635944366, 0.18929989635944366, 0.4921797513961792, 0.03550898656249046, 0.04734531417489052, 0.6865070462226868, 0.03550898656249046, 0.04734531417489052, 0.07101797312498093, 0.03550898656249046, 0.02367265708744526, 0.01183632854372263, 0.41379037499427795, 0.10804526507854462, 0.07816040515899658, 0.020689519122242928, 0.04827554523944855, 0.06896506249904633, 0.057470884174108505, 0.020689519122242928, 0.0160918477922678, 0.03908020257949829, 0.12413711100816727, 0.9749611616134644, 0.8027724027633667, 0.15537530183792114, 0.04069138318300247, 0.9155561327934265, 0.020345691591501236, 0.9090473651885986, 0.037876974791288376, 0.025666313245892525, 0.07699894160032272, 0.6159915328025818, 0.05133262649178505, 0.05133262649178505, 0.08983209729194641, 0.07699894160032272, 0.9378361701965332, 0.16997748613357544, 0.1010676920413971, 0.2136203497648239, 0.00918797217309475, 0.036751888692379, 0.08039475977420807, 0.03445489704608917, 0.0229699295014143, 0.0022969930432736874, 0.23429329693317413, 0.0643158033490181, 0.029860910028219223, 0.9087578654289246, 0.03245563805103302, 0.03245563805103302, 0.08361945301294327, 0.878004252910614, 0.007141758222132921, 0.17854395508766174, 0.10355549305677414, 0.007141758222132921, 0.0035708791110664606, 0.5749115347862244, 0.11783900856971741, 0.0035708791110664606, 0.0035708791110664606, 0.04798281937837601, 0.07197423279285431, 0.014394845813512802, 0.39345911145210266, 0.07197423279285431, 0.06237766519188881, 0.004798281937837601, 0.07197423279285431, 0.25430893898010254, 0.004798281937837601, 0.3193570375442505, 0.00391049450263381, 0.011731483042240143, 0.04040843993425369, 0.3389095067977905, 0.18770372867584229, 0.03780144453048706, 0.029980456456542015, 0.0013034980511292815, 0.002606996102258563, 0.018248973414301872, 0.00782098900526762, 0.0177225973457098, 0.10830475389957428, 0.19101020693778992, 0.003938355017453432, 0.11224310845136642, 0.09452051669359207, 0.011815064586699009, 0.3485443890094757, 0.06301368027925491, 0.03150684013962746, 0.011815064586699009, 0.007876710034906864, 0.7631970643997192, 0.12719950079917908, 0.957764744758606, 0.1882483959197998, 0.7819548845291138, 0.020994579419493675, 0.0839783176779747, 0.12596747279167175, 0.7767994403839111, 0.0374029166996479, 0.9350729584693909, 0.5593901872634888, 0.06429772078990936, 0.01928931660950184, 0.05143817886710167, 0.05143817886710167, 0.09001681208610535, 0.006429772358387709, 0.13502521812915802, 0.006429772358387709, 0.33711352944374084, 0.09907995909452438, 0.05558144301176071, 0.11357946693897247, 0.09183020889759064, 0.06403948366641998, 0.13653701543807983, 0.009666337631642818, 0.038665350526571274, 0.00724975299090147, 0.04229022562503815, 0.003624876495450735, 0.08653399348258972, 0.0064099254086613655, 0.0064099254086613655, 0.1410183608531952, 0.2884466350078583, 0.0064099254086613655, 0.0032049627043306828, 0.0032049627043306828, 0.0032049627043306828, 0.4551047086715698, 0.14694157242774963, 0.1186835840344429, 0.011303198523819447, 0.49734070897102356, 0.011303198523819447, 0.11303198337554932, 0.016954798251390457, 0.0791223868727684, 0.03540520370006561, 0.007867823354899883, 0.05900867283344269, 0.003933911677449942, 0.019669556990265846, 0.015735646709799767, 0.1691581904888153, 0.1494886428117752, 0.06687649339437485, 0.4681354761123657, 0.024508876726031303, 0.022280797362327576, 0.0022280795965343714, 0.0401054322719574, 0.004456159193068743, 0.0022280795965343714, 0.006684239022433758, 0.0022280795965343714, 0.011140398681163788, 0.8845476508140564, 0.00984102487564087, 0.059046149253845215, 0.00984102487564087, 0.06888717412948608, 0.08856922388076782, 0.01968204975128174, 0.09841024875640869, 0.6396666169166565, 0.014785540290176868, 0.7688481211662292, 0.014785540290176868, 0.07392770051956177, 0.059142161160707474, 0.04435662180185318, 0.014785540290176868, 0.011050887405872345, 0.02946903370320797, 0.003683629212900996, 0.09209073334932327, 0.02946903370320797, 0.018418146297335625, 0.6225333213806152, 0.033152662217617035, 0.047887180000543594, 0.040519922971725464, 0.06998895853757858, 0.8525627851486206, 0.021314069628715515, 0.10657034814357758, 0.0936923548579216, 0.10089945793151855, 0.12252077460289001, 0.054053280502557755, 0.039639074355363846, 0.07567459344863892, 0.0036035520024597645, 0.01081065647304058, 0.02522486448287964, 0.02162131294608116, 0.44684046506881714, 0.01081065647304058, 0.9681735634803772, 0.9383537769317627, 0.8963057398796082, 0.9772140979766846, 0.9179812669754028, 0.03913335129618645, 0.9392004609107971, 0.014214707538485527, 0.014214707538485527, 0.22743532061576843, 0.014214707538485527, 0.7107353806495667, 0.12731975317001343, 0.025708798319101334, 0.09304136037826538, 0.009793827310204506, 0.47744908928871155, 0.20199769735336304, 0.030605711042881012, 0.00612114230170846, 0.0012242284137755632, 0.0024484568275511265, 0.023260340094566345, 0.07478521764278412, 0.01246420294046402, 0.6855311393737793, 0.19942724704742432, 0.01246420294046402, 0.04231949895620346, 0.8463900089263916, 0.08463899791240692, 0.008312382735311985, 0.12780289351940155, 0.13923241198062897, 0.008312382735311985, 0.07169430702924728, 0.10182669013738632, 0.0789676383137703, 0.2545667290687561, 0.012468574568629265, 0.018702862784266472, 0.009351431392133236, 0.1683257520198822, 0.8725835680961609, 0.10471002757549286, 0.9682871103286743, 0.07173854857683182, 0.13450977206230164, 0.08070586621761322, 0.004483659286051989, 0.017934637144207954, 0.008967318572103977, 0.4169802963733673, 0.08070586621761322, 0.04483659192919731, 0.022418295964598656, 0.11657513678073883, 0.30214548110961914, 0.1095692440867424, 0.013281119987368584, 0.04648392274975777, 0.09628812223672867, 0.06308531761169434, 0.0498041994869709, 0.033202800899744034, 0.22577904164791107, 0.023241961374878883, 0.0398433618247509, 0.01095739845186472, 0.01095739845186472, 0.06574439257383347, 0.01095739845186472, 0.08765918761491776, 0.04382959380745888, 0.745103120803833, 0.02191479690372944, 0.03208010271191597, 0.12832041084766388, 0.19248060882091522, 0.026733417063951492, 0.6041752099990845, 0.005346683319658041, 0.8476875424385071, 0.07064063102006912, 0.982644259929657, 0.030200650915503502, 0.9362201690673828, 0.021370714530348778, 0.06411214172840118, 0.8761993050575256, 0.007477292325347662, 0.05483347550034523, 0.35641759634017944, 0.04237132519483566, 0.029909169301390648, 0.012462154030799866, 0.4212208092212677, 0.007477292325347662, 0.02492430806159973, 0.029909169301390648, 0.007477292325347662, 0.024631934240460396, 0.9360134601593018, 0.12129078060388565, 0.007910268381237984, 0.08173944056034088, 0.09755998104810715, 0.06328214704990387, 0.44824856519699097, 0.055371880531311035, 0.005273512564599514, 0.08964970707893372, 0.01845729351043701, 0.002636756282299757, 0.010547025129199028, 0.03883976861834526, 0.3171914517879486, 0.01941988430917263, 0.006473294924944639, 0.08415283262729645, 0.025893179699778557, 0.0970994234085083, 0.04531306400895119, 0.01941988430917263, 0.3366113305091858, 0.8831011652946472, 0.03532404452562332, 0.07064808905124664, 0.018242336809635162, 0.018242336809635162, 0.7479357719421387, 0.12769635021686554, 0.10945402085781097, 0.00534290075302124, 0.05075755715370178, 0.00534290075302124, 0.00267145037651062, 0.04274320602416992, 0.0133572518825531, 0.6171050667762756, 0.01602870225906372, 0.2377590835094452, 0.00267145037651062, 0.00534290075302124, 0.015876494348049164, 0.04762948304414749, 0.007938247174024582, 0.023814741522073746, 0.04762948304414749, 0.7858865261077881, 0.007938247174024582, 0.023814741522073746, 0.023814741522073746, 0.2775743305683136, 0.0412239134311676, 0.3930012881755829, 0.2033713012933731, 0.010993042960762978, 0.00824478268623352, 0.038475651293992996, 0.01374130416661501, 0.00824478268623352, 0.0027482607401907444, 0.11716815084218979, 0.3372156620025635, 0.1057371124625206, 0.03143535926938057, 0.11431039124727249, 0.022862078621983528, 0.002857759827747941, 0.025719838216900826, 0.017146559432148933, 0.002857759827747941, 0.2229052633047104, 0.3517308831214905, 0.04555203393101692, 0.09917657822370529, 0.19431690871715546, 0.019028065726161003, 0.03863273933529854, 0.07899530231952667, 0.02421753667294979, 0.08072512596845627, 0.025370752438902855, 0.004612864460796118, 0.037479523569345474, 0.138649120926857, 0.7856783270835876, 0.07194039225578308, 0.05395529419183731, 0.12389734387397766, 0.451625794172287, 0.04796026274561882, 0.07593708485364914, 0.04995860531926155, 0.02797682024538517, 0.0599503293633461, 0.02597847580909729, 0.011990065686404705, 0.005043304059654474, 0.010086608119308949, 0.010086608119308949, 0.015129911713302135, 0.015129911713302135, 0.010086608119308949, 0.92796790599823, 0.005043304059654474, 0.31549501419067383, 0.12805385887622833, 0.07794582843780518, 0.11135118454694748, 0.07608997821807861, 0.07237827032804489, 0.01670267805457115, 0.009279265068471432, 0.01670267805457115, 0.1057836264371872, 0.04639632627367973, 0.022270236164331436, 0.008624308742582798, 0.008624308742582798, 0.008624308742582798, 0.02587292715907097, 0.008624308742582798, 0.9400497078895569, 0.3037985563278198, 0.6683567762374878, 0.9617480635643005, 0.006154059898108244, 0.007692574989050627, 0.7661804556846619, 0.018462179228663445, 0.13077376782894135, 0.006154059898108244, 0.024616239592432976, 0.01692366413772106, 0.004615544807165861, 0.020000694319605827, 0.010019848123192787, 0.13025802373886108, 0.010019848123192787, 0.020039696246385574, 0.010019848123192787, 0.8216275572776794, 0.004731811583042145, 0.98894864320755, 0.016217023134231567, 0.973021388053894, 0.004054255783557892, 0.06229206174612045, 0.004152804147452116, 0.10797290503978729, 0.008305608294904232, 0.04568084701895714, 0.13704253733158112, 0.2657794654369354, 0.004152804147452116, 0.3612939715385437, 0.9435652494430542, 0.033698759973049164, 0.398627907037735, 0.024795036762952805, 0.0362389013171196, 0.04768276587128639, 0.0362389013171196, 0.04386814311146736, 0.009536553174257278, 0.05721931904554367, 0.02288772724568844, 0.0724778026342392, 0.18882374465465546, 0.06294124573469162, 0.11292081326246262, 0.06537520885467529, 0.08320480585098267, 0.04754560440778732, 0.08914800733327866, 0.005943200550973415, 0.005943200550973415, 0.07131841033697128, 0.005943200550973415, 0.3565920293331146, 0.15452320873737335, 0.027885034680366516, 0.11154013872146606, 0.1951952427625656, 0.027885034680366516, 0.013942517340183258, 0.5995282530784607, 0.013942517340183258, 0.013942517340183258, 0.04157121106982231, 0.9145666360855103, 0.020785605534911156, 0.029397981241345406, 0.014698990620672703, 0.07349494844675064, 0.014698990620672703, 0.8672404289245605, 0.13003595173358917, 0.07282012701034546, 0.5981653332710266, 0.026007188484072685, 0.010402875952422619, 0.020805751904845238, 0.03641006350517273, 0.0884244441986084, 0.020805751904845238, 0.035196103155612946, 0.08447064459323883, 0.007039220537990332, 0.5983337163925171, 0.035196103155612946, 0.05631376430392265, 0.07039220631122589, 0.007039220537990332, 0.049274541437625885, 0.049274541437625885, 0.014078441075980663, 0.04571478068828583, 0.9142956137657166, 0.07840994000434875, 0.026136646047234535, 0.8625093102455139, 0.008692434057593346, 0.9822450876235962, 0.7598889470100403, 0.1688642054796219, 0.024123458191752434, 0.036185186356306076, 0.9125063419342041, 0.030416877940297127, 0.030416877940297127, 0.022860342636704445, 0.8458326458930969, 0.04572068527340889, 0.022860342636704445, 0.022860342636704445, 0.022860342636704445, 0.022860342636704445, 0.034476928412914276, 0.4137231409549713, 0.5171539187431335, 0.977434515953064, 0.29186227917671204, 0.007420227862894535, 0.06183522939682007, 0.0742022767663002, 0.027207501232624054, 0.49220845103263855, 0.017313864082098007, 0.007420227862894535, 0.01484045572578907, 0.0024734092876315117, 0.17208366096019745, 0.038240812718868256, 0.038240812718868256, 0.6309733986854553, 0.09560202807188034, 0.17543548345565796, 0.018466893583536148, 0.11080136150121689, 0.2077525556087494, 0.3785713315010071, 0.004616723395884037, 0.018466893583536148, 0.027700340375304222, 0.032317064702510834, 0.02308361791074276, 0.9390668869018555, 0.9460833668708801, 0.037843335419893265, 0.013727039098739624, 0.24022318422794342, 0.12354335188865662, 0.006863519549369812, 0.3980841338634491, 0.08236223459243774, 0.13727039098739624, 0.03061702661216259, 0.9185108542442322, 0.1001562550663948, 0.06677083671092987, 0.8012500405311584, 0.9468803405761719, 0.020931245759129524, 0.04186249151825905, 0.020931245759129524, 0.8581810593605042, 0.020931245759129524, 0.020931245759129524, 0.911941409111023, 0.932373046875, 0.8858559727668762, 0.032809481024742126, 0.032809481024742126, 0.08153891563415527, 0.7338502407073975, 0.16307783126831055, 0.9373745322227478, 0.02929295413196087, 0.14425908029079437, 0.7693817615509033, 0.9517459273338318, 0.017717786133289337, 0.24804900586605072, 0.017717786133289337, 0.017717786133289337, 0.6909936666488647, 0.9608104228973389, 0.02745172567665577, 0.8901516795158386, 0.2937301993370056, 0.6713833212852478, 0.4757542014122009, 0.05615666136145592, 0.042275238782167435, 0.06814516335725784, 0.07382392883300781, 0.043537188321352005, 0.054894715547561646, 0.004416815936565399, 0.09022924304008484, 0.032179661095142365, 0.039120372384786606, 0.019560186192393303, 0.026161106303334236, 0.10464442521333694, 0.026161106303334236, 0.7325109839439392, 0.026161106303334236, 0.07848332077264786, 0.005116636399179697, 0.005116636399179697, 0.040933091193437576, 0.015349908731877804, 0.9158778786659241, 0.010233272798359394, 0.005116636399179697, 0.005116636399179697, 0.9607008099555969, 0.10762113332748413, 0.7306032776832581, 0.01719719171524048, 0.029956398531794548, 0.00832122191786766, 0.04216085746884346, 0.02718265913426876, 0.01275920681655407, 0.013868703506886959, 0.007766473572701216, 0.0011094962246716022, 0.0016642443370074034, 0.0822814553976059, 0.8776688575744629, 0.3838241994380951, 0.026654459536075592, 0.005330891814082861, 0.005330891814082861, 0.5437509417533875, 0.005330891814082861, 0.021323567256331444, 0.10126757621765137, 0.8607743978500366, 0.013296296820044518, 0.6515185832977295, 0.09307408332824707, 0.026592593640089035, 0.07312963157892227, 0.0997222289443016, 0.03324074298143387, 0.006648148410022259, 0.006648148410022259, 0.006648148410022259, 0.9827988743782043, 0.08834601938724518, 0.8540115356445312, 0.029448674991726875, 0.9208818078041077, 0.05116010084748268, 0.2567751109600067, 0.07267220318317413, 0.37305063009262085, 0.009689627215266228, 0.14534440636634827, 0.10174108296632767, 0.019379254430532455, 0.009689627215266228, 0.009689627215266228, 0.004844813607633114, 0.2678681015968323, 0.030376795679330826, 0.2595835328102112, 0.13531482219696045, 0.07179970294237137, 0.016569161787629128, 0.1491224616765976, 0.005523053929209709, 0.0027615269646048546, 0.008284580893814564, 0.027615269646048546, 0.024853741750121117, 0.8684985637664795, 0.01888040266931057, 0.094402015209198, 0.9673730731010437, 0.014657167717814445, 0.8463018536567688, 0.0705251544713974, 0.0552360825240612, 0.029071621596813202, 0.23548012971878052, 0.029071621596813202, 0.01744297333061695, 0.011628648266196251, 0.0436074323952198, 0.023257296532392502, 0.3633952736854553, 0.1889655441045761, 0.006559202913194895, 0.08199003338813782, 0.11806565523147583, 0.0032796014565974474, 0.059032827615737915, 0.036075614392757416, 0.09838804602622986, 0.5345750451087952, 0.05575322359800339, 0.06968985497951508, 0.19428686797618866, 0.07496938854455948, 0.01583860255777836, 0.08130482584238052, 0.08975208550691605, 0.09291980415582657, 0.2291317880153656, 0.014782696031033993, 0.026397671550512314, 0.03273311257362366, 0.07813710719347, 0.12586095929145813, 0.07551658153533936, 0.7803379893302917, 0.939548671245575, 0.024724965915083885, 0.005257254000753164, 0.8043599128723145, 0.010514508001506329, 0.07360155880451202, 0.02628627046942711, 0.010514508001506329, 0.021029016003012657, 0.005257254000753164, 0.047315288335084915, 0.19837060570716858, 0.740583598613739, 0.039674121886491776, 0.9662348628044128, 0.03557299077510834, 0.02608686126768589, 0.6118554472923279, 0.007114598527550697, 0.009486131370067596, 0.09486131370067596, 0.07588905096054077, 0.014229197055101395, 0.007114598527550697, 0.002371532842516899, 0.018972262740135193, 0.09248977899551392, 0.9379013776779175, 0.45069941878318787, 0.05042790621519089, 0.09455232322216034, 0.009455232881009579, 0.18280115723609924, 0.08194534480571747, 0.040972672402858734, 0.009455232881009579, 0.040972672402858734, 0.03151744231581688, 0.006303488276898861, 0.003587693441659212, 0.014350773766636848, 0.12556926906108856, 0.003587693441659212, 0.014350773766636848, 0.007175386883318424, 0.003587693441659212, 0.003587693441659212, 0.003587693441659212, 0.609907865524292, 0.21167391538619995, 0.37458285689353943, 0.588630199432373, 0.9287245273590088, 0.961922824382782, 0.046288009732961655, 0.04397360980510712, 0.1296064257621765, 0.02082960493862629, 0.11109122633934021, 0.34021687507629395, 0.0671176165342331, 0.05786001309752464, 0.006943201646208763, 0.12729202210903168, 0.03008720651268959, 0.016200803220272064, 0.026414329186081886, 0.013207164593040943, 0.9509158730506897, 0.10435210913419724, 0.11208189278841019, 0.18551486730575562, 0.027054250240325928, 0.3439754843711853, 0.038648929446935654, 0.06956807523965836, 0.003864892991259694, 0.015459571965038776, 0.015459571965038776, 0.06956807523965836, 0.015459571965038776, 0.06594432145357132, 0.13848307728767395, 0.11869977414608002, 0.14507751166820526, 0.16156359016895294, 0.019783295691013336, 0.27366894483566284, 0.026377728208899498, 0.019783295691013336, 0.019783295691013336, 0.009891647845506668, 0.9729764461517334, 0.1405695229768753, 0.18466976284980774, 0.008268794976174831, 0.008268794976174831, 0.019293855875730515, 0.2563326358795166, 0.17640095949172974, 0.04961277171969414, 0.11025059968233109, 0.033075179904699326, 0.013781324960291386, 0.04498870670795441, 0.08997741341590881, 0.09447629004716873, 0.004498870577663183, 0.09447629004716873, 0.05398644879460335, 0.09447629004716873, 0.004498870577663183, 0.50837242603302, 0.004498870577663183, 0.06072834134101868, 0.8501967787742615, 0.9243398308753967, 0.1148214191198349, 0.02296428382396698, 0.8496784567832947, 0.02296428382396698, 0.7712680697441101, 0.17528818547725677, 0.051075924187898636, 0.0364828035235405, 0.10944841057062149, 0.02188968099653721, 0.7004697918891907, 0.007296560797840357, 0.014593121595680714, 0.051075924187898636, 0.9490180015563965, 0.9688734412193298, 0.2179712951183319, 0.008383511565625668, 0.008383511565625668, 0.7545160055160522, 0.008383511565625668, 0.9377760887145996, 0.1002533808350563, 0.8521537780761719, 0.08864492177963257, 0.17728984355926514, 0.7091593742370605, 0.2748544216156006, 0.03435680270195007, 0.03435680270195007, 0.652779221534729, 0.09174973517656326, 0.04587486758828163, 0.848685085773468, 0.9692885279655457, 0.7901272773742676, 0.07182975113391876, 0.010261393152177334, 0.06156836077570915, 0.041045572608709335, 0.020522786304354668, 0.8033589124679565, 0.13389314711093903, 0.7401677370071411, 0.01088481955230236, 0.04353927820920944, 0.01088481955230236, 0.08707855641841888, 0.02176963910460472, 0.07619373500347137, 0.07987529039382935, 0.007261390332132578, 0.01089208573102951, 0.003630695166066289, 0.01089208573102951, 0.3667002022266388, 0.38122299313545227, 0.03267625719308853, 0.07624460011720657, 0.003630695166066289, 0.03267625719308853, 0.016349423676729202, 0.08174711465835571, 0.21020686626434326, 0.011678159236907959, 0.40873557329177856, 0.09809654206037521, 0.05138390138745308, 0.04204137250781059, 0.03970574215054512, 0.032698847353458405, 0.00700689572840929, 0.002335631987079978, 0.7999199032783508, 0.12306459993124008, 0.036802735179662704, 0.03220239281654358, 0.3266242742538452, 0.10734131187200546, 0.03526929020881653, 0.012267578393220901, 0.006133789196610451, 0.015334472991526127, 0.006133789196610451, 0.20854884386062622, 0.21161572635173798, 0.0030668945983052254, 0.5352314114570618, 0.03257930278778076, 0.018616745248436928, 0.15358814597129822, 0.04188767448067665, 0.027925116941332817, 0.05119604617357254, 0.004654186312109232, 0.10704628378152847, 0.018616745248436928, 0.004654186312109232, 0.43846210837364197, 0.030031651258468628, 0.07808229327201843, 0.1621709167957306, 0.05706013739109039, 0.006006330251693726, 0.003003165125846863, 0.006006330251693726, 0.015015825629234314, 0.04204431176185608, 0.12312977015972137, 0.036037981510162354, 0.054417792707681656, 0.9251024723052979, 0.9546169638633728, 0.8958514332771301, 0.1903521716594696, 0.7614086866378784, 0.010842673480510712, 0.6939311027526855, 0.010842673480510712, 0.010842673480510712, 0.04337069392204285, 0.06505604088306427, 0.05421337112784386, 0.10842674225568771, 0.018036670982837677, 0.8657602071762085, 0.018036670982837677, 0.05411001294851303, 0.036073341965675354, 0.009934567846357822, 0.17385493218898773, 0.004967283923178911, 0.08941110968589783, 0.009934567846357822, 0.014901852235198021, 0.5563358068466187, 0.004967283923178911, 0.04967283830046654, 0.08941110968589783, 0.16151297092437744, 0.14167803525924683, 0.05100409314036369, 0.01983492635190487, 0.10767531394958496, 0.10625853389501572, 0.03400272876024246, 0.08075648546218872, 0.058087997138500214, 0.05383765697479248, 0.028335608541965485, 0.15442906320095062, 0.03724288567900658, 0.9310721755027771, 0.11558984965085983, 0.11558984965085983, 0.5779492855072021, 0.0036456193774938583, 0.521323561668396, 0.12395105510950089, 0.0036456193774938583, 0.0036456193774938583, 0.06926676630973816, 0.0036456193774938583, 0.24061086773872375, 0.014582477509975433, 0.007291238754987717, 0.0036456193774938583, 0.007291238754987717, 0.02352679893374443, 0.10587059706449509, 0.17645099759101868, 0.08234380185604095, 0.058816999197006226, 0.5411164164543152, 0.27057546377182007, 0.1190531998872757, 0.010823017917573452, 0.021646035835146904, 0.13528773188591003, 0.09199565649032593, 0.30845603346824646, 0.03246905654668808, 0.058112118393182755, 0.9152658581733704, 0.014528029598295689, 0.1612270623445511, 0.05374235287308693, 0.7523929476737976, 0.789970874786377, 0.08079247176647186, 0.026930823922157288, 0.09874635934829712, 0.2528352439403534, 0.10557954758405685, 0.17503978312015533, 0.019448865205049515, 0.019448865205049515, 0.05278977379202843, 0.061125002801418304, 0.09446591138839722, 0.18615341186523438, 0.005556818563491106, 0.016670456156134605, 0.011113637126982212, 0.9707453846931458, 0.12281647324562073, 0.13941329717636108, 0.0033193642739206553, 0.06970664858818054, 0.026554914191365242, 0.00995809305459261, 0.34687355160713196, 0.0033193642739206553, 0.2406539022922516, 0.013277457095682621, 0.0033193642739206553, 0.02323555015027523, 0.3383035361766815, 0.05298730358481407, 0.004075946286320686, 0.17526569962501526, 0.06521514058113098, 0.004075946286320686, 0.02037973143160343, 0.012227838858962059, 0.08151892572641373, 0.008151892572641373, 0.1793416440486908, 0.05706324800848961, 0.1846611052751541, 0.09776175767183304, 0.02172483503818512, 0.5865705609321594, 0.0036208059173077345, 0.02172483503818512, 0.018104029819369316, 0.061553701758384705, 0.0036208059173077345, 0.942423939704895, 0.9817771911621094, 0.0007037556497380137, 0.0014075112994760275, 0.9472550749778748, 0.00563004519790411, 0.0014075112994760275, 0.0014075112994760275, 0.0007037556497380137, 0.0021112668327987194, 0.003518778132274747, 0.012667601928114891, 0.007741312030702829, 0.01618637889623642, 0.31527796387672424, 0.5675002932548523, 0.025344159454107285, 0.012672079727053642, 0.8997176885604858, 0.038016241043806076, 0.08354566991329193, 0.785329282283783, 0.010443208739161491, 0.03620312362909317, 0.008354566991329193, 0.022278843447566032, 0.02715234085917473, 0.009050780907273293, 0.009050780907273293, 0.004873497411608696, 0.0006962138577364385, 0.002784855430945754, 0.8721029758453369, 0.09343960136175156, 0.06057685986161232, 0.008653837256133556, 0.017307674512267113, 0.017307674512267113, 0.5365378856658936, 0.31153813004493713, 0.04326918348670006, 0.9669793248176575, 0.9153986573219299, 0.14923419058322906, 0.8265278339385986, 0.05784560739994049, 0.9255297183990479, 0.8819171190261841, 0.126555398106575, 0.8015174865722656, 0.9553796052932739, 0.02163083665072918, 0.008652334101498127, 0.04326167330145836, 0.0043261670507490635, 0.017304668202996254, 0.04326167330145836, 0.06489250808954239, 0.7224699258804321, 0.015141584910452366, 0.05840325728058815, 0.19387248158454895, 0.0377802774310112, 0.13919049501419067, 0.07456633448600769, 0.09544491022825241, 0.02286701090633869, 0.06760681420564651, 0.24159494042396545, 0.11135239899158478, 0.00497108930721879, 0.002982653444632888, 0.006959524936974049, 0.3492511212825775, 0.029104260727763176, 0.5238767266273499, 0.05820852145552635, 0.8933107852935791, 0.05254769325256348, 0.12059716135263443, 0.0886743813753128, 0.0035469753202050924, 0.021281851455569267, 0.01418790128082037, 0.0780334547162056, 0.33696264028549194, 0.14187900722026825, 0.05675160512328148, 0.01773487590253353, 0.11350321024656296, 0.0035469753202050924, 0.1496647596359253, 0.0124720623716712, 0.0249441247433424, 0.0498882494866848, 0.0249441247433424, 0.5737149119377136, 0.1496647596359253, 0.00624150549992919, 0.02496602199971676, 0.8426032066345215, 0.018724516034126282, 0.09986408799886703, 0.00624150549992919, 0.11732634156942368, 0.8212843537330627, 0.02933158539235592, 0.024126576259732246, 0.33777204155921936, 0.5549112558364868, 0.07237972319126129, 0.037431973963975906, 0.8983673453330994, 0.9316462874412537, 0.009080919437110424, 0.018161838874220848, 0.35112887620925903, 0.018161838874220848, 0.2482117861509323, 0.0030269729904830456, 0.015134865418076515, 0.09080918878316879, 0.13318681716918945, 0.03026973083615303, 0.0030269729904830456, 0.07567432522773743, 0.12020128220319748, 0.01717161200940609, 0.8414089679718018, 0.01717161200940609, 0.9604986310005188, 0.08025003969669342, 0.02675001323223114, 0.8292503952980042, 0.02675001323223114, 0.9624935984611511, 0.020051950588822365, 0.8417789340019226, 0.07319816946983337, 0.05399559438228607, 0.8639295101165771, 0.04426052048802376, 0.885210394859314, 0.9566390514373779, 0.19435666501522064, 0.7774266600608826, 0.062421731650829315, 0.05238966643810272, 0.23965485394001007, 0.040128257125616074, 0.23965485394001007, 0.028981518000364304, 0.006688042543828487, 0.004458695184439421, 0.025637496262788773, 0.09920596331357956, 0.020064128562808037, 0.18169182538986206, 0.9026568531990051, 0.08596732467412949, 0.9544509649276733, 0.4538745582103729, 0.5355719923973083, 0.017700539901852608, 0.123903788626194, 0.05310162156820297, 0.14160431921482086, 0.061951894313097, 0.5929681062698364, 0.9711732864379883, 0.941872775554657, 0.022972505539655685, 0.0074776541441679, 0.0074776541441679, 0.08225419372320175, 0.0074776541441679, 0.8823632001876831, 0.968876302242279, 0.19690530002117157, 0.05370144546031952, 0.017900481820106506, 0.7160192728042603, 0.49175187945365906, 0.13477644324302673, 0.17120251059532166, 0.054639097303152084, 0.0036426065489649773, 0.10927819460630417, 0.014570426195859909, 0.0072852130979299545, 0.0072852130979299545, 0.11502230167388916, 0.8380196690559387, 0.016431758180260658, 0.016431758180260658, 0.2549736797809601, 0.10198947042226791, 0.007284962106496096, 0.4273844361305237, 0.0024283207021653652, 0.019426565617322922, 0.03642481192946434, 0.007284962106496096, 0.04613809287548065, 0.0048566414043307304, 0.0849912241101265, 0.0048566414043307304, 0.18964289128780365, 0.05172078683972359, 0.03448052331805229, 0.008620130829513073, 0.017240261659026146, 0.1637824922800064, 0.060340918600559235, 0.12068183720111847, 0.35342538356781006, 0.008620130829513073, 0.9641115665435791, 0.1348300278186798, 0.5767728686332703, 0.02996222861111164, 0.10486780107021332, 0.05243390053510666, 0.02996222861111164, 0.0674150139093399, 0.06207624822854996, 0.04655718803405762, 0.6750792264938354, 0.007759531028568745, 0.19398827850818634, 0.01551906205713749, 0.8868052363395691, 0.00943409837782383, 0.08490688353776932, 0.00943409837782383, 0.04449468478560448, 0.06415512412786484, 0.007243320345878601, 0.027938522398471832, 0.08691984415054321, 0.03311232104897499, 0.06725940853357315, 0.03518184274435043, 0.018625682219862938, 0.5049629211425781, 0.10140648484230042, 0.009312841109931469, 0.7893897891044617, 0.16915495693683624, 0.9554474949836731, 0.02329431287944317, 0.012705989181995392, 0.1524718701839447, 0.0243531446903944, 0.48494523763656616, 0.026470810174942017, 0.018000150099396706, 0.02329431287944317, 0.054000452160835266, 0.04658862575888634, 0.004235329572111368, 0.13023638725280762, 0.9663302898406982, 0.2062322050333023, 0.03338291123509407, 0.006676582153886557, 0.1268550604581833, 0.003709212178364396, 0.02967369742691517, 0.04747791588306427, 0.03115738369524479, 0.14985217154026031, 0.005192897282540798, 0.07937714457511902, 0.28115829825401306, 0.012189538218080997, 0.009142153896391392, 0.15541662275791168, 0.015236923471093178, 0.6521403193473816, 0.07313723117113113, 0.03656861558556557, 0.0030473845545202494, 0.02133169211447239, 0.009142153896391392, 0.018284307792782784, 0.08620394021272659, 0.8189374208450317, 0.043101970106363297, 0.16897882521152496, 0.10326483845710754, 0.018775423988699913, 0.009387711994349957, 0.009387711994349957, 0.45999789237976074, 0.11265254765748978, 0.13142797350883484, 0.009387711994349957, 0.09561020880937576, 0.19122041761875153, 0.5736612677574158, 0.012670750729739666, 0.025341501459479332, 0.012670750729739666, 0.32943952083587646, 0.03801225125789642, 0.5575130581855774, 0.025341501459479332, 0.10896765440702438, 0.007602394558489323, 0.002534131519496441, 0.03040957823395729, 0.10136526077985764, 0.07095567882061005, 0.2052646428346634, 0.04308023676276207, 0.13684310019016266, 0.09122873097658157, 0.16471853852272034, 0.03547783941030502, 0.8602533340454102, 0.03970400243997574, 0.026469334959983826, 0.013234667479991913, 0.013234667479991913, 0.026469334959983826, 0.9810597896575928, 0.2849801480770111, 0.06820037215948105, 0.009742910973727703, 0.289851576089859, 0.0876861959695816, 0.02679300494492054, 0.024357276037335396, 0.056021735072135925, 0.0438430979847908, 0.08281473815441132, 0.02679300494492054, 0.19618546962738037, 0.04904636740684509, 0.735695481300354, 0.018364928662776947, 0.03602351248264313, 0.13914965093135834, 0.002119030337780714, 0.08758658170700073, 0.07769777625799179, 0.026841050013899803, 0.054388441145420074, 0.02754739299416542, 0.4202743470668793, 0.07204702496528625, 0.03814254328608513, 0.9816630482673645, 0.24209587275981903, 0.026899542659521103, 0.026899542659521103, 0.16139724850654602, 0.5379908680915833, 0.06375507265329361, 0.24001909792423248, 0.11250895261764526, 0.1987658143043518, 0.03750298544764519, 0.045003581792116165, 0.0037502984050661325, 0.007500596810132265, 0.28127238154411316, 0.02807459607720375, 0.005104471929371357, 0.21438781917095184, 0.015313415788114071, 0.4287756383419037, 0.02552236057817936, 0.02807459607720375, 0.07146260887384415, 0.07401484251022339, 0.0025522359646856785, 0.005104471929371357, 0.10208944231271744, 0.06568491458892822, 0.886746346950531, 0.016421228647232056, 0.9542441964149475, 0.9171930551528931, 0.03668772429227829, 0.9605583548545837, 0.9546246528625488, 0.038964271545410156, 0.930955708026886, 0.04741889610886574, 0.11230791360139847, 0.19965851306915283, 0.05490609258413315, 0.039931703358888626, 0.007487194146960974, 0.034940239042043686, 0.017470119521021843, 0.06488901376724243, 0.05490609258413315, 0.09733352810144424, 0.26704326272010803, 0.0038598033133894205, 0.12351370602846146, 0.30492445826530457, 0.06175685301423073, 0.0038598033133894205, 0.34352248907089233, 0.0038598033133894205, 0.07719606161117554, 0.07719606161117554, 0.04474685713648796, 0.8949371576309204, 0.04474685713648796, 0.02027004025876522, 0.0028957200702279806, 0.02606148086488247, 0.06660155951976776, 0.008687159977853298, 0.005791440140455961, 0.20849184691905975, 0.014478600583970547, 0.5617696642875671, 0.017374319955706596, 0.014478600583970547, 0.05212296172976494, 0.009042213670909405, 0.4521106779575348, 0.48375841975212097, 0.03616885468363762, 0.01356332004070282, 0.01408925000578165, 0.01408925000578165, 0.9580690264701843, 0.01408925000578165, 0.029591236263513565, 0.6273341774940491, 0.04142773151397705, 0.06510072201490402, 0.11836494505405426, 0.07693721354007721, 0.0059182471595704556, 0.0059182471595704556, 0.023672988638281822, 0.0059182471595704556, 0.0059182471595704556, 0.9330103993415833, 0.03217277303338051, 0.08987472951412201, 0.8762785792350769, 0.5418830513954163, 0.020976118743419647, 0.2726895213127136, 0.006992039270699024, 0.003496019635349512, 0.10138457268476486, 0.048944275826215744, 0.003496019635349512, 0.6476923227310181, 0.2445831149816513, 0.00905863381922245, 0.00905863381922245, 0.004529316909611225, 0.004529316909611225, 0.06793975085020065, 0.004529316909611225, 0.004529316909611225, 0.954138457775116, 0.025108907371759415, 0.08500384539365768, 0.850038468837738, 0.8864746689796448, 0.08058860898017883, 0.040294304490089417, 0.1341678947210312, 0.8553202748298645, 0.6440330147743225, 0.008944903500378132, 0.001788980676792562, 0.12165068089962006, 0.008944903500378132, 0.003577961353585124, 0.09839393198490143, 0.021467767655849457, 0.012522864155471325, 0.0375685952603817, 0.02683470956981182, 0.012522864155471325, 0.0344470776617527, 0.4133649170398712, 0.091858871281147, 0.4478119909763336, 0.011482358910143375, 0.9501098990440369, 0.18489722907543182, 0.7924167513847351, 0.026413891464471817, 0.023905817419290543, 0.023905817419290543, 0.6095983386039734, 0.20319944620132446, 0.047811634838581085, 0.03585872799158096, 0.03585872799158096, 0.2974756956100464, 0.06610570847988129, 0.628004252910614, 0.09325633943080902, 0.7460507154464722, 0.10657867789268494, 0.05328933894634247, 0.054475244134664536, 0.7626534104347229, 0.027237622067332268, 0.013618811033666134, 0.027237622067332268, 0.054475244134664536, 0.054475244134664536, 0.1741664707660675, 0.7547214031219482, 0.033318839967250824, 0.1332753598690033, 0.7663333415985107, 0.016659419983625412, 0.016659419983625412, 0.033318839967250824, 0.08529388904571533, 0.05483178794384003, 0.024369683116674423, 0.05117633566260338, 0.014621810056269169, 0.0828569233417511, 0.11697448045015335, 0.21567170321941376, 0.0024369682651013136, 0.19739443063735962, 0.14012567698955536, 0.013403325341641903, 0.047216981649398804, 0.9443396329879761, 0.07641751319169998, 0.48716163635253906, 0.047760944813489914, 0.02865656651556492, 0.02865656651556492, 0.06686531752347946, 0.07641751319169998, 0.1623872071504593, 0.009552189148962498, 0.9143460988998413, 0.8588199615478516, 0.06134428456425667, 0.043074831366539, 0.22614286839962006, 0.005384353920817375, 0.0646122470498085, 0.13999320566654205, 0.048459187150001526, 0.059227894991636276, 0.043074831366539, 0.12384014576673508, 0.24229593575000763, 0.005384353920817375, 0.022469962015748024, 0.04493992403149605, 0.8313885927200317, 0.06740988790988922, 0.9574786424636841, 0.20299074053764343, 0.112772636115551, 0.6540812849998474, 0.8890975117683411, 0.28299829363822937, 0.13861140608787537, 0.5371192097663879, 0.005775475408881903, 0.0288773775100708, 0.947127640247345, 0.02492441236972809, 0.9426872730255127, 0.1393159031867981, 0.00904648657888174, 0.794281542301178, 0.0036185947246849537, 0.0036185947246849537, 0.0018092973623424768, 0.0018092973623424768, 0.030758054926991463, 0.0036185947246849537, 0.012665081769227982, 0.0018092973623424768, 0.1426452398300171, 0.7719624638557434, 0.008390896022319794, 0.01258634403347969, 0.016781792044639587, 0.004195448011159897, 0.02517268806695938, 0.004195448011159897, 0.01258634403347969, 0.03037591278553009, 0.8505255579948425, 0.03037591278553009, 0.06075182557106018, 0.05069809779524803, 0.9125657677650452, 0.9583348035812378, 0.2336377650499344, 0.05440879240632057, 0.12802068889141083, 0.019203104078769684, 0.47047603130340576, 0.0672108605504036, 0.0032005172688513994, 0.019203104078769684, 0.0032005172688513994, 0.9430368542671204, 0.07742781937122345, 0.1006561666727066, 0.00774278212338686, 0.04645669460296631, 0.01548556424677372, 0.03097112849354744, 0.27099737524986267, 0.38713911175727844, 0.01548556424677372, 0.04645669460296631, 0.03730208799242973, 0.018651043996214867, 0.013988282531499863, 0.09325522184371948, 0.013988282531499863, 0.013988282531499863, 0.727390706539154, 0.009325521998107433, 0.027976565062999725, 0.04662761092185974, 0.005252512637525797, 0.028888819739222527, 0.023636307567358017, 0.007878769189119339, 0.013131281360983849, 0.010505025275051594, 0.7931294441223145, 0.018383793532848358, 0.09717148542404175, 0.0026262563187628984, 0.08777359127998352, 0.11703145503997803, 0.10240252315998077, 0.6875598430633545, 0.9187522530555725, 0.03533662483096123, 0.15217873454093933, 0.11516229063272476, 0.008225877769291401, 0.016451755538582802, 0.1768563687801361, 0.04112938791513443, 0.049355264753103256, 0.35782569646835327, 0.02879057265818119, 0.05346820503473282, 0.17374348640441895, 0.6949739456176758, 0.08687174320220947, 0.029923338443040848, 0.014961669221520424, 0.04488500580191612, 0.7480834722518921, 0.10473167896270752, 0.029923338443040848, 0.0375182069838047, 0.022510923445224762, 0.007503641303628683, 0.7278531789779663, 0.015007282607257366, 0.15757647156715393, 0.030014565214514732, 0.007503641303628683, 0.9059959650039673, 0.007632000837475061, 0.02289600297808647, 0.5876640677452087, 0.02289600297808647, 0.10684801638126373, 0.007632000837475061, 0.053424008190631866, 0.18316802382469177, 0.007632000837475061, 0.039031025022268295, 0.15612410008907318, 0.039031025022268295, 0.039031025022268295, 0.7025584578514099, 0.7835614681243896, 0.08706238865852356, 0.04353119432926178, 0.0316799022257328, 0.0316799022257328, 0.8553573489189148, 0.0316799022257328, 0.09288206696510315, 0.1120048388838768, 0.04917285591363907, 0.2677188813686371, 0.010927301831543446, 0.0191227775067091, 0.06010016053915024, 0.11473666876554489, 0.23766881227493286, 0.0027318254578858614, 0.016390953212976456, 0.013659127056598663, 0.12080120295286179, 0.12080120295286179, 0.7248072028160095, 0.9549186825752258, 0.07957331091165543, 0.7843654751777649, 0.0454704649746418, 0.06820569932460785, 0.01136761624366045, 0.027217216789722443, 0.15163877606391907, 0.1788559854030609, 0.013608608394861221, 0.005832260474562645, 0.1788559854030609, 0.019440868869423866, 0.021384956315159798, 0.007776347454637289, 0.32271841168403625, 0.01166452094912529, 0.06221077963709831, 0.9402669072151184, 0.02541261911392212, 0.02541261911392212, 0.9094927310943604, 0.037895530462265015, 0.17412590980529785, 0.04928091913461685, 0.006570789031684399, 0.0032853945158421993, 0.022997763007879257, 0.022997763007879257, 0.27268776297569275, 0.006570789031684399, 0.3843911588191986, 0.055851709097623825, 0.9870458245277405, 0.010169506072998047, 0.14237308502197266, 0.661017894744873, 0.07118654251098633, 0.010169506072998047, 0.06101703643798828, 0.04067802429199219, 0.010169506072998047, 0.015058344230055809, 0.1505834460258484, 0.12046675384044647, 0.045175034552812576, 0.015058344230055809, 0.015058344230055809, 0.6475088000297546, 0.07663296163082123, 0.8812790513038635, 0.962388277053833, 0.005357685964554548, 0.16073057055473328, 0.2571689188480377, 0.005357685964554548, 0.010715371929109097, 0.032146114856004715, 0.47147634625434875, 0.04821917042136192, 0.7637698650360107, 0.011631013825535774, 0.0038770046085119247, 0.06590907275676727, 0.0465240553021431, 0.07366308569908142, 0.02326202765107155, 0.011631013825535774, 0.9788312911987305, 0.8989810347557068, 0.15805351734161377, 0.06420924514532089, 0.07408758997917175, 0.3901946246623993, 0.07408758997917175, 0.0493917278945446, 0.03457420691847801, 0.08890511095523834, 0.00493917241692543, 0.00493917241692543, 0.05433090031147003, 0.005329422652721405, 0.16521209478378296, 0.18652978539466858, 0.026647113263607025, 0.005329422652721405, 0.5116245746612549, 0.037305958569049835, 0.037305958569049835, 0.01065884530544281, 0.015988267958164215, 0.6903674006462097, 0.006512900348752737, 0.013025800697505474, 0.11723220348358154, 0.006512900348752737, 0.03256450220942497, 0.03256450220942497, 0.05861610174179077, 0.04559030011296272, 0.01935575343668461, 0.8129416108131409, 0.07742301374673843, 0.07742301374673843, 0.9503827691078186, 0.9224351644515991, 0.016771549358963966, 0.03354309871792793, 0.03354309871792793, 0.8340761065483093, 0.092675119638443, 0.004183814860880375, 0.004183814860880375, 0.00836762972176075, 0.00836762972176075, 0.00836762972176075, 0.004183814860880375, 0.9037039875984192, 0.0543895922601223, 0.010829446837306023, 0.061366863548755646, 0.007219631224870682, 0.010829446837306023, 0.007219631224870682, 0.03248833864927292, 0.003609815612435341, 0.8627459406852722, 0.9006267189979553, 0.045031335204839706, 0.032912880182266235, 0.10886567831039429, 0.005063519813120365, 0.06582576036453247, 0.022785840556025505, 0.007595280185341835, 0.6000271439552307, 0.04050815850496292, 0.058230478316545486, 0.0025317599065601826, 0.058230478316545486, 0.0025317599065601826, 0.028752358630299568, 0.20126651227474213, 0.7475613355636597, 0.7657101154327393, 0.013673394918441772, 0.018231194466352463, 0.022788992151618004, 0.036462388932704926, 0.031904589384794235, 0.1002715677022934, 0.004557798616588116, 0.2936142683029175, 0.015729336068034172, 0.5295543074607849, 0.015729336068034172, 0.07340356707572937, 0.07340356707572937, 0.005243111867457628, 0.005243111867457628, 0.17181165516376495, 0.07009916007518768, 0.03023885190486908, 0.13470034301280975, 0.008246960118412971, 0.4095990061759949, 0.017868412658572197, 0.0742226392030716, 0.04673277214169502, 0.027489865198731422, 0.010995946824550629, 0.0013744933530688286, 0.08593741059303284, 0.6731764078140259, 0.2291664332151413, 0.9381476044654846, 0.029317112639546394, 0.9076712131500244, 0.0504261814057827, 0.025899501517415047, 0.258994996547699, 0.025899501517415047, 0.6992865204811096, 0.9682360887527466, 0.028477532789111137, 0.009676866233348846, 0.13547612726688385, 0.15966829657554626, 0.12096082419157028, 0.4741664528846741, 0.009676866233348846, 0.004838433116674423, 0.01451529935002327, 0.05806119740009308, 0.9202408194541931, 0.027874991297721863, 0.11149996519088745, 0.8223122358322144, 0.2352931946516037, 0.0702950581908226, 0.1005609929561615, 0.1171584352850914, 0.0361238494515419, 0.103489950299263, 0.1044662743806839, 0.0351475290954113, 0.0761529803276062, 0.1005609929561615, 0.008786882273852825, 0.013668484054505825, 0.04902545362710953, 0.024512726813554764, 0.012256363406777382, 0.30640909075737, 0.600561797618866, 0.046595994383096695, 0.03812399506568909, 0.18214797973632812, 0.004235999658703804, 0.012707998976111412, 0.004235999658703804, 0.06777599453926086, 0.18214797973632812, 0.05930399149656296, 0.2965199649333954, 0.10589998960494995, 0.9697869420051575, 0.9219827055931091, 0.9723407626152039, 0.015112804248929024, 0.005037601571530104, 0.042819611728191376, 0.037782009690999985, 0.005037601571530104, 0.47101572155952454, 0.012594003230333328, 0.01763160526752472, 0.35515090823173523, 0.002518800785765052, 0.030225608497858047, 0.002518800785765052, 0.9453513026237488, 0.6998167634010315, 0.2519340515136719, 0.013996335677802563, 0.013996335677802563, 0.03242066130042076, 0.19452397525310516, 0.07073599100112915, 0.15031398832798004, 0.13557732105255127, 0.12968264520168304, 0.25347062945365906, 0.005894666071981192, 0.02652599662542343, 0.1354328989982605, 0.056430377066135406, 0.022572150453925133, 0.6658784747123718, 0.011286075226962566, 0.06771644949913025, 0.033858224749565125, 0.9722230434417725, 0.9146166443824768, 0.04813771694898605, 0.007777242921292782, 0.10758519172668457, 0.05314449220895767, 0.5029283761978149, 0.019443107768893242, 0.05055207759141922, 0.010369657538831234, 0.041478630155324936, 0.19183865189552307, 0.0012962071923539042, 0.0025924143847078085, 0.010369657538831234, 0.011827499605715275, 0.8752350211143494, 0.02365499921143055, 0.0709649994969368, 0.019656933844089508, 0.04914233461022377, 0.019656933844089508, 0.8943904638290405, 0.3515271246433258, 0.003347877413034439, 0.4720507264137268, 0.08369693905115128, 0.006695754826068878, 0.003347877413034439, 0.050218161195516586, 0.006695754826068878, 0.016739387065172195, 0.003347877413034439, 0.012286062352359295, 0.012286062352359295, 0.9705989360809326, 0.3535260856151581, 0.09573360532522202, 0.11888487637042999, 0.026905523613095284, 0.10949922353029251, 0.04129685088992119, 0.12514197826385498, 0.025654103606939316, 0.036916881799697876, 0.009385648183524609, 0.030034072697162628, 0.026905523613095284, 0.21991494297981262, 0.7147235870361328, 0.13653746247291565, 0.7802141308784485, 0.019505351781845093, 0.039010703563690186, 0.019505351781845093, 0.08590193837881088, 0.10021892935037613, 0.014316990040242672, 0.801751434803009, 0.004453536123037338, 0.8996143341064453, 0.004453536123037338, 0.004453536123037338, 0.01336060930043459, 0.05344243720173836, 0.008907072246074677, 0.004453536123037338, 0.03799019753932953, 0.9117648005485535, 0.917234480381012, 0.019939880818128586, 0.03987976163625717, 0.019939880818128586, 0.09487848728895187, 0.08539063483476639, 0.05218316614627838, 0.009487848728895187, 0.03795139491558075, 0.08539063483476639, 0.10436633229255676, 0.2941232919692993, 0.24194014072418213, 0.009542545303702354, 0.009542545303702354, 0.7538610696792603, 0.07634036242961884, 0.009542545303702354, 0.13359563052654266, 0.019510598853230476, 0.019510598853230476, 0.004877649713307619, 0.9560193419456482, 0.9583518505096436, 0.04151298105716705, 0.9132856130599976, 0.4756733179092407, 0.0669962465763092, 0.0033498122356832027, 0.1507415473461151, 0.050247181206941605, 0.04354755952954292, 0.0167490616440773, 0.046897370368242264, 0.0033498122356832027, 0.046897370368242264, 0.050247181206941605, 0.046897370368242264, 0.014506872743368149, 0.029013745486736298, 0.8559054732322693, 0.07253435999155045, 0.014506872743368149, 0.10301238298416138, 0.824099063873291, 0.05150619149208069, 0.012876547873020172, 0.7531746625900269, 0.03600199520587921, 0.03840212896466255, 0.007200399413704872, 0.235213041305542, 0.019201064482331276, 0.03360186517238617, 0.0024001330602914095, 0.012000665999948978, 0.0024001330602914095, 0.6048335433006287, 0.009600532241165638, 0.20287001132965088, 0.6086100339889526, 0.013524667359888554, 0.08114800602197647, 0.054098669439554214, 0.027049334719777107, 0.013524667359888554, 0.0993136391043663, 0.8739600777626038, 0.035269010812044144, 0.052903514355421066, 0.8817252516746521, 0.14431044459342957, 0.07020508497953415, 0.16381186246871948, 0.0975070595741272, 0.035102542489767075, 0.03900282457470894, 0.04680338874459267, 0.03120225854218006, 0.36272627115249634, 0.011700847186148167, 0.9614071249961853, 0.9363251328468323, 0.9390268325805664, 0.306719034910202, 0.02359377220273018, 0.613438069820404, 0.9189837574958801, 0.015085767954587936, 0.7693741321563721, 0.18102921545505524, 0.015085767954587936, 0.6260895729064941, 0.021343963220715523, 0.014229308813810349, 0.18498101830482483, 0.039130598306655884, 0.03201594576239586, 0.01778663694858551, 0.014229308813810349, 0.028458617627620697, 0.007114654406905174, 0.014229308813810349, 0.05037571117281914, 0.9319506883621216, 0.35975921154022217, 0.02997993305325508, 0.02997993305325508, 0.02997993305325508, 0.5396388173103333, 0.9682855606079102, 0.11442389339208603, 0.04767662286758423, 0.00423792190849781, 0.16210050880908966, 0.05191454291343689, 0.012713765725493431, 0.013773246668279171, 0.014832726679742336, 0.021189609542489052, 0.005297402385622263, 0.5477514266967773, 0.0031784414313733578, 0.002999224467203021, 0.002999224467203021, 0.19195036590099335, 0.04498836770653725, 0.06298371404409409, 0.06298371404409409, 0.002999224467203021, 0.002999224467203021, 0.06298371404409409, 0.5638542175292969, 0.09595871716737747, 0.8636284470558167, 0.019148102030158043, 0.497850626707077, 0.44040632247924805, 0.9406497478485107, 0.03635815531015396, 0.908953845500946, 0.1567421555519104, 0.4615185558795929, 0.008707896806299686, 0.008707896806299686, 0.2960685193538666, 0.034831587225198746, 0.017415793612599373, 0.008707896806299686, 0.9721746444702148, 0.819595992565155, 0.05463973060250282, 0.018213244155049324, 0.0728529766201973, 0.018213244155049324, 0.03642648831009865, 0.07898013293743134, 0.8951081037521362, 0.9771557450294495], \"Term\": [\"aap\", \"able\", \"able\", \"able\", \"able\", \"able\", \"able\", \"able\", \"accept\", \"accept\", \"accept\", \"accept\", \"accessories\", \"additional\", \"advance\", \"affordable\", \"affordable\", \"affordable\", \"affordable\", \"ago\", \"ago\", \"alarm\", \"allow\", \"allow\", \"allow\", \"alot\", \"also\", \"also\", \"also\", \"also\", \"also\", \"also\", \"also\", \"also\", \"also\", \"also\", \"also\", \"also\", \"amaze\", \"amaze\", \"amaze\", \"amaze\", \"amaze\", \"amaze\", \"amaze\", \"amazon\", \"amazon\", \"amazon\", \"amazon\", \"amazon\", \"amazon\", \"amazon\", \"amazon\", \"amazon\", \"amazon\", \"amazon\", \"amazon\", \"android\", \"android\", \"android\", \"android\", \"android\", \"android\", \"android\", \"android\", \"android\", \"android\", \"android\", \"apart\", \"apart\", \"apart\", \"apart\", \"apart\", \"app\", \"app\", \"app\", \"app\", \"app\", \"app\", \"app\", \"app\", \"app\", \"app\", \"app\", \"app\", \"appear\", \"application\", \"application\", \"application\", \"application\", \"application\", \"approx\", \"approx\", \"approx\", \"apps\", \"apps\", \"apps\", \"apps\", \"apps\", \"apps\", \"apps\", \"apps\", \"apps\", \"apps\", \"apps\", \"arrive\", \"aspects\", \"atmos\", \"atmos\", \"atmos\", \"atmos\", \"atmos\", \"atmos\", \"atoms\", \"aur\", \"auto\", \"auto\", \"auto\", \"automatically\", \"automatically\", \"automatically\", \"automatically\", \"automatically\", \"available\", \"available\", \"available\", \"available\", \"available\", \"available\", \"available\", \"available\", \"available\", \"available\", \"available\", \"available\", \"average\", \"average\", \"average\", \"average\", \"average\", \"average\", \"average\", \"average\", \"average\", \"average\", \"average\", \"avg\", \"awesome\", \"awesome\", \"awesome\", \"awesome\", \"awesome\", \"awesome\", \"awesome\", \"awesome\", \"awesome\", \"awesome\", \"awsm\", \"back\", \"back\", \"back\", \"back\", \"back\", \"back\", \"back\", \"back\", \"back\", \"back\", \"back\", \"back\", \"background\", \"background\", \"background\", \"background\", \"background\", \"backup\", \"backup\", \"backup\", \"backup\", \"backup\", \"backup\", \"backup\", \"backup\", \"backup\", \"backup\", \"backup\", \"backup\", \"bad\", \"bad\", \"bad\", \"bad\", \"bad\", \"bad\", \"bad\", \"bad\", \"bad\", \"bad\", \"bad\", \"bad\", \"badly\", \"bahut\", \"bahut\", \"bakwas\", \"bar\", \"bar\", \"base\", \"batter\", \"batter\", \"battry\", \"bcoz\", \"beat\", \"beautiful\", \"become\", \"become\", \"become\", \"become\", \"become\", \"become\", \"become\", \"bed\", \"bed\", \"bekar\", \"believe\", \"believe\", \"believe\", \"believe\", \"believe\", \"believe\", \"best\", \"best\", \"best\", \"best\", \"best\", \"best\", \"best\", \"best\", \"best\", \"best\", \"best\", \"best\", \"better\", \"better\", \"better\", \"better\", \"better\", \"better\", \"better\", \"better\", \"better\", \"better\", \"better\", \"better\", \"bettery\", \"bettery\", \"bhi\", \"bill\", \"bill\", \"bill\", \"bill\", \"bite\", \"bite\", \"bite\", \"bite\", \"bite\", \"bite\", \"bite\", \"blast\", \"blink\", \"blink\", \"blow\", \"blow\", \"bluetooth\", \"bluetooth\", \"bluetooth\", \"bluetooth\", \"bluetooth\", \"blur\", \"blur\", \"blur\", \"blur\", \"blur\", \"blur\", \"blur\", \"body\", \"body\", \"body\", \"box\", \"box\", \"box\", \"box\", \"box\", \"box\", \"box\", \"box\", \"box\", \"box\", \"break\", \"break\", \"break\", \"break\", \"break\", \"break\", \"break\", \"break\", \"brightness\", \"brightness\", \"brightness\", \"brightness\", \"brightness\", \"budget\", \"budget\", \"budget\", \"budget\", \"budget\", \"budget\", \"budget\", \"budget\", \"budget\", \"budget\", \"bulky\", \"bulky\", \"burn\", \"button\", \"button\", \"button\", \"button\", \"button\", \"button\", \"buy\", \"buy\", \"buy\", \"buy\", \"buy\", \"buy\", \"buy\", \"buy\", \"buy\", \"buy\", \"buy\", \"bye\", \"cable\", \"cable\", \"cable\", \"call\", \"call\", \"call\", \"call\", \"call\", \"call\", \"call\", \"call\", \"call\", \"call\", \"call\", \"call\", \"caller\", \"cam\", \"cam\", \"cam\", \"cam\", \"cam\", \"camara\", \"can\", \"can\", \"can\", \"can\", \"capacity\", \"capacity\", \"capacity\", \"capacity\", \"car\", \"card\", \"card\", \"card\", \"card\", \"card\", \"card\", \"care\", \"care\", \"care\", \"care\", \"cash\", \"cash\", \"cast\", \"cast\", \"cast\", \"cast\", \"cast\", \"cast\", \"cast\", \"cast\", \"cast\", \"cast\", \"catch\", \"category\", \"cause\", \"cell\", \"cell\", \"cell\", \"cell\", \"center\", \"center\", \"center\", \"center\", \"center\", \"centre\", \"centre\", \"centre\", \"charge\", \"charge\", \"charge\", \"charge\", \"charge\", \"charge\", \"charge\", \"charge\", \"charge\", \"charge\", \"charge\", \"charge\", \"charger\", \"charger\", \"charger\", \"charger\", \"charger\", \"charger\", \"charger\", \"charger\", \"charger\", \"charger\", \"china\", \"chinese\", \"choice\", \"choice\", \"choice\", \"choose\", \"choose\", \"choose\", \"choose\", \"choose\", \"chromecast\", \"clarity\", \"clarity\", \"clarity\", \"clarity\", \"clarity\", \"clarity\", \"clarity\", \"clarity\", \"clearity\", \"clearly\", \"clearly\", \"come\", \"come\", \"come\", \"come\", \"come\", \"come\", \"come\", \"come\", \"come\", \"come\", \"come\", \"comment\", \"company\", \"company\", \"company\", \"company\", \"company\", \"company\", \"company\", \"company\", \"company\", \"compare\", \"compare\", \"compare\", \"compare\", \"compare\", \"compare\", \"compare\", \"compare\", \"compare\", \"compare\", \"compare\", \"compare\", \"comparison\", \"complain\", \"complain\", \"complain\", \"con\", \"con\", \"con\", \"con\", \"con\", \"con\", \"con\", \"con\", \"con\", \"concern\", \"concern\", \"condition\", \"condition\", \"condition\", \"condition\", \"condition\", \"condition\", \"condition\", \"confirm\", \"connect\", \"connect\", \"connect\", \"connect\", \"connect\", \"connect\", \"connect\", \"connect\", \"connect\", \"connection\", \"connection\", \"connection\", \"connection\", \"connection\", \"contact\", \"contact\", \"contact\", \"contact\", \"contact\", \"contact\", \"contact\", \"contact\", \"contain\", \"contain\", \"continuously\", \"cool\", \"cool\", \"cool\", \"cool\", \"core\", \"core\", \"core\", \"core\", \"core\", \"coverage\", \"coverage\", \"coz\", \"crack\", \"crack\", \"crack\", \"create\", \"curve\", \"curve\", \"curve\", \"curve\", \"customer\", \"customer\", \"customer\", \"customer\", \"customer\", \"customer\", \"customer\", \"damn\", \"damn\", \"dark\", \"day\", \"day\", \"day\", \"day\", \"day\", \"day\", \"day\", \"day\", \"day\", \"day\", \"day\", \"day\", \"days\", \"days\", \"days\", \"days\", \"days\", \"days\", \"days\", \"days\", \"days\", \"days\", \"days\", \"days\", \"dead\", \"dead\", \"dead\", \"deca\", \"deca\", \"decent\", \"decent\", \"decent\", \"decent\", \"decent\", \"decent\", \"decide\", \"dedicate\", \"dedicate\", \"dedicate\", \"dedicate\", \"default\", \"default\", \"default\", \"defect\", \"defect\", \"defect\", \"defect\", \"defect\", \"defective\", \"defective\", \"defective\", \"defective\", \"defective\", \"defective\", \"degree\", \"delay\", \"delivery\", \"delivery\", \"delivery\", \"delivery\", \"delivery\", \"delivery\", \"delivery\", \"delivery\", \"delivery\", \"delivery\", \"depth\", \"depth\", \"depth\", \"depth\", \"depth\", \"depth\", \"depth\", \"depth\", \"depth\", \"depth\", \"depth\", \"description\", \"description\", \"description\", \"description\", \"description\", \"design\", \"design\", \"design\", \"design\", \"design\", \"design\", \"design\", \"design\", \"design\", \"device\", \"device\", \"device\", \"device\", \"device\", \"device\", \"device\", \"device\", \"device\", \"device\", \"device\", \"didnt\", \"difference\", \"difference\", \"difficult\", \"difficult\", \"difficult\", \"disappointment\", \"disappointment\", \"discharge\", \"discharge\", \"discharge\", \"discharge\", \"discharge\", \"discharge\", \"discharge\", \"discount\", \"display\", \"display\", \"display\", \"display\", \"display\", \"display\", \"display\", \"display\", \"display\", \"display\", \"display\", \"display\", \"dissatisfy\", \"dissatisfy\", \"dissatisfy\", \"dnt\", \"dnt\", \"dolby\", \"dolby\", \"dolby\", \"dolby\", \"dolby\", \"dolby\", \"dolby\", \"dolby\", \"dolby\", \"dont\", \"dont\", \"dont\", \"dont\", \"dont\", \"dont\", \"dont\", \"dont\", \"dont\", \"dont\", \"drain\", \"drain\", \"drain\", \"drain\", \"drain\", \"drain\", \"drain\", \"drain\", \"drain\", \"drain\", \"drain\", \"drain\", \"dual\", \"dual\", \"dual\", \"dual\", \"dual\", \"dual\", \"dual\", \"dual\", \"dual\", \"dual\", \"dual\", \"dual\", \"duel\", \"duel\", \"duplicate\", \"easy\", \"easy\", \"edge\", \"edge\", \"edge\", \"edge\", \"email\", \"email\", \"etc\", \"etc\", \"etc\", \"etc\", \"etc\", \"etc\", \"etc\", \"etc\", \"etc\", \"even\", \"even\", \"even\", \"even\", \"even\", \"even\", \"even\", \"even\", \"even\", \"even\", \"even\", \"even\", \"ever\", \"ever\", \"ever\", \"ever\", \"ever\", \"ever\", \"ever\", \"ever\", \"ever\", \"ever\", \"every\", \"every\", \"every\", \"every\", \"every\", \"every\", \"every\", \"every\", \"everything\", \"everything\", \"everything\", \"everything\", \"everything\", \"everything\", \"everything\", \"everything\", \"everything\", \"everything\", \"excellent\", \"excellent\", \"excellent\", \"excellent\", \"excellent\", \"excellent\", \"excellent\", \"excellent\", \"excellent\", \"excellent\", \"except\", \"except\", \"except\", \"except\", \"except\", \"except\", \"except\", \"except\", \"exchange\", \"exchange\", \"exchange\", \"exchange\", \"exchange\", \"exchange\", \"exchange\", \"expect\", \"expect\", \"expect\", \"expect\", \"expect\", \"expect\", \"expect\", \"expect\", \"expect\", \"expect\", \"expect\", \"expectation\", \"expectation\", \"expectation\", \"experience\", \"experience\", \"experience\", \"experience\", \"experience\", \"experience\", \"experience\", \"experience\", \"experience\", \"experience\", \"experience\", \"experience\", \"extremely\", \"fabulous\", \"facebook\", \"facility\", \"fact\", \"fall\", \"fall\", \"fantastic\", \"fantastic\", \"fantastic\", \"fantastic\", \"fantastic\", \"fast\", \"fast\", \"fast\", \"fast\", \"fast\", \"fast\", \"fast\", \"fast\", \"fast\", \"fast\", \"fast\", \"faster\", \"faster\", \"faster\", \"faster\", \"faster\", \"faulty\", \"faulty\", \"faulty\", \"feature\", \"feature\", \"feature\", \"feature\", \"feature\", \"feature\", \"feature\", \"feature\", \"feature\", \"feature\", \"feature\", \"feature\", \"fell\", \"fell\", \"felt\", \"fine\", \"fine\", \"fine\", \"fine\", \"fine\", \"fine\", \"fine\", \"fine\", \"fine\", \"fine\", \"fine\", \"first\", \"first\", \"first\", \"first\", \"first\", \"first\", \"first\", \"first\", \"first\", \"first\", \"first\", \"fix\", \"fix\", \"fix\", \"fix\", \"fix\", \"fix\", \"fix\", \"fix\", \"flash\", \"flash\", \"flash\", \"flash\", \"flash\", \"flash\", \"flicker\", \"flicker\", \"fluctuate\", \"fone\", \"fone\", \"friendly\", \"friendly\", \"friendly\", \"front\", \"front\", \"front\", \"front\", \"front\", \"front\", \"front\", \"front\", \"front\", \"front\", \"front\", \"frustrate\", \"frustrate\", \"full\", \"full\", \"full\", \"full\", \"full\", \"full\", \"full\", \"full\", \"full\", \"full\", \"full\", \"full\", \"function\", \"function\", \"function\", \"function\", \"function\", \"function\", \"function\", \"function\", \"function\", \"function\", \"functionality\", \"functionality\", \"functionality\", \"future\", \"future\", \"future\", \"future\", \"future\", \"g\", \"g\", \"g\", \"g\", \"g\", \"g\", \"g\", \"g\", \"g\", \"g\", \"g\", \"gallery\", \"gallery\", \"gallery\", \"gallery\", \"gallery\", \"gallery\", \"gallery\", \"gallery\", \"gallery\", \"game\", \"game\", \"game\", \"game\", \"game\", \"game\", \"game\", \"game\", \"game\", \"game\", \"gb\", \"gb\", \"gb\", \"gb\", \"gb\", \"gb\", \"gb\", \"gb\", \"gb\", \"gb\", \"gb\", \"get\", \"get\", \"get\", \"get\", \"get\", \"get\", \"get\", \"get\", \"get\", \"get\", \"get\", \"get\", \"gift\", \"gift\", \"give\", \"give\", \"give\", \"give\", \"give\", \"give\", \"give\", \"give\", \"give\", \"give\", \"give\", \"glass\", \"glass\", \"glass\", \"glass\", \"glass\", \"glass\", \"glass\", \"glass\", \"go\", \"go\", \"go\", \"go\", \"go\", \"go\", \"go\", \"go\", \"go\", \"go\", \"go\", \"go\", \"gorilla\", \"gorilla\", \"gorilla\", \"gorilla\", \"gorilla\", \"gorilla\", \"gr\", \"gr\", \"graphics\", \"great\", \"great\", \"great\", \"great\", \"great\", \"great\", \"great\", \"great\", \"great\", \"great\", \"gud\", \"gud\", \"gud\", \"gud\", \"gud\", \"gud\", \"h\", \"h\", \"hai\", \"hai\", \"hai\", \"handset\", \"handset\", \"handset\", \"handset\", \"handset\", \"handset\", \"handset\", \"handset\", \"handset\", \"handy\", \"handy\", \"hang\", \"hang\", \"hang\", \"hang\", \"hang\", \"hang\", \"hang\", \"hang\", \"hang\", \"hang\", \"hang\", \"hang\", \"happy\", \"happy\", \"happy\", \"happy\", \"happy\", \"happy\", \"happy\", \"happy\", \"happy\", \"happy\", \"happy\", \"hardware\", \"hardware\", \"hardware\", \"hardware\", \"hardware\", \"hardware\", \"hardware\", \"hardware\", \"head\", \"head\", \"head\", \"headset\", \"headset\", \"headset\", \"headset\", \"headset\", \"heavy\", \"heavy\", \"heavy\", \"heavy\", \"heavy\", \"heavy\", \"heavy\", \"heavy\", \"heavy\", \"high\", \"high\", \"high\", \"high\", \"high\", \"high\", \"high\", \"high\", \"high\", \"high\", \"high\", \"higher\", \"higher\", \"hit\", \"hit\", \"hit\", \"ho\", \"ho\", \"hold\", \"hold\", \"hold\", \"hold\", \"home\", \"home\", \"home\", \"honor\", \"honor\", \"honor\", \"honor\", \"honor\", \"honor\", \"honor\", \"horrible\", \"horrible\", \"horrible\", \"hota\", \"hours\", \"hours\", \"hours\", \"hours\", \"hours\", \"hours\", \"hours\", \"hours\", \"hours\", \"hours\", \"however\", \"however\", \"however\", \"however\", \"however\", \"hrs\", \"hrs\", \"hrs\", \"hrs\", \"hrs\", \"hrs\", \"hrs\", \"hrs\", \"hrs\", \"hrs\", \"hv\", \"iam\", \"iam\", \"image\", \"image\", \"image\", \"image\", \"image\", \"image\", \"image\", \"immediately\", \"immediately\", \"important\", \"important\", \"important\", \"impress\", \"incoming\", \"incoming\", \"incoming\", \"incoming\", \"incoming\", \"incoming\", \"india\", \"inform\", \"information\", \"information\", \"information\", \"initially\", \"initially\", \"initially\", \"insert\", \"insert\", \"inside\", \"inside\", \"interest\", \"interface\", \"interface\", \"interface\", \"interface\", \"interface\", \"invoice\", \"invoice\", \"iphone\", \"iron\", \"iron\", \"issue\", \"issue\", \"issue\", \"issue\", \"issue\", \"issue\", \"issue\", \"issue\", \"issue\", \"issue\", \"issue\", \"issue\", \"jack\", \"jack\", \"jack\", \"jack\", \"jack\", \"jack\", \"jio\", \"jio\", \"jio\", \"jio\", \"jio\", \"jio\", \"jio\", \"jio\", \"job\", \"k\", \"k\", \"k\", \"k\", \"k\", \"k\", \"k\", \"k\", \"k\", \"k\", \"k\", \"k\", \"ka\", \"ka\", \"key\", \"key\", \"key\", \"key\", \"key\", \"key\", \"key\", \"ki\", \"ki\", \"killer\", \"killer\", \"killer\", \"killer\", \"killer\", \"killer\", \"killer\", \"killer\", \"killer\", \"killer\", \"ko\", \"koi\", \"koi\", \"koi\", \"kuch\", \"kuch\", \"lag\", \"lag\", \"lag\", \"lag\", \"lag\", \"lag\", \"lag\", \"lag\", \"lag\", \"lag\", \"last\", \"last\", \"last\", \"last\", \"last\", \"last\", \"last\", \"last\", \"last\", \"last\", \"last\", \"last\", \"lenevo\", \"lenevo\", \"lenevo\", \"lenova\", \"lenova\", \"lens\", \"lens\", \"life\", \"life\", \"life\", \"life\", \"life\", \"life\", \"life\", \"life\", \"life\", \"life\", \"light\", \"light\", \"light\", \"light\", \"light\", \"light\", \"light\", \"light\", \"light\", \"like\", \"like\", \"like\", \"like\", \"like\", \"like\", \"like\", \"like\", \"like\", \"like\", \"like\", \"like\", \"line\", \"line\", \"line\", \"list\", \"list\", \"little\", \"little\", \"little\", \"little\", \"little\", \"little\", \"little\", \"little\", \"little\", \"lock\", \"lock\", \"lock\", \"longer\", \"look\", \"look\", \"look\", \"look\", \"look\", \"look\", \"look\", \"look\", \"look\", \"look\", \"look\", \"look\", \"loss\", \"lot\", \"lot\", \"lot\", \"lot\", \"lot\", \"lot\", \"lot\", \"lot\", \"lot\", \"lot\", \"lot\", \"love\", \"love\", \"love\", \"love\", \"love\", \"love\", \"love\", \"love\", \"love\", \"love\", \"love\", \"lovely\", \"lovely\", \"lover\", \"lovers\", \"low\", \"low\", \"low\", \"low\", \"low\", \"low\", \"low\", \"low\", \"low\", \"low\", \"low\", \"low\", \"lte\", \"lte\", \"lte\", \"mah\", \"mah\", \"mah\", \"mah\", \"mah\", \"mah\", \"mah\", \"mah\", \"mah\", \"mah\", \"mah\", \"mah\", \"make\", \"make\", \"make\", \"make\", \"make\", \"make\", \"make\", \"make\", \"make\", \"make\", \"make\", \"manufacture\", \"many\", \"many\", \"many\", \"many\", \"many\", \"many\", \"many\", \"many\", \"many\", \"many\", \"many\", \"mark\", \"mark\", \"mark\", \"mark\", \"mark\", \"mark\", \"mark\", \"mark\", \"mark\", \"mark\", \"match\", \"match\", \"maybe\", \"mediatek\", \"mediatek\", \"mediatek\", \"mediatek\", \"medium\", \"medium\", \"memory\", \"memory\", \"memory\", \"memory\", \"memory\", \"memory\", \"memory\", \"memory\", \"menu\", \"mera\", \"message\", \"message\", \"message\", \"message\", \"message\", \"metal\", \"mh\", \"mh\", \"mic\", \"mic\", \"mic\", \"might\", \"might\", \"might\", \"might\", \"mind\", \"mind\", \"mind\", \"minor\", \"mins\", \"mins\", \"mins\", \"mins\", \"mins\", \"mins\", \"minute\", \"minute\", \"minutes\", \"minutes\", \"minutes\", \"minutes\", \"minutes\", \"minutes\", \"minutes\", \"miss\", \"miss\", \"miss\", \"miss\", \"miss\", \"miss\", \"miss\", \"miss\", \"miss\", \"miss\", \"miss\", \"mode\", \"mode\", \"mode\", \"mode\", \"mode\", \"mode\", \"mode\", \"mode\", \"mode\", \"mode\", \"mode\", \"mode\", \"moderate\", \"moderate\", \"money\", \"money\", \"money\", \"money\", \"money\", \"money\", \"money\", \"money\", \"money\", \"money\", \"money\", \"money\", \"month\", \"month\", \"month\", \"month\", \"month\", \"month\", \"month\", \"month\", \"month\", \"month\", \"month\", \"months\", \"months\", \"months\", \"months\", \"months\", \"months\", \"months\", \"months\", \"months\", \"months\", \"months\", \"months\", \"moreover\", \"moreover\", \"morning\", \"motherboard\", \"motion\", \"motion\", \"moto\", \"moto\", \"moto\", \"moto\", \"moto\", \"moto\", \"moto\", \"moto\", \"motorola\", \"motorola\", \"motorola\", \"motorola\", \"motorola\", \"mp\", \"mp\", \"mp\", \"mp\", \"mp\", \"mp\", \"mp\", \"mp\", \"mp\", \"mp\", \"much\", \"much\", \"much\", \"much\", \"much\", \"much\", \"much\", \"much\", \"much\", \"much\", \"much\", \"much\", \"multi\", \"multi\", \"multitasking\", \"multitasking\", \"multitasking\", \"music\", \"music\", \"music\", \"music\", \"music\", \"music\", \"music\", \"music\", \"music\", \"music\", \"music\", \"music\", \"must\", \"must\", \"must\", \"must\", \"must\", \"must\", \"n\", \"n\", \"n\", \"n\", \"n\", \"n\", \"n\", \"n\", \"nahi\", \"nahi\", \"nahi\", \"navigation\", \"navigation\", \"navigation\", \"nd\", \"nd\", \"nd\", \"nd\", \"need\", \"need\", \"need\", \"need\", \"need\", \"need\", \"need\", \"need\", \"need\", \"need\", \"need\", \"need\", \"negative\", \"network\", \"network\", \"network\", \"network\", \"network\", \"network\", \"network\", \"network\", \"network\", \"network\", \"network\", \"network\", \"never\", \"never\", \"never\", \"never\", \"never\", \"never\", \"never\", \"never\", \"never\", \"never\", \"never\", \"never\", \"new\", \"new\", \"new\", \"new\", \"new\", \"new\", \"new\", \"new\", \"new\", \"nfc\", \"nhi\", \"nice\", \"nice\", \"nice\", \"nice\", \"nice\", \"nice\", \"nice\", \"nice\", \"nice\", \"nice\", \"nice\", \"nice\", \"nokia\", \"nokia\", \"not\", \"not\", \"not\", \"not\", \"note\", \"note\", \"note\", \"note\", \"note\", \"note\", \"note\", \"note\", \"note\", \"note\", \"note\", \"note\", \"notice\", \"notice\", \"notification\", \"notification\", \"notification\", \"notification\", \"notification\", \"notification\", \"notification\", \"nougat\", \"nt\", \"number\", \"number\", \"nyc\", \"nyc\", \"object\", \"occur\", \"occur\", \"oct\", \"ok\", \"ok\", \"ok\", \"ok\", \"ok\", \"ok\", \"ok\", \"ok\", \"ok\", \"ok\", \"one\", \"one\", \"one\", \"one\", \"one\", \"one\", \"one\", \"one\", \"one\", \"one\", \"one\", \"one\", \"operate\", \"operate\", \"operate\", \"operate\", \"operation\", \"operation\", \"option\", \"option\", \"option\", \"option\", \"option\", \"option\", \"option\", \"option\", \"option\", \"option\", \"option\", \"option\", \"order\", \"order\", \"order\", \"order\", \"order\", \"order\", \"order\", \"oreo\", \"oreo\", \"oreo\", \"oreo\", \"oreo\", \"oreo\", \"original\", \"original\", \"original\", \"others\", \"others\", \"others\", \"others\", \"output\", \"output\", \"outstanding\", \"overall\", \"overall\", \"overall\", \"overall\", \"overall\", \"overall\", \"overall\", \"overall\", \"overall\", \"overall\", \"overall\", \"overall\", \"package\", \"package\", \"package\", \"package\", \"paisa\", \"par\", \"par\", \"par\", \"par\", \"party\", \"party\", \"past\", \"past\", \"patch\", \"patch\", \"pc\", \"pc\", \"percent\", \"percentage\", \"percentage\", \"performance\", \"performance\", \"performance\", \"performance\", \"performance\", \"performance\", \"performance\", \"performance\", \"performance\", \"performance\", \"performance\", \"performance\", \"ph\", \"ph\", \"phon\", \"photo\", \"photo\", \"photos\", \"photos\", \"photos\", \"photos\", \"photos\", \"photos\", \"pic\", \"pick\", \"pick\", \"piece\", \"piece\", \"piece\", \"piece\", \"piece\", \"pin\", \"place\", \"place\", \"place\", \"place\", \"play\", \"play\", \"play\", \"play\", \"play\", \"play\", \"play\", \"play\", \"play\", \"player\", \"player\", \"player\", \"player\", \"please\", \"please\", \"please\", \"please\", \"please\", \"please\", \"please\", \"please\", \"please\", \"please\", \"please\", \"please\", \"pls\", \"pls\", \"pls\", \"pls\", \"pls\", \"pls\", \"pls\", \"pls\", \"pls\", \"pls\", \"plug\", \"plus\", \"plus\", \"plus\", \"plus\", \"plus\", \"plus\", \"plus\", \"plz\", \"plz\", \"plz\", \"plz\", \"plz\", \"plz\", \"policy\", \"policy\", \"policy\", \"policy\", \"poor\", \"poor\", \"poor\", \"poor\", \"poor\", \"poor\", \"poor\", \"poor\", \"poor\", \"poor\", \"poor\", \"poor\", \"powerful\", \"powerful\", \"present\", \"price\", \"price\", \"price\", \"price\", \"price\", \"price\", \"price\", \"price\", \"price\", \"price\", \"price\", \"price\", \"pro\", \"problem\", \"problem\", \"problem\", \"problem\", \"problem\", \"problem\", \"problem\", \"problem\", \"problem\", \"problem\", \"problem\", \"problem\", \"processor\", \"processor\", \"processor\", \"processor\", \"processor\", \"processor\", \"processor\", \"processor\", \"processor\", \"processor\", \"processor\", \"produce\", \"produce\", \"produce\", \"products\", \"products\", \"products\", \"products\", \"products\", \"products\", \"products\", \"products\", \"products\", \"proof\", \"proof\", \"proof\", \"proper\", \"proper\", \"proper\", \"proper\", \"proper\", \"proper\", \"proper\", \"properly\", \"properly\", \"properly\", \"properly\", \"properly\", \"properly\", \"properly\", \"properly\", \"properly\", \"properly\", \"properly\", \"properly\", \"pros\", \"pros\", \"pros\", \"pros\", \"pros\", \"pros\", \"protection\", \"purchase\", \"purchase\", \"purchase\", \"purchase\", \"purchase\", \"purchase\", \"purchase\", \"purchase\", \"purchase\", \"purchase\", \"purchase\", \"purpose\", \"purpose\", \"purpose\", \"quality\", \"quality\", \"quality\", \"quality\", \"quality\", \"quality\", \"quality\", \"quality\", \"quality\", \"quality\", \"quality\", \"quality\", \"raha\", \"raise\", \"raise\", \"raise\", \"raise\", \"raise\", \"ram\", \"ram\", \"ram\", \"ram\", \"ram\", \"ram\", \"ram\", \"ram\", \"ram\", \"range\", \"range\", \"range\", \"range\", \"range\", \"range\", \"range\", \"range\", \"range\", \"range\", \"range\", \"range\", \"rate\", \"rate\", \"rate\", \"rd\", \"reach\", \"reach\", \"reachable\", \"read\", \"read\", \"ready\", \"really\", \"really\", \"really\", \"really\", \"really\", \"really\", \"really\", \"really\", \"really\", \"really\", \"really\", \"really\", \"rear\", \"rear\", \"rear\", \"rear\", \"rear\", \"rear\", \"rear\", \"rear\", \"rear\", \"reasonable\", \"reasonable\", \"reasonable\", \"receive\", \"receive\", \"receive\", \"receive\", \"receive\", \"receive\", \"receive\", \"receive\", \"receive\", \"receive\", \"receive\", \"receive\", \"record\", \"record\", \"record\", \"record\", \"record\", \"recorder\", \"recorder\", \"recorder\", \"recorder\", \"redmi\", \"redmi\", \"redmi\", \"redmi\", \"redmi\", \"redmi\", \"redmi\", \"redmi\", \"redmi\", \"redmi\", \"redmi\", \"reduce\", \"reduce\", \"remain\", \"remain\", \"replace\", \"replace\", \"replace\", \"replace\", \"replace\", \"replace\", \"replace\", \"replace\", \"replacement\", \"replacement\", \"replacement\", \"replacement\", \"replacement\", \"replacement\", \"replacement\", \"replacement\", \"replacement\", \"reply\", \"reply\", \"report\", \"report\", \"reset\", \"reset\", \"reset\", \"result\", \"result\", \"return\", \"return\", \"return\", \"return\", \"return\", \"return\", \"return\", \"return\", \"return\", \"return\", \"return\", \"return\", \"right\", \"right\", \"right\", \"right\", \"right\", \"ringtone\", \"rom\", \"rom\", \"rom\", \"rs\", \"rs\", \"rs\", \"rs\", \"rs\", \"rs\", \"rs\", \"sad\", \"sad\", \"sad\", \"sale\", \"sale\", \"sale\", \"sale\", \"samsung\", \"samsung\", \"samsung\", \"samsung\", \"samsung\", \"samsung\", \"samsung\", \"scanner\", \"scanner\", \"scratch\", \"scratch\", \"scratch\", \"scratch\", \"scratch\", \"scratch\", \"screen\", \"screen\", \"screen\", \"screen\", \"screen\", \"screen\", \"screen\", \"screen\", \"screen\", \"screen\", \"screen\", \"screen\", \"se\", \"se\", \"second\", \"second\", \"second\", \"second\", \"second\", \"second\", \"second\", \"second\", \"second\", \"secondary\", \"security\", \"security\", \"see\", \"see\", \"see\", \"see\", \"see\", \"see\", \"see\", \"see\", \"see\", \"see\", \"see\", \"segment\", \"segment\", \"segment\", \"segment\", \"select\", \"seller\", \"seller\", \"seller\", \"sense\", \"sensor\", \"sensor\", \"sensor\", \"sensor\", \"sensor\", \"separate\", \"separate\", \"september\", \"service\", \"service\", \"service\", \"service\", \"service\", \"service\", \"service\", \"service\", \"service\", \"service\", \"service\", \"set\", \"set\", \"set\", \"set\", \"set\", \"set\", \"set\", \"set\", \"set\", \"settings\", \"settings\", \"settings\", \"settings\", \"setup\", \"setup\", \"sharp\", \"show\", \"show\", \"show\", \"show\", \"show\", \"show\", \"show\", \"show\", \"show\", \"shut\", \"side\", \"side\", \"side\", \"side\", \"side\", \"side\", \"side\", \"side\", \"side\", \"side\", \"signal\", \"signal\", \"signal\", \"signal\", \"signal\", \"signal\", \"signal\", \"signal\", \"signal\", \"signal\", \"sim\", \"sim\", \"sim\", \"sim\", \"sim\", \"sim\", \"sim\", \"sim\", \"sim\", \"sim\", \"simply\", \"simply\", \"simply\", \"simply\", \"slight\", \"slight\", \"slow\", \"slow\", \"slow\", \"slow\", \"slow\", \"slow\", \"slow\", \"slow\", \"slow\", \"slow\", \"slowly\", \"slowly\", \"slowly\", \"small\", \"small\", \"small\", \"small\", \"small\", \"small\", \"smartphone\", \"smartphone\", \"smartphone\", \"smartphone\", \"smartphone\", \"smartphone\", \"smartphone\", \"smartphone\", \"smartphones\", \"smooth\", \"smooth\", \"smooth\", \"smooth\", \"smooth\", \"smooth\", \"smooth\", \"smooth\", \"smooth\", \"smoothly\", \"smoothly\", \"smoothly\", \"smoothly\", \"smoothly\", \"snapdragon\", \"snapdragon\", \"snapdragon\", \"soft\", \"soft\", \"soft\", \"soft\", \"software\", \"software\", \"software\", \"software\", \"software\", \"software\", \"software\", \"software\", \"software\", \"software\", \"software\", \"software\", \"sometime\", \"sometime\", \"sometime\", \"songs\", \"soon\", \"soon\", \"soon\", \"soon\", \"soon\", \"sound\", \"sound\", \"sound\", \"sound\", \"sound\", \"sound\", \"sound\", \"sound\", \"sound\", \"sound\", \"sound\", \"sound\", \"space\", \"space\", \"space\", \"speak\", \"speak\", \"speaker\", \"speaker\", \"speaker\", \"speaker\", \"speaker\", \"speaker\", \"speaker\", \"speaker\", \"speaker\", \"speaker\", \"special\", \"specifications\", \"specifications\", \"specifications\", \"specifications\", \"specifications\", \"specifications\", \"specifications\", \"specifications\", \"spend\", \"spend\", \"spend\", \"spend\", \"spend\", \"spend\", \"spend\", \"split\", \"split\", \"standard\", \"star\", \"star\", \"star\", \"star\", \"star\", \"star\", \"star\", \"star\", \"start\", \"start\", \"start\", \"start\", \"start\", \"start\", \"start\", \"start\", \"state\", \"status\", \"still\", \"still\", \"still\", \"still\", \"still\", \"still\", \"still\", \"still\", \"still\", \"still\", \"still\", \"stock\", \"stock\", \"stock\", \"stock\", \"stock\", \"stock\", \"stock\", \"stock\", \"stock\", \"stock\", \"stop\", \"stop\", \"stop\", \"stop\", \"stop\", \"stop\", \"stop\", \"stop\", \"stop\", \"strength\", \"strength\", \"strength\", \"strength\", \"stylish\", \"suddenly\", \"suddenly\", \"suddenly\", \"suddenly\", \"sufficient\", \"sufficient\", \"super\", \"super\", \"super\", \"super\", \"super\", \"super\", \"super\", \"super\", \"superb\", \"superb\", \"superb\", \"superb\", \"superb\", \"superb\", \"superb\", \"superb\", \"supply\", \"supply\", \"support\", \"support\", \"support\", \"support\", \"support\", \"support\", \"support\", \"support\", \"support\", \"support\", \"support\", \"support\", \"suppose\", \"suppose\", \"suppose\", \"switch\", \"switch\", \"switch\", \"switch\", \"switch\", \"switch\", \"switch\", \"switch\", \"system\", \"system\", \"system\", \"system\", \"system\", \"system\", \"system\", \"system\", \"take\", \"take\", \"take\", \"take\", \"take\", \"take\", \"take\", \"take\", \"take\", \"take\", \"take\", \"take\", \"team\", \"team\", \"team\", \"technician\", \"technician\", \"temperature\", \"temperature\", \"term\", \"term\", \"term\", \"term\", \"tha\", \"tha\", \"thank\", \"thank\", \"thank\", \"thank\", \"thank\", \"thank\", \"thank\", \"thank\", \"thank\", \"thats\", \"third\", \"third\", \"third\", \"time\", \"time\", \"time\", \"time\", \"time\", \"time\", \"time\", \"time\", \"time\", \"time\", \"time\", \"time\", \"top\", \"top\", \"top\", \"top\", \"top\", \"touch\", \"touch\", \"touch\", \"touch\", \"touch\", \"touch\", \"touch\", \"touch\", \"touch\", \"touch\", \"touch\", \"tough\", \"transfer\", \"tray\", \"turbo\", \"turbo\", \"turbo\", \"turbo\", \"turbo\", \"turbo\", \"turbo\", \"turbo\", \"turbo\", \"turbo\", \"turbo\", \"turbo\", \"turbocharger\", \"tv\", \"tv\", \"tv\", \"tv\", \"u\", \"u\", \"u\", \"u\", \"u\", \"u\", \"u\", \"u\", \"u\", \"unable\", \"unable\", \"unable\", \"unable\", \"unable\", \"unable\", \"unable\", \"unhappy\", \"unlock\", \"unlock\", \"update\", \"update\", \"update\", \"update\", \"update\", \"update\", \"update\", \"update\", \"update\", \"update\", \"update\", \"update\", \"upgrade\", \"upgrade\", \"upgrade\", \"upgrade\", \"upto\", \"upto\", \"upto\", \"upto\", \"usage\", \"usage\", \"usage\", \"usage\", \"usage\", \"usage\", \"usage\", \"usage\", \"usage\", \"usage\", \"usb\", \"usb\", \"usb\", \"use\", \"use\", \"use\", \"use\", \"use\", \"use\", \"use\", \"use\", \"use\", \"use\", \"use\", \"use\", \"useful\", \"useful\", \"users\", \"users\", \"users\", \"users\", \"users\", \"v\", \"v\", \"v\", \"v\", \"value\", \"value\", \"value\", \"value\", \"value\", \"value\", \"value\", \"value\", \"venom\", \"venom\", \"vibe\", \"vibe\", \"vibe\", \"vibe\", \"video\", \"video\", \"video\", \"video\", \"video\", \"video\", \"video\", \"video\", \"video\", \"voice\", \"voice\", \"voice\", \"voice\", \"voice\", \"voice\", \"volte\", \"volte\", \"volte\", \"volte\", \"vr\", \"w\", \"w\", \"want\", \"want\", \"want\", \"want\", \"want\", \"want\", \"want\", \"want\", \"want\", \"want\", \"want\", \"want\", \"warm\", \"warm\", \"warm\", \"warm\", \"warm\", \"warranty\", \"warranty\", \"warranty\", \"warranty\", \"wastage\", \"waste\", \"waste\", \"waste\", \"waste\", \"waste\", \"waste\", \"waste\", \"waste\", \"waste\", \"waste\", \"waste\", \"way\", \"way\", \"way\", \"way\", \"way\", \"way\", \"way\", \"weak\", \"weak\", \"weight\", \"weight\", \"weight\", \"well\", \"well\", \"well\", \"well\", \"well\", \"well\", \"well\", \"well\", \"well\", \"well\", \"west\", \"whether\", \"white\", \"whole\", \"whole\", \"whole\", \"wireless\", \"wise\", \"wise\", \"wise\", \"wise\", \"within\", \"within\", \"within\", \"within\", \"within\", \"within\", \"within\", \"within\", \"within\", \"within\", \"within\", \"wonderful\", \"wonderful\", \"word\", \"word\", \"word\", \"word\", \"word\", \"world\", \"worst\", \"worst\", \"worst\", \"worst\", \"worst\", \"worst\", \"worst\", \"worst\", \"worst\", \"worst\", \"worst\", \"worst\", \"worth\", \"worth\", \"worth\", \"worth\", \"worth\", \"worth\", \"worth\", \"worth\", \"worth\", \"worth\", \"worthless\", \"worthless\", \"worthy\", \"worthy\", \"worthy\", \"wow\", \"wrost\", \"wrost\", \"x\", \"x\", \"x\", \"x\", \"x\", \"x\", \"x\", \"x\", \"ye\", \"year\", \"year\", \"year\", \"year\", \"year\", \"year\", \"yesterday\", \"yesterday\", \"zoom\"]}, \"R\": 30, \"lambda.step\": 0.01, \"plot.opts\": {\"xlab\": \"PC1\", \"ylab\": \"PC2\"}, \"topic.order\": [11, 2, 8, 4, 1, 9, 12, 10, 6, 5, 7, 3]};\n",
       "\n",
       "function LDAvis_load_lib(url, callback){\n",
       "  var s = document.createElement('script');\n",
       "  s.src = url;\n",
       "  s.async = true;\n",
       "  s.onreadystatechange = s.onload = callback;\n",
       "  s.onerror = function(){console.warn(\"failed to load library \" + url);};\n",
       "  document.getElementsByTagName(\"head\")[0].appendChild(s);\n",
       "}\n",
       "\n",
       "if(typeof(LDAvis) !== \"undefined\"){\n",
       "   // already loaded: just create the visualization\n",
       "   !function(LDAvis){\n",
       "       new LDAvis(\"#\" + \"ldavis_el921399754309291042386956065\", ldavis_el921399754309291042386956065_data);\n",
       "   }(LDAvis);\n",
       "}else if(typeof define === \"function\" && define.amd){\n",
       "   // require.js is available: use it to load d3/LDAvis\n",
       "   require.config({paths: {d3: \"https://cdnjs.cloudflare.com/ajax/libs/d3/3.5.5/d3.min\"}});\n",
       "   require([\"d3\"], function(d3){\n",
       "      window.d3 = d3;\n",
       "      LDAvis_load_lib(\"https://cdn.rawgit.com/bmabey/pyLDAvis/files/ldavis.v1.0.0.js\", function(){\n",
       "        new LDAvis(\"#\" + \"ldavis_el921399754309291042386956065\", ldavis_el921399754309291042386956065_data);\n",
       "      });\n",
       "    });\n",
       "}else{\n",
       "    // require.js not available: dynamically load d3 & LDAvis\n",
       "    LDAvis_load_lib(\"https://cdnjs.cloudflare.com/ajax/libs/d3/3.5.5/d3.min.js\", function(){\n",
       "         LDAvis_load_lib(\"https://cdn.rawgit.com/bmabey/pyLDAvis/files/ldavis.v1.0.0.js\", function(){\n",
       "                 new LDAvis(\"#\" + \"ldavis_el921399754309291042386956065\", ldavis_el921399754309291042386956065_data);\n",
       "            })\n",
       "         });\n",
       "}\n",
       "</script>"
      ],
      "text/plain": [
       "PreparedData(topic_coordinates=              x         y  topics  cluster       Freq\n",
       "topic                                                \n",
       "10    -0.142412  0.043296       1        1  15.337894\n",
       "1     -0.034025 -0.097924       2        1  11.184266\n",
       "7      0.119871 -0.004387       3        1  10.251092\n",
       "3     -0.181589  0.102141       4        1   9.232066\n",
       "0      0.072311  0.021333       5        1   8.352421\n",
       "8     -0.022106 -0.036865       6        1   8.120548\n",
       "11    -0.113049 -0.117001       7        1   7.950552\n",
       "9      0.099401 -0.210530       8        1   7.524906\n",
       "5     -0.132627 -0.020018       9        1   6.047786\n",
       "4      0.138311  0.089037      10        1   5.418051\n",
       "6      0.025459  0.186769      11        1   5.384968\n",
       "2      0.170454  0.044150      12        1   5.195450, topic_info=        Term         Freq        Total Category  logprob  loglift\n",
       "181     nice  1420.000000  1420.000000  Default  30.0000  30.0000\n",
       "149      bad  1086.000000  1086.000000  Default  29.0000  29.0000\n",
       "49   awesome   746.000000   746.000000  Default  28.0000  28.0000\n",
       "93      best   903.000000   903.000000  Default  27.0000  27.0000\n",
       "51         k  1802.000000  1802.000000  Default  26.0000  26.0000\n",
       "..       ...          ...          ...      ...      ...      ...\n",
       "25      like    74.105965   947.053223  Topic12  -4.4811   0.4095\n",
       "3     backup    62.062836   569.538940  Topic12  -4.6585   0.7407\n",
       "37      back    65.252075   733.232666  Topic12  -4.6084   0.5382\n",
       "211   device    54.124527   435.002869  Topic12  -4.7953   0.8733\n",
       "17       get    65.425140  1734.280396  Topic12  -4.6057  -0.3201\n",
       "\n",
       "[761 rows x 6 columns], token_table=      Topic      Freq       Term\n",
       "term                            \n",
       "1032      2  0.944229        aap\n",
       "511       1  0.212646       able\n",
       "511       2  0.049072       able\n",
       "511       4  0.089965       able\n",
       "511       5  0.008179       able\n",
       "...     ...       ...        ...\n",
       "322       7  0.018213       year\n",
       "322      10  0.036426       year\n",
       "947       4  0.078980  yesterday\n",
       "947       7  0.895108  yesterday\n",
       "521       2  0.977156       zoom\n",
       "\n",
       "[2957 rows x 3 columns], R=30, lambda_step=0.01, plot_opts={'xlab': 'PC1', 'ylab': 'PC2'}, topic_order=[11, 2, 8, 4, 1, 9, 12, 10, 6, 5, 7, 3])"
      ]
     },
     "execution_count": 56,
     "metadata": {},
     "output_type": "execute_result"
    }
   ],
   "source": [
    "pyLDAvis.gensim.prepare(LdaModel_ne, bow_corpus, dictionary)\n"
   ]
  },
  {
   "cell_type": "code",
   "execution_count": 60,
   "metadata": {},
   "outputs": [
    {
     "name": "stdout",
     "output_type": "stream",
     "text": [
      "[(1, [('k', 0.093441494), ('note', 0.08002537), ('better', 0.020916067), ('like', 0.013064588), ('set', 0.013032104), ('buy', 0.011953106), ('use', 0.010884758), ('compare', 0.010670593), ('music', 0.010173565), ('feature', 0.008694828)]), (0, [('best', 0.078524284), ('price', 0.043507177), ('fast', 0.037084907), ('drain', 0.024682302), ('performance', 0.020431714), ('processor', 0.020343844), ('mode', 0.016654542), ('use', 0.016628945), ('range', 0.015985237), ('delivery', 0.015944215)]), (11, [('call', 0.049073257), ('sim', 0.030102253), ('support', 0.023658013), ('g', 0.023016863), ('network', 0.020875055), ('use', 0.020005714), ('volte', 0.019553382), ('jio', 0.017898338), ('signal', 0.015612286), ('show', 0.014638684)]), (9, [('ok', 0.035200313), ('feature', 0.025795477), ('one', 0.02562713), ('like', 0.02288214), ('dual', 0.018667435), ('screen', 0.018627958), ('expect', 0.017829739), ('front', 0.017818844), ('call', 0.017781341), ('back', 0.017329633)]), (4, [('quality', 0.08709077), ('poor', 0.071529485), ('waste', 0.036959685), ('super', 0.03165133), ('glass', 0.026961237), ('sound', 0.024299968), ('screen', 0.023793848), ('money', 0.019890303), ('buy', 0.019728309), ('speaker', 0.017080287)]), (7, [('nice', 0.10424396), ('great', 0.038556546), ('look', 0.019991782), ('performance', 0.016655283), ('money', 0.01648269), ('value', 0.015675345), ('charge', 0.0156448), ('quality', 0.0152661875), ('use', 0.014734673), ('bite', 0.013372363)]), (2, [('awesome', 0.098333105), ('excellent', 0.060633913), ('problem', 0.05793905), ('superb', 0.03654885), ('amaze', 0.02954004), ('performance', 0.024891596), ('feature', 0.024778716), ('price', 0.018833404), ('everything', 0.018222323), ('much', 0.016681705)]), (6, [('bad', 0.121826515), ('worst', 0.07613299), ('buy', 0.05414886), ('worth', 0.027648794), ('love', 0.024989784), ('ever', 0.020977136), ('money', 0.020382008), ('life', 0.01843792), ('experience', 0.018243546), ('screen', 0.017007187)]), (3, [('service', 0.037763897), ('update', 0.03338819), ('amazon', 0.03159177), ('get', 0.02895862), ('buy', 0.02641482), ('give', 0.019393075), ('please', 0.015109635), ('problem', 0.014669882), ('new', 0.01391826), ('back', 0.013222438)]), (10, [('issue', 0.039000083), ('get', 0.031549823), ('use', 0.029235333), ('buy', 0.024032868), ('charge', 0.02001558), ('return', 0.018632917), ('amazon', 0.01657194), ('also', 0.014818245), ('even', 0.01441544), ('problem', 0.014367591)])]\n"
     ]
    }
   ],
   "source": [
    "print(LdaModel_ne .show_topics(formatted=False))"
   ]
  },
  {
   "cell_type": "code",
   "execution_count": 62,
   "metadata": {},
   "outputs": [
    {
     "data": {
      "text/html": [
       "<div>\n",
       "<style scoped>\n",
       "    .dataframe tbody tr th:only-of-type {\n",
       "        vertical-align: middle;\n",
       "    }\n",
       "\n",
       "    .dataframe tbody tr th {\n",
       "        vertical-align: top;\n",
       "    }\n",
       "\n",
       "    .dataframe thead th {\n",
       "        text-align: right;\n",
       "    }\n",
       "</style>\n",
       "<table border=\"1\" class=\"dataframe\">\n",
       "  <thead>\n",
       "    <tr style=\"text-align: right;\">\n",
       "      <th></th>\n",
       "      <th>Document_No</th>\n",
       "      <th>Dominant_Topic</th>\n",
       "      <th>Topic_Perc_Contrib</th>\n",
       "      <th>Keywords</th>\n",
       "      <th>Text</th>\n",
       "    </tr>\n",
       "  </thead>\n",
       "  <tbody>\n",
       "    <tr>\n",
       "      <th>0</th>\n",
       "      <td>0</td>\n",
       "      <td>5.0</td>\n",
       "      <td>0.6944</td>\n",
       "      <td>charger, problem, receive, charge, update, net...</td>\n",
       "      <td>[good, need, update, improvements]</td>\n",
       "    </tr>\n",
       "    <tr>\n",
       "      <th>1</th>\n",
       "      <td>1</td>\n",
       "      <td>0.0</td>\n",
       "      <td>0.4391</td>\n",
       "      <td>best, price, fast, drain, performance, process...</td>\n",
       "      <td>[worst, mobile, buy, ever, battery, drain, lik...</td>\n",
       "    </tr>\n",
       "    <tr>\n",
       "      <th>2</th>\n",
       "      <td>2</td>\n",
       "      <td>3.0</td>\n",
       "      <td>0.8167</td>\n",
       "      <td>service, update, amazon, get, buy, give, pleas...</td>\n",
       "      <td>[get, cash, back, already, january]</td>\n",
       "    </tr>\n",
       "    <tr>\n",
       "      <th>3</th>\n",
       "      <td>3</td>\n",
       "      <td>0.0</td>\n",
       "      <td>0.0833</td>\n",
       "      <td>best, price, fast, drain, performance, process...</td>\n",
       "      <td>[good]</td>\n",
       "    </tr>\n",
       "    <tr>\n",
       "      <th>4</th>\n",
       "      <td>4</td>\n",
       "      <td>3.0</td>\n",
       "      <td>0.8066</td>\n",
       "      <td>service, update, amazon, get, buy, give, pleas...</td>\n",
       "      <td>[worst, phone, everthey, change, last, phone, ...</td>\n",
       "    </tr>\n",
       "    <tr>\n",
       "      <th>5</th>\n",
       "      <td>5</td>\n",
       "      <td>3.0</td>\n",
       "      <td>0.7708</td>\n",
       "      <td>service, update, amazon, get, buy, give, pleas...</td>\n",
       "      <td>[tell, buyi, totally, disappointedpoor, batter...</td>\n",
       "    </tr>\n",
       "    <tr>\n",
       "      <th>6</th>\n",
       "      <td>6</td>\n",
       "      <td>2.0</td>\n",
       "      <td>0.3593</td>\n",
       "      <td>awesome, excellent, problem, superb, amaze, pe...</td>\n",
       "      <td>[phone, awesome, charge, heat, allot, really, ...</td>\n",
       "    </tr>\n",
       "    <tr>\n",
       "      <th>7</th>\n",
       "      <td>7</td>\n",
       "      <td>9.0</td>\n",
       "      <td>0.5416</td>\n",
       "      <td>ok, feature, one, like, dual, screen, expect, ...</td>\n",
       "      <td>[battery, level, wear]</td>\n",
       "    </tr>\n",
       "    <tr>\n",
       "      <th>8</th>\n",
       "      <td>8</td>\n",
       "      <td>3.0</td>\n",
       "      <td>0.4590</td>\n",
       "      <td>service, update, amazon, get, buy, give, pleas...</td>\n",
       "      <td>[hit, problems, phone, hang, problems, lenovo,...</td>\n",
       "    </tr>\n",
       "  </tbody>\n",
       "</table>\n",
       "</div>"
      ],
      "text/plain": [
       "   Document_No  Dominant_Topic  Topic_Perc_Contrib  \\\n",
       "0            0             5.0              0.6944   \n",
       "1            1             0.0              0.4391   \n",
       "2            2             3.0              0.8167   \n",
       "3            3             0.0              0.0833   \n",
       "4            4             3.0              0.8066   \n",
       "5            5             3.0              0.7708   \n",
       "6            6             2.0              0.3593   \n",
       "7            7             9.0              0.5416   \n",
       "8            8             3.0              0.4590   \n",
       "\n",
       "                                            Keywords  \\\n",
       "0  charger, problem, receive, charge, update, net...   \n",
       "1  best, price, fast, drain, performance, process...   \n",
       "2  service, update, amazon, get, buy, give, pleas...   \n",
       "3  best, price, fast, drain, performance, process...   \n",
       "4  service, update, amazon, get, buy, give, pleas...   \n",
       "5  service, update, amazon, get, buy, give, pleas...   \n",
       "6  awesome, excellent, problem, superb, amaze, pe...   \n",
       "7  ok, feature, one, like, dual, screen, expect, ...   \n",
       "8  service, update, amazon, get, buy, give, pleas...   \n",
       "\n",
       "                                                Text  \n",
       "0                 [good, need, update, improvements]  \n",
       "1  [worst, mobile, buy, ever, battery, drain, lik...  \n",
       "2                [get, cash, back, already, january]  \n",
       "3                                             [good]  \n",
       "4  [worst, phone, everthey, change, last, phone, ...  \n",
       "5  [tell, buyi, totally, disappointedpoor, batter...  \n",
       "6  [phone, awesome, charge, heat, allot, really, ...  \n",
       "7                             [battery, level, wear]  \n",
       "8  [hit, problems, phone, hang, problems, lenovo,...  "
      ]
     },
     "execution_count": 62,
     "metadata": {},
     "output_type": "execute_result"
    }
   ],
   "source": [
    "\n",
    "def format_topics_sentences(ldamodel=LdaModel_ne, corpus=bow_corpus, texts=word_tokken_1):\n",
    "    # Init output\n",
    "    sent_topics_df = pd.DataFrame()\n",
    "\n",
    "    # Get main topic in each document\n",
    "    for i, row in enumerate(ldamodel[corpus]):\n",
    "        row = sorted(row, key=lambda x: (x[1]), reverse=True)\n",
    "        # Get the Dominant topic, Perc Contribution and Keywords for each document\n",
    "        for j, (topic_num, prop_topic) in enumerate(row):\n",
    "            if j == 0:  # => dominant topic\n",
    "                wp = ldamodel.show_topic(topic_num)\n",
    "                topic_keywords = \", \".join([word for word, prop in wp])\n",
    "                sent_topics_df = sent_topics_df.append(pd.Series([int(topic_num), round(prop_topic,4), topic_keywords]), ignore_index=True)\n",
    "            else:\n",
    "                break\n",
    "    sent_topics_df.columns = ['Dominant_Topic', 'Perc_Contribution', 'Topic_Keywords']\n",
    "\n",
    "    # Add original text to the end of the output\n",
    "    contents = pd.Series(texts)\n",
    "    sent_topics_df = pd.concat([sent_topics_df, contents], axis=1)\n",
    "    return(sent_topics_df)\n",
    "\n",
    "\n",
    "df_topic_sents_keywords = format_topics_sentences(ldamodel=LdaModel_ne, corpus=bow_corpus, texts=word_tokken_1)\n",
    "\n",
    "# Format\n",
    "df_dominant_topic = df_topic_sents_keywords.reset_index()\n",
    "df_dominant_topic.columns = ['Document_No', 'Dominant_Topic', 'Topic_Perc_Contrib', 'Keywords', 'Text']\n",
    "\n",
    "# Show\n",
    "df_dominant_topic.head(9)"
   ]
  },
  {
   "cell_type": "code",
   "execution_count": null,
   "metadata": {},
   "outputs": [],
   "source": []
  }
 ],
 "metadata": {
  "kernelspec": {
   "display_name": "Python 3",
   "language": "python",
   "name": "python3"
  },
  "language_info": {
   "codemirror_mode": {
    "name": "ipython",
    "version": 3
   },
   "file_extension": ".py",
   "mimetype": "text/x-python",
   "name": "python",
   "nbconvert_exporter": "python",
   "pygments_lexer": "ipython3",
   "version": "3.8.5"
  }
 },
 "nbformat": 4,
 "nbformat_minor": 4
}
