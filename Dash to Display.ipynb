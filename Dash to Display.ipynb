{
 "cells": [
  {
   "cell_type": "code",
   "execution_count": 7,
   "metadata": {},
   "outputs": [],
   "source": [
    "import dash\n",
    "import dash_core_components as dcc\n",
    "import dash_html_components as html\n",
    "import numpy as np\n",
    "import pandas as pd\n",
    "import plotly.graph_objs as go\n",
    "import pandas as pd\n",
    "\n",
    "import dash\n",
    "import dash_core_components as dcc\n",
    "import dash_html_components as html\n",
    "from dash.dependencies import Input, Output\n",
    "import plotly.express as px \n",
    "from flask import Flask\n"
   ]
  },
  {
   "cell_type": "markdown",
   "metadata": {},
   "source": [
    "# 1) Updating UI by UI team"
   ]
  },
  {
   "cell_type": "code",
   "execution_count": 9,
   "metadata": {},
   "outputs": [
    {
     "name": "stdout",
     "output_type": "stream",
     "text": [
      "Dash is running on http://127.0.0.1:8050/\n",
      "\n",
      "Dash is running on http://127.0.0.1:8050/\n",
      "\n",
      "Dash is running on http://127.0.0.1:8050/\n",
      "\n",
      "Dash is running on http://127.0.0.1:8050/\n",
      "\n",
      "Dash is running on http://127.0.0.1:8050/\n",
      "\n",
      "Dash is running on http://127.0.0.1:8050/\n",
      "\n",
      " * Serving Flask app \"__main__\" (lazy loading)\n",
      " * Environment: production\n",
      "   WARNING: This is a development server. Do not use it in a production deployment.\n",
      "   Use a production WSGI server instead.\n",
      " * Debug mode: off\n"
     ]
    },
    {
     "name": "stderr",
     "output_type": "stream",
     "text": [
      " * Running on http://127.0.0.1:8050/ (Press CTRL+C to quit)\n"
     ]
    }
   ],
   "source": [
    "\n",
    "# external_stylesheets = [\"https://stackpath.bootstrapcdn.com/bootstrap/4.5.2/css/bootstrap.min.css\"]\n",
    "external_stylesheets = [\"https://codepen.io/chriddyp/pen/bWLwgP.css\"]\n",
    "\n",
    "app = dash.Dash(__name__,external_stylesheets = external_stylesheets)\n",
    "\n",
    "app.layout = html.Div(html.Button(\"Submit\",className = \"mr-1\"))\n",
    "\n",
    "\n",
    "if __name__ ==\"__main__\":\n",
    "    app.run_server()"
   ]
  },
  {
   "cell_type": "markdown",
   "metadata": {},
   "source": [
    "By making changes in the stylesheet, the UI can be modified. But it will only work when the UI team modifies in the stylesheet stored in the server. The changes cannot be sent via link etc "
   ]
  },
  {
   "cell_type": "markdown",
   "metadata": {},
   "source": [
    "# Sending Input through URL"
   ]
  },
  {
   "cell_type": "markdown",
   "metadata": {},
   "source": [
    "Couldn't find any solution to directly send data to layout through url. Only feasible solution is to integrate dash with flask api . Send data through flask api adn input that data in dash somehow"
   ]
  },
  {
   "cell_type": "code",
   "execution_count": 2,
   "metadata": {},
   "outputs": [
    {
     "name": "stdout",
     "output_type": "stream",
     "text": [
      " * Serving Flask app \"__main__\" (lazy loading)\n",
      " * Environment: production\n",
      "   WARNING: This is a development server. Do not use it in a production deployment.\n",
      "   Use a production WSGI server instead.\n",
      " * Debug mode: off\n"
     ]
    },
    {
     "name": "stderr",
     "output_type": "stream",
     "text": [
      " * Running on http://127.0.0.1:5000/ (Press CTRL+C to quit)\n",
      "127.0.0.1 - - [22/Jan/2021 15:02:42] \"\u001b[37mGET /dash/page-1 HTTP/1.1\u001b[0m\" 200 -\n",
      "127.0.0.1 - - [22/Jan/2021 15:02:43] \"\u001b[37mGET /dash/_dash-layout HTTP/1.1\u001b[0m\" 200 -\n",
      "127.0.0.1 - - [22/Jan/2021 15:02:43] \"\u001b[37mGET /dash/_dash-dependencies HTTP/1.1\u001b[0m\" 200 -\n",
      "127.0.0.1 - - [22/Jan/2021 15:02:43] \"\u001b[37mPOST /dash/_dash-update-component HTTP/1.1\u001b[0m\" 200 -\n"
     ]
    },
    {
     "name": "stdout",
     "output_type": "stream",
     "text": [
      "/dash/page-1\n"
     ]
    },
    {
     "name": "stderr",
     "output_type": "stream",
     "text": [
      "127.0.0.1 - - [22/Jan/2021 15:02:46] \"\u001b[37mGET /dash/page- HTTP/1.1\u001b[0m\" 200 -\n",
      "127.0.0.1 - - [22/Jan/2021 15:02:46] \"\u001b[37mGET /dash/_dash-layout HTTP/1.1\u001b[0m\" 200 -\n",
      "127.0.0.1 - - [22/Jan/2021 15:02:46] \"\u001b[37mGET /dash/_dash-dependencies HTTP/1.1\u001b[0m\" 200 -\n",
      "127.0.0.1 - - [22/Jan/2021 15:02:46] \"\u001b[37mPOST /dash/_dash-update-component HTTP/1.1\u001b[0m\" 200 -\n"
     ]
    },
    {
     "name": "stdout",
     "output_type": "stream",
     "text": [
      "/dash/page-\n"
     ]
    },
    {
     "name": "stderr",
     "output_type": "stream",
     "text": [
      "127.0.0.1 - - [22/Jan/2021 15:02:48] \"\u001b[37mGET /dash/page- HTTP/1.1\u001b[0m\" 200 -\n",
      "127.0.0.1 - - [22/Jan/2021 15:02:48] \"\u001b[37mGET /dash/_dash-layout HTTP/1.1\u001b[0m\" 200 -\n",
      "127.0.0.1 - - [22/Jan/2021 15:02:48] \"\u001b[37mGET /dash/_dash-dependencies HTTP/1.1\u001b[0m\" 200 -\n",
      "127.0.0.1 - - [22/Jan/2021 15:02:48] \"\u001b[37mPOST /dash/_dash-update-component HTTP/1.1\u001b[0m\" 200 -\n"
     ]
    },
    {
     "name": "stdout",
     "output_type": "stream",
     "text": [
      "/dash/page-\n"
     ]
    }
   ],
   "source": [
    "server = Flask(__name__)\n",
    "app = dash.Dash(\n",
    "    __name__,\n",
    "    server=server,\n",
    "    url_base_pathname='/dash/'\n",
    ")\n",
    "\n",
    "app.layout = html.Div([\n",
    "    dcc.Location(id='url', refresh=False),\n",
    "    html.Div(id='page-content')\n",
    "\n",
    "])\n",
    "\n",
    "def get_layout_one(sample_dictionary):\n",
    "    np.random.seed(30)\n",
    "    ran_x=np.random.randint(1,12,10)\n",
    "    ran_y=np.random.randint(1,12,10)\n",
    "    layout_one=html.Div([\n",
    "        html.H1(sample_dictionary['name']),\n",
    "        html.H1(sample_dictionary['age']),\n",
    "        html.Div([dcc.Graph(id='scar1',\n",
    "                         figure={'data':[\n",
    "                               go.Scatter(\n",
    "                               x=ran_x,\n",
    "                               y=ran_y,\n",
    "                               mode='markers',\n",
    "                               marker={\n",
    "                                   'size': 20,\n",
    "                                   'color': 'rgb(51,204,144)',\n",
    "                                   'symbol':'circle',\n",
    "                                   'line':{'width':2}\n",
    "\n",
    "                               }\n",
    "                               )],\n",
    "                                'layout':go.Layout(title='Scatterplots',\n",
    "                                                   xaxis={'title': 'some x title'},\n",
    "                                                   yaxis={'title': 'some y title'})}\n",
    "                                  )])\n",
    "    \n",
    "        ])\n",
    "    return layout_one\n",
    "\n",
    "def get_layout_two(sample_dictionary):\n",
    "    np.random.seed(30)\n",
    "    ran_x=np.random.randint(1,12,10)\n",
    "    ran_y=np.random.randint(1,12,10)    \n",
    "    layout_two=html.Div([\n",
    "        html.H1(sample_dictionary['name']),\n",
    "        html.H1(sample_dictionary['age']),\n",
    "        html.Div([dcc.Graph(id='scar2',\n",
    "                            figure={'data':[\n",
    "                       go.Scatter(\n",
    "                       x=ran_x,\n",
    "                       y=ran_y,\n",
    "                       mode='markers',\n",
    "                       marker={\n",
    "                           'size': 12,\n",
    "                           'color': 'rgb(51,204,144)',\n",
    "                           'symbol':'square',\n",
    "                           'line':{'width':2}\n",
    "\n",
    "                       }\n",
    "                       )],\n",
    "                        'layout':go.Layout(title='Scatterplots',\n",
    "                                           xaxis={'title': 'some x title'},\n",
    "                                           yaxis={'title': 'some y title'})})])\n",
    "        ])\n",
    "    return layout_two\n",
    "    \n",
    "\n",
    "@app.callback(dash.dependencies.Output('page-content', 'children'),\n",
    "              [dash.dependencies.Input('url', 'pathname')])\n",
    "def display_page(pathname):\n",
    "    print(pathname)\n",
    "    if pathname == '/dash/page-1':\n",
    "        sample_dictionary={\"name\":\"Raman\",\"age\":1} # this will be acquired from url parameters\n",
    "        layout_one=get_layout_one(sample_dictionary)\n",
    "        return layout_one\n",
    "    else:\n",
    "        sample_dictionary={\"name\":\"Raghav\",\"age\":2} # this will be acquired from url parameters\n",
    "        layout_two=get_layout_two(sample_dictionary)\n",
    "        return layout_two\n",
    "@server.route(\"/dash/\")\n",
    "def my_dash_app():\n",
    "    sample_dictionary={\"name\":\"Raghav\",\"age\":2} \n",
    "    return app#.index()\n",
    "if __name__=='__main__':\n",
    "    server.run()"
   ]
  },
  {
   "cell_type": "markdown",
   "metadata": {},
   "source": [
    "This article might be helpful in achieving the same - https://stackoverflow.com/questions/59627976/integrating-dash-apps-into-flask-minimal-example"
   ]
  },
  {
   "cell_type": "markdown",
   "metadata": {},
   "source": [
    "## Important "
   ]
  },
  {
   "cell_type": "code",
   "execution_count": 2,
   "metadata": {},
   "outputs": [
    {
     "name": "stdout",
     "output_type": "stream",
     "text": [
      "Dash is running on http://127.0.0.1:8050/\n",
      "\n",
      " * Serving Flask app \"__main__\" (lazy loading)\n",
      " * Environment: production\n",
      "   WARNING: This is a development server. Do not use it in a production deployment.\n",
      "   Use a production WSGI server instead.\n",
      " * Debug mode: off\n"
     ]
    },
    {
     "name": "stderr",
     "output_type": "stream",
     "text": [
      " * Running on http://127.0.0.1:8050/ (Press CTRL+C to quit)\n",
      "127.0.0.1 - - [02/Feb/2021 18:24:14] \"\u001b[37mGET / HTTP/1.1\u001b[0m\" 200 -\n",
      "127.0.0.1 - - [02/Feb/2021 18:24:14] \"\u001b[37mGET /_dash-layout HTTP/1.1\u001b[0m\" 200 -\n",
      "127.0.0.1 - - [02/Feb/2021 18:24:14] \"\u001b[37mGET /_dash-dependencies HTTP/1.1\u001b[0m\" 200 -\n",
      "127.0.0.1 - - [02/Feb/2021 18:24:14] \"\u001b[37mPOST /_dash-update-component HTTP/1.1\u001b[0m\" 200 -\n",
      "127.0.0.1 - - [02/Feb/2021 18:24:17] \"\u001b[37mPOST /_dash-update-component HTTP/1.1\u001b[0m\" 200 -\n",
      "127.0.0.1 - - [02/Feb/2021 18:24:17] \"\u001b[37mPOST /_dash-update-component HTTP/1.1\u001b[0m\" 200 -\n"
     ]
    }
   ],
   "source": [
    "import dash\n",
    "import dash_core_components as dcc\n",
    "import dash_html_components as html\n",
    "from dash.dependencies import Input, Output, State\n",
    "\n",
    "import flask\n",
    "\n",
    "app = dash.Dash(__name__)\n",
    "\n",
    "url_bar_and_content_div = html.Div([\n",
    "    dcc.Location(id='url', refresh=False),\n",
    "    html.Div(id='page-content')\n",
    "])\n",
    "\n",
    "layout_index = html.Div([\n",
    "    dcc.Link('Navigate to \"/page-1\"', href='/page-1'),\n",
    "    html.Br(),\n",
    "    dcc.Link('Navigate to \"/page-2\"', href='/page-2'),\n",
    "])\n",
    "\n",
    "layout_page_1 = html.Div([\n",
    "    html.H2('Page 1'),\n",
    "    dcc.Input(id='input-1-state', type='text', value='Montreal'),\n",
    "    dcc.Input(id='input-2-state', type='text', value='Canada'),\n",
    "    html.Button(id='submit-button', n_clicks=0, children='Submit'),\n",
    "    html.Div(id='output-state'),\n",
    "    html.Br(),\n",
    "    dcc.Link('Navigate to \"/\"', href='/'),\n",
    "    html.Br(),\n",
    "    dcc.Link('Navigate to \"/page-2\"', href='/page-2'),\n",
    "])\n",
    "\n",
    "layout_page_2 = html.Div([\n",
    "    html.H2('Page 2'),\n",
    "    dcc.Dropdown(\n",
    "        id='page-2-dropdown',\n",
    "        options=[{'label': i, 'value': i} for i in ['LA', 'NYC', 'MTL']],\n",
    "        value='LA'\n",
    "    ),\n",
    "    html.Div(id='page-2-display-value'),\n",
    "    html.Br(),\n",
    "    dcc.Link('Navigate to \"/\"', href='/'),\n",
    "    html.Br(),\n",
    "    dcc.Link('Navigate to \"/page-1\"', href='/page-1'),\n",
    "])\n",
    "\n",
    "# index layout\n",
    "app.layout = url_bar_and_content_div\n",
    "\n",
    "# \"complete\" layout\n",
    "app.validation_layout = html.Div([\n",
    "    url_bar_and_content_div,\n",
    "    layout_index,\n",
    "    layout_page_1,\n",
    "    layout_page_2,\n",
    "])\n",
    "\n",
    "\n",
    "# Index callbacks\n",
    "@app.callback(Output('page-content', 'children'),\n",
    "              Input('url', 'pathname'))\n",
    "def display_page(pathname):\n",
    "    if pathname == \"/page-1\":\n",
    "        return layout_page_1\n",
    "    elif pathname == \"/page-2\":\n",
    "        return layout_page_2\n",
    "    else:\n",
    "        return layout_index\n",
    "\n",
    "\n",
    "# Page 1 callbacks\n",
    "@app.callback(Output('output-state', 'children'),\n",
    "              Input('submit-button', 'n_clicks'),\n",
    "              State('input-1-state', 'value'),\n",
    "              State('input-2-state', 'value'))\n",
    "def update_output(n_clicks, input1, input2):\n",
    "    return ('The Button has been pressed {} times,'\n",
    "            'Input 1 is \"{}\",'\n",
    "            'and Input 2 is \"{}\"').format(n_clicks, input1, input2)\n",
    "\n",
    "\n",
    "# Page 2 callbacks\n",
    "@app.callback(Output('page-2-display-value', 'children'),\n",
    "              Input('page-2-dropdown', 'value'))\n",
    "def display_value(value):\n",
    "    print('display_value')\n",
    "    return 'You have selected \"{}\"'.format(value)\n",
    "\n",
    "\n",
    "if __name__ == '__main__':\n",
    "    app.run_server()\n"
   ]
  },
  {
   "cell_type": "code",
   "execution_count": 1,
   "metadata": {},
   "outputs": [],
   "source": [
    "#  import dash\n",
    "# from dash.dependencies import Input, Output\n",
    "# import dash_html_components as html\n",
    "# from datetime import datetime\n",
    "# import time\n",
    "\n",
    "# app = dash.Dash()\n",
    "\n",
    "# app.layout = html.Div(\n",
    "#     [\n",
    "#         html.Button(\"execute callbacks\", id=\"button_2\"),\n",
    "#         html.Div(children=\"callback not executed\", id=\"first_output_2\"),\n",
    "#         html.Div(children=\"callback not executed\", id=\"second_output_2\"),\n",
    "#         html.Div(children=\"callback not executed\", id=\"third_output_2\"),\n",
    "#         html.Div(children=\"callback not executed\", id=\"fourth_output_2\"),\n",
    "#     ]\n",
    "# )\n",
    "\n",
    "\n",
    "# @app.callback(\n",
    "#     Output(\"first_output_2\", \"children\"),\n",
    "#     Output(\"second_output_2\", \"children\"),\n",
    "#     Input(\"button_2\", \"n_clicks\"), prevent_initial_call=True)\n",
    "# def first_callback(n):\n",
    "#     now = datetime.now()\n",
    "#     current_time = now.strftime(\"%H:%M:%S\")\n",
    "#     return [\"in the first callback it is \" + current_time, \"in the first callback it is \" + current_time]\n",
    "\n",
    "\n",
    "# @app.callback(\n",
    "#     Output(\"third_output_2\", \"children\"), Input(\"second_output_2\", \"children\"), prevent_initial_call=True)\n",
    "# def second_callback(n):\n",
    "#     time.sleep(2)\n",
    "#     now = datetime.now()\n",
    "#     current_time = now.strftime(\"%H:%M:%S\")\n",
    "#     return \"in the second callback it is \" + current_time\n",
    "\n",
    "\n",
    "# @app.callback(\n",
    "#     Output(\"fourth_output_2\", \"children\"),\n",
    "#     Input(\"first_output_2\", \"children\"),\n",
    "#     Input(\"third_output_2\", \"children\"), prevent_initial_call=True)\n",
    "# def third_output(n, m):\n",
    "#     time.sleep(2)\n",
    "#     now = datetime.now()\n",
    "#     current_time = now.strftime(\"%H:%M:%S\")\n",
    "#     return \"in the third callback it is \" + current_time\n",
    "\n",
    "\n",
    "# if __name__ == '__main__':\n",
    "#     app.run_server(debug=True)\n"
   ]
  },
  {
   "cell_type": "code",
   "execution_count": 1,
   "metadata": {},
   "outputs": [],
   "source": [
    "# import dash\n",
    "# import dash_core_components as dcc\n",
    "# import dash_html_components as html\n",
    "# from dash.dependencies import Input, Output\n",
    "\n",
    "# external_stylesheets = ['https://codepen.io/chriddyp/pen/bWLwgP.css']\n",
    "\n",
    "# app = dash.Dash(__name__, external_stylesheets=external_stylesheets)\n",
    "\n",
    "# app.layout = html.Div([\n",
    "#     html.H6(\"Change the value in the text box to see callbacks in action!\"),\n",
    "#     html.Div([\"Input: \",\n",
    "#               dcc.Input(id='my-input', value='initial value', type='text')]),\n",
    "#     html.Br(),\n",
    "#     html.Div(id='my-output'),\n",
    "\n",
    "# ])\n",
    "\n",
    "\n",
    "# @app.callback(\n",
    "#     Output(component_id='my-output', component_property='children'),\n",
    "#     Input(component_id='my-input', component_property='value')\n",
    "# )\n",
    "# def update_output_div(input_value):\n",
    "#     return 'Output: {}'.format(input_value)\n",
    "\n",
    "\n",
    "# if __name__ == '__main__':\n",
    "#     app.run_server(debug=True)\n"
   ]
  },
  {
   "cell_type": "code",
   "execution_count": null,
   "metadata": {},
   "outputs": [],
   "source": [
    "# import dash\n",
    "# import dash_core_components as dcc\n",
    "# import dash_html_components as html\n",
    "# from dash.dependencies import Input, Output, State\n",
    "# import urllib\n",
    "# app = dash.Dash(__name__, suppress_callback_exceptions=True)\n",
    "# server = app.server\n",
    "# app.layout = html.Div([\n",
    "#       dcc.Location(id='url'),\n",
    "#       html.Div(id='layout-div'),\n",
    "#       html.Div(id='content')\n",
    "#   ])\n",
    "\n",
    "# @app.callback(Output('content', 'children'), Input('url', 'pathname'))\n",
    "# def display_page(pathname):\n",
    "#       return html.Div([\n",
    "#           dcc.Input(id='input', value='hello world'),\n",
    "#           html.Div(id='output')\n",
    "#       ])\n",
    "\n",
    "# @app.callback(Output('output', 'children'), Input('input', 'value'), prevent_initial_call=True)\n",
    "# def update_output(value):\n",
    "#     print('>>> update_output')\n",
    "#     return value\n",
    "\n",
    "# @app.callback(Output('layout-div', 'children'), Input('input', 'value'), prevent_initial_call=True)\n",
    "# def update_layout_div(value):\n",
    "#     print('>>> update_layout_div')\n",
    "#     return value\n",
    "\n",
    "# if __name__ == \"__main__\":\n",
    "#     app.run_server()"
   ]
  }
 ],
 "metadata": {
  "kernelspec": {
   "display_name": "Python 3",
   "language": "python",
   "name": "python3"
  },
  "language_info": {
   "codemirror_mode": {
    "name": "ipython",
    "version": 3
   },
   "file_extension": ".py",
   "mimetype": "text/x-python",
   "name": "python",
   "nbconvert_exporter": "python",
   "pygments_lexer": "ipython3",
   "version": "3.8.5"
  }
 },
 "nbformat": 4,
 "nbformat_minor": 4
}
