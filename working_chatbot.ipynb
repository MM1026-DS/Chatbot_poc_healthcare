{
 "cells": [
  {
   "cell_type": "code",
   "execution_count": 1,
   "metadata": {},
   "outputs": [
    {
     "name": "stderr",
     "output_type": "stream",
     "text": [
      "C:\\Users\\mayan\\anaconda3\\lib\\site-packages\\fuzzywuzzy\\fuzz.py:11: UserWarning: Using slow pure-python SequenceMatcher. Install python-Levenshtein to remove this warning\n",
      "  warnings.warn('Using slow pure-python SequenceMatcher. Install python-Levenshtein to remove this warning')\n"
     ]
    }
   ],
   "source": [
    "import numpy as np\n",
    "import pandas as pd\n",
    "import sklearn \n",
    "from sklearn.feature_extraction.text import CountVectorizer\n",
    "from sklearn.feature_extraction.text import TfidfVectorizer\n",
    "import nltk\n",
    "from nltk.corpus import stopwords\n",
    "from fuzzywuzzy import process\n",
    "import re\n",
    "import spacy\n",
    "import operator\n",
    "from fuzzywuzzy import fuzz\n",
    "import operator\n",
    "from collections import OrderedDict\n",
    "import time"
   ]
  },
  {
   "cell_type": "code",
   "execution_count": 2,
   "metadata": {},
   "outputs": [
    {
     "data": {
      "text/html": [
       "<div>\n",
       "<style scoped>\n",
       "    .dataframe tbody tr th:only-of-type {\n",
       "        vertical-align: middle;\n",
       "    }\n",
       "\n",
       "    .dataframe tbody tr th {\n",
       "        vertical-align: top;\n",
       "    }\n",
       "\n",
       "    .dataframe thead th {\n",
       "        text-align: right;\n",
       "    }\n",
       "</style>\n",
       "<table border=\"1\" class=\"dataframe\">\n",
       "  <thead>\n",
       "    <tr style=\"text-align: right;\">\n",
       "      <th></th>\n",
       "      <th>intent_model</th>\n",
       "    </tr>\n",
       "  </thead>\n",
       "  <tbody>\n",
       "    <tr>\n",
       "      <th>0</th>\n",
       "      <td>{'context': 'Doctor', 'utterances': ['Who are ...</td>\n",
       "    </tr>\n",
       "    <tr>\n",
       "      <th>1</th>\n",
       "      <td>{'context': 'Patient', 'utterances': ['what is...</td>\n",
       "    </tr>\n",
       "  </tbody>\n",
       "</table>\n",
       "</div>"
      ],
      "text/plain": [
       "                                        intent_model\n",
       "0  {'context': 'Doctor', 'utterances': ['Who are ...\n",
       "1  {'context': 'Patient', 'utterances': ['what is..."
      ]
     },
     "execution_count": 2,
     "metadata": {},
     "output_type": "execute_result"
    }
   ],
   "source": [
    "intity_design = pd.read_json(\"doc10.json\")\n",
    "intity_design.head()"
   ]
  },
  {
   "cell_type": "code",
   "execution_count": 3,
   "metadata": {},
   "outputs": [
    {
     "data": {
      "text/html": [
       "<div>\n",
       "<style scoped>\n",
       "    .dataframe tbody tr th:only-of-type {\n",
       "        vertical-align: middle;\n",
       "    }\n",
       "\n",
       "    .dataframe tbody tr th {\n",
       "        vertical-align: top;\n",
       "    }\n",
       "\n",
       "    .dataframe thead th {\n",
       "        text-align: right;\n",
       "    }\n",
       "</style>\n",
       "<table border=\"1\" class=\"dataframe\">\n",
       "  <thead>\n",
       "    <tr style=\"text-align: right;\">\n",
       "      <th></th>\n",
       "      <th>context</th>\n",
       "      <th>utterances</th>\n",
       "    </tr>\n",
       "  </thead>\n",
       "  <tbody>\n",
       "    <tr>\n",
       "      <th>0</th>\n",
       "      <td>Doctor</td>\n",
       "      <td>[Who are the best doctors for heart disease, W...</td>\n",
       "    </tr>\n",
       "    <tr>\n",
       "      <th>1</th>\n",
       "      <td>Patient</td>\n",
       "      <td>[what is the minium age of the patient of doct...</td>\n",
       "    </tr>\n",
       "  </tbody>\n",
       "</table>\n",
       "</div>"
      ],
      "text/plain": [
       "   context                                         utterances\n",
       "0   Doctor  [Who are the best doctors for heart disease, W...\n",
       "1  Patient  [what is the minium age of the patient of doct..."
      ]
     },
     "execution_count": 3,
     "metadata": {},
     "output_type": "execute_result"
    }
   ],
   "source": [
    "data_frame = pd.json_normalize(intity_design[\"intent_model\"])\n",
    "data_frame.head()"
   ]
  },
  {
   "cell_type": "code",
   "execution_count": 4,
   "metadata": {},
   "outputs": [],
   "source": [
    "data_frame[\"utterances\"][0] = [i.lower() for i in data_frame[\"utterances\"][0] ]\n",
    "data_frame[\"utterances\"][1] = [j.lower() for j in data_frame[\"utterances\"][1]]"
   ]
  },
  {
   "cell_type": "markdown",
   "metadata": {},
   "source": [
    "\n",
    "### Context understanding "
   ]
  },
  {
   "cell_type": "code",
   "execution_count": 5,
   "metadata": {},
   "outputs": [],
   "source": [
    "class clean:\n",
    "    def lowerlettercleanword(sentence):\n",
    "        sentences = [word for sent in sentence for word in sent]\n",
    "        return sentences"
   ]
  },
  {
   "cell_type": "code",
   "execution_count": 6,
   "metadata": {},
   "outputs": [
    {
     "name": "stdout",
     "output_type": "stream",
     "text": [
      "['who are the best doctors for heart disease', 'who are the best doctors for cardiovascular disease', 'who are the best doctors for skin', 'best doctors for dermatology', 'best physician', 'what is the clinic location of doctor mayank', 'best doctor near my location for cardiology', 'please provide the name of the doctors which have fees less than 500 rupees', 'what is timing for doctor soumya', 'which is the best dental clinic', 'what is the dr. rishabh consutant fees', 'doctor with consultant fees more than 1000 rupees', 'what is the speciliatity of doctor piyush', 'what is the speciliatity of doctor mayank', 'what is the speciliatity of doctor soumya', 'what is the speciliatity of doctor rishabh', 'what is the speciliatity of doctor deepshikha', 'what is the clinic location of doctor piyush', 'what is the clinic location of doctor soumya', 'what is the clinic location of doctor deepshikha', 'what is consultant fees of doctor piyush', 'what is consultant fees of doctor mayank', 'what is the consultant fees of doctor soumya', 'what is the consultant fees of doctor deepshikha', 'who is the doctor of patient aditya', 'who is the doctor of patient harsh', 'who is the doctor of patient yuvraj', 'who is the doctor of patient amit', 'who is the doctor of patient garima', 'what is the rating of doctor mayank mishra', 'what is the rating of doctor piyush singh', 'what is the rating of doctor soumya', 'what is the rating of doctor deepshikha', 'what is the rating of doctor rishabh yadav', 'best rating doctor', 'worst rating doctor', 'highest rating doctor', 'lowest rating doctor', 'what is the minium age of the patient of doctor mayank', 'what is the sickness reason of devashree gupta', 'what is the sickness reason for aditya sonkar', 'what is the sickness reason for amit patel', 'how many girls are sick from last year', 'what is the maximum age of the patient', 'what is the reason of sickness of alok patel', 'most sick patiet', 'what is the age and gender of minimun age patient', 'what is the reason of sickness of maximum age patient', 'what is the health issue with aditya sonkar', 'what is the health issue with harsh ', 'what is the health issue with yuvraj', 'what is the health issue with amit', 'what is the health issue with garima', 'mininum age patient name', 'maximum age patient name', 'average age of patients', 'disease name of patient garima', 'disease name of patient aditya sonkar', 'disease name of patient harsh mishra', 'disease name of patient amit', 'disease name of patient yuvraj sinha']\n"
     ]
    }
   ],
   "source": [
    "wx = clean.lowerlettercleanword(data_frame[\"utterances\"])\n",
    "print(wx)\n"
   ]
  },
  {
   "cell_type": "code",
   "execution_count": 7,
   "metadata": {},
   "outputs": [],
   "source": [
    "def getContext(match_string):\n",
    "    match_string = match_string.lower()\n",
    "    for idx, i in enumerate(data_frame['utterances']):\n",
    "        if match_string in i:\n",
    "            return data_frame['context'][idx]\n",
    "    return None"
   ]
  },
  {
   "cell_type": "code",
   "execution_count": 8,
   "metadata": {},
   "outputs": [
    {
     "name": "stdout",
     "output_type": "stream",
     "text": [
      "Doctor\n"
     ]
    }
   ],
   "source": [
    "print(getContext('Who are the best doctors for skin'))"
   ]
  },
  {
   "cell_type": "markdown",
   "metadata": {},
   "source": [
    "_____________________________________________________________"
   ]
  },
  {
   "cell_type": "markdown",
   "metadata": {},
   "source": [
    "### Name Entity extraction"
   ]
  },
  {
   "cell_type": "code",
   "execution_count": 9,
   "metadata": {},
   "outputs": [],
   "source": [
    "nlp = spacy.load('en_core_web_sm')"
   ]
  },
  {
   "cell_type": "code",
   "execution_count": 10,
   "metadata": {},
   "outputs": [],
   "source": [
    "def get_name(doc):\n",
    "    if doc.ents:\n",
    "        for ents in doc.ents:\n",
    "            if ents.label_=='PERSON':\n",
    "                name = ents.text\n",
    "                return name\n",
    "            return None\n",
    "    else:\n",
    "        return None\n",
    "            "
   ]
  },
  {
   "cell_type": "code",
   "execution_count": 11,
   "metadata": {},
   "outputs": [],
   "source": [
    "doctors =[\"Piyush Singh\",\"Soumya\",\"Mayank Mishra\",\"Deepshikha Mishra\",\"Rishabh Yadav\",\"Piyush\",\"Soumya\",\"Mayank\",\"Deepshikha\",\"piyush\",\"soumya\",\"mayank\",\"deepshikha\",\"rishabh\"]\n",
    "\n",
    "def get_name1(query):\n",
    "    query = query.split()\n",
    "    for i in query:\n",
    "        for j in doctors:\n",
    "            if i==j:\n",
    "                name = j\n",
    "                return name\n",
    "            "
   ]
  },
  {
   "cell_type": "code",
   "execution_count": 12,
   "metadata": {},
   "outputs": [
    {
     "name": "stdout",
     "output_type": "stream",
     "text": [
      "Jeff Bezos\n"
     ]
    }
   ],
   "source": [
    "print(get_name(nlp(\"Jeff Bezos is the CEO of Amazon\")))"
   ]
  },
  {
   "cell_type": "code",
   "execution_count": 13,
   "metadata": {},
   "outputs": [
    {
     "name": "stdout",
     "output_type": "stream",
     "text": [
      "Soumya\n"
     ]
    }
   ],
   "source": [
    "print(get_name(nlp(\"Doctor Soumya  Speiliaty\")))"
   ]
  },
  {
   "cell_type": "code",
   "execution_count": 14,
   "metadata": {},
   "outputs": [
    {
     "name": "stdout",
     "output_type": "stream",
     "text": [
      "Rishabh Yadav\n"
     ]
    }
   ],
   "source": [
    "print(get_name(nlp(\"Doctor Rishabh Yadav  Speiliaty\")))"
   ]
  },
  {
   "cell_type": "code",
   "execution_count": 15,
   "metadata": {},
   "outputs": [
    {
     "name": "stdout",
     "output_type": "stream",
     "text": [
      "Edward Makahaya\n"
     ]
    }
   ],
   "source": [
    "print(get_name(nlp(\"Edward Makahaya Clinic Location\")))"
   ]
  },
  {
   "cell_type": "markdown",
   "metadata": {},
   "source": [
    "____________________________________________"
   ]
  },
  {
   "cell_type": "markdown",
   "metadata": {},
   "source": [
    "### Best recommendation and exact match string"
   ]
  },
  {
   "cell_type": "code",
   "execution_count": 16,
   "metadata": {},
   "outputs": [],
   "source": [
    "from sklearn.metrics.pairwise import cosine_similarity"
   ]
  },
  {
   "cell_type": "code",
   "execution_count": 17,
   "metadata": {},
   "outputs": [],
   "source": [
    "stopwords_list = stopwords.words('english')\n",
    "vectorizer = TfidfVectorizer(max_features=3000, stop_words=stopwords_list)\n",
    "X = vectorizer.fit_transform(wx)\n",
    "count_dense = X.todense()\n"
   ]
  },
  {
   "cell_type": "code",
   "execution_count": 18,
   "metadata": {},
   "outputs": [
    {
     "data": {
      "text/plain": [
       "0.42002790503955745"
      ]
     },
     "execution_count": 18,
     "metadata": {},
     "output_type": "execute_result"
    }
   ],
   "source": [
    "test_query = vectorizer.transform([\"Best cardiologist\"])\n",
    "cosine_similarity(test_query, count_dense[1,:])[0][0]"
   ]
  },
  {
   "cell_type": "code",
   "execution_count": 19,
   "metadata": {},
   "outputs": [],
   "source": [
    "\n",
    "def getContext_details(input_query):\n",
    "    input_query_vector = vectorizer.transform([input_query])\n",
    "    max_score = 0\n",
    "    best_match = None\n",
    "    context = None\n",
    "    for ind, vector in enumerate(count_dense):\n",
    "        sim_score = cosine_similarity(input_query_vector, count_dense[ind,:])[0][0]\n",
    "        if sim_score>=max_score:\n",
    "            max_score = sim_score\n",
    "            best_match = wx[ind]\n",
    "            context = getContext(best_match)\n",
    "    return max_score, best_match, context\n"
   ]
  },
  {
   "cell_type": "code",
   "execution_count": 20,
   "metadata": {},
   "outputs": [
    {
     "name": "stdout",
     "output_type": "stream",
     "text": [
      "(0.6049548668886633, 'best doctor near my location for cardiology', 'Doctor')\n"
     ]
    }
   ],
   "source": [
    "print(getContext_details(\"Cardiologist clinic location near me \"))"
   ]
  },
  {
   "cell_type": "code",
   "execution_count": 21,
   "metadata": {},
   "outputs": [
    {
     "name": "stdout",
     "output_type": "stream",
     "text": [
      "(0.7918772370034812, 'disease name of patient garima', 'Patient')\n"
     ]
    }
   ],
   "source": [
    "print(getContext_details(\"what disease is garima suffering from\"))"
   ]
  },
  {
   "cell_type": "code",
   "execution_count": 22,
   "metadata": {},
   "outputs": [
    {
     "name": "stdout",
     "output_type": "stream",
     "text": [
      "(0.7364491630507464, 'what is the health issue with aditya sonkar', 'Patient')\n"
     ]
    }
   ],
   "source": [
    "print(getContext_details(\"What is the cause of death of Aditya Sonkar\"))"
   ]
  },
  {
   "cell_type": "code",
   "execution_count": 23,
   "metadata": {},
   "outputs": [
    {
     "name": "stdout",
     "output_type": "stream",
     "text": [
      "(1.0, 'what is the clinic location of doctor mayank', 'Doctor')\n"
     ]
    }
   ],
   "source": [
    "print(getContext_details(\"Doctor Mayank clinic location\"))"
   ]
  },
  {
   "cell_type": "code",
   "execution_count": 24,
   "metadata": {},
   "outputs": [
    {
     "name": "stdout",
     "output_type": "stream",
     "text": [
      "(1.0, 'what is the consultant fees of doctor soumya', 'Doctor')\n"
     ]
    }
   ],
   "source": [
    "\n",
    "print(getContext_details(\"what is the consultant fees of doctor soumya\"))"
   ]
  },
  {
   "cell_type": "code",
   "execution_count": 25,
   "metadata": {},
   "outputs": [],
   "source": [
    "def patient_name(query):\n",
    "    name = None\n",
    "    if query == 1:\n",
    "        name = \"Aditya Sonkar\"\n",
    "    elif query == 2:\n",
    "        name = \"Harsh Mishra\"\n",
    "    elif query == 3:\n",
    "        name = \"Yuvraj Sinha\"\n",
    "    elif query == 4:\n",
    "        name = \"Amit\"\n",
    "    elif query == 5:\n",
    "        name = \"Garima\"\n",
    "    else:\n",
    "        name = \"Patient id is Wrong\"\n",
    "    return name    "
   ]
  },
  {
   "cell_type": "code",
   "execution_count": 26,
   "metadata": {},
   "outputs": [],
   "source": [
    "def regrex(query):\n",
    "    for i in query:\n",
    "        query = re.sub(\"dr\",\"doctor\",query)\n",
    "        query = re.sub(\"Dr\",\"doctor\",query)\n",
    "        query = re.sub(\"DR\",\"doctor\",query)\n",
    "        query = re.sub(\"disease\",\"health issue\",query)\n",
    "        query = re.sub(\"sickness\",\"health issue\",query)\n",
    "        query = re.sub(\"illness\",\"health issue\",query)\n",
    "        query = re.sub(\"infection\",\"health issue\",query)\n",
    "        query = re.sub(\"Illness\",\"health issue\",query)\n",
    "        query =  re.sub(\"Disease\",\"health issue\",query)\n",
    "        query = re.sub(\"Sickess\",\"health issue\",query)\n",
    "        query = re.sub(\"Charges\",\"fees\",query)\n",
    "        query = re.sub(\"charges\",\"fees\",query)\n",
    "        query = re.sub(\"wage\",\"fees\",query)\n",
    "        query = re.sub(\"Wages\",\"fees\",query)\n",
    "        query = re.sub(r\"won\\'t\", \"will not\", query)\n",
    "        query = re.sub(r\"can\\'t\",\"can not\",query)\n",
    "        query = re.sub(r\"n\\'t\", \"not\", query)\n",
    "        query= re.sub(r\"\\'re\", \"are\", query)\n",
    "        query = re.sub(r\"\\'s\", \"is\", query)\n",
    "        query = re.sub(r\"\\'d\", \"would\", query)\n",
    "        query = re.sub(r\"\\'ll\", \"will\", query)\n",
    "        query = re.sub(r\"\\'t\", \"not\", query)\n",
    "        query = re.sub(r\"\\'ve\", \"have\", query)\n",
    "        query = re.sub(r\"\\'m\", \"am\", query)\n",
    "        query= re.sub(\"[?]+\",\"\",query)\n",
    "        \n",
    "    return query    "
   ]
  },
  {
   "cell_type": "code",
   "execution_count": 27,
   "metadata": {},
   "outputs": [],
   "source": [
    "class bestrecommend:\n",
    "    def getContext_bestrecommend(input_query):\n",
    "        input_query = input_query.lower()\n",
    "        input_query_vector = vectorizer.transform([input_query])\n",
    "        unsorted_score = []\n",
    "        unsorted_match = []\n",
    "\n",
    "        for ind, vector in enumerate(count_dense):\n",
    "            sim_score = cosine_similarity(input_query_vector, count_dense[ind,:])[0][0]\n",
    "            if sim_score>=0.4:\n",
    "                unsorted_score.append(sim_score)\n",
    "                unsorted_match.append(wx[ind])\n",
    "        zipped_pairs = zip(unsorted_score,unsorted_match)\n",
    "        best_recom = [x for _, x in sorted(zipped_pairs,reverse = True)]\n",
    "        \n",
    "        return best_recom[:3]    "
   ]
  },
  {
   "cell_type": "code",
   "execution_count": 28,
   "metadata": {},
   "outputs": [
    {
     "name": "stdout",
     "output_type": "stream",
     "text": [
      "['what is the clinic location of doctor piyush', 'what is the clinic location of doctor soumya', 'what is the clinic location of doctor mayank']\n"
     ]
    }
   ],
   "source": [
    "print(bestrecommend.getContext_bestrecommend(\"doctor piyush clinic location\"))"
   ]
  },
  {
   "cell_type": "code",
   "execution_count": 29,
   "metadata": {},
   "outputs": [
    {
     "name": "stdout",
     "output_type": "stream",
     "text": [
      "['what is the sickness reason for aditya sonkar', 'what is the reason of sickness of maximum age patient', 'what is the sickness reason for amit patel']\n"
     ]
    }
   ],
   "source": [
    "print(bestrecommend.getContext_bestrecommend(\"aditya sickness reason\"))"
   ]
  },
  {
   "cell_type": "code",
   "execution_count": 30,
   "metadata": {},
   "outputs": [
    {
     "name": "stdout",
     "output_type": "stream",
     "text": [
      "['what is the health issue with aditya sonkar', 'what is the health issue with amit', 'what is the health issue with yuvraj']\n"
     ]
    }
   ],
   "source": [
    "print(bestrecommend.getContext_bestrecommend(\"aditya  health issue\"))"
   ]
  },
  {
   "cell_type": "markdown",
   "metadata": {},
   "source": [
    "_______________________"
   ]
  },
  {
   "cell_type": "markdown",
   "metadata": {},
   "source": [
    "## Database Connection "
   ]
  },
  {
   "cell_type": "code",
   "execution_count": 31,
   "metadata": {},
   "outputs": [],
   "source": [
    "import sqlite3\n",
    "conn = sqlite3.connect(\"sql1.db\")\n",
    "cur = conn.cursor()\n"
   ]
  },
  {
   "cell_type": "markdown",
   "metadata": {},
   "source": [
    "## Answer Desiging "
   ]
  },
  {
   "cell_type": "code",
   "execution_count": 32,
   "metadata": {},
   "outputs": [],
   "source": [
    "import sqlite3\n",
    "class respond:\n",
    "    def sql_answer(input_query):\n",
    "        input_query = input_query.lower()\n",
    "        conn = sqlite3.connect(\"sql1.db\")\n",
    "        cur = conn.cursor()\n",
    "        if(input_query == \"who are the best doctors for heart disease\"):\n",
    "            mycur = cur.execute(\"SELECT Doctor_Name FROM DOCTOR WHERE Speciality = 'Cardiologist' \")\n",
    "            for i in mycur:\n",
    "                print(\"{} is best doctor for heart disease\".format(i[0]))\n",
    "        elif(input_query == \"who are the best doctors for cardiovascular disease\"):\n",
    "            mycur = cur.execute(\"SELECT Doctor_Name FROM DOCTOR WHERE Speciality = 'Cardiologist' \")\n",
    "            for i in mycur:\n",
    "                print(\"{} is the best doctor for cardiovasular disease\".format(i[0]))\n",
    "        elif(input_query == \"who are the best doctors for skin\"):\n",
    "            mycur = cur.execute(\"SELECT Doctor_Name FROM DOCTOR WHERE Speciality = 'Dermatologist' \")\n",
    "            for i in mycur:\n",
    "                print(\"{} is the best doctor for skin\".format(i[0]))\n",
    "        elif(input_query == \"best doctors for dermatology\"):\n",
    "            mycur = cur.execute(\"SELECT Doctor_Name FROM DOCTOR WHERE Speciality = 'Dermatologist' \")\n",
    "            for i in mycur:\n",
    "                print(\"{} is the best doctor for Dermatology\".format(i[0]))\n",
    "        elif(input_query == \"best physician\"):\n",
    "            mycur = cur.execute(\"SELECT Doctor_Name FROM DOCTOR WHERE Speciality = 'Physician' \")\n",
    "            for i in mycur:\n",
    "                print(\"{} is the best Physician\".format(i[0]))\n",
    "        elif(input_query == \"what is the clinic location of doctor mayank\"):\n",
    "            position = reversegeocoding.reversegeocoding_loc(input_query)\n",
    "            print(\"Clinic location of Doctor Mayank is {}\".format(position))\n",
    "            \n",
    "        elif(input_query == \"what is the clinic location of doctor piyush\"):\n",
    "            position = reversegeocoding.reversegeocoding_loc(input_query)\n",
    "            print(\"Clinic location of Doctor Piyush is {}\".format(position))\n",
    "            \n",
    "        elif(input_query == \"what is the clinic location of doctor soumya\"):\n",
    "            position = reversegeocoding.reversegeocoding_loc(input_query)\n",
    "            print(\"Clinic location of Doctor Soumya is {}\".format(position))   \n",
    "            \n",
    "        elif(input_query == \"what is the clinic location of doctor deepshikha\"):\n",
    "            position = reversegeocoding.reversegeocoding_loc(input_query)\n",
    "            print(\"Clinic location of Doctor Deepshikha is {}\".format(position))   \n",
    "            \n",
    "            \n",
    "        elif(input_query == \"best doctor near my location for cardiology\"):\n",
    "            mycur = cur.execute(\"SELECT Doctor_Name FROM DOCTOR WHERE Speciality = 'Cardiologist' \")\n",
    "            for i in mycur:\n",
    "                print(\"Best Doctor for Cardiology is {}\".format(i[0]))    \n",
    "    \n",
    "        elif(input_query == \"Please provide the name of the doctors which have fees less than 500 rupees\"):\n",
    "            mycur = cur.execute(\"SELECT Doctor_Name FROM DOCTOR WHERE Fees <=500 \")\n",
    "            for i in mycur:\n",
    "                print(\"Doctor with fees less than aur equal to 500 is/are {}\".format(i[0]))   \n",
    "            \n",
    "        elif(input_query == \"what is timing for doctor soumya\"):\n",
    "            print(\"currently we are unavaiable to provide time schedule\")\n",
    "            \n",
    "        elif(input_query == \"which is the best dental clinic\"):\n",
    "            print(\"currently we have no data for dental clinic\")\n",
    "            \n",
    "        elif(input_query == \"what is the dr. rishabh consultant fees\"):\n",
    "            mycur = cur.execute(\"SELECT Fees FROM DOCTOR WHERE Doctor_Name = 'Rishabh Yadav'\")\n",
    "            for i in mycur:\n",
    "                print(\"consultation charge of the Doctor Rishabh is {}\".format(i[0]))    \n",
    "        \n",
    "        elif(input_query == \"doctor with consultant fees more than 1000 rupees\"):\n",
    "            mycur = cur.execute(\"SELECT Doctor_Name FROM DOCTOR WHERE Fees >= 1000\")\n",
    "            for i in mycur:\n",
    "                for j in range(len(i)):\n",
    "                    print(\"Doctor with consultation charges more than 1000 rupees is {}\".format(i[j]))\n",
    "    \n",
    "        elif(input_query == \"what is the speciliatity of doctor piyush\"):\n",
    "            mycur = cur.execute(\"SELECT Speciality FROM DOCTOR WHERE Doctor_Name = 'Piyush Singh' \")\n",
    "            for i in mycur:\n",
    "                print(\"Specilization of Doctor Piyush is {}\".fomat(i[0]))\n",
    "                \n",
    "        elif(input_query ==\"what is the rating of doctor piyush singh\"):\n",
    "            mycur = cur.execute(\"SELECT Rating FROM DOCTOR WHERE Doctor_Name = 'Piyush Singh' \")\n",
    "            for i in mycur:\n",
    "                print(\"Rating of Doctor Piyush is {}\".format(i[0]))        \n",
    "                \n",
    "                \n",
    "        elif(input_query == \"what is the speciliatity of doctor mayank\"):\n",
    "            mycur = cur.execute(\"SELECT Speciality FROM DOCTOR WHERE Doctor_Name = 'Mayank Mishra' \")\n",
    "            for i in mycur:\n",
    "                print(\"Specilization of Doctor Mayank is {}\".format(i[0]))\n",
    "                \n",
    "        elif(input_query == \"what is the rating of doctor mayank mishra\"):\n",
    "            mycur = cur.execute(\"SELECT Rating FROM DOCTOR WHERE Doctor_Name = 'Mayank Mishra' \")\n",
    "            for i in mycur:\n",
    "                print(\"Rating of Doctor Mayank is {}\".format(i[0]))        \n",
    "                \n",
    "                \n",
    "        elif(input_query == \"what is the speciliatity of doctor soumya\"):\n",
    "            mycur = cur.execute(\"SELECT Speciality FROM DOCTOR WHERE Doctor_Name = 'Soumya' \")\n",
    "            for i in mycur:\n",
    "                print(\"Specilization of Doctor Soumya is {}\".format(i[0]))\n",
    "                \n",
    "        elif(input_query == \"what is the rating of doctor soumya\"):\n",
    "            mycur = cur.execute(\"SELECT Rating FROM DOCTOR WHERE Doctor_Name = 'Soumya' \")\n",
    "            for i in mycur:\n",
    "                print(\"Rating of Doctor Soumya is {}\".format(i[0]))        \n",
    "                \n",
    "                \n",
    "        elif(input_query == \"what is the speciliatity of doctor rishabh\"):\n",
    "            mycur = cur.execute(\"SELECT Speciality FROM DOCTOR WHERE Doctor_Name = 'Rishabh Yadav' \")\n",
    "            for i in mycur:\n",
    "                print(\"Specilization of Doctor Rishabh is {}\" .format(i[0]))\n",
    "                \n",
    "        elif(input_query == \"what is the rating of doctor rishabh yadav\"):\n",
    "            mycur = cur.execute(\"SELECT Rating FROM DOCTOR WHERE Doctor_Name = 'Rishabh Yadav'\")\n",
    "            for i in mycur:\n",
    "                print(\"Rating of Doctor Rishabh is {}\" .format(i[0]))        \n",
    "                \n",
    "                \n",
    "        elif(input_query == \"what is the speciliatity of doctor deepshikha\"):\n",
    "            mycur = cur.execute(\"SELECT Speciality FROM DOCTOR WHERE Doctor_Name = 'Deepshikha Mishra' \")\n",
    "            for i in mycur:\n",
    "                print(\"Specilization of Doctor Deepshikha is {}\".format(i[0]))\n",
    "                \n",
    "        elif(input_query == \"what is the rating of doctor deepshikha\"):\n",
    "            mycur = cur.execute(\"SELECT Rating FROM DOCTOR WHERE Doctor_Name = 'Deepshikha Mishra' \")\n",
    "            for i in mycur:\n",
    "                print(\"Rating of Doctor Deepshikha is {}\".format(i[0]))        \n",
    "                \n",
    "                \n",
    "        elif(input_query == \"what is consultant fees of doctor piyush\"):\n",
    "            mycur = cur.execute(\"SELECT Fees FROM DOCTOR WHERE Doctor_Name = 'Piyush Singh' \")\n",
    "            for i in mycur:\n",
    "                print(\"consultation charges of Doctor Piyush is {}  Rupees\".format(i[0]))         \n",
    "                \n",
    "                \n",
    "        elif(input_query == \"what is consultant fees of doctor mayank\"):\n",
    "            mycur = cur.execute(\"SELECT Fees FROM DOCTOR WHERE Doctor_Name = 'Mayank Mishra' \")\n",
    "            for i in mycur:\n",
    "                print(\"consultation charges of Doctor Mayank is {} Rupees\" .format(i[0]))\n",
    "                \n",
    "                \n",
    "        elif(input_query == \"what is the consulatant fees of doctor soumya\"):\n",
    "            mycur = cur.execute(\"SELECT Fees FROM DOCTOR WHERE Doctor_Name = 'Soumya' \")\n",
    "            for i in mycur:\n",
    "                print(\"consultation charges of Doctor Soumya is {} Rupees\".format(i[0]))  \n",
    "                \n",
    "                \n",
    "        elif(input_query == \"what is the consulatant fees of doctor deepshikha\"):\n",
    "            mycur = cur.execute(\"SELECT Fees FROM DOCTOR WHERE Doctor_Name = 'Deepshikha Mishra' \")\n",
    "            for i in mycur:\n",
    "                print(\"consultation charges of Doctor Deepshikha is {} Rupees\".format(i[0]))\n",
    "                \n",
    "                \n",
    "        elif(input_query == \"who is the doctor of patient aditya\"):\n",
    "            mycur = cur.execute(\"SELECT Doctor_Name FROM Doctor WHERE Pat_id=(SELECT Patient_id FROM Patient WHERE Patient_Name = 'Aditya Sonkar')\")\n",
    "            for i in mycur:\n",
    "                print(\"{} is the Doctor of patient Aditya\".format(i[0]))\n",
    "                \n",
    "                \n",
    "        elif(input_query == \"who is the doctor of patient harsh\"):\n",
    "            mycur = cur.execute(\"SELECT Doctor_Name FROM Doctor WHERE Pat_id=(SELECT Patient_id FROM Patient WHERE Patient_Name = 'Harsh Mishra')\")\n",
    "            for i in mycur:\n",
    "                print(\"{} is the Doctor of patient Harsh\".format(i[0]))\n",
    "                \n",
    "                \n",
    "        elif(input_query == \"who is the doctor of patient yuvraj\"):\n",
    "            mycur = cur.execute(\"SELECT Doctor_Name FROM Doctor WHERE Pat_id=(SELECT Patient_id FROM Patient WHERE Patient_Name = 'Yuvraj Sinha')\")\n",
    "            for i in mycur:\n",
    "                print(\"{} is the Doctor of patient Yuvraj\".format(i[0]))\n",
    "                \n",
    "                \n",
    "        elif(input_query == \"who is the doctor of patient amit\"):\n",
    "            mycur = cur.execute(\"SELECT Doctor_Name FROM Doctor WHERE Pat_id=(SELECT Patient_id FROM Patient WHERE Patient_Name = 'Amit')\")\n",
    "            for i in mycur:\n",
    "                print(\"{} is the Doctor of patient Amit\".format(i[0]))\n",
    "                \n",
    "        elif(input_query == \"who is the doctor of patient garima\"):\n",
    "            mycur = cur.execute(\"SELECT Doctor_Name FROM Doctor WHERE Pat_id=(SELECT Patient_id FROM Patient WHERE Patient_Name = 'Garima')\")\n",
    "            for i in mycur:\n",
    "                print(\"{} is the Doctor of patient garima\".format(i[0]))\n",
    "                \n",
    "                \n",
    "        elif(input_query == \"what is the minium age of the patient of doctor mayank\"):\n",
    "            mycur = cur.execute(\"SELECT min(Age) FROM Patient WHERE Patient_id =(SELECT Pat_id from Doctor WHERE Doctor_Name='Mayank Mishra')\")\n",
    "            for i in mycur:\n",
    "                print(\"Minimum age of the Patient under Doctor Mayank Is {} years\".format(i[0]))\n",
    "                \n",
    "                \n",
    "        elif(input_query == \"what is the sickness reason of devashree gupta\"):\n",
    "            print(\"Data for Devashree is not available\")\n",
    "            \n",
    "        elif(input_query == \"what is the sickness reason for aditya sonkar\"):\n",
    "            mycur = cur.execute(\"SELECT Issue from Patient WHERE Patient_Name = 'Aditya Sonkar' \")    \n",
    "            for i in mycur:\n",
    "                print(\"{} is the Health issue with patient Aditya sonkar\".format(i[0]))\n",
    "                \n",
    "                      \n",
    "        elif(input_query == \"what is the sickness reason for amit patel\"):\n",
    "            mycur = cur.execute(\"SELECT Issue from Patient WHERE Patient_Name = 'Amit' \")    \n",
    "            for i in mycur:\n",
    "                print(\"{} is the health issue with patient Amit\".format(i[0]))      \n",
    "                \n",
    "                \n",
    "        elif(input_query == \"how many girls are sick from last year\"):\n",
    "            mycur = cur.execute(\"SELECT count(Gender) FROM Patient WHERE Gender = 'F' \")    \n",
    "            for i in mycur:\n",
    "                print(\"{} is the total count  for sick girls\".format(i[0]))\n",
    "                \n",
    "        elif(input_query == \"what is the maximum age of the patient\"):\n",
    "            mycur = cur.execute(\"SELECT max(Age) FROM Patient \")    \n",
    "            for i in mycur:\n",
    "                print(i[0])        \n",
    "       \n",
    "        elif(input_query == \"what is the reason of sickness of alok patel\"):\n",
    "            print(\"Currently No Data Available for the Patient Name Alok\")\n",
    "            \n",
    "        elif(input_query == \"most sick patiet\"):\n",
    "            mycur = cur.execute(\"SELECT Patient_Name FROM patient GROUP BY(Issue) HAVING Age = max(Age) AND Issue = 'Heart Attack'  \")    \n",
    "            for i in mycur:\n",
    "                print(i[0])     \n",
    "            \n",
    "        elif(input_query == \"what is the age and gender of minimun age patient\"):\n",
    "            mycur = cur.execute(\"SELECT min(Age),Gender FROM Patient\")    \n",
    "            for i in mycur:\n",
    "                print(i)\n",
    "                \n",
    "                \n",
    "        elif(input_query == \"what is the reason of sickness of maximum age patient\"):\n",
    "            mycur = cur.execute(\"SELECT Issue FROM Patient WHERE Patient_Name = (SELECT Patient_Name FROM Patient GROUP By(Age) HAVING Age=(Select max(Age) FROM Patient))\")    \n",
    "            for i in mycur:\n",
    "                print(i[0])        \n",
    "            \n",
    "        elif(input_query == \"what is the health issue with aditya sonkar\"):\n",
    "            mycur = cur.execute(\"SELECT Issue FROM Patient WHERE Patient_Name = 'Aditya Sonkar' \")    \n",
    "            for i in mycur:\n",
    "                print(\"{} is the Health issue with  Aditya Sonkar\".format(i[0]))\n",
    "        \n",
    "        elif(input_query == \"disease name of patient aditya sonkar\"):\n",
    "            mycur = cur.execute(\"SELECT Issue FROM Patient WHERE Patient_Name = 'Aditya Sonkar' \")    \n",
    "            for i in mycur:\n",
    "                print(\"{} is the Health issue with  Aditya Sonkar\".format(i[0]))\n",
    "  \n",
    "    \n",
    "    \n",
    "    \n",
    "                \n",
    "        elif(input_query == \"what is the health issue with harsh\"):\n",
    "            mycur = cur.execute(\"SELECT Issue FROM Patient WHERE Patient_Name = 'Harsh Mishra' \")    \n",
    "            for i in mycur:\n",
    "                print(\"{} is the Health issue with  Patient Harsh Mishra\".format(i[0]))\n",
    "                \n",
    "        elif(input_query == \"disease name of patient harsh mishra\"):\n",
    "            mycur = cur.execute(\"SELECT Issue FROM Patient WHERE Patient_Name = 'Harsh Mishra' \")    \n",
    "            for i in mycur:\n",
    "                print(\"{} is the Health issue with  Patient Harsh Mishra\".format(i[0]))        \n",
    "                \n",
    "                \n",
    "                \n",
    "        elif(input_query == \"what is the health issue with yuvraj\"):\n",
    "            mycur = cur.execute(\"SELECT Issue FROM Patient WHERE Patient_Name = 'Yuvraj Sinha' \")    \n",
    "            for i in mycur:\n",
    "                print(\"{} is the Health issue with  Patient Yuvraj Sinha\".format(i[0]))\n",
    "                \n",
    "        elif(input_query == \"disease name of patient yuvraj sinha\"):\n",
    "            mycur = cur.execute(\"SELECT Issue FROM Patient WHERE Patient_Name = 'Yuvraj Sinha' \")    \n",
    "            for i in mycur:\n",
    "                print(\"{} is the Health issue with  Patient Yuvraj Sinha\".format(i[0]))        \n",
    "                \n",
    "                \n",
    "        elif(input_query == \"what is the health issue with amit\"):\n",
    "            mycur = cur.execute(\"SELECT Issue FROM Patient WHERE Patient_Name = 'Amit' \")    \n",
    "            for i in mycur:\n",
    "                print(\"{} is the Health issue with  Patient Amit\".format(i[0]))\n",
    "                \n",
    "        \n",
    "        elif(input_query == \"disease name of patient amit\"):\n",
    "            mycur = cur.execute(\"SELECT Issue FROM Patient WHERE Patient_Name = 'Amit' \")    \n",
    "            for i in mycur:\n",
    "                print(\"{} is the Health issue with  Patient Amit\".format(i[0]))\n",
    "                \n",
    "                \n",
    "        elif(input_query == \"what is the health issue with garima\"):\n",
    "            mycur = cur.execute(\"SELECT Issue FROM Patient WHERE Patient_Name = 'Garima' \")    \n",
    "            for i in mycur:\n",
    "                print(\"{} is the Health issue with  Patient Garima\".format(i[0]))\n",
    "                \n",
    "        \n",
    "        elif(input_query == \"disease name of patient yuvraj sinha\"):\n",
    "            mycur = cur.execute(\"SELECT Issue FROM Patient WHERE Patient_Name = 'Garima' \")    \n",
    "            for i in mycur:\n",
    "                print(\"{} is the Health issue with  Patient Garima\".format(i[0]))        \n",
    "                \n",
    "                \n",
    "        elif(input_query == \"maximum age patient name\"):\n",
    "            mycur = cur.execute(\"SELECT Patient_Name FROM Patient GROUP BY(Age) HAVING Age = (SELECT max(Age) FROM Patient) \")    \n",
    "            for i in mycur:\n",
    "                print(i[0])\n",
    "                \n",
    "        elif(input_query == \"minimum age patient name\"):\n",
    "            mycur = cur.execute(\"SELECT Patient_Name FROM Patient GROUP BY(Age) HAVING Age = (SELECT min(Age) FROM Patient) \")    \n",
    "            for i in mycur:\n",
    "                print(i[0])\n",
    "                \n",
    "        elif(input_query == \"average age of patients\"):\n",
    "            mycur = cur.execute(\"SELECT avg(Age) FROM Patient\")    \n",
    "            for i in mycur:\n",
    "                print(i[0])\n",
    "                \n",
    "        elif(input_query == \"best rating doctor\"):\n",
    "            mycur = cur.execute(\"SELECT Doctor_Name FROM Doctor WHERE Rating = (SELECT max(Rating) FROM Doctor)\")    \n",
    "            for i in mycur:\n",
    "                for j in range(len(i)):\n",
    "                    print(\"Highest rating Doctors are {}\".format(i[j]))\n",
    "                    \n",
    "        elif(input_query == \"worst rating doctor\"):\n",
    "            mycur = cur.execute(\"SELECT Doctor_Name FROM Doctor WHERE Rating = (SELECT min(Rating) FROM Doctor)\")    \n",
    "            for i in mycur:\n",
    "                for j in range(len(i)):\n",
    "                    print(\"lowest rating Doctors is {}\".format(i[j]))   \n",
    "                    \n",
    "        elif(input_query == \"highesst rating doctor\"):\n",
    "            mycur = cur.execute(\"SELECT Doctor_Name FROM Doctor WHERE Rating = (SELECT max(Rating) FROM Doctor)\")    \n",
    "            for i in mycur:\n",
    "                for j in range(len(i)):\n",
    "                    print(\"Highest rating Doctors are {}\".format(i[j]))\n",
    "                    \n",
    "        elif(input_query == \"lowest rating doctor\"):\n",
    "            mycur = cur.execute(\"SELECT Doctor_Name FROM Doctor WHERE Rating = (SELECT min(Rating) FROM Doctor)\")    \n",
    "            for i in mycur:\n",
    "                for j in range(len(i)):\n",
    "                    print(\"lowest rating Doctors is {}\".format(i[j]))            \n",
    "                \n",
    "                \n",
    "            "
   ]
  },
  {
   "cell_type": "code",
   "execution_count": 41,
   "metadata": {},
   "outputs": [
    {
     "name": "stdout",
     "output_type": "stream",
     "text": [
      "consultation charges of Doctor Soumya is 600 Rupees\n"
     ]
    }
   ],
   "source": [
    "respond.sql_answer(\"what is the consulatant fees of doctor soumya\")\n",
    "\n"
   ]
  },
  {
   "cell_type": "code",
   "execution_count": 34,
   "metadata": {},
   "outputs": [],
   "source": [
    "import reverse_geocoder as rf\n",
    "\n",
    "class reversegeocoding:\n",
    "    def reversegeocoding_loc(input_query):\n",
    "        con = sqlite3.connect(\"sql1.db\")\n",
    "        cur = con.cursor()\n",
    "        \n",
    "        if(input_query == \"what is the clinic location of doctor mayank\"):\n",
    "            mycur = cur.execute(\"SELECT Clinic_lat,Clinic_long FROM Doctor WHERE Doctor_Name='Mayank Mishra' \")\n",
    "            for i in mycur:\n",
    "                lat = i[0]\n",
    "                long = i[1]\n",
    "            latitude = float(lat)\n",
    "            longititude = float(long)\n",
    "            coordinates = (latitude,longititude)\n",
    "            location = rf.search(coordinates)\n",
    "           \n",
    "            \n",
    "        elif(input_query == \"what is the clinic location of doctor piyush\"):\n",
    "            mycur = cur.execute(\"SELECT Clinic_lat,Clinic_long FROM Doctor WHERE Doctor_Name='Piyush Singh' \")\n",
    "            for i in mycur:\n",
    "                lat = i[0]\n",
    "                long = i[1]\n",
    "            latitude = float(lat)\n",
    "            longititude = float(long)\n",
    "            coordinates = (latitude,longititude)\n",
    "            location = rf.search(coordinates)\n",
    "        \n",
    "            \n",
    "        elif(input_query == \"what is the clinic location of doctor soumya\"):\n",
    "            mycur = cur.execute(\"SELECT Clinic_lat,Clinic_long FROM Doctor WHERE Doctor_Name='Soumya' \")\n",
    "            for i in mycur:\n",
    "                lat = i[0]\n",
    "                long = i[1]\n",
    "            latitude = float(lat)\n",
    "            longititude = float(long)\n",
    "            coordinates = (latitude,longititude)\n",
    "            location = rf.search(coordinates)\n",
    "           \n",
    "            \n",
    "        elif(input_query == \"what is the clinic location of doctor deepshikha\"):\n",
    "            mycur = cur.execute(\"SELECT Clinic_lat,Clinic_long FROM Doctor WHERE Doctor_Name='Deepshikha Mishra' \")\n",
    "            for i in mycur:\n",
    "                lat = i[0]\n",
    "                long = i[1]\n",
    "            latitude = float(lat)\n",
    "            longititude = float(long)\n",
    "            coordinates = (latitude,longititude)\n",
    "            location = rf.search(coordinates)\n",
    "        \n",
    "        \n",
    "        elif(input_query == \"what is the clinic location of doctor rishabh\"):\n",
    "            mycur = cur.execute(\"SELECT Clinic_lat,Clinic_long FROM Doctor WHERE Doctor_Name='Rishabh Yadav' \")\n",
    "            for i in mycur:\n",
    "                lat = i[0]\n",
    "                long = i[1]\n",
    "            latitude = float(lat)\n",
    "            longititude = float(long)\n",
    "            coordinates = (latitude,longititude)\n",
    "            location = rf.search(coordinates)\n",
    "\n",
    "        return location[0]['name'] \n",
    "    "
   ]
  },
  {
   "cell_type": "code",
   "execution_count": 35,
   "metadata": {},
   "outputs": [
    {
     "name": "stdout",
     "output_type": "stream",
     "text": [
      "Loading formatted geocoded file...\n",
      "Gurgaon\n",
      "Vijayawada\n"
     ]
    }
   ],
   "source": [
    "k = reversegeocoding.reversegeocoding_loc(\"what is the clinic location of doctor rishabh\")\n",
    "g = reversegeocoding.reversegeocoding_loc(\"what is the clinic location of doctor mayank\")\n",
    "print(g)\n",
    "print(k)"
   ]
  },
  {
   "cell_type": "code",
   "execution_count": 36,
   "metadata": {},
   "outputs": [],
   "source": [
    "Doctors = [\"Piyush Singh\",\"Soumya\",\"Mayank Mishra\",\"Deepshikha Mishra\",\"Rishabh Yadav\"]"
   ]
  },
  {
   "cell_type": "code",
   "execution_count": 37,
   "metadata": {},
   "outputs": [],
   "source": [
    "Patients = [\"Aditya Sonkar\",\"Harsh Mishra\",\"Yuvraj Sinha\",\"Amit\",\"Garima\"]"
   ]
  },
  {
   "cell_type": "code",
   "execution_count": 42,
   "metadata": {},
   "outputs": [],
   "source": [
    "speciality = [\"Cardiologist\",\"Physician\",\"Dermatologist\",\"Surgeon\",\"Psycheatrist\"]"
   ]
  },
  {
   "cell_type": "markdown",
   "metadata": {},
   "source": [
    "## Chatbot desigining"
   ]
  },
  {
   "cell_type": "code",
   "execution_count": 38,
   "metadata": {},
   "outputs": [],
   "source": [
    "flag = True\n",
    "context = None\n",
    "Bestmatch = None\n",
    "reply = None"
   ]
  },
  {
   "cell_type": "code",
   "execution_count": 39,
   "metadata": {},
   "outputs": [
    {
     "name": "stdin",
     "output_type": "stream",
     "text": [
      "User > hi\n"
     ]
    },
    {
     "name": "stdout",
     "output_type": "stream",
     "text": [
      "Bot > Hello, I am a bot design for Specific Purpose How can I help you?\n",
      "Bot > I can help you to provide information about Doctor Speciliaty,Doctor Fees,Clinic Location,Doctor Rating\n",
      "Bot > I can also help you to provide the information about the Patient Health Issue,Patient Doctor\n",
      "Bot > Here is the list of Doctors ['Piyush Singh', 'Soumya', 'Mayank Mishra', 'Deepshikha Mishra', 'Rishabh Yadav']\n",
      "Bot > Here is the list of Patients ['Aditya Sonkar', 'Harsh Mishra', 'Yuvraj Sinha', 'Amit', 'Garima']\n",
      "Bot > Please Provide your Query for Search\n"
     ]
    },
    {
     "name": "stdin",
     "output_type": "stream",
     "text": [
      "User > what is the consultant fees of doctor soumya\n"
     ]
    },
    {
     "name": "stdout",
     "output_type": "stream",
     "text": [
      "Bot > Thanks for Searching\n"
     ]
    },
    {
     "name": "stdin",
     "output_type": "stream",
     "text": [
      "User > \n"
     ]
    },
    {
     "name": "stdout",
     "output_type": "stream",
     "text": [
      "Bot > Hello, I am a bot design for Specific Purpose How can I help you?\n",
      "Bot > I can help you to provide information about Doctor Speciliaty,Doctor Fees,Clinic Location,Doctor Rating\n",
      "Bot > I can also help you to provide the information about the Patient Health Issue,Patient Doctor\n",
      "Bot > Here is the list of Doctors ['Piyush Singh', 'Soumya', 'Mayank Mishra', 'Deepshikha Mishra', 'Rishabh Yadav']\n",
      "Bot > Here is the list of Patients ['Aditya Sonkar', 'Harsh Mishra', 'Yuvraj Sinha', 'Amit', 'Garima']\n",
      "Bot > Please Provide your Query for Search\n"
     ]
    },
    {
     "name": "stdin",
     "output_type": "stream",
     "text": [
      "User > exit\n"
     ]
    }
   ],
   "source": [
    "while flag:\n",
    "    Yes_check = 'Yes'\n",
    "    No_check = 'No'\n",
    "    query =input(\"User >\")\n",
    "    query = query.strip()\n",
    "    query = query.lstrip(\"@,<,>,#,$,%,%,^,&,*,?\")\n",
    "    query = query.rstrip(\"@,<,>,#,$,%,%,^,&,*,?\")\n",
    "    query = regrex(query)\n",
    "    print(\"Bot > Hello, I am a bot design for Specific Purpose How can I help you?\")\n",
    "    time.sleep(1)\n",
    "    print(\"Bot > I can help you to provide information about Doctor Speciliaty,Doctor Fees,Clinic Location,Doctor Rating\")\n",
    "    time.sleep(1)\n",
    "    print(\"Bot > I can also help you to provide the information about the Patient Health Issue,Patient Doctor\")\n",
    "    time.sleep(1)\n",
    "    print(\"Bot > Here is the list of Doctors {}\".format(Doctors))\n",
    "    time.sleep(1)\n",
    "    print(\"Bot > Here is the list of Patients {}\".format(Patients))\n",
    "    time.sleep(1)\n",
    "    print(\"Bot > Please Provide your Query for Search\")\n",
    "    query = input(\"User >\")\n",
    "    query = regrex(query)\n",
    "\n",
    "    score,_,context = getContext_details(query)\n",
    "    \n",
    "    if len(query)==0:\n",
    "        print(\"Bot > Please provide the Input\")\n",
    "    elif query==\"exit\":\n",
    "        flag=False\n",
    "    \n",
    "    else:\n",
    "        if(score<0.4):\n",
    "            print(\"Bot > I am a bot design for Database related issues, Please Provide Suitable Query\")\n",
    "            \n",
    "        elif(score>=1.0):\n",
    "            _,best_match,_ = getContext_details(query)\n",
    "            answer = respond.sql_answer(query)\n",
    "            print(\"Bot > Thanks for Searching\")\n",
    "            \n",
    "            \n",
    "            \n",
    "            \n",
    "        elif(score>=0.4 and context == \"Doctor\"):\n",
    "            print(\"Bot > You want to check Detail Information about Doctor {} Yes or No\" .format(get_name1((query))))\n",
    "            query =input(\"User > \")\n",
    "            query = query.lstrip(\"@,<,>,#,$,%,%,^,&,*,?\")\n",
    "            query = query.rstrip(\"@,<,>,#,$,%,%,^,&,*\")\n",
    "            query = regrex(query)\n",
    "            if(query == \"exit\"):\n",
    "                flag = False\n",
    "            if (query.casefold()==Yes_check.casefold()):\n",
    "                print(\"Bot > Please provide your search query again for confirmation\")\n",
    "                query =input(\"User >\")\n",
    "                query = query.lstrip(\"@,<,>,#,$,%,%,^,&,*,?\")\n",
    "                query = query.rstrip(\"@,<,>,#,$,%,%,^,&,*\")\n",
    "                query = regrex(query)\n",
    "                if(query == \"exit\"):\n",
    "                    flag = False\n",
    "                else:\n",
    "                    Bestmatch = bestrecommend.getContext_bestrecommend(query)\n",
    "                    for response in Bestmatch:\n",
    "                        print(\"Bot > {} \".format(response))\n",
    "                        print(\" \")\n",
    "                    print(\"Bot > None of the Above\")\n",
    "                    print(\" \")\n",
    "                    print(\"Bot > Above are the matching query,Select the suitable query\")\n",
    "                    print(\"Bot > Enter the best suitable query\")\n",
    "                    query = input(\"User >\")\n",
    "                    query = query.lstrip()\n",
    "                    query = query.lstrip(\"@,<,>,#,$,%,%,^,&,*\")\n",
    "                    query = regrex(query)\n",
    "                    if (query==\"exit\"):\n",
    "                        flag=False\n",
    "                    elif(query == \"None of the Above\"):\n",
    "                        print(\"Bot > I am unable to  find this query this time,I am Design for Specific Purpose, I will help you after some time\")\n",
    "                        break\n",
    "                    else:\n",
    "                        respond.sql_answer(query)\n",
    "                        time.sleep(2)\n",
    "                        \n",
    "                \n",
    "                \n",
    "            else:\n",
    "                print(\"bot > Sorry, I am currently unavailable to find query\")\n",
    "                flag = False\n",
    "                \n",
    "        elif(score>=0.4 and context==\"Patient\"):\n",
    "            print(\"Bot > Paient Informations are very Sensitive Information to check the information \\n Please Provide the Patient id\")\n",
    "            time.sleep(2)\n",
    "            \n",
    "            query = input(\"User > \")\n",
    "            query = query.lstrip(\"@,<,>,#,$,%,%,^,&,*,?\")\n",
    "            query = query.rstrip(\"@,<,>,#,$,%,%,^,&,*,?\")\n",
    "            try:\n",
    "                query = int(query)\n",
    "                print(\"Bot > You want to check Detail Information about Patient {} Yes or No\" .format(patient_name(query)))   \n",
    "                query = input(\"User >\")\n",
    "                query = regrex(query)\n",
    "                if (query==\"exit\"):\n",
    "                    flag = False\n",
    "                if (query.casefold()==Yes_check.casefold()):\n",
    "                    print(\"Bot > Please provide your Search query again for confirmation\")\n",
    "                    query = input(\"User >\")\n",
    "                    query = regrex(query)\n",
    "                    if (query == \"exit\"):\n",
    "                        flag = False\n",
    "                    else:\n",
    "                        Bestmatch_1 = bestrecommend.getContext_bestrecommend(query)\n",
    "                        for response in Bestmatch_1:\n",
    "                            print(\"Bot > {}\".format(response))\n",
    "                            print(\" \")\n",
    "                        print(\"Bot > None of the Above\") \n",
    "                        print(\" \")\n",
    "                        print(\"Bot > Above are the matching query,Select the suitable query\")\n",
    "                        print(\"Bot > Enter the best suitable query\")\n",
    "                        query = input(\"User >\")\n",
    "                        query = query.lstrip()\n",
    "                        query = query.lstrip(\"@,<,>,#,$,%,%,^,&,*,?\")\n",
    "                        query = regrex(query)\n",
    "                        if (query==\"exit\"):\n",
    "                            flag = False\n",
    "                    \n",
    "                        elif(query == \"None of the Above\"):\n",
    "                            print(\"Bot > I am unable to  find this query this time,I am Design for Specific Purpose, I will help you after some time\")\n",
    "                            break\n",
    "                    \n",
    "                        else:\n",
    "                            answer = respond.sql_answer(query)\n",
    "                            print(\"Please provide query to search again or type exit to end the Conversation\")    \n",
    "                \n",
    "              \n",
    "                elif (query.casefold()==No_check.casefold()):\n",
    "                    print(\"bot > Sorry, I am currently unavailable to find query\")\n",
    "                    print(\"Please provide query to search again or type exit to end the Conversation\")\n",
    "            except:\n",
    "                print(\"Bot > You are providing incorrect input\")\n",
    "                \n",
    "                \n",
    "            \n",
    "\n",
    "    "
   ]
  },
  {
   "cell_type": "code",
   "execution_count": 59,
   "metadata": {},
   "outputs": [
    {
     "name": "stdin",
     "output_type": "stream",
     "text": [
      " piyush singh\n"
     ]
    },
    {
     "name": "stdout",
     "output_type": "stream",
     "text": [
      "piyush\n"
     ]
    }
   ],
   "source": [
    "query = input(\"\")\n",
    "query = query.split()\n",
    "for i in query:\n",
    "    for j in doctors:\n",
    "        if i==j:\n",
    "            name = j\n",
    "            print(name)\n",
    "            "
   ]
  },
  {
   "cell_type": "code",
   "execution_count": 61,
   "metadata": {},
   "outputs": [
    {
     "name": "stdout",
     "output_type": "stream",
     "text": [
      "(1000,)\n"
     ]
    }
   ],
   "source": [
    "\n",
    "name  = \"Piyush Singh\"\n",
    "cur.execute('SELECT Fees FROM Doctor WHERE Doctor_Name=?',(name,))\n",
    "row = cur.fetchone()\n",
    "print(row)\n",
    "\n",
    "for k in cur:\n",
    "    print(k[0])\n",
    "            \n",
    "            \n",
    "        "
   ]
  },
  {
   "cell_type": "code",
   "execution_count": null,
   "metadata": {},
   "outputs": [],
   "source": []
  }
 ],
 "metadata": {
  "kernelspec": {
   "display_name": "Python 3",
   "language": "python",
   "name": "python3"
  },
  "language_info": {
   "codemirror_mode": {
    "name": "ipython",
    "version": 3
   },
   "file_extension": ".py",
   "mimetype": "text/x-python",
   "name": "python",
   "nbconvert_exporter": "python",
   "pygments_lexer": "ipython3",
   "version": "3.8.5"
  }
 },
 "nbformat": 4,
 "nbformat_minor": 4
}
