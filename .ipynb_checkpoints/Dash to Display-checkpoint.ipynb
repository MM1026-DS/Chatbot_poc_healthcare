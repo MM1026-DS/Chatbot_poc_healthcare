{
 "cells": [
  {
   "cell_type": "code",
   "execution_count": 1,
   "metadata": {},
   "outputs": [],
   "source": [
    "import dash\n",
    "import dash_core_components as dcc\n",
    "import dash_html_components as html\n",
    "import numpy as np\n",
    "import pandas as pd\n",
    "import plotly.graph_objs as go\n",
    "import pandas as pd\n",
    "\n",
    "import dash\n",
    "import dash_core_components as dcc\n",
    "import dash_html_components as html\n",
    "from dash.dependencies import Input, Output\n",
    "import plotly.express as px \n",
    "from flask import Flask\n"
   ]
  },
  {
   "cell_type": "markdown",
   "metadata": {},
   "source": [
    "# 1) Updating UI by UI team"
   ]
  },
  {
   "cell_type": "code",
   "execution_count": 8,
   "metadata": {},
   "outputs": [
    {
     "name": "stdout",
     "output_type": "stream",
     "text": [
      "Dash is running on http://127.0.0.1:8050/\n",
      "\n",
      "Dash is running on http://127.0.0.1:8050/\n",
      "\n",
      "Dash is running on http://127.0.0.1:8050/\n",
      "\n",
      "Dash is running on http://127.0.0.1:8050/\n",
      "\n",
      "Dash is running on http://127.0.0.1:8050/\n",
      "\n",
      " * Serving Flask app \"__main__\" (lazy loading)\n",
      " * Environment: production\n",
      "   WARNING: This is a development server. Do not use it in a production deployment.\n",
      "   Use a production WSGI server instead.\n",
      " * Debug mode: off\n"
     ]
    },
    {
     "name": "stderr",
     "output_type": "stream",
     "text": [
      " * Running on http://127.0.0.1:8050/ (Press CTRL+C to quit)\n",
      "127.0.0.1 - - [22/Jan/2021 13:20:15] \"\u001b[37mGET / HTTP/1.1\u001b[0m\" 200 -\n",
      "127.0.0.1 - - [22/Jan/2021 13:20:16] \"\u001b[37mGET /_dash-layout HTTP/1.1\u001b[0m\" 200 -\n",
      "127.0.0.1 - - [22/Jan/2021 13:20:16] \"\u001b[37mGET /_dash-dependencies HTTP/1.1\u001b[0m\" 200 -\n"
     ]
    }
   ],
   "source": [
    "\n",
    "external_stylesheets = [\"https://stackpath.bootstrapcdn.com/bootstrap/4.5.2/css/bootstrap.min.css\"]\n",
    "#external_stylesheets = [\"https://codepen.io/chriddyp/pen/bWLwgP.css\"]\n",
    "\n",
    "app = dash.Dash(__name__,external_stylesheets = external_stylesheets)\n",
    "\n",
    "app.layout = html.Div(html.Button(\"Submit\",className = \"mr-1\"))\n",
    "\n",
    "\n",
    "if __name__ ==\"__main__\":\n",
    "    app.run_server()"
   ]
  },
  {
   "cell_type": "markdown",
   "metadata": {},
   "source": [
    "By making changes in the stylesheet, the UI can be modified. But it will only work when the UI team modifies in the stylesheet stored in the server. The changes cannot be sent via link etc "
   ]
  },
  {
   "cell_type": "markdown",
   "metadata": {},
   "source": [
    "# Sending Input through URL"
   ]
  },
  {
   "cell_type": "markdown",
   "metadata": {},
   "source": [
    "Couldn't find any solution to directly send data to layout through url. Only feasible solution is to integrate dash with flask api . Send data through flask api adn input that data in dash somehow"
   ]
  },
  {
   "cell_type": "code",
   "execution_count": 2,
   "metadata": {},
   "outputs": [
    {
     "name": "stdout",
     "output_type": "stream",
     "text": [
      " * Serving Flask app \"__main__\" (lazy loading)\n",
      " * Environment: production\n",
      "   WARNING: This is a development server. Do not use it in a production deployment.\n",
      "   Use a production WSGI server instead.\n",
      " * Debug mode: off\n"
     ]
    },
    {
     "name": "stderr",
     "output_type": "stream",
     "text": [
      " * Running on http://127.0.0.1:5000/ (Press CTRL+C to quit)\n",
      "127.0.0.1 - - [22/Jan/2021 15:02:42] \"\u001b[37mGET /dash/page-1 HTTP/1.1\u001b[0m\" 200 -\n",
      "127.0.0.1 - - [22/Jan/2021 15:02:43] \"\u001b[37mGET /dash/_dash-layout HTTP/1.1\u001b[0m\" 200 -\n",
      "127.0.0.1 - - [22/Jan/2021 15:02:43] \"\u001b[37mGET /dash/_dash-dependencies HTTP/1.1\u001b[0m\" 200 -\n",
      "127.0.0.1 - - [22/Jan/2021 15:02:43] \"\u001b[37mPOST /dash/_dash-update-component HTTP/1.1\u001b[0m\" 200 -\n"
     ]
    },
    {
     "name": "stdout",
     "output_type": "stream",
     "text": [
      "/dash/page-1\n"
     ]
    },
    {
     "name": "stderr",
     "output_type": "stream",
     "text": [
      "127.0.0.1 - - [22/Jan/2021 15:02:46] \"\u001b[37mGET /dash/page- HTTP/1.1\u001b[0m\" 200 -\n",
      "127.0.0.1 - - [22/Jan/2021 15:02:46] \"\u001b[37mGET /dash/_dash-layout HTTP/1.1\u001b[0m\" 200 -\n",
      "127.0.0.1 - - [22/Jan/2021 15:02:46] \"\u001b[37mGET /dash/_dash-dependencies HTTP/1.1\u001b[0m\" 200 -\n",
      "127.0.0.1 - - [22/Jan/2021 15:02:46] \"\u001b[37mPOST /dash/_dash-update-component HTTP/1.1\u001b[0m\" 200 -\n"
     ]
    },
    {
     "name": "stdout",
     "output_type": "stream",
     "text": [
      "/dash/page-\n"
     ]
    },
    {
     "name": "stderr",
     "output_type": "stream",
     "text": [
      "127.0.0.1 - - [22/Jan/2021 15:02:48] \"\u001b[37mGET /dash/page- HTTP/1.1\u001b[0m\" 200 -\n",
      "127.0.0.1 - - [22/Jan/2021 15:02:48] \"\u001b[37mGET /dash/_dash-layout HTTP/1.1\u001b[0m\" 200 -\n",
      "127.0.0.1 - - [22/Jan/2021 15:02:48] \"\u001b[37mGET /dash/_dash-dependencies HTTP/1.1\u001b[0m\" 200 -\n",
      "127.0.0.1 - - [22/Jan/2021 15:02:48] \"\u001b[37mPOST /dash/_dash-update-component HTTP/1.1\u001b[0m\" 200 -\n"
     ]
    },
    {
     "name": "stdout",
     "output_type": "stream",
     "text": [
      "/dash/page-\n"
     ]
    }
   ],
   "source": [
    "server = Flask(__name__)\n",
    "app = dash.Dash(\n",
    "    __name__,\n",
    "    server=server,\n",
    "    url_base_pathname='/dash/'\n",
    ")\n",
    "\n",
    "app.layout = html.Div([\n",
    "    dcc.Location(id='url', refresh=False),\n",
    "    html.Div(id='page-content')\n",
    "\n",
    "])\n",
    "\n",
    "def get_layout_one(sample_dictionary):\n",
    "    np.random.seed(30)\n",
    "    ran_x=np.random.randint(1,12,10)\n",
    "    ran_y=np.random.randint(1,12,10)\n",
    "    layout_one=html.Div([\n",
    "        html.H1(sample_dictionary['name']),\n",
    "        html.H1(sample_dictionary['age']),\n",
    "        html.Div([dcc.Graph(id='scar1',\n",
    "                         figure={'data':[\n",
    "                               go.Scatter(\n",
    "                               x=ran_x,\n",
    "                               y=ran_y,\n",
    "                               mode='markers',\n",
    "                               marker={\n",
    "                                   'size': 20,\n",
    "                                   'color': 'rgb(51,204,144)',\n",
    "                                   'symbol':'circle',\n",
    "                                   'line':{'width':2}\n",
    "\n",
    "                               }\n",
    "                               )],\n",
    "                                'layout':go.Layout(title='Scatterplots',\n",
    "                                                   xaxis={'title': 'some x title'},\n",
    "                                                   yaxis={'title': 'some y title'})}\n",
    "                                  )])\n",
    "    \n",
    "        ])\n",
    "    return layout_one\n",
    "\n",
    "def get_layout_two(sample_dictionary):\n",
    "    np.random.seed(30)\n",
    "    ran_x=np.random.randint(1,12,10)\n",
    "    ran_y=np.random.randint(1,12,10)    \n",
    "    layout_two=html.Div([\n",
    "        html.H1(sample_dictionary['name']),\n",
    "        html.H1(sample_dictionary['age']),\n",
    "        html.Div([dcc.Graph(id='scar2',\n",
    "                            figure={'data':[\n",
    "                       go.Scatter(\n",
    "                       x=ran_x,\n",
    "                       y=ran_y,\n",
    "                       mode='markers',\n",
    "                       marker={\n",
    "                           'size': 12,\n",
    "                           'color': 'rgb(51,204,144)',\n",
    "                           'symbol':'square',\n",
    "                           'line':{'width':2}\n",
    "\n",
    "                       }\n",
    "                       )],\n",
    "                        'layout':go.Layout(title='Scatterplots',\n",
    "                                           xaxis={'title': 'some x title'},\n",
    "                                           yaxis={'title': 'some y title'})})])\n",
    "        ])\n",
    "    return layout_two\n",
    "    \n",
    "\n",
    "@app.callback(dash.dependencies.Output('page-content', 'children'),\n",
    "              [dash.dependencies.Input('url', 'pathname')])\n",
    "def display_page(pathname):\n",
    "    print(pathname)\n",
    "    if pathname == '/dash/page-1':\n",
    "        sample_dictionary={\"name\":\"Raman\",\"age\":1} # this will be acquired from url parameters\n",
    "        layout_one=get_layout_one(sample_dictionary)\n",
    "        return layout_one\n",
    "    else:\n",
    "        sample_dictionary={\"name\":\"Raghav\",\"age\":2} # this will be acquired from url parameters\n",
    "        layout_two=get_layout_two(sample_dictionary)\n",
    "        return layout_two\n",
    "@server.route(\"/dash/\")\n",
    "def my_dash_app():\n",
    "    sample_dictionary={\"name\":\"Raghav\",\"age\":2} \n",
    "    return app#.index()\n",
    "if __name__=='__main__':\n",
    "    server.run()"
   ]
  },
  {
   "cell_type": "markdown",
   "metadata": {},
   "source": [
    "This article might be helpful in achieving the same - https://stackoverflow.com/questions/59627976/integrating-dash-apps-into-flask-minimal-example"
   ]
  },
  {
   "cell_type": "code",
   "execution_count": null,
   "metadata": {},
   "outputs": [],
   "source": [
    " "
   ]
  }
 ],
 "metadata": {
  "kernelspec": {
   "display_name": "Python 3",
   "language": "python",
   "name": "python3"
  },
  "language_info": {
   "codemirror_mode": {
    "name": "ipython",
    "version": 3
   },
   "file_extension": ".py",
   "mimetype": "text/x-python",
   "name": "python",
   "nbconvert_exporter": "python",
   "pygments_lexer": "ipython3",
   "version": "3.8.5"
  }
 },
 "nbformat": 4,
 "nbformat_minor": 4
}
