{
 "cells": [
  {
   "cell_type": "markdown",
   "metadata": {},
   "source": [
    "## First Solution"
   ]
  },
  {
   "cell_type": "code",
   "execution_count": 2,
   "metadata": {},
   "outputs": [],
   "source": [
    "import pandas as pd"
   ]
  },
  {
   "cell_type": "code",
   "execution_count": 3,
   "metadata": {},
   "outputs": [],
   "source": [
    "INPUT = [0.15,0.12,0.35,0.38,0.75,0.77,0.9,0.94]"
   ]
  },
  {
   "cell_type": "code",
   "execution_count": 4,
   "metadata": {},
   "outputs": [],
   "source": [
    "df = pd.DataFrame(INPUT,columns=[\"Value\"])"
   ]
  },
  {
   "cell_type": "code",
   "execution_count": 5,
   "metadata": {},
   "outputs": [],
   "source": [
    "def classifier(df):\n",
    "    \n",
    "    if df[\"Value\"]>0.0 and df[\"Value\"]<=0.2:\n",
    "        Class = \"0.0\"+\"-\"+\"0.2\"\n",
    "        return \"0.0\"+\"-\"+\"0.2\"\n",
    "    elif df[\"Value\"]>0.2 and df[\"Value\"]<=0.4:\n",
    "        Class = \"0.2\"+\"-\"+\"0.4\"\n",
    "        return \"0.2\"+\"-\"+\"0.4\"\n",
    "    elif df[\"Value\"]>0.4 and df[\"Value\"]<=0.6:\n",
    "        Class = \"0.4\"+\"-\"+\"0.6\"\n",
    "        return \"0.4\"+\"-\"+\"0.6\"\n",
    "    elif df[\"Value\"]>0.6 and df[\"Value\"]<=0.8:\n",
    "        Class = \"0.6\"+\"-\"+\"0.8\"\n",
    "        return \"0.6\"+\"-\"+\"0.8\"\n",
    "    else:\n",
    "        Class =\"0.8\"+\"-\"+\"1.0\"\n",
    "        return \"0.8\"+\"-\"+\"1.0\"\n"
   ]
  },
  {
   "cell_type": "code",
   "execution_count": 7,
   "metadata": {},
   "outputs": [
    {
     "name": "stdout",
     "output_type": "stream",
     "text": [
      "   Value    class\n",
      "0   0.15  0.0-0.2\n",
      "1   0.12  0.0-0.2\n",
      "2   0.35  0.2-0.4\n",
      "3   0.38  0.2-0.4\n",
      "4   0.75  0.6-0.8\n",
      "5   0.77  0.6-0.8\n",
      "6   0.90  0.8-1.0\n",
      "7   0.94  0.8-1.0\n"
     ]
    }
   ],
   "source": [
    "df[\"class\"] = df.apply(classifier,axis = 1)\n",
    "print(df)"
   ]
  },
  {
   "cell_type": "code",
   "execution_count": 8,
   "metadata": {},
   "outputs": [
    {
     "data": {
      "text/plain": [
       "Value    2\n",
       "dtype: int64"
      ]
     },
     "execution_count": 8,
     "metadata": {},
     "output_type": "execute_result"
    }
   ],
   "source": [
    "##we will use for count\n",
    "df.groupby([\"class\"]).count().min()"
   ]
  },
  {
   "cell_type": "code",
   "execution_count": 16,
   "metadata": {},
   "outputs": [
    {
     "name": "stdout",
     "output_type": "stream",
     "text": [
      "2\n"
     ]
    }
   ],
   "source": [
    "mn_cnt = len(df.groupby(\"class\").get_group(\"0.0-0.2\"))\n",
    "for i in  df[\"class\"].unique(): \n",
    "    \n",
    "    dic = df.groupby(\"class\").get_group(i)\n",
    "    if len(dic['Value'])<mn_cnt:\n",
    "        mn_cnt = len(dic['Value'])\n",
    "    \n",
    "print(mn_cnt)"
   ]
  },
  {
   "cell_type": "code",
   "execution_count": 20,
   "metadata": {},
   "outputs": [],
   "source": [
    "def rst(df,mn_cnt):\n",
    "    for j in range(0,mn_cnt):\n",
    "        for i in  df[\"class\"].unique():\n",
    "            dic = df.groupby(\"class\").get_group(i)\n",
    "            print(dic.iloc[j][0])\n",
    "    \n",
    "\n",
    "    "
   ]
  },
  {
   "cell_type": "code",
   "execution_count": 21,
   "metadata": {},
   "outputs": [
    {
     "name": "stdout",
     "output_type": "stream",
     "text": [
      "0.15\n",
      "0.35\n",
      "0.75\n",
      "0.9\n",
      "0.12\n",
      "0.38\n",
      "0.77\n",
      "0.94\n"
     ]
    }
   ],
   "source": [
    "rst(df,mn_cnt)"
   ]
  },
  {
   "cell_type": "markdown",
   "metadata": {},
   "source": [
    "______________________________"
   ]
  },
  {
   "cell_type": "markdown",
   "metadata": {},
   "source": [
    "## Second Solution (space complexity is high)"
   ]
  },
  {
   "cell_type": "code",
   "execution_count": 22,
   "metadata": {},
   "outputs": [],
   "source": [
    "import pandas as pd\n",
    "INPUT = [0.15,0.12,0.35,0.38,0.55,0.56,0.57,0.75,0.77,0.9,0.94]\n"
   ]
  },
  {
   "cell_type": "code",
   "execution_count": 23,
   "metadata": {},
   "outputs": [],
   "source": [
    "def classifier(df):\n",
    "    \n",
    "    if df[\"Value\"]>0.0 and df[\"Value\"]<=0.2:\n",
    "        Class = \"0.0\"+\"-\"+\"0.2\"\n",
    "        return \"0.0\"+\"-\"+\"0.2\"\n",
    "    elif df[\"Value\"]>0.2 and df[\"Value\"]<=0.4:\n",
    "        Class = \"0.2\"+\"-\"+\"0.4\"\n",
    "        return \"0.2\"+\"-\"+\"0.4\"\n",
    "    elif df[\"Value\"]>0.4 and df[\"Value\"]<=0.6:\n",
    "        Class = \"0.4\"+\"-\"+\"0.6\"\n",
    "        return \"0.4\"+\"-\"+\"0.6\"\n",
    "    elif df[\"Value\"]>0.6 and df[\"Value\"]<=0.8:\n",
    "        Class = \"0.6\"+\"-\"+\"0.8\"\n",
    "        return \"0.6\"+\"-\"+\"0.8\"\n",
    "    else:\n",
    "        Class =\"0.8\"+\"-\"+\"1.0\"\n",
    "        return \"0.8\"+\"-\"+\"1.0\"\n"
   ]
  },
  {
   "cell_type": "code",
   "execution_count": 24,
   "metadata": {},
   "outputs": [],
   "source": [
    "df = pd.DataFrame(INPUT,columns=[\"Value\"])"
   ]
  },
  {
   "cell_type": "code",
   "execution_count": 25,
   "metadata": {},
   "outputs": [
    {
     "name": "stdout",
     "output_type": "stream",
     "text": [
      "    Value    class\n",
      "0    0.15  0.0-0.2\n",
      "1    0.12  0.0-0.2\n",
      "2    0.35  0.2-0.4\n",
      "3    0.38  0.2-0.4\n",
      "4    0.55  0.4-0.6\n",
      "5    0.56  0.4-0.6\n",
      "6    0.57  0.4-0.6\n",
      "7    0.75  0.6-0.8\n",
      "8    0.77  0.6-0.8\n",
      "9    0.90  0.8-1.0\n",
      "10   0.94  0.8-1.0\n"
     ]
    }
   ],
   "source": [
    "df[\"class\"] = df.apply(classifier,axis = 1)\n",
    "print(df)"
   ]
  },
  {
   "cell_type": "code",
   "execution_count": 26,
   "metadata": {},
   "outputs": [
    {
     "data": {
      "text/plain": [
       "Value    2\n",
       "dtype: int64"
      ]
     },
     "execution_count": 26,
     "metadata": {},
     "output_type": "execute_result"
    }
   ],
   "source": [
    "##we will use for count\n",
    "min_cnt = df.groupby([\"class\"]).count().min()\n",
    "min_cnt"
   ]
  },
  {
   "cell_type": "code",
   "execution_count": 27,
   "metadata": {},
   "outputs": [],
   "source": [
    "def lst_values(df):\n",
    "    lst_r1 = []\n",
    "    lst_r2 = []\n",
    "    lst_r3 = []\n",
    "    lst_r4 = []\n",
    "    lst_r5 = []\n",
    "    for i in df[\"Value\"]:\n",
    "        if i>0.0 and i<=0.2:\n",
    "            lst_r1.append(i)\n",
    "        elif i>0.2 and i<=0.4:\n",
    "            lst_r2.append(i)\n",
    "        elif i>0.4 and i<=0.6:\n",
    "            lst_r3.append(i)\n",
    "        elif i>0.6 and i<=0.8:\n",
    "            lst_r4.append(i)\n",
    "        elif i>0.8 and i<=1.0:\n",
    "            lst_r5.append(i)\n",
    "    return lst_r1,lst_r2,lst_r3,lst_r4,lst_r5         "
   ]
  },
  {
   "cell_type": "code",
   "execution_count": 29,
   "metadata": {},
   "outputs": [
    {
     "name": "stdout",
     "output_type": "stream",
     "text": [
      "([0.15, 0.12], [0.35, 0.38], [0.55, 0.56, 0.57], [0.75, 0.77], [0.9, 0.94])\n"
     ]
    }
   ],
   "source": [
    "lst_val = lst_values(df)\n",
    "print(lst_val)"
   ]
  },
  {
   "cell_type": "code",
   "execution_count": 30,
   "metadata": {},
   "outputs": [
    {
     "name": "stdout",
     "output_type": "stream",
     "text": [
      "0.15\n",
      "0.12\n",
      "0.35\n",
      "0.38\n",
      "0.55\n",
      "0.56\n",
      "0.75\n",
      "0.77\n",
      "0.9\n",
      "0.94\n"
     ]
    }
   ],
   "source": [
    "for i in range(len(lst_val)):\n",
    "    for j in range(int(min_cnt)):\n",
    "        print(lst_val[i][j])\n",
    "        "
   ]
  },
  {
   "cell_type": "code",
   "execution_count": null,
   "metadata": {},
   "outputs": [],
   "source": []
  }
 ],
 "metadata": {
  "kernelspec": {
   "display_name": "Python 3",
   "language": "python",
   "name": "python3"
  },
  "language_info": {
   "codemirror_mode": {
    "name": "ipython",
    "version": 3
   },
   "file_extension": ".py",
   "mimetype": "text/x-python",
   "name": "python",
   "nbconvert_exporter": "python",
   "pygments_lexer": "ipython3",
   "version": "3.8.5"
  }
 },
 "nbformat": 4,
 "nbformat_minor": 4
}
