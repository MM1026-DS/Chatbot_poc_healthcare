{
 "cells": [
  {
   "cell_type": "code",
   "execution_count": 1,
   "metadata": {},
   "outputs": [
    {
     "name": "stderr",
     "output_type": "stream",
     "text": [
      "C:\\Users\\mayan\\anaconda3\\lib\\site-packages\\fuzzywuzzy\\fuzz.py:11: UserWarning: Using slow pure-python SequenceMatcher. Install python-Levenshtein to remove this warning\n",
      "  warnings.warn('Using slow pure-python SequenceMatcher. Install python-Levenshtein to remove this warning')\n"
     ]
    }
   ],
   "source": [
    "import numpy as np\n",
    "import pandas as pd\n",
    "import sklearn \n",
    "from sklearn.feature_extraction.text import CountVectorizer\n",
    "from sklearn.feature_extraction.text import TfidfVectorizer\n",
    "import nltk\n",
    "from nltk.corpus import stopwords\n",
    "from fuzzywuzzy import process\n",
    "import re\n",
    "import spacy\n",
    "import operator\n",
    "from fuzzywuzzy import fuzz\n",
    "import operator\n",
    "from collections import OrderedDict\n",
    "import time\n",
    "import databasesqlmat\n",
    "from databasesqlmat import respond\n",
    "import sqlite3\n",
    "conn = sqlite3.connect(\"sql1.db\")\n",
    "cur = conn.cursor()"
   ]
  },
  {
   "cell_type": "code",
   "execution_count": 2,
   "metadata": {},
   "outputs": [
    {
     "data": {
      "text/html": [
       "<div>\n",
       "<style scoped>\n",
       "    .dataframe tbody tr th:only-of-type {\n",
       "        vertical-align: middle;\n",
       "    }\n",
       "\n",
       "    .dataframe tbody tr th {\n",
       "        vertical-align: top;\n",
       "    }\n",
       "\n",
       "    .dataframe thead th {\n",
       "        text-align: right;\n",
       "    }\n",
       "</style>\n",
       "<table border=\"1\" class=\"dataframe\">\n",
       "  <thead>\n",
       "    <tr style=\"text-align: right;\">\n",
       "      <th></th>\n",
       "      <th>intent_model</th>\n",
       "    </tr>\n",
       "  </thead>\n",
       "  <tbody>\n",
       "    <tr>\n",
       "      <th>0</th>\n",
       "      <td>{'context': 'Doctor', 'utterances': ['Who are ...</td>\n",
       "    </tr>\n",
       "    <tr>\n",
       "      <th>1</th>\n",
       "      <td>{'context': 'Patient', 'utterances': ['what is...</td>\n",
       "    </tr>\n",
       "  </tbody>\n",
       "</table>\n",
       "</div>"
      ],
      "text/plain": [
       "                                        intent_model\n",
       "0  {'context': 'Doctor', 'utterances': ['Who are ...\n",
       "1  {'context': 'Patient', 'utterances': ['what is..."
      ]
     },
     "execution_count": 2,
     "metadata": {},
     "output_type": "execute_result"
    }
   ],
   "source": [
    "intity_design = pd.read_json(\"doc16.json\")\n",
    "intity_design.head()"
   ]
  },
  {
   "cell_type": "code",
   "execution_count": 3,
   "metadata": {},
   "outputs": [
    {
     "data": {
      "text/html": [
       "<div>\n",
       "<style scoped>\n",
       "    .dataframe tbody tr th:only-of-type {\n",
       "        vertical-align: middle;\n",
       "    }\n",
       "\n",
       "    .dataframe tbody tr th {\n",
       "        vertical-align: top;\n",
       "    }\n",
       "\n",
       "    .dataframe thead th {\n",
       "        text-align: right;\n",
       "    }\n",
       "</style>\n",
       "<table border=\"1\" class=\"dataframe\">\n",
       "  <thead>\n",
       "    <tr style=\"text-align: right;\">\n",
       "      <th></th>\n",
       "      <th>context</th>\n",
       "      <th>utterances</th>\n",
       "    </tr>\n",
       "  </thead>\n",
       "  <tbody>\n",
       "    <tr>\n",
       "      <th>0</th>\n",
       "      <td>Doctor</td>\n",
       "      <td>[Who are the best doctors for heart disease, W...</td>\n",
       "    </tr>\n",
       "    <tr>\n",
       "      <th>1</th>\n",
       "      <td>Patient</td>\n",
       "      <td>[what is the minium age of the patient of doct...</td>\n",
       "    </tr>\n",
       "  </tbody>\n",
       "</table>\n",
       "</div>"
      ],
      "text/plain": [
       "   context                                         utterances\n",
       "0   Doctor  [Who are the best doctors for heart disease, W...\n",
       "1  Patient  [what is the minium age of the patient of doct..."
      ]
     },
     "execution_count": 3,
     "metadata": {},
     "output_type": "execute_result"
    }
   ],
   "source": [
    "data_frame = pd.json_normalize(intity_design[\"intent_model\"])\n",
    "data_frame.head()"
   ]
  },
  {
   "cell_type": "code",
   "execution_count": 4,
   "metadata": {},
   "outputs": [],
   "source": [
    "data_frame[\"utterances\"][0] = [i.lower() for i in data_frame[\"utterances\"][0]]\n",
    "data_frame[\"utterances\"][1] = [j.lower() for j in data_frame[\"utterances\"][1]]"
   ]
  },
  {
   "cell_type": "markdown",
   "metadata": {},
   "source": [
    "## Context Understanding"
   ]
  },
  {
   "cell_type": "code",
   "execution_count": 5,
   "metadata": {},
   "outputs": [],
   "source": [
    "class clean:\n",
    "    def lowerlettercleanword(sentence):\n",
    "        sentences = [word for sent in sentence for word in sent]\n",
    "        return sentences"
   ]
  },
  {
   "cell_type": "code",
   "execution_count": 6,
   "metadata": {},
   "outputs": [
    {
     "name": "stdout",
     "output_type": "stream",
     "text": [
      "['who are the best doctors for heart disease', 'who are the best doctors for cardiovascular disease', 'who are the best doctors for skin', 'best doctors for dermatology', 'best physician', 'what is the clinic location of doctor mayank', 'best doctor near my location for cardiology', 'please provide the name of the doctors which have fees less than 500 rupees', 'what is timing for doctor soumya', 'which is the best dental clinic', 'what is the fees of doctor rishabh', 'doctor with  fees more than 1000 rupees', 'what is the speciliatity of doctor piyush', 'what is the speciliatity of doctor mayank', 'what is the speciliatity of doctor soumya', 'what is the speciliatity of doctor rishabh', 'what is the speciliatity of doctor deepshikha', 'what is the clinic location of doctor piyush', 'what is the clinic location of doctor soumya', 'what is the clinic location of doctor deepshikha', 'what is the fees of doctor piyush', 'what is the fees of doctor mayank', 'what is the fees of doctor soumya', 'what is the fees of doctor deepshikha', 'who is the doctor of patient aditya', 'who is the doctor of patient harsh', 'who is the doctor of patient yuvraj', 'who is the doctor of patient amit', 'who is the doctor of patient garima', 'what is the rating of doctor mayank mishra', 'what is the rating of doctor piyush singh', 'what is the rating of doctor soumya', 'what is the rating of doctor deepshikha', 'what is the rating of doctor rishabh yadav', 'best rating doctor', 'worst rating doctor', 'highest rating doctor', 'lowest rating doctor', 'what is the minium age of the patient of doctor mayank', 'what is the sickness reason of devashree gupta', 'what is the sickness reason for aditya sonkar', 'what is the sickness reason for amit patel', 'how many girls are sick from last year', 'what is the maximum age of the patient', 'what is the reason of sickness of alok patel', 'most sick patiet', 'what is the age and gender of minimun age patient', 'what is the reason of sickness of maximum age patient', 'what is the health issue with aditya sonkar', 'what is the health issue with harsh ', 'what is the health issue with yuvraj', 'what is the health issue with amit', 'what is the health issue with garima', 'mininum age patient name', 'maximum age patient name', 'average age of patients', 'disease name of patient garima', 'disease name of patient aditya sonkar', 'disease name of patient harsh mishra', 'disease name of patient amit', 'disease name of patient yuvraj sinha', 'health issue with patient id 1 patient aditya sonkar', 'health issue with patient id 2 patient harsh', 'health issue with patient id 3 patient yuvraj', 'health issue with patient id 4 patient amit', 'health issue with patient id 5 patient garima']\n"
     ]
    }
   ],
   "source": [
    "wx = clean.lowerlettercleanword(data_frame[\"utterances\"])\n",
    "print(wx)\n"
   ]
  },
  {
   "cell_type": "code",
   "execution_count": 7,
   "metadata": {},
   "outputs": [],
   "source": [
    "def getContext(match_string):\n",
    "    match_string = match_string.lower()\n",
    "    for idx, i in enumerate(data_frame['utterances']):\n",
    "        if match_string in i:\n",
    "            return data_frame['context'][idx]\n",
    "    return None"
   ]
  },
  {
   "cell_type": "code",
   "execution_count": 8,
   "metadata": {},
   "outputs": [
    {
     "name": "stdout",
     "output_type": "stream",
     "text": [
      "Doctor\n"
     ]
    }
   ],
   "source": [
    "print(getContext('Who are the best doctors for skin'))"
   ]
  },
  {
   "cell_type": "markdown",
   "metadata": {},
   "source": [
    "__________________________________"
   ]
  },
  {
   "cell_type": "markdown",
   "metadata": {},
   "source": [
    "### Name Entity extraction"
   ]
  },
  {
   "cell_type": "code",
   "execution_count": 9,
   "metadata": {},
   "outputs": [],
   "source": [
    "nlp = spacy.load('en_core_web_sm')"
   ]
  },
  {
   "cell_type": "code",
   "execution_count": 10,
   "metadata": {},
   "outputs": [],
   "source": [
    "def get_name(doc):\n",
    "    if doc.ents:\n",
    "        for ents in doc.ents:\n",
    "            if ents.label_=='PERSON':\n",
    "                name = ents.text\n",
    "                return name\n",
    "            return None\n",
    "    else:\n",
    "        return None"
   ]
  },
  {
   "cell_type": "code",
   "execution_count": 11,
   "metadata": {},
   "outputs": [],
   "source": [
    "doctors =[\"Piyush Singh\",\"Soumya\",\"Mayank Mishra\",\"Deepshikha Mishra\",\"Rishabh Yadav\",\"Piyush\",\"SOUMYA\",\"Mayank\",\"Deepshikha\",\"piyush\",\"soumya\",\"mayank\",\"deepshikha\",\"rishabh\"]\n",
    "\n",
    "def get_name1(query):\n",
    "    query = query.split()\n",
    "    for i in query:\n",
    "        for j in doctors:\n",
    "            if i==j:\n",
    "                name = j\n",
    "                return name\n",
    "            "
   ]
  },
  {
   "cell_type": "code",
   "execution_count": 12,
   "metadata": {},
   "outputs": [
    {
     "name": "stdout",
     "output_type": "stream",
     "text": [
      "Jeff Bezos\n"
     ]
    }
   ],
   "source": [
    "print(get_name(nlp(\"Jeff Bezos is the CEO of Amazon\")))"
   ]
  },
  {
   "cell_type": "code",
   "execution_count": 13,
   "metadata": {},
   "outputs": [
    {
     "name": "stdout",
     "output_type": "stream",
     "text": [
      "Soumya\n"
     ]
    }
   ],
   "source": [
    "print(get_name(nlp(\"Doctor Soumya  Speiliaty\")))"
   ]
  },
  {
   "cell_type": "markdown",
   "metadata": {},
   "source": [
    "_____________________________"
   ]
  },
  {
   "cell_type": "markdown",
   "metadata": {},
   "source": [
    "### Best recommendation and exact match string"
   ]
  },
  {
   "cell_type": "code",
   "execution_count": 14,
   "metadata": {},
   "outputs": [],
   "source": [
    "from sklearn.metrics.pairwise import cosine_similarity\n",
    "stopwords_list = stopwords.words('english')\n",
    "vectorizer = TfidfVectorizer(max_features=3000, stop_words=stopwords_list)\n",
    "X = vectorizer.fit_transform(wx)\n",
    "count_dense = X.todense()"
   ]
  },
  {
   "cell_type": "code",
   "execution_count": 15,
   "metadata": {},
   "outputs": [
    {
     "data": {
      "text/plain": [
       "0.42189892440665977"
      ]
     },
     "execution_count": 15,
     "metadata": {},
     "output_type": "execute_result"
    }
   ],
   "source": [
    "test_query = vectorizer.transform([\"Best cardiologist\"])\n",
    "cosine_similarity(test_query, count_dense[1,:])[0][0]"
   ]
  },
  {
   "cell_type": "code",
   "execution_count": 16,
   "metadata": {},
   "outputs": [],
   "source": [
    "def getContext_details(input_query):\n",
    "    input_query_vector = vectorizer.transform([input_query])\n",
    "    max_score = 0\n",
    "    best_match = None\n",
    "    context = None\n",
    "    for ind, vector in enumerate(count_dense):\n",
    "        sim_score = cosine_similarity(input_query_vector, count_dense[ind,:])[0][0]\n",
    "        if sim_score>=max_score:\n",
    "            max_score = sim_score\n",
    "            best_match = wx[ind]\n",
    "            context = getContext(best_match)\n",
    "    return max_score, best_match, context\n"
   ]
  },
  {
   "cell_type": "code",
   "execution_count": 17,
   "metadata": {},
   "outputs": [
    {
     "name": "stdout",
     "output_type": "stream",
     "text": [
      "(0.6039712557449533, 'best doctor near my location for cardiology', 'Doctor')\n"
     ]
    }
   ],
   "source": [
    "print(getContext_details(\"Cardiologist clinic location near me \"))"
   ]
  },
  {
   "cell_type": "code",
   "execution_count": 18,
   "metadata": {},
   "outputs": [
    {
     "name": "stdout",
     "output_type": "stream",
     "text": [
      "(0.7916980519849912, 'disease name of patient garima', 'Patient')\n"
     ]
    }
   ],
   "source": [
    "print(getContext_details(\"what disease is garima suffering from\"))"
   ]
  },
  {
   "cell_type": "code",
   "execution_count": 19,
   "metadata": {},
   "outputs": [
    {
     "name": "stdout",
     "output_type": "stream",
     "text": [
      "(1.0, 'what is the fees of doctor mayank', 'Doctor')\n"
     ]
    }
   ],
   "source": [
    "print(getContext_details(\"fees of doctor mayank\"))"
   ]
  },
  {
   "cell_type": "code",
   "execution_count": 20,
   "metadata": {},
   "outputs": [],
   "source": [
    "def patient_name(query):\n",
    "    name = cur.execute('SELECT Patient_Name FROM Patient WHERE Patient_id=?', (query,))\n",
    "    for i in name:\n",
    "        return i[0]\n",
    "        \n",
    "            "
   ]
  },
  {
   "cell_type": "code",
   "execution_count": 21,
   "metadata": {},
   "outputs": [],
   "source": [
    "class pat_id_lst:\n",
    "    def id_checker_lst(pat_id):\n",
    "        pat_id_lst = []\n",
    "        for i in pat_id:\n",
    "            for j in range(len(i)):\n",
    "                pat_id_lst.append(i[j])\n",
    "                \n",
    "        return pat_id_lst\n"
   ]
  },
  {
   "cell_type": "code",
   "execution_count": 22,
   "metadata": {},
   "outputs": [
    {
     "name": "stdout",
     "output_type": "stream",
     "text": [
      "[1, 2, 3, 4, 5]\n"
     ]
    }
   ],
   "source": [
    "pat_id = cur.execute(\"SELECT Patient_id FROM Patient\")\n",
    "print(pat_id_lst.id_checker_lst(pat_id))"
   ]
  },
  {
   "cell_type": "code",
   "execution_count": 23,
   "metadata": {},
   "outputs": [],
   "source": [
    "def regrex(query):\n",
    "    for i in query:\n",
    "        query = re.sub(\"dr\",\"doctor\",query)\n",
    "        query = re.sub(\"Dr\",\"doctor\",query)\n",
    "        query = re.sub(\"DR\",\"doctor\",query)\n",
    "        query = re.sub(\"disease\",\"health issue\",query)\n",
    "        query = re.sub(\"sickness\",\"health issue\",query)\n",
    "        query = re.sub(\"illness\",\"health issue\",query)\n",
    "        query = re.sub(\"infection\",\"health issue\",query)\n",
    "        query = re.sub(\"Illness\",\"health issue\",query)\n",
    "        query =  re.sub(\"Disease\",\"health issue\",query)\n",
    "        query = re.sub(\"Sickess\",\"health issue\",query)\n",
    "        query = re.sub(\"Charges\",\"fees\",query)\n",
    "        query = re.sub(\"charges\",\"fees\",query)\n",
    "        query = re.sub(\"wage\",\"fees\",query)\n",
    "        query = re.sub(\"Wages\",\"fees\",query)\n",
    "        query = re.sub(r\"won\\'t\", \"will not\", query)\n",
    "        query = re.sub(r\"can\\'t\",\"can not\",query)\n",
    "        query = re.sub(r\"n\\'t\", \"not\", query)\n",
    "        query= re.sub(r\"\\'re\", \"are\", query)\n",
    "        query = re.sub(r\"\\'s\", \"is\", query)\n",
    "        query = re.sub(r\"\\'d\", \"would\", query)\n",
    "        query = re.sub(r\"\\'ll\", \"will\", query)\n",
    "        query = re.sub(r\"\\'t\", \"not\", query)\n",
    "        query = re.sub(r\"\\'ve\", \"have\", query)\n",
    "        query = re.sub(r\"\\'m\", \"am\", query)\n",
    "        query= re.sub(\"[?]+\",\"\",query)\n",
    "        \n",
    "    return query    "
   ]
  },
  {
   "cell_type": "code",
   "execution_count": 24,
   "metadata": {},
   "outputs": [],
   "source": [
    "class bestrecommend:\n",
    "    def getContext_bestrecommend(input_query):\n",
    "        input_query = input_query.lower()\n",
    "        input_query_vector = vectorizer.transform([input_query])\n",
    "        unsorted_score = []\n",
    "        unsorted_match = []\n",
    "\n",
    "        for ind, vector in enumerate(count_dense):\n",
    "            sim_score = cosine_similarity(input_query_vector, count_dense[ind,:])[0][0]\n",
    "            if sim_score>=0.4:\n",
    "                unsorted_score.append(sim_score)\n",
    "                unsorted_match.append(wx[ind])\n",
    "        zipped_pairs = zip(unsorted_score,unsorted_match)\n",
    "        best_recom = [x for _, x in sorted(zipped_pairs,reverse = True)]\n",
    "        \n",
    "        return best_recom[:3]    "
   ]
  },
  {
   "cell_type": "code",
   "execution_count": 25,
   "metadata": {},
   "outputs": [
    {
     "name": "stdout",
     "output_type": "stream",
     "text": [
      "['what is the clinic location of doctor piyush', 'what is the clinic location of doctor soumya', 'what is the clinic location of doctor mayank']\n"
     ]
    }
   ],
   "source": [
    "print(bestrecommend.getContext_bestrecommend(\"doctor piyush clinic location\"))"
   ]
  },
  {
   "cell_type": "code",
   "execution_count": 26,
   "metadata": {},
   "outputs": [
    {
     "name": "stdout",
     "output_type": "stream",
     "text": [
      "consultation charges of Doctor Mayank is 500 Rupees\n"
     ]
    }
   ],
   "source": [
    "respond.sql_answer(\"what is the fees of doctor mayank\")\n"
   ]
  },
  {
   "cell_type": "code",
   "execution_count": 27,
   "metadata": {},
   "outputs": [
    {
     "data": {
      "text/plain": [
       "(0.7701282686581568, 'health issue with patient id 4 patient amit', 'Patient')"
      ]
     },
     "execution_count": 27,
     "metadata": {},
     "output_type": "execute_result"
    }
   ],
   "source": [
    "getContext_details(\"illness issue with patient with id 2\")"
   ]
  },
  {
   "cell_type": "code",
   "execution_count": 28,
   "metadata": {},
   "outputs": [
    {
     "name": "stdout",
     "output_type": "stream",
     "text": [
      "Heart Attack is the Health issue with  Patient Harsh Mishra\n"
     ]
    }
   ],
   "source": [
    "_,best_match,_ = getContext_details(\"illness issue with patient harsh with id 2\")\n",
    "respond.sql_answer(best_match)"
   ]
  },
  {
   "cell_type": "markdown",
   "metadata": {},
   "source": [
    "_____________________"
   ]
  },
  {
   "cell_type": "markdown",
   "metadata": {},
   "source": [
    "## Chatbot desigining"
   ]
  },
  {
   "cell_type": "code",
   "execution_count": 29,
   "metadata": {},
   "outputs": [],
   "source": [
    "Doctors = [\"Piyush Singh\",\"Soumya\",\"Mayank Mishra\",\"Deepshikha Mishra\",\"Rishabh Yadav\"]\n",
    "Patients = [\"Aditya Sonkar\",\"Harsh Mishra\",\"Yuvraj Sinha\",\"Amit\",\"Garima\"]"
   ]
  },
  {
   "cell_type": "code",
   "execution_count": 30,
   "metadata": {},
   "outputs": [],
   "source": [
    "flag = True\n",
    "context = None\n",
    "Bestmatch = None\n",
    "reply = None"
   ]
  },
  {
   "cell_type": "code",
   "execution_count": 46,
   "metadata": {},
   "outputs": [
    {
     "name": "stdin",
     "output_type": "stream",
     "text": [
      " hi\n"
     ]
    },
    {
     "name": "stdout",
     "output_type": "stream",
     "text": [
      "Bot > Hello, I am a bot design for Specific Purpose How can I help you?\n",
      "Bot > I can help you to provide information about Doctor Speciliaty,Doctor Fees,Clinic Location,Doctor Rating\n",
      "Bot > I can also help you to provide the information about the Patient Health Issue,Patient Doctor\n",
      "Bot > Here is the list of Doctors ['Piyush Singh', 'Soumya', 'Mayank Mishra', 'Deepshikha Mishra', 'Rishabh Yadav']\n",
      "Bot > Here is the list of Patients ['Aditya Sonkar', 'Harsh Mishra', 'Yuvraj Sinha', 'Amit', 'Garima']\n",
      "Bot > Please Provide your Query for Search\n"
     ]
    },
    {
     "name": "stdin",
     "output_type": "stream",
     "text": [
      "User > doctor piyush location\n"
     ]
    },
    {
     "name": "stdout",
     "output_type": "stream",
     "text": [
      "Loading formatted geocoded file...\n",
      "Clinic location of Doctor Piyush is Pune\n",
      "Bot > Thanks for Searching\n",
      "Bot > Hello, I am a bot design for Specific Purpose How can I help you?\n",
      "Bot > I can help you to provide information about Doctor Speciliaty,Doctor Fees,Clinic Location,Doctor Rating\n",
      "Bot > I can also help you to provide the information about the Patient Health Issue,Patient Doctor\n",
      "Bot > Here is the list of Doctors ['Piyush Singh', 'Soumya', 'Mayank Mishra', 'Deepshikha Mishra', 'Rishabh Yadav']\n",
      "Bot > Here is the list of Patients ['Aditya Sonkar', 'Harsh Mishra', 'Yuvraj Sinha', 'Amit', 'Garima']\n",
      "Bot > Please Provide your Query for Search\n"
     ]
    },
    {
     "name": "stdin",
     "output_type": "stream",
     "text": [
      "User > aditya sonkar death reason\n"
     ]
    },
    {
     "name": "stdout",
     "output_type": "stream",
     "text": [
      "Swine flu is the Health issue with patient Aditya sonkar\n",
      "Bot > Thanks for Searching\n",
      "Bot > Hello, I am a bot design for Specific Purpose How can I help you?\n",
      "Bot > I can help you to provide information about Doctor Speciliaty,Doctor Fees,Clinic Location,Doctor Rating\n",
      "Bot > I can also help you to provide the information about the Patient Health Issue,Patient Doctor\n",
      "Bot > Here is the list of Doctors ['Piyush Singh', 'Soumya', 'Mayank Mishra', 'Deepshikha Mishra', 'Rishabh Yadav']\n",
      "Bot > Here is the list of Patients ['Aditya Sonkar', 'Harsh Mishra', 'Yuvraj Sinha', 'Amit', 'Garima']\n",
      "Bot > Please Provide your Query for Search\n"
     ]
    },
    {
     "name": "stdin",
     "output_type": "stream",
     "text": [
      "User > health issue with aditya\n"
     ]
    },
    {
     "name": "stdout",
     "output_type": "stream",
     "text": [
      "Swine flu is the Health issue with  Aditya Sonkar\n",
      "Bot > Thanks for Searching\n",
      "Bot > Hello, I am a bot design for Specific Purpose How can I help you?\n",
      "Bot > I can help you to provide information about Doctor Speciliaty,Doctor Fees,Clinic Location,Doctor Rating\n",
      "Bot > I can also help you to provide the information about the Patient Health Issue,Patient Doctor\n",
      "Bot > Here is the list of Doctors ['Piyush Singh', 'Soumya', 'Mayank Mishra', 'Deepshikha Mishra', 'Rishabh Yadav']\n",
      "Bot > Here is the list of Patients ['Aditya Sonkar', 'Harsh Mishra', 'Yuvraj Sinha', 'Amit', 'Garima']\n",
      "Bot > Please Provide your Query for Search\n"
     ]
    },
    {
     "name": "stdin",
     "output_type": "stream",
     "text": [
      "User > harsh dotor name\n"
     ]
    },
    {
     "name": "stdout",
     "output_type": "stream",
     "text": [
      "Bot > Paient Informations are very Sensitive Information to check the information \n",
      " Please Provide the Patient id\n"
     ]
    },
    {
     "name": "stdin",
     "output_type": "stream",
     "text": [
      "User > 2\n"
     ]
    },
    {
     "name": "stdout",
     "output_type": "stream",
     "text": [
      "Bot > You want to check Detail Information about Patient Harsh Mishra Yes or No\n"
     ]
    },
    {
     "name": "stdin",
     "output_type": "stream",
     "text": [
      "User > yes\n"
     ]
    },
    {
     "name": "stdout",
     "output_type": "stream",
     "text": [
      "Bot > Please provide your Search query again for confirmation\n"
     ]
    },
    {
     "name": "stdin",
     "output_type": "stream",
     "text": [
      "User > harsh health issue\n"
     ]
    },
    {
     "name": "stdout",
     "output_type": "stream",
     "text": [
      "Bot > what is the health issue with harsh \n",
      " \n",
      "Bot > health issue with patient id 2 patient harsh\n",
      " \n",
      "Bot > what is the health issue with amit\n",
      " \n",
      "Bot > None of the Above\n",
      " \n",
      "Bot > Above are the matching query,Select the suitable query\n",
      "Bot > Enter the best suitable query\n"
     ]
    },
    {
     "name": "stdin",
     "output_type": "stream",
     "text": [
      "User > what is the health issue with harsh\n"
     ]
    },
    {
     "name": "stdout",
     "output_type": "stream",
     "text": [
      "Heart Attack is the Health issue with  Patient Harsh Mishra\n",
      "Please provide query to search again or type exit to end the Conversation\n",
      "Bot > Hello, I am a bot design for Specific Purpose How can I help you?\n",
      "Bot > I can help you to provide information about Doctor Speciliaty,Doctor Fees,Clinic Location,Doctor Rating\n",
      "Bot > I can also help you to provide the information about the Patient Health Issue,Patient Doctor\n",
      "Bot > Here is the list of Doctors ['Piyush Singh', 'Soumya', 'Mayank Mishra', 'Deepshikha Mishra', 'Rishabh Yadav']\n",
      "Bot > Here is the list of Patients ['Aditya Sonkar', 'Harsh Mishra', 'Yuvraj Sinha', 'Amit', 'Garima']\n",
      "Bot > Please Provide your Query for Search\n"
     ]
    },
    {
     "name": "stdin",
     "output_type": "stream",
     "text": [
      "User > \n"
     ]
    },
    {
     "name": "stdout",
     "output_type": "stream",
     "text": [
      "Bot > Please provide the Input\n",
      "Bot > Hello, I am a bot design for Specific Purpose How can I help you?\n",
      "Bot > I can help you to provide information about Doctor Speciliaty,Doctor Fees,Clinic Location,Doctor Rating\n",
      "Bot > I can also help you to provide the information about the Patient Health Issue,Patient Doctor\n",
      "Bot > Here is the list of Doctors ['Piyush Singh', 'Soumya', 'Mayank Mishra', 'Deepshikha Mishra', 'Rishabh Yadav']\n",
      "Bot > Here is the list of Patients ['Aditya Sonkar', 'Harsh Mishra', 'Yuvraj Sinha', 'Amit', 'Garima']\n",
      "Bot > Please Provide your Query for Search\n"
     ]
    },
    {
     "name": "stdin",
     "output_type": "stream",
     "text": [
      "User > exit\n"
     ]
    }
   ],
   "source": [
    "x = input()\n",
    "chat(x)"
   ]
  },
  {
   "cell_type": "code",
   "execution_count": 45,
   "metadata": {},
   "outputs": [],
   "source": [
    "def chat(x):\n",
    "    flag = True\n",
    "    context = None\n",
    "    Bestmatch = None\n",
    "    reply = None\n",
    "    while flag:\n",
    "        Yes_check = 'Yes'\n",
    "        No_check = 'No'\n",
    "        query = x\n",
    "        query = query.strip()\n",
    "        query = query.lstrip(\"@,<,>,#,$,%,%,^,&,*,?, ,\")\n",
    "        query = query.rstrip(\"@,<,>,#,$,%,%,^,&,*,?, ,\")\n",
    "    \n",
    "        query = regrex(query)\n",
    "        print(\"Bot > Hello, I am a bot design for Specific Purpose How can I help you?\")\n",
    "        time.sleep(1)\n",
    "        print(\"Bot > I can help you to provide information about Doctor Speciliaty,Doctor Fees,Clinic Location,Doctor Rating\")\n",
    "        time.sleep(1)\n",
    "        print(\"Bot > I can also help you to provide the information about the Patient Health Issue,Patient Doctor\")\n",
    "        time.sleep(1)\n",
    "        print(\"Bot > Here is the list of Doctors {}\".format(Doctors))\n",
    "        time.sleep(1)\n",
    "        print(\"Bot > Here is the list of Patients {}\".format(Patients))\n",
    "        time.sleep(1)\n",
    "        print(\"Bot > Please Provide your Query for Search\")\n",
    "        query = input(\"User >\")\n",
    "        query = regrex(query)\n",
    "\n",
    "        score,_,context = getContext_details(query)\n",
    "    \n",
    "        if len(query)==0:\n",
    "            print(\"Bot > Please provide the Input\")\n",
    "        elif query==\"exit\":\n",
    "            flag=False\n",
    "    \n",
    "        else:\n",
    "            if(score<0.4):\n",
    "                print(\"Bot > I am a bot design for Database related issues, Please Provide Suitable Query\")\n",
    "            \n",
    "            elif(score>=.80):\n",
    "                _,best_match,_ = getContext_details(query)\n",
    "                answer = respond.sql_answer(best_match)\n",
    "                print(\"Bot > Thanks for Searching\")\n",
    "            \n",
    "            \n",
    "            \n",
    "            \n",
    "            elif(score>=0.4 and context == \"Doctor\"):\n",
    "                print(\"Bot > You want to check Detail Information about Doctor {} Yes or No\" .format(get_name1((query))))\n",
    "                query =input(\"User >\")\n",
    "                query = query.lstrip(\"@,<,>,#,$,%,%,^,&,*,?, ,\")\n",
    "                query = query.rstrip(\"@,<,>,#,$,%,%,^,&,*,?, ,\")\n",
    "                query = regrex(query)\n",
    "                if(query == \"exit\"):\n",
    "                    flag = False\n",
    "                if (query.casefold()==Yes_check.casefold()):\n",
    "                    print(\"Bot > Please provide your search query again for confirmation\")\n",
    "                    query = input(\"User >\")\n",
    "                    query = query.lstrip(\"@,<,>,#,$,%,%,^,&,*,?, ,\")\n",
    "                    query = query.rstrip(\"@,<,>,#,$,%,%,^,&,*,?, ,\")\n",
    "                    query = regrex(query)\n",
    "                    if(query == \"exit\"):\n",
    "                        flag = False\n",
    "                    else:\n",
    "                        Bestmatch = bestrecommend.getContext_bestrecommend(query)\n",
    "                        for response in Bestmatch:\n",
    "                            print(\"Bot > {} \".format(response))\n",
    "                        print(\" \")\n",
    "                        print(\"Bot > None of the Above\")\n",
    "                        print(\" \")\n",
    "                        print(\"Bot > Above are the matching query,Select the suitable query\")\n",
    "                        print(\"Bot > Enter the best suitable query\")\n",
    "                        query = input(\"User >\")\n",
    "                        query = query.lstrip()\n",
    "                        query = query.rstrip()\n",
    "                        query = query.lstrip(\"@,<,>,#,$,%,%,^,&,*\")\n",
    "                        query = regrex(query)\n",
    "                        if (query==\"exit\"):\n",
    "                            flag=False\n",
    "                        elif(query == \"None of the Above\"):\n",
    "                            print(\"Bot > I am unable to  find this query this time,I am Design for Specific Purpose, I will help you after some time\")\n",
    "                            break\n",
    "                        else:\n",
    "                            respond.sql_answer(query)\n",
    "                            time.sleep(2)\n",
    "                        \n",
    "                \n",
    "                \n",
    "                else:\n",
    "                    print(\"bot > Sorry, I am currently unavailable to find query\")\n",
    "                    flag = False\n",
    "                \n",
    "            elif(score>=0.4 and context==\"Patient\"):\n",
    "                print(\"Bot > Paient Informations are very Sensitive Information to check the information \\n Please Provide the Patient id\")\n",
    "                time.sleep(2)\n",
    "            \n",
    "                query = input(\"User >\")\n",
    "                query = query.lstrip(\"@,<,>,#,$,%,%,^,&,*,?\")\n",
    "                query = query.lstrip()\n",
    "                query = query.rstrip(\"@,<,>,#,$,%,%,^,&,*,?\")\n",
    "                query = query.rstrip()\n",
    "            \n",
    "                try:\n",
    "                    query = int(query)\n",
    "                \n",
    "                \n",
    "                    print(\"Bot > You want to check Detail Information about Patient {} Yes or No\" .format(patient_name(query)))   \n",
    "                    query = input(\"User >\")\n",
    "                    query = regrex(query)\n",
    "                    if (query==\"exit\"):\n",
    "                        flag = False\n",
    "                    if (query.casefold()==Yes_check.casefold()):\n",
    "                        print(\"Bot > Please provide your Search query again for confirmation\")\n",
    "                        query = input(\"User >\")\n",
    "                        query = regrex(query)\n",
    "                        if (query == \"exit\"):\n",
    "                            flag = False\n",
    "                        else:\n",
    "                            Bestmatch_1 = bestrecommend.getContext_bestrecommend(query)\n",
    "                            for response in Bestmatch_1:\n",
    "                                print(\"Bot > {}\".format(response))\n",
    "                                print(\" \")\n",
    "                            print(\"Bot > None of the Above\") \n",
    "                            print(\" \")\n",
    "                            print(\"Bot > Above are the matching query,Select the suitable query\")\n",
    "                            print(\"Bot > Enter the best suitable query\")\n",
    "                            query = input(\"User >\")\n",
    "                            query = query.lstrip()\n",
    "                            query = query.lstrip(\"@,<,>,#,$,%,%,^,&,*,?\")\n",
    "                            query = query.rstrip()\n",
    "                            query = query.rstrip(\"@,<,>,#,$,%,%,^,&,*,?\")\n",
    "                            query = regrex(query)\n",
    "                            if (query==\"exit\"):\n",
    "                                flag = False\n",
    "                    \n",
    "                            elif(query == \"None of the Above\"):\n",
    "                                print(\"Bot > I am unable to  find this query this time,I am Design for Specific Purpose, I will help you after some time\")\n",
    "                                break\n",
    "                    \n",
    "                            else:\n",
    "                                answer = respond.sql_answer(query)\n",
    "                                print(\"Please provide query to search again or type exit to end the Conversation\")    \n",
    "                \n",
    "              \n",
    "                    elif(query.casefold()==No_check.casefold()):\n",
    "                        print(\"bot > Sorry, I am currently unavailable to find query\")\n",
    "                        print(\"Please provide query to search again or type exit to end the Conversation\")\n",
    "                except:\n",
    "                    print(\"Bot > You are providing incorrect input\")\n",
    "                \n",
    "                \n",
    "            \n",
    "\n",
    "    \n",
    "    "
   ]
  },
  {
   "cell_type": "markdown",
   "metadata": {},
   "source": [
    "__________________________________________________________"
   ]
  },
  {
   "cell_type": "code",
   "execution_count": 31,
   "metadata": {},
   "outputs": [
    {
     "name": "stdin",
     "output_type": "stream",
     "text": [
      "User > hi\n"
     ]
    },
    {
     "name": "stdout",
     "output_type": "stream",
     "text": [
      "Bot > Hello, I am a bot design for Specific Purpose How can I help you?\n",
      "Bot > I can help you to provide information about Doctor Speciliaty,Doctor Fees,Clinic Location,Doctor Rating\n",
      "Bot > I can also help you to provide the information about the Patient Health Issue,Patient Doctor\n",
      "Bot > Here is the list of Doctors ['Piyush Singh', 'Soumya', 'Mayank Mishra', 'Deepshikha Mishra', 'Rishabh Yadav']\n",
      "Bot > Here is the list of Patients ['Aditya Sonkar', 'Harsh Mishra', 'Yuvraj Sinha', 'Amit', 'Garima']\n",
      "Bot > Please Provide your Query for Search\n"
     ]
    },
    {
     "name": "stdin",
     "output_type": "stream",
     "text": [
      "User > aditya sonkar death\n"
     ]
    },
    {
     "name": "stdout",
     "output_type": "stream",
     "text": [
      "Bot > Paient Informations are very Sensitive Information to check the information \n",
      " Please Provide the Patient id\n"
     ]
    },
    {
     "name": "stdin",
     "output_type": "stream",
     "text": [
      "User >  1\n"
     ]
    },
    {
     "name": "stdout",
     "output_type": "stream",
     "text": [
      "Bot > You want to check Detail Information about Patient Aditya Sonkar Yes or No\n"
     ]
    },
    {
     "name": "stdin",
     "output_type": "stream",
     "text": [
      "User > yes\n"
     ]
    },
    {
     "name": "stdout",
     "output_type": "stream",
     "text": [
      "Bot > Please provide your Search query again for confirmation\n"
     ]
    },
    {
     "name": "stdin",
     "output_type": "stream",
     "text": [
      "User > \n"
     ]
    },
    {
     "name": "stdout",
     "output_type": "stream",
     "text": [
      "Bot > None of the Above\n",
      " \n",
      "Bot > Above are the matching query,Select the suitable query\n",
      "Bot > Enter the best suitable query\n"
     ]
    },
    {
     "name": "stdin",
     "output_type": "stream",
     "text": [
      "User > exit\n"
     ]
    }
   ],
   "source": [
    "while flag:\n",
    "    Yes_check = 'Yes'\n",
    "    No_check = 'No'\n",
    "    query =input(\"User >\")\n",
    "    query = query.strip()\n",
    "    query = query.lstrip(\"@,<,>,#,$,%,%,^,&,*,?, ,\")\n",
    "    query = query.rstrip(\"@,<,>,#,$,%,%,^,&,*,?, ,\")\n",
    "    \n",
    "    query = regrex(query)\n",
    "    print(\"Bot > Hello, I am a bot design for Specific Purpose How can I help you?\")\n",
    "    time.sleep(1)\n",
    "    print(\"Bot > I can help you to provide information about Doctor Speciliaty,Doctor Fees,Clinic Location,Doctor Rating\")\n",
    "    time.sleep(1)\n",
    "    print(\"Bot > I can also help you to provide the information about the Patient Health Issue,Patient Doctor\")\n",
    "    time.sleep(1)\n",
    "    print(\"Bot > Here is the list of Doctors {}\".format(Doctors))\n",
    "    time.sleep(1)\n",
    "    print(\"Bot > Here is the list of Patients {}\".format(Patients))\n",
    "    time.sleep(1)\n",
    "    print(\"Bot > Please Provide your Query for Search\")\n",
    "    query = input(\"User >\")\n",
    "    query = regrex(query)\n",
    "\n",
    "    score,_,context = getContext_details(query)\n",
    "    \n",
    "    if len(query)==0:\n",
    "        print(\"Bot > Please provide the Input\")\n",
    "    elif query==\"exit\":\n",
    "        flag=False\n",
    "    \n",
    "    else:\n",
    "        if(score<0.4):\n",
    "            print(\"Bot > I am a bot design for Database related issues, Please Provide Suitable Query\")\n",
    "            \n",
    "        elif(score>=.80):\n",
    "            _,best_match,_ = getContext_details(query)\n",
    "            answer = respond.sql_answer(best_match)\n",
    "            print(\"Bot > Thanks for Searching\")\n",
    "            \n",
    "            \n",
    "            \n",
    "            \n",
    "        elif(score>=0.4 and context == \"Doctor\"):\n",
    "            print(\"Bot > You want to check Detail Information about Doctor {} Yes or No\" .format(get_name1((query))))\n",
    "            query =input(\"User > \")\n",
    "            query = query.lstrip(\"@,<,>,#,$,%,%,^,&,*,?, ,\")\n",
    "            query = query.rstrip(\"@,<,>,#,$,%,%,^,&,*,?, ,\")\n",
    "            query = regrex(query)\n",
    "            if(query == \"exit\"):\n",
    "                flag = False\n",
    "            if (query.casefold()==Yes_check.casefold()):\n",
    "                print(\"Bot > Please provide your search query again for confirmation\")\n",
    "                query =input(\"User >\")\n",
    "                query = query.lstrip(\"@,<,>,#,$,%,%,^,&,*,?, ,\")\n",
    "                query = query.rstrip(\"@,<,>,#,$,%,%,^,&,*,?, ,\")\n",
    "                query = regrex(query)\n",
    "                if(query == \"exit\"):\n",
    "                    flag = False\n",
    "                else:\n",
    "                    Bestmatch = bestrecommend.getContext_bestrecommend(query)\n",
    "                    for response in Bestmatch:\n",
    "                        print(\"Bot > {} \".format(response))\n",
    "                        print(\" \")\n",
    "                    print(\"Bot > None of the Above\")\n",
    "                    print(\" \")\n",
    "                    print(\"Bot > Above are the matching query,Select the suitable query\")\n",
    "                    print(\"Bot > Enter the best suitable query\")\n",
    "                    query = input(\"User >\")\n",
    "                    query = query.lstrip()\n",
    "                    query = query.rstrip()\n",
    "                    query = query.lstrip(\"@,<,>,#,$,%,%,^,&,*\")\n",
    "                    query = regrex(query)\n",
    "                    if (query==\"exit\"):\n",
    "                        flag=False\n",
    "                    elif(query == \"None of the Above\"):\n",
    "                        print(\"Bot > I am unable to  find this query this time,I am Design for Specific Purpose, I will help you after some time\")\n",
    "                        break\n",
    "                    else:\n",
    "                        respond.sql_answer(query)\n",
    "                        time.sleep(2)\n",
    "                        \n",
    "                \n",
    "                \n",
    "            else:\n",
    "                print(\"bot > Sorry, I am currently unavailable to find query\")\n",
    "                flag = False\n",
    "                \n",
    "        elif(score>=0.4 and context==\"Patient\"):\n",
    "            print(\"Bot > Paient Informations are very Sensitive Information to check the information \\n Please Provide the Patient id\")\n",
    "            time.sleep(2)\n",
    "            \n",
    "            query = input(\"User > \")\n",
    "            query = query.lstrip(\"@,<,>,#,$,%,%,^,&,*,?\")\n",
    "            query = query.lstrip()\n",
    "            query = query.rstrip(\"@,<,>,#,$,%,%,^,&,*,?\")\n",
    "            query = query.rstrip()\n",
    "            \n",
    "            try:\n",
    "                query = int(query)\n",
    "                \n",
    "                \n",
    "                print(\"Bot > You want to check Detail Information about Patient {} Yes or No\" .format(patient_name(query)))   \n",
    "                query = input(\"User >\")\n",
    "                query = regrex(query)\n",
    "                if (query==\"exit\"):\n",
    "                    flag = False\n",
    "                if (query.casefold()==Yes_check.casefold()):\n",
    "                    print(\"Bot > Please provide your Search query again for confirmation\")\n",
    "                    query = input(\"User >\")\n",
    "                    query = regrex(query)\n",
    "                    if (query == \"exit\"):\n",
    "                        flag = False\n",
    "                    else:\n",
    "                        Bestmatch_1 = bestrecommend.getContext_bestrecommend(query)\n",
    "                        for response in Bestmatch_1:\n",
    "                            print(\"Bot > {}\".format(response))\n",
    "                            print(\" \")\n",
    "                        print(\"Bot > None of the Above\") \n",
    "                        print(\" \")\n",
    "                        print(\"Bot > Above are the matching query,Select the suitable query\")\n",
    "                        print(\"Bot > Enter the best suitable query\")\n",
    "                        query = input(\"User >\")\n",
    "                        query = query.lstrip()\n",
    "                        query = query.lstrip(\"@,<,>,#,$,%,%,^,&,*,?\")\n",
    "                        query = query.rstrip()\n",
    "                        query = query.rstrip(\"@,<,>,#,$,%,%,^,&,*,?\")\n",
    "                        query = regrex(query)\n",
    "                        if (query==\"exit\"):\n",
    "                            flag = False\n",
    "                    \n",
    "                        elif(query == \"None of the Above\"):\n",
    "                            print(\"Bot > I am unable to  find this query this time,I am Design for Specific Purpose, I will help you after some time\")\n",
    "                            break\n",
    "                    \n",
    "                        else:\n",
    "                            answer = respond.sql_answer(query)\n",
    "                            print(\"Please provide query to search again or type exit to end the Conversation\")    \n",
    "                \n",
    "              \n",
    "                elif (query.casefold()==No_check.casefold()):\n",
    "                    print(\"bot > Sorry, I am currently unavailable to find query\")\n",
    "                    print(\"Please provide query to search again or type exit to end the Conversation\")\n",
    "            except:\n",
    "                print(\"Bot > You are providing incorrect input\")\n",
    "                \n",
    "                \n",
    "            \n",
    "\n",
    "    \n",
    "    "
   ]
  },
  {
   "cell_type": "markdown",
   "metadata": {},
   "source": [
    "_____________"
   ]
  },
  {
   "cell_type": "markdown",
   "metadata": {},
   "source": [
    "_______________"
   ]
  },
  {
   "cell_type": "markdown",
   "metadata": {},
   "source": [
    "_______________________"
   ]
  },
  {
   "cell_type": "markdown",
   "metadata": {},
   "source": [
    "_________________"
   ]
  },
  {
   "cell_type": "markdown",
   "metadata": {},
   "source": [
    "____________________________"
   ]
  },
  {
   "cell_type": "markdown",
   "metadata": {},
   "source": [
    "__________"
   ]
  },
  {
   "cell_type": "markdown",
   "metadata": {},
   "source": [
    "### Working on the patient id logic not found issue"
   ]
  },
  {
   "cell_type": "markdown",
   "metadata": {},
   "source": [
    "### 2 issues\n",
    "<ol>\n",
    "    <li>id not found (resolved)</li>\n",
    "    <li> Exact mapping on query with id(resolved)</li>\n",
    "    </ol>"
   ]
  },
  {
   "cell_type": "code",
   "execution_count": 45,
   "metadata": {},
   "outputs": [],
   "source": [
    "Doctors = [\"Piyush Singh\",\"Soumya\",\"Mayank Mishra\",\"Deepshikha Mishra\",\"Rishabh Yadav\"]\n",
    "Patients = [\"Aditya Sonkar\",\"Harsh Mishra\",\"Yuvraj Sinha\",\"Amit\",\"Garima\"]"
   ]
  },
  {
   "cell_type": "code",
   "execution_count": 97,
   "metadata": {},
   "outputs": [],
   "source": [
    "flag = True\n",
    "context = None\n",
    "Bestmatch = None\n",
    "reply = None"
   ]
  },
  {
   "cell_type": "code",
   "execution_count": 98,
   "metadata": {},
   "outputs": [
    {
     "name": "stdin",
     "output_type": "stream",
     "text": [
      "User > hi\n"
     ]
    },
    {
     "name": "stdout",
     "output_type": "stream",
     "text": [
      "Bot > Hello, I am a bot design for Specific Purpose How can I help you?\n",
      "Bot > I can help you to provide information about Doctor Speciliaty,Doctor Fees,Clinic Location,Doctor Rating\n",
      "Bot > I can also help you to provide the information about the Patient Health Issue,Patient Doctor\n",
      "Bot > Here is the list of Doctors ['Piyush Singh', 'Soumya', 'Mayank Mishra', 'Deepshikha Mishra', 'Rishabh Yadav']\n",
      "Bot > Here is the list of Patients ['Aditya Sonkar', 'Harsh Mishra', 'Yuvraj Sinha', 'Amit', 'Garima']\n",
      "Bot > Please Provide your Query for Search\n"
     ]
    },
    {
     "name": "stdin",
     "output_type": "stream",
     "text": [
      "User > illness issue with harsh\n"
     ]
    },
    {
     "name": "stdout",
     "output_type": "stream",
     "text": [
      "Bot > Paient Informations are very Sensitive Information to check the information \n",
      " Please Provide the Patient id\n"
     ]
    },
    {
     "name": "stdin",
     "output_type": "stream",
     "text": [
      "User >  7\n"
     ]
    },
    {
     "name": "stdout",
     "output_type": "stream",
     "text": [
      "bot > You are providing wrong id\n"
     ]
    },
    {
     "name": "stdin",
     "output_type": "stream",
     "text": [
      "User > 2\n"
     ]
    },
    {
     "name": "stdout",
     "output_type": "stream",
     "text": [
      "Bot > Hello, I am a bot design for Specific Purpose How can I help you?\n",
      "Bot > I can help you to provide information about Doctor Speciliaty,Doctor Fees,Clinic Location,Doctor Rating\n",
      "Bot > I can also help you to provide the information about the Patient Health Issue,Patient Doctor\n",
      "Bot > Here is the list of Doctors ['Piyush Singh', 'Soumya', 'Mayank Mishra', 'Deepshikha Mishra', 'Rishabh Yadav']\n",
      "Bot > Here is the list of Patients ['Aditya Sonkar', 'Harsh Mishra', 'Yuvraj Sinha', 'Amit', 'Garima']\n",
      "Bot > Please Provide your Query for Search\n"
     ]
    },
    {
     "name": "stdin",
     "output_type": "stream",
     "text": [
      "User > illness issue with aditya\n"
     ]
    },
    {
     "name": "stdout",
     "output_type": "stream",
     "text": [
      "Bot > Paient Informations are very Sensitive Information to check the information \n",
      " Please Provide the Patient id\n"
     ]
    },
    {
     "name": "stdin",
     "output_type": "stream",
     "text": [
      "User >  1\n"
     ]
    },
    {
     "name": "stdout",
     "output_type": "stream",
     "text": [
      "Bot > You want to check Detail Information about Patient Aditya Sonkar Yes or No\n"
     ]
    },
    {
     "name": "stdin",
     "output_type": "stream",
     "text": [
      "User > no\n"
     ]
    },
    {
     "name": "stdout",
     "output_type": "stream",
     "text": [
      "bot > Sorry, I am currently unavailable to find query\n",
      "Please provide query to search again or type exit to end the Conversation\n"
     ]
    },
    {
     "name": "stdin",
     "output_type": "stream",
     "text": [
      "User > exit\n"
     ]
    },
    {
     "name": "stdout",
     "output_type": "stream",
     "text": [
      "Bot > Hello, I am a bot design for Specific Purpose How can I help you?\n",
      "Bot > I can help you to provide information about Doctor Speciliaty,Doctor Fees,Clinic Location,Doctor Rating\n",
      "Bot > I can also help you to provide the information about the Patient Health Issue,Patient Doctor\n",
      "Bot > Here is the list of Doctors ['Piyush Singh', 'Soumya', 'Mayank Mishra', 'Deepshikha Mishra', 'Rishabh Yadav']\n",
      "Bot > Here is the list of Patients ['Aditya Sonkar', 'Harsh Mishra', 'Yuvraj Sinha', 'Amit', 'Garima']\n",
      "Bot > Please Provide your Query for Search\n"
     ]
    },
    {
     "name": "stdin",
     "output_type": "stream",
     "text": [
      "User > exit\n"
     ]
    }
   ],
   "source": [
    "while flag:\n",
    "    Yes_check = 'Yes'\n",
    "    No_check = 'No'\n",
    "    query =input(\"User >\")\n",
    "    query = query.strip()\n",
    "    query = query.lstrip(\"@,<,>,#,$,%,%,^,&,*,?, ,\")\n",
    "    query = query.rstrip(\"@,<,>,#,$,%,%,^,&,*,?, ,\")\n",
    "    \n",
    "    query = regrex(query)\n",
    "    print(\"Bot > Hello, I am a bot design for Specific Purpose How can I help you?\")\n",
    "    time.sleep(1)\n",
    "    print(\"Bot > I can help you to provide information about Doctor Speciliaty,Doctor Fees,Clinic Location,Doctor Rating\")\n",
    "    time.sleep(1)\n",
    "    print(\"Bot > I can also help you to provide the information about the Patient Health Issue,Patient Doctor\")\n",
    "    time.sleep(1)\n",
    "    print(\"Bot > Here is the list of Doctors {}\".format(Doctors))\n",
    "    time.sleep(1)\n",
    "    print(\"Bot > Here is the list of Patients {}\".format(Patients))\n",
    "    time.sleep(1)\n",
    "    print(\"Bot > Please Provide your Query for Search\")\n",
    "    query = input(\"User >\")\n",
    "    query = regrex(query)\n",
    "\n",
    "    score,_,context = getContext_details(query)\n",
    "    \n",
    "    if len(query)==0:\n",
    "        print(\"Bot > Please provide the Input\")\n",
    "    elif query==\"exit\":\n",
    "        flag=False\n",
    "    \n",
    "    else:\n",
    "        if(score<0.4):\n",
    "            print(\"Bot > I am a bot design for Database related issues, Please Provide Suitable Query\")\n",
    "            \n",
    "        elif(score>=1.0):\n",
    "            _,best_match,_ = getContext_details(query)\n",
    "            answer = respond.sql_answer(best_match)\n",
    "            print(\"Bot > Thanks for Searching\")\n",
    "            \n",
    "            \n",
    "            \n",
    "            \n",
    "        elif(score>=0.4 and context == \"Doctor\"):\n",
    "            print(\"Bot > You want to check Detail Information about Doctor {} Yes or No\" .format(get_name1((query))))\n",
    "            query =input(\"User > \")\n",
    "            query = query.lstrip(\"@,<,>,#,$,%,%,^,&,*,?, ,\")\n",
    "            query = query.rstrip(\"@,<,>,#,$,%,%,^,&,*,?, ,\")\n",
    "            query = regrex(query)\n",
    "            if(query == \"exit\"):\n",
    "                flag = False\n",
    "            if (query.casefold()==Yes_check.casefold()):\n",
    "                print(\"Bot > Please provide your search query again for confirmation\")\n",
    "                query =input(\"User >\")\n",
    "                query = query.lstrip(\"@,<,>,#,$,%,%,^,&,*,?, ,\")\n",
    "                query = query.rstrip(\"@,<,>,#,$,%,%,^,&,*,?, ,\")\n",
    "                query = regrex(query)\n",
    "                if(query == \"exit\"):\n",
    "                    flag = False\n",
    "                else:\n",
    "                    Bestmatch = bestrecommend.getContext_bestrecommend(query)\n",
    "                    for response in Bestmatch:\n",
    "                        print(\"Bot > {} \".format(response))\n",
    "                        print(\" \")\n",
    "                    print(\"Bot > None of the Above\")\n",
    "                    print(\" \")\n",
    "                    print(\"Bot > Above are the matching query,Select the suitable query\")\n",
    "                    print(\"Bot > Enter the best suitable query\")\n",
    "                    query = input(\"User >\")\n",
    "                    query = query.lstrip()\n",
    "                    query = query.rstrip()\n",
    "                    query = query.lstrip(\"@,<,>,#,$,%,%,^,&,*\")\n",
    "                    query = regrex(query)\n",
    "                    if (query==\"exit\"):\n",
    "                        flag=False\n",
    "                    elif(query == \"None of the Above\"):\n",
    "                        print(\"Bot > I am unable to  find this query this time,I am Design for Specific Purpose, I will help you after some time\")\n",
    "                        break\n",
    "                    else:\n",
    "                        respond.sql_answer(query)\n",
    "                        time.sleep(2)\n",
    "                        \n",
    "                \n",
    "                \n",
    "            else:\n",
    "                print(\"bot > Sorry, I am currently unavailable to find query\")\n",
    "                flag = False\n",
    "                \n",
    "        elif(score>=0.4 and context==\"Patient\"):\n",
    "            print(\"Bot > Paient Informations are very Sensitive Information to check the information \\n Please Provide the Patient id\")\n",
    "            time.sleep(2)\n",
    "            \n",
    "            query = input(\"User > \")\n",
    "            query = query.lstrip(\"@,<,>,#,$,%,%,^,&,*,?\")\n",
    "            query = query.lstrip()\n",
    "            query = query.rstrip(\"@,<,>,#,$,%,%,^,&,*,?\")\n",
    "            query = query.rstrip()\n",
    "            pat_id = cur.execute(\"SELECT Patient_id FROM Patient\")\n",
    "            patient_id_lst = pat_id_lst.id_checker_lst(pat_id)\n",
    "            try:\n",
    "                query = int(query)\n",
    "                if query in patient_id_lst:\n",
    "                    print(\"Bot > You want to check Detail Information about Patient {} Yes or No\" .format(patient_name(query)))   \n",
    "                    query = input(\"User >\")\n",
    "                    query = regrex(query)\n",
    "                    if (query==\"exit\"):\n",
    "                        flag = False\n",
    "                    if (query.casefold()==Yes_check.casefold()):\n",
    "                        print(\"Bot > Please provide your Search query again for confirmation\")\n",
    "                        query = input(\"User >\")\n",
    "                        query = regrex(query)\n",
    "                        if (query == \"exit\"):\n",
    "                            flag = False\n",
    "                        else:\n",
    "                            Bestmatch_1 = bestrecommend.getContext_bestrecommend(query)\n",
    "                            for response in Bestmatch_1:\n",
    "                                print(\"Bot > {}\".format(response))\n",
    "                                print(\" \")\n",
    "                            print(\"Bot > None of the Above\") \n",
    "                            print(\" \")\n",
    "                            print(\"Bot > Above are the matching query,Select the suitable query\")\n",
    "                            print(\"Bot > Enter the best suitable query\")\n",
    "                            query = input(\"User >\")\n",
    "                            query = query.lstrip()\n",
    "                            query = query.lstrip(\"@,<,>,#,$,%,%,^,&,*,?\")\n",
    "                            query = query.rstrip()\n",
    "                            query = query.rstrip(\"@,<,>,#,$,%,%,^,&,*,?\")\n",
    "                            query = regrex(query)\n",
    "                            if (query==\"exit\"):\n",
    "                                flag = False\n",
    "                    \n",
    "                            elif(query == \"None of the Above\"):\n",
    "                                print(\"Bot > I am unable to  find this query this time,I am Design for Specific Purpose, I will help you after some time\")\n",
    "                                break\n",
    "                    \n",
    "                            else:\n",
    "                                answer = respond.sql_answer(query)\n",
    "                                print(\"Please provide query to search again or type exit to end the Conversation\")    \n",
    "                \n",
    "              \n",
    "                    elif (query.casefold()==No_check.casefold()):\n",
    "                          print(\"bot > Sorry, I am currently unavailable to find query\")\n",
    "                          print(\"Please provide query to search again or type exit to end the Conversation\")\n",
    "                            \n",
    "                else:\n",
    "                    print(\"bot > You are providing wrong id\")\n",
    "                    \n",
    "                            \n",
    "            except:\n",
    "                print(\"Bot > You are providing incorrect input\")\n",
    "                \n",
    "                \n",
    "            \n",
    "\n",
    "    \n",
    "    "
   ]
  },
  {
   "cell_type": "code",
   "execution_count": null,
   "metadata": {},
   "outputs": [],
   "source": []
  }
 ],
 "metadata": {
  "kernelspec": {
   "display_name": "Python 3",
   "language": "python",
   "name": "python3"
  },
  "language_info": {
   "codemirror_mode": {
    "name": "ipython",
    "version": 3
   },
   "file_extension": ".py",
   "mimetype": "text/x-python",
   "name": "python",
   "nbconvert_exporter": "python",
   "pygments_lexer": "ipython3",
   "version": "3.8.5"
  }
 },
 "nbformat": 4,
 "nbformat_minor": 4
}
