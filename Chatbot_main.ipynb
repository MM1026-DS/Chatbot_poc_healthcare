{
 "cells": [
  {
   "cell_type": "code",
   "execution_count": 2,
   "metadata": {},
   "outputs": [
    {
     "name": "stderr",
     "output_type": "stream",
     "text": [
      "C:\\Users\\mayan\\anaconda3\\lib\\site-packages\\fuzzywuzzy\\fuzz.py:11: UserWarning: Using slow pure-python SequenceMatcher. Install python-Levenshtein to remove this warning\n",
      "  warnings.warn('Using slow pure-python SequenceMatcher. Install python-Levenshtein to remove this warning')\n"
     ]
    }
   ],
   "source": [
    "import tensorflow as tf\n",
    "import keras\n",
    "import numpy as np\n",
    "import pandas as pd\n",
    "import sklearn\n",
    "import re\n",
    "import nltk \n",
    "from sklearn.feature_extraction.text import CountVectorizer\n",
    "from sklearn.feature_extraction.text import TfidfVectorizer\n",
    "from nltk.corpus import stopwords\n",
    "from fuzzywuzzy import process "
   ]
  },
  {
   "cell_type": "code",
   "execution_count": 3,
   "metadata": {},
   "outputs": [
    {
     "data": {
      "text/html": [
       "<div>\n",
       "<style scoped>\n",
       "    .dataframe tbody tr th:only-of-type {\n",
       "        vertical-align: middle;\n",
       "    }\n",
       "\n",
       "    .dataframe tbody tr th {\n",
       "        vertical-align: top;\n",
       "    }\n",
       "\n",
       "    .dataframe thead th {\n",
       "        text-align: right;\n",
       "    }\n",
       "</style>\n",
       "<table border=\"1\" class=\"dataframe\">\n",
       "  <thead>\n",
       "    <tr style=\"text-align: right;\">\n",
       "      <th></th>\n",
       "      <th>intent_model</th>\n",
       "    </tr>\n",
       "  </thead>\n",
       "  <tbody>\n",
       "    <tr>\n",
       "      <th>0</th>\n",
       "      <td>{'context': 'Doctor', 'utterances': ['Who are ...</td>\n",
       "    </tr>\n",
       "    <tr>\n",
       "      <th>1</th>\n",
       "      <td>{'context': 'Patient', 'utterances': ['what is...</td>\n",
       "    </tr>\n",
       "  </tbody>\n",
       "</table>\n",
       "</div>"
      ],
      "text/plain": [
       "                                        intent_model\n",
       "0  {'context': 'Doctor', 'utterances': ['Who are ...\n",
       "1  {'context': 'Patient', 'utterances': ['what is..."
      ]
     },
     "execution_count": 3,
     "metadata": {},
     "output_type": "execute_result"
    }
   ],
   "source": [
    "intent_data = pd.read_json(\"doc2.json\")\n",
    "intent_data.head()"
   ]
  },
  {
   "cell_type": "code",
   "execution_count": 4,
   "metadata": {},
   "outputs": [
    {
     "data": {
      "text/html": [
       "<div>\n",
       "<style scoped>\n",
       "    .dataframe tbody tr th:only-of-type {\n",
       "        vertical-align: middle;\n",
       "    }\n",
       "\n",
       "    .dataframe tbody tr th {\n",
       "        vertical-align: top;\n",
       "    }\n",
       "\n",
       "    .dataframe thead th {\n",
       "        text-align: right;\n",
       "    }\n",
       "</style>\n",
       "<table border=\"1\" class=\"dataframe\">\n",
       "  <thead>\n",
       "    <tr style=\"text-align: right;\">\n",
       "      <th></th>\n",
       "      <th>context</th>\n",
       "      <th>utterances</th>\n",
       "    </tr>\n",
       "  </thead>\n",
       "  <tbody>\n",
       "    <tr>\n",
       "      <th>0</th>\n",
       "      <td>Doctor</td>\n",
       "      <td>[Who are the best doctors for Cardiologist, Wh...</td>\n",
       "    </tr>\n",
       "    <tr>\n",
       "      <th>1</th>\n",
       "      <td>Patient</td>\n",
       "      <td>[what is the minium age of the patient of doct...</td>\n",
       "    </tr>\n",
       "  </tbody>\n",
       "</table>\n",
       "</div>"
      ],
      "text/plain": [
       "   context                                         utterances\n",
       "0   Doctor  [Who are the best doctors for Cardiologist, Wh...\n",
       "1  Patient  [what is the minium age of the patient of doct..."
      ]
     },
     "execution_count": 4,
     "metadata": {},
     "output_type": "execute_result"
    }
   ],
   "source": [
    "data_frame = pd.json_normalize(intent_data[\"intent_model\"])\n",
    "data_frame"
   ]
  },
  {
   "cell_type": "code",
   "execution_count": 46,
   "metadata": {},
   "outputs": [],
   "source": [
    "class decorate:\n",
    "    def decorated(phrase):\n",
    "        pharse = re.sub(r\"won\\'t\", \"will not\", phrase)\n",
    "        pharse = re.sub(r\"can\\'t\",\"can not\",pharse)\n",
    "        pharse = re.sub(r\"n\\'t\", \" not\", phrase)\n",
    "        phrase = re.sub(r\"\\'re\", \" are\", phrase)\n",
    "        phrase = re.sub(r\"\\'s\", \" is\", phrase)\n",
    "        phrase = re.sub(r\"\\'d\", \" would\", phrase)\n",
    "        phrase = re.sub(r\"\\'ll\", \" will\", phrase)\n",
    "        phrase = re.sub(r\"\\'t\", \" not\", phrase)\n",
    "        phrase = re.sub(r\"\\'ve\", \" have\", phrase)\n",
    "        phrase = re.sub(r\"\\'m\", \" am\", phrase)\n",
    "        return pharse\n",
    "    def stopwords_removal(data):\n",
    "        return re.sub('[^A-Za-z]+', ' ', str(data), flags=re.MULTILINE|re.DOTALL)"
   ]
  },
  {
   "cell_type": "code",
   "execution_count": 52,
   "metadata": {},
   "outputs": [
    {
     "data": {
      "text/plain": [
       "'what is the timing of Doctor Harsh'"
      ]
     },
     "execution_count": 52,
     "metadata": {},
     "output_type": "execute_result"
    }
   ],
   "source": [
    "re.sub(r\"\\'s\", \" is\", \"\"\"what's the timing of Doctor Harsh\"\"\")"
   ]
  },
  {
   "cell_type": "code",
   "execution_count": 53,
   "metadata": {},
   "outputs": [
    {
     "name": "stdout",
     "output_type": "stream",
     "text": [
      "what's the timing of Doctor Harsh\n",
      "what s the timing of Doctor Harsh\n"
     ]
    }
   ],
   "source": [
    "x=\"\"\"what's the timing of Doctor Piyush?\"\"\"\n",
    "sentence = decorate.decorated(x)\n",
    "print(sentence)\n",
    "sentence_without_stopwords = decorate.stopwords_removal(sentence)\n",
    "print(sentence_without_stopwords)"
   ]
  },
  {
   "cell_type": "code",
   "execution_count": 8,
   "metadata": {},
   "outputs": [
    {
     "data": {
      "text/plain": [
       "<nltk.stem.snowball.SnowballStemmer at 0x1c2bf1a19a0>"
      ]
     },
     "execution_count": 8,
     "metadata": {},
     "output_type": "execute_result"
    }
   ],
   "source": [
    "import nltk\n",
    "import nltk\n",
    "from nltk.corpus import stopwords\n",
    "from nltk.stem.snowball import SnowballStemmer\n",
    "from nltk.tokenize import word_tokenize\n",
    "stop_words = set(stopwords.words('english')) \n",
    "stemmer = SnowballStemmer(\"english\") \n"
   ]
  },
  {
   "cell_type": "code",
   "execution_count": 1,
   "metadata": {},
   "outputs": [],
   "source": [
    "def compute(sent): \n",
    "    sent = decorate.decorated(sent) \n",
    "    sent = decorate.stopwords_reoval(sent) \n",
    "    words=word_tokenize(str(sent.lower())) \n",
    "    \n",
    "    #Removing all single letter and and stopwords from question \n",
    "    sent1=' '.join(str(stemmer.stem(j)) for j in words if j not in stop_words and (len(j)!=1)) \n",
    "    sent2=' '.join(str(j) for j in words if j not in stop_words and (len(j)!=1)) \n",
    "    return sent1, sent2"
   ]
  },
  {
   "cell_type": "code",
   "execution_count": null,
   "metadata": {},
   "outputs": [],
   "source": [
    "clean_stemmed_q1 = []\n",
    "clean_stemmed_q2 = []\n",
    "clean_q1 = []\n",
    "clean_q2 = []\n",
    "combined_stemmed_text = []\n",
    "for _, row in tqdm(train_data.iterrows()):\n",
    "    csq1, cq1 = compute(row['question1'])\n",
    "    csq2, cq2 = compute(row['question2'])\n",
    "    clean_stemmed_q1.append(csq1)\n",
    "    clean_q1.append(cq1)\n",
    "    clean_stemmed_q2.append(csq2)\n",
    "    clean_q2.append(cq2)\n",
    "    combined_stemmed_text.append(csq1+\" \"+csq2)"
   ]
  },
  {
   "cell_type": "code",
   "execution_count": null,
   "metadata": {},
   "outputs": [],
   "source": []
  },
  {
   "cell_type": "code",
   "execution_count": null,
   "metadata": {},
   "outputs": [],
   "source": []
  },
  {
   "cell_type": "code",
   "execution_count": 44,
   "metadata": {},
   "outputs": [],
   "source": [
    "Input_uttarance1 = data_frame.iloc[0,1]\n",
    "Input_uttarance2  = data_frame.iloc[1,1]\n",
    "# common_embd =tf.keras.layers.Embedding(name = \"synopsis_embedd\",input_dim=len(data_frame.iloc[0,1]),output_dim = len(data_frame.iloc[0,1]))\n",
    "# lstm_network_1 = common_embd(Input_uttarance1)\n",
    "# lstmnetwork_2 = common_embd(Inpututtarance2)"
   ]
  },
  {
   "cell_type": "code",
   "execution_count": 42,
   "metadata": {},
   "outputs": [],
   "source": [
    "lstm_network =  tf.keras.layers.LSTM(64,return_sequences = True,activation = \"relu\")"
   ]
  },
  {
   "cell_type": "code",
   "execution_count": 45,
   "metadata": {},
   "outputs": [],
   "source": [
    "# Input_uttarance1 = data_frame.iloc[0,1]\n",
    "# Input_uttarance2  = data_frame.iloc[1,1]\n",
    "# common_embd =tf.keras.layers.Embedding(name = \"synopsis_embedd\",input_dim=len(data_frame.iloc[0,1]),output_dim = len(data_frame.iloc[0,1]))\n",
    "# lstm_network_1 = common_embd(Input_uttarance1)\n",
    "# lstmnetwork_2 = common_embd(Inpututtarance2)"
   ]
  },
  {
   "cell_type": "code",
   "execution_count": null,
   "metadata": {},
   "outputs": [],
   "source": []
  }
 ],
 "metadata": {
  "kernelspec": {
   "display_name": "Python 3",
   "language": "python",
   "name": "python3"
  },
  "language_info": {
   "codemirror_mode": {
    "name": "ipython",
    "version": 3
   },
   "file_extension": ".py",
   "mimetype": "text/x-python",
   "name": "python",
   "nbconvert_exporter": "python",
   "pygments_lexer": "ipython3",
   "version": "3.8.5"
  }
 },
 "nbformat": 4,
 "nbformat_minor": 4
}
